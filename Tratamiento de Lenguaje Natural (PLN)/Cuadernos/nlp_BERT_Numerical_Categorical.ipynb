{
 "cells": [
  {
   "cell_type": "markdown",
   "id": "70738fba-69a1-4e3b-aa2c-f9f62760ccde",
   "metadata": {
    "slideshow": {
     "slide_type": "slide"
    },
    "tags": []
   },
   "source": [
    "<figure>\n",
    "<img src=\"../Imagenes/logo-final-ap.png\"  width=\"80\" height=\"80\" align=\"left\"/> \n",
    "</figure>\n",
    "\n",
    "# <span style=\"color:blue\"><left>Aprendizaje Profundo</left></span>"
   ]
  },
  {
   "cell_type": "markdown",
   "id": "5afb0b25-2efb-4c7c-8dc8-e79a5c0dfd20",
   "metadata": {},
   "source": [
    "# <span style=\"color:red\"><center>Combinando Features Categóricas y Numéricas con Textos en BERT </center></span>"
   ]
  },
  {
   "cell_type": "markdown",
   "id": "1ec0b9e9-a7b5-4ee1-8690-8cdba1915b31",
   "metadata": {
    "tags": []
   },
   "source": [
    "<center>Taller de Aplicación para clasificación de textos moderna</center>"
   ]
  },
  {
   "cell_type": "markdown",
   "id": "078227fa-9552-40e0-b190-d60c51fcd9fa",
   "metadata": {
    "tags": []
   },
   "source": [
    "##   <span style=\"color:blue\">Profesores</span>"
   ]
  },
  {
   "cell_type": "markdown",
   "id": "299e4cbf-2708-4983-b9f2-78b2c7411781",
   "metadata": {},
   "source": [
    "### Coordinador\n"
   ]
  },
  {
   "cell_type": "markdown",
   "id": "a417d00c-282d-46ac-b35c-d96d110a75f9",
   "metadata": {},
   "source": [
    "- Campo Elías Pardo Turriago, cepardot@unal.edu.co "
   ]
  },
  {
   "cell_type": "markdown",
   "id": "e73ab34b-930a-4eb1-a1c6-f0cd0a482268",
   "metadata": {},
   "source": [
    "### Conferencistas\n"
   ]
  },
  {
   "cell_type": "markdown",
   "id": "270fb093-4981-47fa-b6b2-3ef13f3af169",
   "metadata": {},
   "source": [
    "- Alvaro  Montenegro, PhD, ammontenegrod@unal.edu.co\n",
    "- Daniel  Montenegro, Msc, dextronomo@gmail.com \n",
    "- Oleg Jarma, Estadístico, ojarmam@unal.edu.co "
   ]
  },
  {
   "cell_type": "markdown",
   "id": "80f0c8ee-ed3d-437b-94d9-f7eb19705cc0",
   "metadata": {},
   "source": [
    "## <span style=\"color:blue\">Asesora Medios y Marketing digital</span>"
   ]
  },
  {
   "cell_type": "markdown",
   "id": "b1e048e8-1917-47ee-94c7-3a7caa684248",
   "metadata": {},
   "source": [
    "- Maria del Pilar Montenegro, pmontenegro88@gmail.com \n",
    "\n"
   ]
  },
  {
   "cell_type": "markdown",
   "id": "a9d61440-7718-49e7-a18d-2cdd1376af34",
   "metadata": {},
   "source": [
    "## <span style=\"color:blue\">Asistentes</span>\n",
    "\n"
   ]
  },
  {
   "cell_type": "markdown",
   "id": "e7f2e2e0-ffe8-4804-a4c9-bd091393178b",
   "metadata": {},
   "source": [
    "- Nayibe Yesenia Arias, naariasc@unal.edu.co\n",
    "- Venus Celeste Puertas, vpuertasg@unal.edu.co "
   ]
  },
  {
   "cell_type": "markdown",
   "id": "d84f8fe5-a030-4f6a-a646-43720d71d07e",
   "metadata": {
    "slideshow": {
     "slide_type": "subslide"
    },
    "tags": []
   },
   "source": [
    "## <span style=\"color:blue\">Referencias</span>"
   ]
  },
  {
   "cell_type": "markdown",
   "id": "b2170d85-0a48-40b0-b392-11da2231bc5c",
   "metadata": {},
   "source": [
    "1. [How to Train BERT](https://towardsdatascience.com/how-to-train-bert-aaad00533168), James Briggs, Towards Data Science\n",
    "1. [Fine-tune a pretrained model](https://huggingface.co/docs/transformers/training), Tutoriales de HuggingFace\n",
    "1. [Combining Categorical and Numerical Features with Text in BERT](https://mccormickml.com/2021/06/29/combining-categorical-numerical-features-with-bert/)\n",
    "1. [Aprendizaje Profundo-Diplomado](https://github.com/AprendizajeProfundo/Diplomado)\n",
    "1. [Aprendizaje Profundo-PLN](https://github.com/AprendizajeProfundo/PLN)\n",
    "1. [Ashish Vaswani et al.,   Attention Is All You Need](https://arxiv.org/pdf/1706.03762.pdf), diciembre 2017.\n",
    "1. [Dennis Rothman, Transformers for Natural Language processing](http://libgen.rs/search.php?req=Transformers+for+Natural+Language+processing&open=0&res=25&view=simple&phrase=1&column=def), enero 2021.\n",
    "1.[ Varios,  Dive into deep learning](https://d2l.ai/), enero 2021"
   ]
  },
  {
   "cell_type": "markdown",
   "id": "a8844c02-b7d1-4411-8527-2ce9540931ba",
   "metadata": {
    "slideshow": {
     "slide_type": "subslide"
    },
    "tags": []
   },
   "source": [
    "## <span style=\"color:blue\">Contenido</span>"
   ]
  },
  {
   "cell_type": "markdown",
   "id": "0d039813-8987-4e8e-9df5-1cf8344aeb6f",
   "metadata": {
    "origin_pos": 0
   },
   "source": [
    "* [Introducción](#Introducción)\n",
    "* [Obtener Datos](#Obtener-Datos)\n",
    "* [AED (Análisis Exploratorio de Datos)](#AED-(Análisis-Exploratorio-de-Datos))\n",
    "* [Preparar Datos](#Preparar-Datos)\n",
    "* [Estrategias de Línea Base](#Estrategias-de-Línea-Base)\n",
    "    * [XG-Boost](#XG-Boost)\n",
    "    * [BERT](#BERT)\n",
    "* [BERT con todos los Features](#BERT-con-todos-los-Features)\n",
    "* [Configurando Pytorch](#Configurando-Pytorch)\n",
    "* [Tokenizar y hacer los Encodings](#Tokenizar-y-hacer-los-Encodings)\n",
    "* [Crear Datasets y DataLoaders](#Crear-Datasets-y-DataLoaders)\n",
    "* [Training](#Training)\n",
    "* [Resultados](#Resultados)\n",
    "* [Test](#Test)\n",
    "* [Conclusión](#Conclusión)"
   ]
  },
  {
   "cell_type": "markdown",
   "id": "f4bc0f90-765d-4264-9999-5acfa1c665a6",
   "metadata": {
    "slideshow": {
     "slide_type": "subslide"
    },
    "tags": []
   },
   "source": [
    "## <span style=\"color:blue\">Introducción</span>"
   ]
  },
  {
   "cell_type": "markdown",
   "id": "f0783bbd-294e-450f-a818-9c7f1a6bb01f",
   "metadata": {},
   "source": [
    "En este taller, veremos el tema de la clasificación de texto con BERT, pero donde también tenemos características numéricas o categóricas adicionales que queremos usar para mejorar nuestras predicciones."
   ]
  },
  {
   "cell_type": "markdown",
   "id": "1f7ba0d2-bf54-46e9-8bbb-57b7fc4330a4",
   "metadata": {},
   "source": [
    "Para ayudar a motivar nuestra discusión, trabajaremos con un conjunto de datos de aproximadamente 23k reseñas de ropa. Para cada revisión, tenemos el texto de la revisión, pero también información adicional como:\n",
    "\n",
    "- La edad del revisor (característica numérica)\n",
    "- El número de votos a favor en la revisión (característica numérica)\n",
    "- El departamento y la categoría de la prenda (características categóricas)\n",
    "\n",
    "Para cada reseña, también tenemos una etiqueta binaria, que indica si el revisor finalmente recomienda o no el artículo. Esto es lo que estamos tratando de predecir."
   ]
  },
  {
   "cell_type": "markdown",
   "id": "f7d922d0-aa4f-448e-9240-a9cbbf8094c0",
   "metadata": {},
   "source": [
    "El conjunto de datos a usar es el [Women's E-Commerce Clothing Reviews](https://www.kaggle.com/datasets/nicapotato/womens-ecommerce-clothing-reviews), disponible en Kaggle. \n",
    "\n",
    "Sus nueve características de apoyo ofrecen un excelente entorno para analizar el texto a través de sus múltiples dimensiones.\n",
    "\n",
    "Debido a que se trata de datos comerciales reales, se anonimizaron y las referencias a la empresa en el texto y el cuerpo de la reseña se reemplazaron por \"minorista\"."
   ]
  },
  {
   "cell_type": "markdown",
   "id": "047a256e-c6a0-40a6-8dda-12b4247fc27d",
   "metadata": {},
   "source": [
    "En [Multimodal-Toolkit](https://github.com/georgian-io/Multimodal-Toolkit), se muestra que esta estrategia simple de features a texto funciona mejor para este conjunto de datos."
   ]
  },
  {
   "cell_type": "markdown",
   "id": "0b4dfef6-d2b8-433f-a7c7-1a20bd4e2c2a",
   "metadata": {},
   "source": [
    "[[Volver]](#Contenido)"
   ]
  },
  {
   "cell_type": "markdown",
   "id": "32f28e23-894f-42c5-922e-b7215f46c4af",
   "metadata": {
    "slideshow": {
     "slide_type": "subslide"
    },
    "tags": []
   },
   "source": [
    "## <span style=\"color:blue\">Obtener Datos</span>"
   ]
  },
  {
   "cell_type": "code",
   "execution_count": 1,
   "id": "8ea9e8b2-371b-4053-aaef-c1b2a228ea32",
   "metadata": {},
   "outputs": [],
   "source": [
    "import gdown"
   ]
  },
  {
   "cell_type": "code",
   "execution_count": 18,
   "id": "04bba1ea-9a99-473a-a4cc-10625eafc3ad",
   "metadata": {},
   "outputs": [
    {
     "name": "stdout",
     "output_type": "stream",
     "text": [
      "Descargando dataset...\n",
      "\n"
     ]
    },
    {
     "name": "stderr",
     "output_type": "stream",
     "text": [
      "Downloading...\n",
      "From: https://drive.google.com/uc?id=1ZYdt0zN4LjWqP3cQDblNhXjeohcryY5H\n",
      "To: /Users/moury/Documents/2022/UNAL/Diplomado Avanzado/Tratamiento de Lenguaje Natural (PLN)/Cuadernos/Womens Clothing E-Commerce Reviews.csv\n",
      "100%|██████████████████████████████████████████████████████████████████████████████████████████████████████████████████████████████████████████████| 8.48M/8.48M [01:08<00:00, 124kB/s]"
     ]
    },
    {
     "name": "stdout",
     "output_type": "stream",
     "text": [
      "\n",
      "\n",
      "Hecho.\n"
     ]
    },
    {
     "name": "stderr",
     "output_type": "stream",
     "text": [
      "\n"
     ]
    }
   ],
   "source": [
    "print('Descargando dataset...\\n')\n",
    "     \n",
    "# Download the file.\n",
    "gdown.download('https://drive.google.com/uc?id=1ZYdt0zN4LjWqP3cQDblNhXjeohcryY5H', \n",
    "                'Womens Clothing E-Commerce Reviews.csv', \n",
    "                quiet=False)\n",
    "    \n",
    "print('\\n\\nHecho.')"
   ]
  },
  {
   "cell_type": "markdown",
   "id": "7d6d36f7-d133-49d7-a3b8-d4a83a268616",
   "metadata": {},
   "source": [
    "Hagamos una pequeña exploración de los datos"
   ]
  },
  {
   "cell_type": "markdown",
   "id": "8be6e8ec-3a0d-4f06-bdd3-8cb664e84bc5",
   "metadata": {},
   "source": [
    "[[Volver]](#Contenido)"
   ]
  },
  {
   "cell_type": "markdown",
   "id": "dc9bad09-eb01-4b05-97c0-c759ce9ad341",
   "metadata": {
    "slideshow": {
     "slide_type": "subslide"
    },
    "tags": []
   },
   "source": [
    "## <span style=\"color:blue\">AED (Análisis Exploratorio de Datos)</span>"
   ]
  },
  {
   "cell_type": "code",
   "execution_count": 1,
   "id": "6407dccd-13a4-4783-b311-0e369397b711",
   "metadata": {},
   "outputs": [
    {
     "data": {
      "text/html": [
       "<div>\n",
       "<style scoped>\n",
       "    .dataframe tbody tr th:only-of-type {\n",
       "        vertical-align: middle;\n",
       "    }\n",
       "\n",
       "    .dataframe tbody tr th {\n",
       "        vertical-align: top;\n",
       "    }\n",
       "\n",
       "    .dataframe thead th {\n",
       "        text-align: right;\n",
       "    }\n",
       "</style>\n",
       "<table border=\"1\" class=\"dataframe\">\n",
       "  <thead>\n",
       "    <tr style=\"text-align: right;\">\n",
       "      <th></th>\n",
       "      <th>Clothing ID</th>\n",
       "      <th>Age</th>\n",
       "      <th>Title</th>\n",
       "      <th>Review Text</th>\n",
       "      <th>Rating</th>\n",
       "      <th>Recommended IND</th>\n",
       "      <th>Positive Feedback Count</th>\n",
       "      <th>Division Name</th>\n",
       "      <th>Department Name</th>\n",
       "      <th>Class Name</th>\n",
       "    </tr>\n",
       "  </thead>\n",
       "  <tbody>\n",
       "    <tr>\n",
       "      <th>863</th>\n",
       "      <td>886</td>\n",
       "      <td>29</td>\n",
       "      <td>Comfortable</td>\n",
       "      <td>Love this shirt! i bought the light blue color...</td>\n",
       "      <td>5</td>\n",
       "      <td>1</td>\n",
       "      <td>0</td>\n",
       "      <td>General Petite</td>\n",
       "      <td>Tops</td>\n",
       "      <td>Knits</td>\n",
       "    </tr>\n",
       "    <tr>\n",
       "      <th>6420</th>\n",
       "      <td>903</td>\n",
       "      <td>33</td>\n",
       "      <td>Whimsically pink</td>\n",
       "      <td>This sweater has a retro feel to it. i like ho...</td>\n",
       "      <td>5</td>\n",
       "      <td>1</td>\n",
       "      <td>0</td>\n",
       "      <td>General Petite</td>\n",
       "      <td>Tops</td>\n",
       "      <td>Fine gauge</td>\n",
       "    </tr>\n",
       "    <tr>\n",
       "      <th>5254</th>\n",
       "      <td>1094</td>\n",
       "      <td>35</td>\n",
       "      <td>Carefree cute!</td>\n",
       "      <td>I love this dress, and on sale it's a total st...</td>\n",
       "      <td>5</td>\n",
       "      <td>1</td>\n",
       "      <td>0</td>\n",
       "      <td>General</td>\n",
       "      <td>Dresses</td>\n",
       "      <td>Dresses</td>\n",
       "    </tr>\n",
       "    <tr>\n",
       "      <th>740</th>\n",
       "      <td>937</td>\n",
       "      <td>44</td>\n",
       "      <td>NaN</td>\n",
       "      <td>I love this cardigan! i ordered the pink and i...</td>\n",
       "      <td>5</td>\n",
       "      <td>1</td>\n",
       "      <td>1</td>\n",
       "      <td>General</td>\n",
       "      <td>Tops</td>\n",
       "      <td>Sweaters</td>\n",
       "    </tr>\n",
       "    <tr>\n",
       "      <th>264</th>\n",
       "      <td>1104</td>\n",
       "      <td>25</td>\n",
       "      <td>Amazing peach color!</td>\n",
       "      <td>I ordered this dress in both colors. the peach...</td>\n",
       "      <td>5</td>\n",
       "      <td>1</td>\n",
       "      <td>6</td>\n",
       "      <td>General</td>\n",
       "      <td>Dresses</td>\n",
       "      <td>Dresses</td>\n",
       "    </tr>\n",
       "  </tbody>\n",
       "</table>\n",
       "</div>"
      ],
      "text/plain": [
       "      Clothing ID  Age                 Title  \\\n",
       "863           886   29           Comfortable   \n",
       "6420          903   33      Whimsically pink   \n",
       "5254         1094   35        Carefree cute!   \n",
       "740           937   44                   NaN   \n",
       "264          1104   25  Amazing peach color!   \n",
       "\n",
       "                                            Review Text  Rating  \\\n",
       "863   Love this shirt! i bought the light blue color...       5   \n",
       "6420  This sweater has a retro feel to it. i like ho...       5   \n",
       "5254  I love this dress, and on sale it's a total st...       5   \n",
       "740   I love this cardigan! i ordered the pink and i...       5   \n",
       "264   I ordered this dress in both colors. the peach...       5   \n",
       "\n",
       "      Recommended IND  Positive Feedback Count   Division Name  \\\n",
       "863                 1                        0  General Petite   \n",
       "6420                1                        0  General Petite   \n",
       "5254                1                        0         General   \n",
       "740                 1                        1         General   \n",
       "264                 1                        6         General   \n",
       "\n",
       "     Department Name  Class Name  \n",
       "863             Tops       Knits  \n",
       "6420            Tops  Fine gauge  \n",
       "5254         Dresses     Dresses  \n",
       "740             Tops    Sweaters  \n",
       "264          Dresses     Dresses  "
      ]
     },
     "execution_count": 1,
     "metadata": {},
     "output_type": "execute_result"
    }
   ],
   "source": [
    "import pandas as pd\n",
    "\n",
    "data_df = pd.read_csv('Womens Clothing E-Commerce Reviews.csv', index_col=0)\n",
    "\n",
    "data_df.sample(5)"
   ]
  },
  {
   "cell_type": "markdown",
   "id": "5b7dc69c-24f1-4012-a479-8618c2568e97",
   "metadata": {},
   "source": [
    "**Features:**\n",
    "\n",
    "*Recommended IND* es la etiqueta que intentamos predecir para este conjunto de datos. “1” significa que el revisor recomendó el producto y “0” significa que no.\n",
    "\n",
    "Los siquientes features son categóricos:\n",
    "\n",
    "- Division Name\n",
    "- Department Name\n",
    "- Class Name\n",
    "- Clothing ID\n",
    "\n",
    "Y los siguientes features son numéricos:\n",
    "\n",
    "- Age\n",
    "- Rating\n",
    "- Positive Feedback Count"
   ]
  },
  {
   "cell_type": "markdown",
   "id": "5126f2a1-cef5-4c1d-8f97-04982dfd9eff",
   "metadata": {},
   "source": [
    "Podemos calcular los datos faltantes por feature:"
   ]
  },
  {
   "cell_type": "code",
   "execution_count": 2,
   "id": "dbabde8f-4738-4ae8-b4ae-da46f0394caa",
   "metadata": {},
   "outputs": [
    {
     "data": {
      "text/plain": [
       "Clothing ID                   0\n",
       "Age                           0\n",
       "Title                      3810\n",
       "Review Text                 845\n",
       "Rating                        0\n",
       "Recommended IND               0\n",
       "Positive Feedback Count       0\n",
       "Division Name                14\n",
       "Department Name              14\n",
       "Class Name                   14\n",
       "dtype: int64"
      ]
     },
     "execution_count": 2,
     "metadata": {},
     "output_type": "execute_result"
    }
   ],
   "source": [
    "# Datos Faltantes\n",
    "data_df.isnull().sum()"
   ]
  },
  {
   "cell_type": "markdown",
   "id": "b98c0116-68de-4726-9d18-84920e7bb6a0",
   "metadata": {},
   "source": [
    "Limpiemos un poco los datos:"
   ]
  },
  {
   "cell_type": "code",
   "execution_count": 3,
   "id": "a4e922c2-af88-460b-90cd-7c4d712f47b0",
   "metadata": {},
   "outputs": [],
   "source": [
    "def preprocess(ReviewText):\n",
    "    # Quitar algunas etiquetas HTML\n",
    "    ReviewText = ReviewText.str.replace(\"(<br/>)\", \"\",regex=True)\n",
    "    ReviewText = ReviewText.str.replace('(<a).*(>).*(</a>)', '',regex=True)\n",
    "    # Errores de Parsing\n",
    "    ReviewText = ReviewText.str.replace('(&amp)', '',regex=True)\n",
    "    ReviewText = ReviewText.str.replace('(&gt)', '',regex=True)\n",
    "    ReviewText = ReviewText.str.replace('(&lt)', '',regex=True)\n",
    "    ReviewText = ReviewText.str.replace('(\\xa0)', ' ',regex=True)  \n",
    "    return ReviewText\n",
    "\n",
    "# Convertir todos los campos de reviews a texto\n",
    "data_df['Review Text'] = data_df['Review Text'].astype(str)\n",
    "#Limpieza inicial de textos\n",
    "data_df['Review Text'] = preprocess(data_df['Review Text'])"
   ]
  },
  {
   "cell_type": "markdown",
   "id": "9b27c1a3-b338-4db6-ab0a-02b087d04ca7",
   "metadata": {},
   "source": [
    "Usaremos TextBlob para calcular la polaridad del sentimiento que se encuentra en el rango de [-1,1] donde 1 significa sentimiento positivo y -1 significa sentimiento negativo.\n",
    "\n",
    "Además, contemos algunas características importantes: *longitud del Review* y *Cantidad de Palabras*."
   ]
  },
  {
   "cell_type": "code",
   "execution_count": 4,
   "id": "877ac1ef-33cb-44bf-9fc7-cdc31212460e",
   "metadata": {},
   "outputs": [],
   "source": [
    "from textblob import TextBlob\n",
    "# Polaridad de los reviews\n",
    "data_df['Polarity'] = data_df['Review Text'].apply(lambda x: TextBlob(x).sentiment.polarity)\n",
    "# Número de Palabras\n",
    "data_df['word_count'] = data_df['Review Text'].str.split().str.len()\n",
    "# Longitud de Review\n",
    "data_df['review_len'] = data_df['Review Text'].str.len()"
   ]
  },
  {
   "cell_type": "code",
   "execution_count": 5,
   "id": "a708f59a-51c3-47bd-a035-b52162fe5356",
   "metadata": {},
   "outputs": [
    {
     "data": {
      "text/html": [
       "<div>\n",
       "<style scoped>\n",
       "    .dataframe tbody tr th:only-of-type {\n",
       "        vertical-align: middle;\n",
       "    }\n",
       "\n",
       "    .dataframe tbody tr th {\n",
       "        vertical-align: top;\n",
       "    }\n",
       "\n",
       "    .dataframe thead th {\n",
       "        text-align: right;\n",
       "    }\n",
       "</style>\n",
       "<table border=\"1\" class=\"dataframe\">\n",
       "  <thead>\n",
       "    <tr style=\"text-align: right;\">\n",
       "      <th></th>\n",
       "      <th>Clothing ID</th>\n",
       "      <th>Age</th>\n",
       "      <th>Title</th>\n",
       "      <th>Review Text</th>\n",
       "      <th>Rating</th>\n",
       "      <th>Recommended IND</th>\n",
       "      <th>Positive Feedback Count</th>\n",
       "      <th>Division Name</th>\n",
       "      <th>Department Name</th>\n",
       "      <th>Class Name</th>\n",
       "      <th>Polarity</th>\n",
       "      <th>word_count</th>\n",
       "      <th>review_len</th>\n",
       "    </tr>\n",
       "  </thead>\n",
       "  <tbody>\n",
       "    <tr>\n",
       "      <th>0</th>\n",
       "      <td>767</td>\n",
       "      <td>33</td>\n",
       "      <td>NaN</td>\n",
       "      <td>Absolutely wonderful - silky and sexy and comf...</td>\n",
       "      <td>4</td>\n",
       "      <td>1</td>\n",
       "      <td>0</td>\n",
       "      <td>Initmates</td>\n",
       "      <td>Intimate</td>\n",
       "      <td>Intimates</td>\n",
       "      <td>0.633333</td>\n",
       "      <td>8</td>\n",
       "      <td>53</td>\n",
       "    </tr>\n",
       "    <tr>\n",
       "      <th>1</th>\n",
       "      <td>1080</td>\n",
       "      <td>34</td>\n",
       "      <td>NaN</td>\n",
       "      <td>Love this dress!  it's sooo pretty.  i happene...</td>\n",
       "      <td>5</td>\n",
       "      <td>1</td>\n",
       "      <td>4</td>\n",
       "      <td>General</td>\n",
       "      <td>Dresses</td>\n",
       "      <td>Dresses</td>\n",
       "      <td>0.339583</td>\n",
       "      <td>62</td>\n",
       "      <td>303</td>\n",
       "    </tr>\n",
       "    <tr>\n",
       "      <th>2</th>\n",
       "      <td>1077</td>\n",
       "      <td>60</td>\n",
       "      <td>Some major design flaws</td>\n",
       "      <td>I had such high hopes for this dress and reall...</td>\n",
       "      <td>3</td>\n",
       "      <td>0</td>\n",
       "      <td>0</td>\n",
       "      <td>General</td>\n",
       "      <td>Dresses</td>\n",
       "      <td>Dresses</td>\n",
       "      <td>0.073675</td>\n",
       "      <td>98</td>\n",
       "      <td>500</td>\n",
       "    </tr>\n",
       "    <tr>\n",
       "      <th>3</th>\n",
       "      <td>1049</td>\n",
       "      <td>50</td>\n",
       "      <td>My favorite buy!</td>\n",
       "      <td>I love, love, love this jumpsuit. it's fun, fl...</td>\n",
       "      <td>5</td>\n",
       "      <td>1</td>\n",
       "      <td>0</td>\n",
       "      <td>General Petite</td>\n",
       "      <td>Bottoms</td>\n",
       "      <td>Pants</td>\n",
       "      <td>0.550000</td>\n",
       "      <td>22</td>\n",
       "      <td>124</td>\n",
       "    </tr>\n",
       "    <tr>\n",
       "      <th>4</th>\n",
       "      <td>847</td>\n",
       "      <td>47</td>\n",
       "      <td>Flattering shirt</td>\n",
       "      <td>This shirt is very flattering to all due to th...</td>\n",
       "      <td>5</td>\n",
       "      <td>1</td>\n",
       "      <td>6</td>\n",
       "      <td>General</td>\n",
       "      <td>Tops</td>\n",
       "      <td>Blouses</td>\n",
       "      <td>0.512891</td>\n",
       "      <td>36</td>\n",
       "      <td>192</td>\n",
       "    </tr>\n",
       "    <tr>\n",
       "      <th>...</th>\n",
       "      <td>...</td>\n",
       "      <td>...</td>\n",
       "      <td>...</td>\n",
       "      <td>...</td>\n",
       "      <td>...</td>\n",
       "      <td>...</td>\n",
       "      <td>...</td>\n",
       "      <td>...</td>\n",
       "      <td>...</td>\n",
       "      <td>...</td>\n",
       "      <td>...</td>\n",
       "      <td>...</td>\n",
       "      <td>...</td>\n",
       "    </tr>\n",
       "    <tr>\n",
       "      <th>23481</th>\n",
       "      <td>1104</td>\n",
       "      <td>34</td>\n",
       "      <td>Great dress for many occasions</td>\n",
       "      <td>I was very happy to snag this dress at such a ...</td>\n",
       "      <td>5</td>\n",
       "      <td>1</td>\n",
       "      <td>0</td>\n",
       "      <td>General Petite</td>\n",
       "      <td>Dresses</td>\n",
       "      <td>Dresses</td>\n",
       "      <td>0.552667</td>\n",
       "      <td>28</td>\n",
       "      <td>131</td>\n",
       "    </tr>\n",
       "    <tr>\n",
       "      <th>23482</th>\n",
       "      <td>862</td>\n",
       "      <td>48</td>\n",
       "      <td>Wish it was made of cotton</td>\n",
       "      <td>It reminds me of maternity clothes. soft, stre...</td>\n",
       "      <td>3</td>\n",
       "      <td>1</td>\n",
       "      <td>0</td>\n",
       "      <td>General Petite</td>\n",
       "      <td>Tops</td>\n",
       "      <td>Knits</td>\n",
       "      <td>0.091667</td>\n",
       "      <td>38</td>\n",
       "      <td>223</td>\n",
       "    </tr>\n",
       "    <tr>\n",
       "      <th>23483</th>\n",
       "      <td>1104</td>\n",
       "      <td>31</td>\n",
       "      <td>Cute, but see through</td>\n",
       "      <td>This fit well, but the top was very see throug...</td>\n",
       "      <td>3</td>\n",
       "      <td>0</td>\n",
       "      <td>1</td>\n",
       "      <td>General Petite</td>\n",
       "      <td>Dresses</td>\n",
       "      <td>Dresses</td>\n",
       "      <td>0.414286</td>\n",
       "      <td>42</td>\n",
       "      <td>208</td>\n",
       "    </tr>\n",
       "    <tr>\n",
       "      <th>23484</th>\n",
       "      <td>1084</td>\n",
       "      <td>28</td>\n",
       "      <td>Very cute dress, perfect for summer parties an...</td>\n",
       "      <td>I bought this dress for a wedding i have this ...</td>\n",
       "      <td>3</td>\n",
       "      <td>1</td>\n",
       "      <td>2</td>\n",
       "      <td>General</td>\n",
       "      <td>Dresses</td>\n",
       "      <td>Dresses</td>\n",
       "      <td>0.322222</td>\n",
       "      <td>86</td>\n",
       "      <td>427</td>\n",
       "    </tr>\n",
       "    <tr>\n",
       "      <th>23485</th>\n",
       "      <td>1104</td>\n",
       "      <td>52</td>\n",
       "      <td>Please make more like this one!</td>\n",
       "      <td>This dress in a lovely platinum is feminine an...</td>\n",
       "      <td>5</td>\n",
       "      <td>1</td>\n",
       "      <td>22</td>\n",
       "      <td>General Petite</td>\n",
       "      <td>Dresses</td>\n",
       "      <td>Dresses</td>\n",
       "      <td>0.413889</td>\n",
       "      <td>19</td>\n",
       "      <td>110</td>\n",
       "    </tr>\n",
       "  </tbody>\n",
       "</table>\n",
       "<p>23486 rows × 13 columns</p>\n",
       "</div>"
      ],
      "text/plain": [
       "       Clothing ID  Age                                              Title  \\\n",
       "0              767   33                                                NaN   \n",
       "1             1080   34                                                NaN   \n",
       "2             1077   60                            Some major design flaws   \n",
       "3             1049   50                                   My favorite buy!   \n",
       "4              847   47                                   Flattering shirt   \n",
       "...            ...  ...                                                ...   \n",
       "23481         1104   34                     Great dress for many occasions   \n",
       "23482          862   48                         Wish it was made of cotton   \n",
       "23483         1104   31                              Cute, but see through   \n",
       "23484         1084   28  Very cute dress, perfect for summer parties an...   \n",
       "23485         1104   52                    Please make more like this one!   \n",
       "\n",
       "                                             Review Text  Rating  \\\n",
       "0      Absolutely wonderful - silky and sexy and comf...       4   \n",
       "1      Love this dress!  it's sooo pretty.  i happene...       5   \n",
       "2      I had such high hopes for this dress and reall...       3   \n",
       "3      I love, love, love this jumpsuit. it's fun, fl...       5   \n",
       "4      This shirt is very flattering to all due to th...       5   \n",
       "...                                                  ...     ...   \n",
       "23481  I was very happy to snag this dress at such a ...       5   \n",
       "23482  It reminds me of maternity clothes. soft, stre...       3   \n",
       "23483  This fit well, but the top was very see throug...       3   \n",
       "23484  I bought this dress for a wedding i have this ...       3   \n",
       "23485  This dress in a lovely platinum is feminine an...       5   \n",
       "\n",
       "       Recommended IND  Positive Feedback Count   Division Name  \\\n",
       "0                    1                        0       Initmates   \n",
       "1                    1                        4         General   \n",
       "2                    0                        0         General   \n",
       "3                    1                        0  General Petite   \n",
       "4                    1                        6         General   \n",
       "...                ...                      ...             ...   \n",
       "23481                1                        0  General Petite   \n",
       "23482                1                        0  General Petite   \n",
       "23483                0                        1  General Petite   \n",
       "23484                1                        2         General   \n",
       "23485                1                       22  General Petite   \n",
       "\n",
       "      Department Name Class Name  Polarity  word_count  review_len  \n",
       "0            Intimate  Intimates  0.633333           8          53  \n",
       "1             Dresses    Dresses  0.339583          62         303  \n",
       "2             Dresses    Dresses  0.073675          98         500  \n",
       "3             Bottoms      Pants  0.550000          22         124  \n",
       "4                Tops    Blouses  0.512891          36         192  \n",
       "...               ...        ...       ...         ...         ...  \n",
       "23481         Dresses    Dresses  0.552667          28         131  \n",
       "23482            Tops      Knits  0.091667          38         223  \n",
       "23483         Dresses    Dresses  0.414286          42         208  \n",
       "23484         Dresses    Dresses  0.322222          86         427  \n",
       "23485         Dresses    Dresses  0.413889          19         110  \n",
       "\n",
       "[23486 rows x 13 columns]"
      ]
     },
     "execution_count": 5,
     "metadata": {},
     "output_type": "execute_result"
    }
   ],
   "source": [
    "data_df"
   ]
  },
  {
   "cell_type": "code",
   "execution_count": 6,
   "id": "9ceee922-4c76-4bf4-87e8-35bc32e2dcf5",
   "metadata": {},
   "outputs": [
    {
     "data": {
      "image/png": "[encoded data removed]",
      "text/plain": [
       "<Figure size 1152x864 with 4 Axes>"
      ]
     },
     "metadata": {
      "needs_background": "light"
     },
     "output_type": "display_data"
    }
   ],
   "source": [
    "import seaborn as sns\n",
    "import matplotlib.pyplot as plt\n",
    "\n",
    "features = ['Polarity','Age', 'review_len', 'word_count']\n",
    "titles = ['Polarity Distribution','Age Distribution', 'Review length Distribution', 'Word Count Distribution']\n",
    "colors = ['#9966ff', '#3399ff', '#00ff00', '#ff6600']\n",
    "\n",
    "\n",
    "plt.figure(figsize=(16,12))\n",
    "\n",
    "for i,feature, title, color in zip(range(1,len(features)+1),features, titles, colors):  \n",
    "    plt.subplot(2, 2, i)\n",
    "    sns.histplot(x=data_df[feature], bins=50, color=color,kde=True)\n",
    "    plt.title(title, size=15)\n",
    "    plt.xlabel(feature)\n",
    "plt.show()"
   ]
  },
  {
   "cell_type": "markdown",
   "id": "f3017198-2563-4b87-8efb-016fe3195bfe",
   "metadata": {},
   "source": [
    "1. La gran mayoría de los puntajes de polaridad de sentimiento son mayores que cero, lo que significa que la mayoría de ellos son bastante positivos.\n",
    "2. La mayoría de los revisores tienen entre 30 y 40 años."
   ]
  },
  {
   "cell_type": "code",
   "execution_count": 7,
   "id": "500f3d48-2193-4e40-97c0-52562eb720f6",
   "metadata": {},
   "outputs": [
    {
     "data": {
      "image/png": "[encoded data removed]",
      "text/plain": [
       "<Figure size 432x288 with 1 Axes>"
      ]
     },
     "metadata": {
      "needs_background": "light"
     },
     "output_type": "display_data"
    }
   ],
   "source": [
    "sns.countplot(x = 'Rating', palette='viridis', data=data_df)\n",
    "plt.title('Rating Distribution', size=15)\n",
    "plt.xlabel('Ratings')\n",
    "plt.show()"
   ]
  },
  {
   "cell_type": "markdown",
   "id": "bb07a3e1-1bd2-4796-a01c-46f69ab96fb6",
   "metadata": {},
   "source": [
    "Las calificaciones están alineadas con el puntaje de polaridad, es decir, la mayoría de las calificaciones son bastante altas en 4 o 5 rangos."
   ]
  },
  {
   "cell_type": "code",
   "execution_count": 8,
   "id": "e5cb2bc3-a35b-4a94-8cd0-aaa0ea5b3ba6",
   "metadata": {},
   "outputs": [
    {
     "data": {
      "image/png": "[encoded data removed]",
      "text/plain": [
       "<Figure size 432x288 with 1 Axes>"
      ]
     },
     "metadata": {
      "needs_background": "light"
     },
     "output_type": "display_data"
    }
   ],
   "source": [
    "sns.countplot(x='Division Name', palette='viridis', data=data_df)\n",
    "plt.title('Division distribution', size=15)\n",
    "plt.show()"
   ]
  },
  {
   "cell_type": "markdown",
   "id": "f81fca54-468f-4acd-be0e-7fdd7a3ce58c",
   "metadata": {},
   "source": [
    "La división general tiene la mayor cantidad de reviews y la división Initmates tiene la menor cantidad de revisiones."
   ]
  },
  {
   "cell_type": "code",
   "execution_count": 9,
   "id": "252fe2ab-43f0-4a5a-8db4-abd57e2cade1",
   "metadata": {},
   "outputs": [
    {
     "data": {
      "image/png": "[encoded data removed]",
      "text/plain": [
       "<Figure size 576x360 with 1 Axes>"
      ]
     },
     "metadata": {
      "needs_background": "light"
     },
     "output_type": "display_data"
    }
   ],
   "source": [
    "plt.figure(figsize=(8, 5))\n",
    "sns.countplot(x='Department Name', palette='viridis', data=data_df)\n",
    "plt.title('Department Name', size=15)\n",
    "plt.show()"
   ]
  },
  {
   "cell_type": "code",
   "execution_count": 10,
   "id": "f02ac7b7-d1ae-4b0f-a1bf-7a5cbb27f587",
   "metadata": {},
   "outputs": [
    {
     "data": {
      "image/png": "[encoded data removed]",
      "text/plain": [
       "<Figure size 576x720 with 1 Axes>"
      ]
     },
     "metadata": {
      "needs_background": "light"
     },
     "output_type": "display_data"
    }
   ],
   "source": [
    "plt.figure(figsize=(8, 10))\n",
    "sns.countplot(y='Class Name', palette='viridis', data=data_df)\n",
    "plt.title('Class Distribution', size=15)\n",
    "plt.show()"
   ]
  },
  {
   "cell_type": "markdown",
   "id": "03ba3eee-93aa-48dd-8bed-96c36c32cb93",
   "metadata": {},
   "source": [
    "Usemos las mismas divisiones de entrenamiento, validación y prueba para todos los enfoques que probamos para que sea una comparación justa.\n",
    "\n",
    "Sin embargo, los diferentes enfoques requerirán diferentes transformaciones en los datos y, para simplificar, \n",
    "apliquemos esas transformaciones antes de dividir el conjunto de datos.\n",
    "\n",
    "Para solucionar esto, vamos a crear listas de índices para cada una de las tres porciones. De esa manera, para un enfoque de clasificación dado, podemos cargar todo el conjunto de datos, aplicar nuestras transformaciones y luego dividirlo de acuerdo con estos índices predeterminados."
   ]
  },
  {
   "cell_type": "code",
   "execution_count": 11,
   "id": "7dbea888-d8fd-4365-bdb5-e7272578939d",
   "metadata": {},
   "outputs": [
    {
     "name": "stdout",
     "output_type": "stream",
     "text": [
      "  Training size: 18,788\n",
      "Validation size: 2,348\n",
      "      Test size: 2,350\n"
     ]
    }
   ],
   "source": [
    "import random\n",
    "import numpy as np\n",
    "\n",
    "# First, calculate the split sizes. 80% training, 10% validation, 10% test.\n",
    "train_size = int(0.8 * len(data_df))\n",
    "val_size = int(0.1 * len(data_df))\n",
    "test_size = len(data_df) - (train_size + val_size)\n",
    "\n",
    "# Sanity check the sizes.\n",
    "assert((train_size + val_size + test_size) == len(data_df))\n",
    "\n",
    "# Create a list of indeces for all of the samples in the dataset.\n",
    "indeces = np.arange(0, len(data_df))\n",
    "\n",
    "# Shuffle the indeces randomly.\n",
    "random.shuffle(indeces)\n",
    "\n",
    "# Get a list of indeces for each of the splits.\n",
    "train_idx = indeces[0:train_size]\n",
    "val_idx = indeces[train_size:(train_size + val_size)]\n",
    "test_idx = indeces[(train_size + val_size):]\n",
    "\n",
    "# Sanity check\n",
    "assert(len(train_idx) == train_size)\n",
    "assert(len(test_idx) == test_size)\n",
    "\n",
    "# With these lists, we can now select the corresponding dataframe rows using, \n",
    "# e.g., train_df = data_df.iloc[train_idx] \n",
    "\n",
    "print('  Training size: {:,}'.format(train_size))\n",
    "print('Validation size: {:,}'.format(val_size))\n",
    "print('      Test size: {:,}'.format(test_size))"
   ]
  },
  {
   "cell_type": "markdown",
   "id": "11cbba5a-4adf-4fb1-b13c-0269439af2bc",
   "metadata": {
    "slideshow": {
     "slide_type": "subslide"
    },
    "tags": []
   },
   "source": [
    "## <span style=\"color:blue\">Estrategias de Línea Base</span>"
   ]
  },
  {
   "cell_type": "markdown",
   "id": "35221aaa-7d1c-4e83-b78c-2b9a99339221",
   "metadata": {},
   "source": [
    "Los siguientes son algunos enfoques alternativos para clasificar este conjunto de datos, ninguno de los cuales usa todas las características juntas. \n",
    "\n",
    "¿Será posible que BERT supere éstas líneas base?"
   ]
  },
  {
   "cell_type": "markdown",
   "id": "42c9a31e-8199-458e-b5e8-5920c47c802f",
   "metadata": {},
   "source": [
    "Este conjunto de datos está muy desequilibrado, con algo así como el 85% de las revisiones que recomiendan el producto.\n",
    "\n",
    "Si solo predecimos \"recomendar\" para cada muestra de prueba, ¿cómo lo haríamos?"
   ]
  },
  {
   "cell_type": "code",
   "execution_count": 12,
   "id": "2c132ca8-c288-4610-a3be-7ddd7fcb12be",
   "metadata": {},
   "outputs": [
    {
     "name": "stdout",
     "output_type": "stream",
     "text": [
      "Si siempre recomendamos el producto...\n",
      "\n",
      "F1: 0.899\n"
     ]
    }
   ],
   "source": [
    "from sklearn.metrics import f1_score\n",
    "\n",
    "# Select the test set samples.\n",
    "test_df = data_df.iloc[test_idx]\n",
    "\n",
    "# Create a list of all 1s to use as our predictions.\n",
    "predictions = [1]*len(test_df)\n",
    "\n",
    "# Calculate the F1 score.\n",
    "f1 = f1_score(y_true=test_df[\"Recommended IND\"], y_pred=predictions)\n",
    "\n",
    "print('Si siempre recomendamos el producto...')\n",
    "print('\\nF1: %.3f' % f1)"
   ]
  },
  {
   "cell_type": "markdown",
   "id": "4b8c1b2d-8130-493c-9541-2fe95bdee65f",
   "metadata": {},
   "source": [
    "Como mencioné anteriormente, la \"Calificación\" es un indicador muy fuerte de si el revisor recomendó el producto o no.\n",
    "\n",
    "El umbral ideal es una calificación de 3."
   ]
  },
  {
   "cell_type": "code",
   "execution_count": 13,
   "id": "3ee02f2f-8abd-44a7-b97f-43773a1e76f8",
   "metadata": {},
   "outputs": [
    {
     "name": "stdout",
     "output_type": "stream",
     "text": [
      "Recomendar si Rating >= 3...\n",
      "\n",
      "F1: 0.943\n"
     ]
    }
   ],
   "source": [
    "from sklearn.metrics import f1_score\n",
    "\n",
    "# Predict whether it's recommended based on whether the rating was 3 or higher.\n",
    "predictions = test_df[\"Rating\"] >= 3\n",
    "\n",
    "# Calculate the F1 score.\n",
    "f1 = f1_score(y_true=test_df[\"Recommended IND\"], y_pred=predictions)\n",
    "\n",
    "print('Recomendar si Rating >= 3...')\n",
    "print('\\nF1: %.3f' % f1)"
   ]
  },
  {
   "cell_type": "markdown",
   "id": "2144cd99-fd88-408b-b42b-8c73f5c37e90",
   "metadata": {
    "slideshow": {
     "slide_type": "subslide"
    },
    "tags": []
   },
   "source": [
    "### <span style=\"color:blue\">Preparar Datos</span>"
   ]
  },
  {
   "cell_type": "markdown",
   "id": "21bed7ee-6dc1-49ec-9353-65e9a14d07c0",
   "metadata": {},
   "source": [
    "Tendremos que codificar todas nuestras características categóricas asignando un valor entero a cada categoría posible y reemplazando las versiones de cadena con estos enteros.\n",
    "\n",
    "El siguiente código/enfoque proviene de [Guide to Encoding Categorical Values in Python](https://pbpython.com/categorical-encoding.html)."
   ]
  },
  {
   "cell_type": "code",
   "execution_count": 14,
   "id": "5339a6c0-b680-4488-b57a-0b3c9b078920",
   "metadata": {},
   "outputs": [
    {
     "data": {
      "text/html": [
       "<div>\n",
       "<style scoped>\n",
       "    .dataframe tbody tr th:only-of-type {\n",
       "        vertical-align: middle;\n",
       "    }\n",
       "\n",
       "    .dataframe tbody tr th {\n",
       "        vertical-align: top;\n",
       "    }\n",
       "\n",
       "    .dataframe thead th {\n",
       "        text-align: right;\n",
       "    }\n",
       "</style>\n",
       "<table border=\"1\" class=\"dataframe\">\n",
       "  <thead>\n",
       "    <tr style=\"text-align: right;\">\n",
       "      <th></th>\n",
       "      <th>Clothing ID</th>\n",
       "      <th>Age</th>\n",
       "      <th>Title</th>\n",
       "      <th>Review Text</th>\n",
       "      <th>Rating</th>\n",
       "      <th>Recommended IND</th>\n",
       "      <th>Positive Feedback Count</th>\n",
       "      <th>Division Name</th>\n",
       "      <th>Department Name</th>\n",
       "      <th>Class Name</th>\n",
       "      <th>Polarity</th>\n",
       "      <th>word_count</th>\n",
       "      <th>review_len</th>\n",
       "    </tr>\n",
       "  </thead>\n",
       "  <tbody>\n",
       "    <tr>\n",
       "      <th>0</th>\n",
       "      <td>767</td>\n",
       "      <td>33</td>\n",
       "      <td>NaN</td>\n",
       "      <td>Absolutely wonderful - silky and sexy and comf...</td>\n",
       "      <td>4</td>\n",
       "      <td>1</td>\n",
       "      <td>0</td>\n",
       "      <td>2</td>\n",
       "      <td>2</td>\n",
       "      <td>5</td>\n",
       "      <td>0.633333</td>\n",
       "      <td>8</td>\n",
       "      <td>53</td>\n",
       "    </tr>\n",
       "    <tr>\n",
       "      <th>1</th>\n",
       "      <td>1080</td>\n",
       "      <td>34</td>\n",
       "      <td>NaN</td>\n",
       "      <td>Love this dress!  it's sooo pretty.  i happene...</td>\n",
       "      <td>5</td>\n",
       "      <td>1</td>\n",
       "      <td>4</td>\n",
       "      <td>0</td>\n",
       "      <td>1</td>\n",
       "      <td>3</td>\n",
       "      <td>0.339583</td>\n",
       "      <td>62</td>\n",
       "      <td>303</td>\n",
       "    </tr>\n",
       "    <tr>\n",
       "      <th>2</th>\n",
       "      <td>1077</td>\n",
       "      <td>60</td>\n",
       "      <td>Some major design flaws</td>\n",
       "      <td>I had such high hopes for this dress and reall...</td>\n",
       "      <td>3</td>\n",
       "      <td>0</td>\n",
       "      <td>0</td>\n",
       "      <td>0</td>\n",
       "      <td>1</td>\n",
       "      <td>3</td>\n",
       "      <td>0.073675</td>\n",
       "      <td>98</td>\n",
       "      <td>500</td>\n",
       "    </tr>\n",
       "    <tr>\n",
       "      <th>3</th>\n",
       "      <td>1049</td>\n",
       "      <td>50</td>\n",
       "      <td>My favorite buy!</td>\n",
       "      <td>I love, love, love this jumpsuit. it's fun, fl...</td>\n",
       "      <td>5</td>\n",
       "      <td>1</td>\n",
       "      <td>0</td>\n",
       "      <td>1</td>\n",
       "      <td>0</td>\n",
       "      <td>13</td>\n",
       "      <td>0.550000</td>\n",
       "      <td>22</td>\n",
       "      <td>124</td>\n",
       "    </tr>\n",
       "    <tr>\n",
       "      <th>4</th>\n",
       "      <td>847</td>\n",
       "      <td>47</td>\n",
       "      <td>Flattering shirt</td>\n",
       "      <td>This shirt is very flattering to all due to th...</td>\n",
       "      <td>5</td>\n",
       "      <td>1</td>\n",
       "      <td>6</td>\n",
       "      <td>0</td>\n",
       "      <td>4</td>\n",
       "      <td>0</td>\n",
       "      <td>0.512891</td>\n",
       "      <td>36</td>\n",
       "      <td>192</td>\n",
       "    </tr>\n",
       "  </tbody>\n",
       "</table>\n",
       "</div>"
      ],
      "text/plain": [
       "   Clothing ID  Age                    Title  \\\n",
       "0          767   33                      NaN   \n",
       "1         1080   34                      NaN   \n",
       "2         1077   60  Some major design flaws   \n",
       "3         1049   50         My favorite buy!   \n",
       "4          847   47         Flattering shirt   \n",
       "\n",
       "                                         Review Text  Rating  Recommended IND  \\\n",
       "0  Absolutely wonderful - silky and sexy and comf...       4                1   \n",
       "1  Love this dress!  it's sooo pretty.  i happene...       5                1   \n",
       "2  I had such high hopes for this dress and reall...       3                0   \n",
       "3  I love, love, love this jumpsuit. it's fun, fl...       5                1   \n",
       "4  This shirt is very flattering to all due to th...       5                1   \n",
       "\n",
       "   Positive Feedback Count  Division Name  Department Name  Class Name  \\\n",
       "0                        0              2                2           5   \n",
       "1                        4              0                1           3   \n",
       "2                        0              0                1           3   \n",
       "3                        0              1                0          13   \n",
       "4                        6              0                4           0   \n",
       "\n",
       "   Polarity  word_count  review_len  \n",
       "0  0.633333           8          53  \n",
       "1  0.339583          62         303  \n",
       "2  0.073675          98         500  \n",
       "3  0.550000          22         124  \n",
       "4  0.512891          36         192  "
      ]
     },
     "execution_count": 14,
     "metadata": {},
     "output_type": "execute_result"
    }
   ],
   "source": [
    "# First, change the type of the specified columns to \"category\". This will \n",
    "# assign a \"code\" to each unique category value.\n",
    "data_df[\"Clothing ID\"] = data_df[\"Clothing ID\"].astype('category')\n",
    "data_df[\"Division Name\"] = data_df[\"Division Name\"].astype('category')\n",
    "data_df[\"Department Name\"] = data_df[\"Department Name\"].astype('category')\n",
    "data_df[\"Class Name\"] = data_df[\"Class Name\"].astype('category')\n",
    "\n",
    "# Second, replace the strings with their code values.\n",
    "data_df[\"Clothing ID\"] = data_df[\"Clothing ID\"].cat.codes\n",
    "data_df[\"Division Name\"] = data_df[\"Division Name\"].cat.codes\n",
    "data_df[\"Department Name\"] = data_df[\"Department Name\"].cat.codes\n",
    "data_df[\"Class Name\"] = data_df[\"Class Name\"].cat.codes\n",
    "\n",
    "# Display the table--notice how the above columns are all integers now.\n",
    "data_df.head()"
   ]
  },
  {
   "cell_type": "markdown",
   "id": "7f93387b-e97e-4682-a7e1-f3852de09d02",
   "metadata": {},
   "source": [
    "Para aclararle a XGBoost qué características son categóricas y numéricas, estoy convirtiendo todas las características numéricas en flotantes.\n",
    "\n",
    "Puede haber otra forma de hacer esto, pero parece que funciona bien."
   ]
  },
  {
   "cell_type": "code",
   "execution_count": 15,
   "id": "0ba2b900-4242-4a65-9ac6-2b940a724750",
   "metadata": {},
   "outputs": [
    {
     "data": {
      "text/html": [
       "<div>\n",
       "<style scoped>\n",
       "    .dataframe tbody tr th:only-of-type {\n",
       "        vertical-align: middle;\n",
       "    }\n",
       "\n",
       "    .dataframe tbody tr th {\n",
       "        vertical-align: top;\n",
       "    }\n",
       "\n",
       "    .dataframe thead th {\n",
       "        text-align: right;\n",
       "    }\n",
       "</style>\n",
       "<table border=\"1\" class=\"dataframe\">\n",
       "  <thead>\n",
       "    <tr style=\"text-align: right;\">\n",
       "      <th></th>\n",
       "      <th>Clothing ID</th>\n",
       "      <th>Age</th>\n",
       "      <th>Title</th>\n",
       "      <th>Review Text</th>\n",
       "      <th>Rating</th>\n",
       "      <th>Recommended IND</th>\n",
       "      <th>Positive Feedback Count</th>\n",
       "      <th>Division Name</th>\n",
       "      <th>Department Name</th>\n",
       "      <th>Class Name</th>\n",
       "      <th>Polarity</th>\n",
       "      <th>word_count</th>\n",
       "      <th>review_len</th>\n",
       "    </tr>\n",
       "  </thead>\n",
       "  <tbody>\n",
       "    <tr>\n",
       "      <th>0</th>\n",
       "      <td>767</td>\n",
       "      <td>33.0</td>\n",
       "      <td>NaN</td>\n",
       "      <td>Absolutely wonderful - silky and sexy and comf...</td>\n",
       "      <td>4.0</td>\n",
       "      <td>1</td>\n",
       "      <td>0.0</td>\n",
       "      <td>2</td>\n",
       "      <td>2</td>\n",
       "      <td>5</td>\n",
       "      <td>0.633333</td>\n",
       "      <td>8</td>\n",
       "      <td>53</td>\n",
       "    </tr>\n",
       "    <tr>\n",
       "      <th>1</th>\n",
       "      <td>1080</td>\n",
       "      <td>34.0</td>\n",
       "      <td>NaN</td>\n",
       "      <td>Love this dress!  it's sooo pretty.  i happene...</td>\n",
       "      <td>5.0</td>\n",
       "      <td>1</td>\n",
       "      <td>4.0</td>\n",
       "      <td>0</td>\n",
       "      <td>1</td>\n",
       "      <td>3</td>\n",
       "      <td>0.339583</td>\n",
       "      <td>62</td>\n",
       "      <td>303</td>\n",
       "    </tr>\n",
       "    <tr>\n",
       "      <th>2</th>\n",
       "      <td>1077</td>\n",
       "      <td>60.0</td>\n",
       "      <td>Some major design flaws</td>\n",
       "      <td>I had such high hopes for this dress and reall...</td>\n",
       "      <td>3.0</td>\n",
       "      <td>0</td>\n",
       "      <td>0.0</td>\n",
       "      <td>0</td>\n",
       "      <td>1</td>\n",
       "      <td>3</td>\n",
       "      <td>0.073675</td>\n",
       "      <td>98</td>\n",
       "      <td>500</td>\n",
       "    </tr>\n",
       "    <tr>\n",
       "      <th>3</th>\n",
       "      <td>1049</td>\n",
       "      <td>50.0</td>\n",
       "      <td>My favorite buy!</td>\n",
       "      <td>I love, love, love this jumpsuit. it's fun, fl...</td>\n",
       "      <td>5.0</td>\n",
       "      <td>1</td>\n",
       "      <td>0.0</td>\n",
       "      <td>1</td>\n",
       "      <td>0</td>\n",
       "      <td>13</td>\n",
       "      <td>0.550000</td>\n",
       "      <td>22</td>\n",
       "      <td>124</td>\n",
       "    </tr>\n",
       "    <tr>\n",
       "      <th>4</th>\n",
       "      <td>847</td>\n",
       "      <td>47.0</td>\n",
       "      <td>Flattering shirt</td>\n",
       "      <td>This shirt is very flattering to all due to th...</td>\n",
       "      <td>5.0</td>\n",
       "      <td>1</td>\n",
       "      <td>6.0</td>\n",
       "      <td>0</td>\n",
       "      <td>4</td>\n",
       "      <td>0</td>\n",
       "      <td>0.512891</td>\n",
       "      <td>36</td>\n",
       "      <td>192</td>\n",
       "    </tr>\n",
       "  </tbody>\n",
       "</table>\n",
       "</div>"
      ],
      "text/plain": [
       "   Clothing ID   Age                    Title  \\\n",
       "0          767  33.0                      NaN   \n",
       "1         1080  34.0                      NaN   \n",
       "2         1077  60.0  Some major design flaws   \n",
       "3         1049  50.0         My favorite buy!   \n",
       "4          847  47.0         Flattering shirt   \n",
       "\n",
       "                                         Review Text  Rating  Recommended IND  \\\n",
       "0  Absolutely wonderful - silky and sexy and comf...     4.0                1   \n",
       "1  Love this dress!  it's sooo pretty.  i happene...     5.0                1   \n",
       "2  I had such high hopes for this dress and reall...     3.0                0   \n",
       "3  I love, love, love this jumpsuit. it's fun, fl...     5.0                1   \n",
       "4  This shirt is very flattering to all due to th...     5.0                1   \n",
       "\n",
       "   Positive Feedback Count  Division Name  Department Name  Class Name  \\\n",
       "0                      0.0              2                2           5   \n",
       "1                      4.0              0                1           3   \n",
       "2                      0.0              0                1           3   \n",
       "3                      0.0              1                0          13   \n",
       "4                      6.0              0                4           0   \n",
       "\n",
       "   Polarity  word_count  review_len  \n",
       "0  0.633333           8          53  \n",
       "1  0.339583          62         303  \n",
       "2  0.073675          98         500  \n",
       "3  0.550000          22         124  \n",
       "4  0.512891          36         192  "
      ]
     },
     "execution_count": 15,
     "metadata": {},
     "output_type": "execute_result"
    }
   ],
   "source": [
    "# Cast the numerical features to floats.\n",
    "data_df[\"Age\"] = data_df[\"Age\"].astype('float')\n",
    "data_df[\"Rating\"] = data_df[\"Rating\"].astype('float')\n",
    "data_df[\"Positive Feedback Count\"] = data_df[\"Positive Feedback Count\"].astype('float')\n",
    "\n",
    "data_df.head()"
   ]
  },
  {
   "cell_type": "code",
   "execution_count": 22,
   "id": "15b2a526-15ea-490e-befe-59b6b275c5ac",
   "metadata": {},
   "outputs": [
    {
     "data": {
      "text/html": [
       "<div>\n",
       "<style scoped>\n",
       "    .dataframe tbody tr th:only-of-type {\n",
       "        vertical-align: middle;\n",
       "    }\n",
       "\n",
       "    .dataframe tbody tr th {\n",
       "        vertical-align: top;\n",
       "    }\n",
       "\n",
       "    .dataframe thead th {\n",
       "        text-align: right;\n",
       "    }\n",
       "</style>\n",
       "<table border=\"1\" class=\"dataframe\">\n",
       "  <thead>\n",
       "    <tr style=\"text-align: right;\">\n",
       "      <th></th>\n",
       "      <th>Clothing ID</th>\n",
       "      <th>Age</th>\n",
       "      <th>Rating</th>\n",
       "      <th>Positive Feedback Count</th>\n",
       "      <th>Division Name</th>\n",
       "      <th>Department Name</th>\n",
       "      <th>Class Name</th>\n",
       "    </tr>\n",
       "  </thead>\n",
       "  <tbody>\n",
       "    <tr>\n",
       "      <th>15723</th>\n",
       "      <td>945</td>\n",
       "      <td>35.0</td>\n",
       "      <td>5.0</td>\n",
       "      <td>0.0</td>\n",
       "      <td>0</td>\n",
       "      <td>4</td>\n",
       "      <td>17</td>\n",
       "    </tr>\n",
       "    <tr>\n",
       "      <th>3789</th>\n",
       "      <td>1091</td>\n",
       "      <td>50.0</td>\n",
       "      <td>4.0</td>\n",
       "      <td>5.0</td>\n",
       "      <td>0</td>\n",
       "      <td>1</td>\n",
       "      <td>3</td>\n",
       "    </tr>\n",
       "    <tr>\n",
       "      <th>659</th>\n",
       "      <td>252</td>\n",
       "      <td>93.0</td>\n",
       "      <td>5.0</td>\n",
       "      <td>3.0</td>\n",
       "      <td>2</td>\n",
       "      <td>2</td>\n",
       "      <td>18</td>\n",
       "    </tr>\n",
       "    <tr>\n",
       "      <th>13644</th>\n",
       "      <td>1078</td>\n",
       "      <td>37.0</td>\n",
       "      <td>5.0</td>\n",
       "      <td>1.0</td>\n",
       "      <td>0</td>\n",
       "      <td>1</td>\n",
       "      <td>3</td>\n",
       "    </tr>\n",
       "    <tr>\n",
       "      <th>7362</th>\n",
       "      <td>820</td>\n",
       "      <td>54.0</td>\n",
       "      <td>5.0</td>\n",
       "      <td>1.0</td>\n",
       "      <td>1</td>\n",
       "      <td>4</td>\n",
       "      <td>0</td>\n",
       "    </tr>\n",
       "  </tbody>\n",
       "</table>\n",
       "</div>"
      ],
      "text/plain": [
       "       Clothing ID   Age  Rating  Positive Feedback Count  Division Name  \\\n",
       "15723          945  35.0     5.0                      0.0              0   \n",
       "3789          1091  50.0     4.0                      5.0              0   \n",
       "659            252  93.0     5.0                      3.0              2   \n",
       "13644         1078  37.0     5.0                      1.0              0   \n",
       "7362           820  54.0     5.0                      1.0              1   \n",
       "\n",
       "       Department Name  Class Name  \n",
       "15723                4          17  \n",
       "3789                 1           3  \n",
       "659                  2          18  \n",
       "13644                1           3  \n",
       "7362                 4           0  "
      ]
     },
     "execution_count": 22,
     "metadata": {},
     "output_type": "execute_result"
    }
   ],
   "source": [
    "# Retrieve the labels for each of the splits.\n",
    "y_train = data_df[\"Recommended IND\"].iloc[train_idx]\n",
    "y_val = data_df[\"Recommended IND\"].iloc[val_idx]\n",
    "y_test = data_df[\"Recommended IND\"].iloc[test_idx]\n",
    "\n",
    "# Before selecting the inputs, remove text columns and the labels.\n",
    "data_df = data_df.drop(columns=[\"Title\", \"Review Text\", \"Recommended IND\",\"Polarity\",\"word_count\",\"review_len\"])\n",
    "\n",
    "# Select the inputs for the different splits.\n",
    "X_train = data_df.iloc[train_idx]\n",
    "X_val = data_df.iloc[val_idx]\n",
    "X_test = data_df.iloc[test_idx]\n",
    "\n",
    "X_train.head()"
   ]
  },
  {
   "cell_type": "markdown",
   "id": "107d8336-9285-41bd-b5d8-ae344dd225a8",
   "metadata": {
    "slideshow": {
     "slide_type": "subslide"
    },
    "tags": []
   },
   "source": [
    "### <span style=\"color:blue\">XG-Boost</span>"
   ]
  },
  {
   "cell_type": "markdown",
   "id": "6b0750a2-597f-49a6-bcf7-79657ff7bee7",
   "metadata": {},
   "source": [
    "Cuando se trata de tipos de datos mixtos como este, los árboles de decisión son la solución estándar, siendo los \"árboles de decisión potenciados por gradiente\" (XGBoost) el modelo más común.\n",
    "\n",
    "En un árbol de decisión, la decisión de clasificación se divide en muchas decisiones más pequeñas (en cada nodo del árbol). Cada una de estas decisiones más pequeñas puede operar en un tipo de datos diferente, lo que permite una combinación de tipos de datos en el clasificador.\n",
    "\n",
    "Sin embargo, un árbol de decisión no puede aceptar texto sin formato. Entonces, usemos un árbol de decisiones para hacer nuestras predicciones basadas solo en las características que no son de texto en este conjunto de datos.\n",
    "\n",
    "Para iniciar con XG-Boost, recomendamos [How to Develop Your First XGBoost Model in Python](https://machinelearningmastery.com/develop-first-xgboost-model-python-scikit-learn/)."
   ]
  },
  {
   "cell_type": "code",
   "execution_count": 23,
   "id": "01663cc4-7bec-4fe5-a2c7-a6944d00c1a4",
   "metadata": {},
   "outputs": [
    {
     "name": "stderr",
     "output_type": "stream",
     "text": [
      "/Users/moury/miniforge3/envs/BERT_Taller/lib/python3.9/site-packages/xgboost/sklearn.py:1224: UserWarning: The use of label encoder in XGBClassifier is deprecated and will be removed in a future release. To remove this warning, do the following: 1) Pass option use_label_encoder=False when constructing XGBClassifier object; and 2) Encode your labels (y) as integers starting with 0, i.e. 0, 1, 2, ..., [num_class - 1].\n",
      "  warnings.warn(label_encoder_deprecation_msg, UserWarning)\n",
      "/Users/moury/miniforge3/envs/BERT_Taller/lib/python3.9/site-packages/xgboost/data.py:250: FutureWarning: pandas.Int64Index is deprecated and will be removed from pandas in a future version. Use pandas.Index with the appropriate dtype instead.\n",
      "  elif isinstance(data.columns, (pd.Int64Index, pd.RangeIndex)):\n"
     ]
    },
    {
     "name": "stdout",
     "output_type": "stream",
     "text": [
      "[07:04:58] WARNING: ../src/learner.cc:1115: Starting in XGBoost 1.3.0, the default evaluation metric used with the objective 'binary:logistic' was changed from 'error' to 'logloss'. Explicitly set eval_metric if you'd like to restore the old behavior.\n",
      "Usando XGBoost en features no-textuales...\n",
      "\n",
      "F1: 0.956\n"
     ]
    }
   ],
   "source": [
    "from xgboost import XGBClassifier\n",
    "\n",
    "# Create an instance of the classifier\n",
    "model = XGBClassifier()\n",
    "\n",
    "# Train it on the training set.\n",
    "model.fit(X_train, y_train)\n",
    "\n",
    "# Use the trained model to predict the labels for the test set.\n",
    "predictions = model.predict(X_test)\n",
    "\n",
    "# Calculate the F1 score.\n",
    "f1 = f1_score(y_true = y_test,\n",
    "              y_pred = predictions)\n",
    "\n",
    "print('Usando XGBoost en features no-textuales...')\n",
    "print('\\nF1: %.3f' % f1)"
   ]
  },
  {
   "cell_type": "code",
   "execution_count": 25,
   "id": "5170e78d-849d-4fdc-bb27-1b5494acada5",
   "metadata": {},
   "outputs": [
    {
     "data": {
      "image/png": "[encoded data removed]",
      "text/plain": [
       "<Figure size 432x288 with 1 Axes>"
      ]
     },
     "metadata": {
      "needs_background": "light"
     },
     "output_type": "display_data"
    }
   ],
   "source": [
    "from xgboost import plot_importance\n",
    "from matplotlib import pyplot\n",
    "\n",
    "feat_gains = model.get_booster().get_score(importance_type=\"gain\")\n",
    "\n",
    "pyplot.bar(feat_gains.keys(), feat_gains.values())\n",
    "pyplot.xticks(rotation = 90);"
   ]
  },
  {
   "cell_type": "markdown",
   "id": "e01be4da-2e6f-4164-9107-c30112d96cd9",
   "metadata": {},
   "source": [
    "Observemos que el modelo le da mucho peso a la \"Rating\", pero esto sugiere que las otras características no son particularmente útiles.\n",
    "\n",
    "Otro enfoque para este análisis sería simplemente descartar características individuales para ver cuánto afecta cada una a la precisión."
   ]
  },
  {
   "cell_type": "markdown",
   "id": "c29e7693-fa20-41e7-b6dc-9acd106560b6",
   "metadata": {},
   "source": [
    "[[Volver]](#Contenido)"
   ]
  },
  {
   "cell_type": "markdown",
   "id": "b843a8ee-7eaa-415a-9c99-a0d5a3ca0f3a",
   "metadata": {
    "slideshow": {
     "slide_type": "subslide"
    },
    "tags": []
   },
   "source": [
    "### <span style=\"color:blue\">BERT</span>"
   ]
  },
  {
   "cell_type": "markdown",
   "id": "6a9a89c2-923b-4af9-ac25-4b61c8dfd391",
   "metadata": {},
   "source": [
    "Para nuestra línea de base final, podemos intentar aplicar BERT **solo al texto** de revisión e ignorar todas las demás funciones.\n",
    "\n",
    "Para ejecutar este experimento, puede modificar la Sección 3.1. para usar simplemente el texto de revisión.\n",
    "\n",
    "**Reto: Utilice BERT para el proceso de clasificación utilizando el Trainer de HuggingFace.**\n",
    "\n",
    "**Pista: La métrica F1 debe estar cerca a 0,945.**\n",
    "\n",
    "Esa es una buena puntuación, pero claramente lo haríamos mejor si pudiéramos incorporar las características que no son de texto."
   ]
  },
  {
   "cell_type": "markdown",
   "id": "5493acaf-b840-46f5-a76f-897092fc4c69",
   "metadata": {},
   "source": [
    "[[Volver]](#Contenido)"
   ]
  },
  {
   "cell_type": "markdown",
   "id": "3a7d7abd-a976-4c8f-8b18-e2dc0edd3f65",
   "metadata": {
    "slideshow": {
     "slide_type": "subslide"
    },
    "tags": []
   },
   "source": [
    "### <span style=\"color:blue\">BERT con todos los Features</span>"
   ]
  },
  {
   "cell_type": "markdown",
   "id": "1c71d615-0ccc-41ab-843b-c4751fd84ca5",
   "metadata": {},
   "source": [
    "¡La forma más sencilla de manejar estas características que no son de texto es convertirlas en texto y concatenarlas con el texto de revisión!\n",
    "\n",
    "Pensé que BERT haría un mejor uso de estas funciones adicionales dado un contexto adicional... \n",
    "\n",
    "Por ejemplo, para manejar el feature \"Age\", en lugar de simplemente anteponer el número \"33\", antepongamos el texto \"I am 33 years old.\""
   ]
  },
  {
   "cell_type": "code",
   "execution_count": 26,
   "id": "9e5cee9a-6d78-40a0-bd2c-78e4ac5f1ad9",
   "metadata": {},
   "outputs": [
    {
     "name": "stdout",
     "output_type": "stream",
     "text": [
      "Combinando Features en los textos...\n",
      "Terminado.\n",
      "Dataset contains 23,486 samples.\n"
     ]
    }
   ],
   "source": [
    "# This will hold all of the dataset samples, as strings.\n",
    "sen_w_feats = []\n",
    "\n",
    "# The labels for the samples.\n",
    "labels = []\n",
    "\n",
    "# First, reload the dataset to undo the transformations we applied for XGBoost.\n",
    "data_df = pd.read_csv('Womens Clothing E-Commerce Reviews.csv', index_col=0)\n",
    "\n",
    "# Some of the reviews are missing either a \"Title\" or \"Review Text\", so we'll \n",
    "# replace the NaN values with empty string.\n",
    "data_df = data_df.fillna(\"\")\n",
    "\n",
    "\n",
    "print('Combinando Features en los textos...')\n",
    "\n",
    "# For each of the samples...\n",
    "for index, row in data_df.iterrows():\n",
    "\n",
    "    # Piece it together...    \n",
    "    combined = \"\"\n",
    "    \n",
    "    #combined += \"The ID of this item is {:}, \".format(row[\"Clothing ID\"])\n",
    "    combined += \"This item comes from the {:} department and {:} division, \" \\\n",
    "                \"and is classified under {:}. \".format(row[\"Department Name\"], \n",
    "                                                       row[\"Division Name\"], \n",
    "                                                       row[\"Class Name\"])\n",
    "    \n",
    "    combined += \"I am {:} years old. \".format(row[\"Age\"])\n",
    "    \n",
    "    combined += \"I rate this item {:} out of 5 stars. \".format(row[\"Rating\"])\n",
    "    \n",
    "    # Not all samples have titles.\n",
    "    if not row[\"Title\"] == \"\":\n",
    "        combined += row[\"Title\"] + \". \"\n",
    "    \n",
    "    # Finally, append the review the text!\n",
    "    combined += row[\"Review Text\"]\n",
    "    \n",
    "    # Add the combined text to the list.\n",
    "    sen_w_feats.append(combined)\n",
    "\n",
    "    # Also record the sample's label.\n",
    "    labels.append(row[\"Recommended IND\"])\n",
    "\n",
    "print('Terminado.')\n",
    "\n",
    "print('Dataset contains {:,} samples.'.format(len(sen_w_feats)))"
   ]
  },
  {
   "cell_type": "markdown",
   "id": "05f6c247-041b-44dd-9fc0-fb6766ac41fa",
   "metadata": {},
   "source": [
    "Veamos cómo queda uno de los ejemplos modificados:"
   ]
  },
  {
   "cell_type": "code",
   "execution_count": 27,
   "id": "87a5ac19-5566-40c9-b9a4-254652a02a5e",
   "metadata": {},
   "outputs": [
    {
     "name": "stdout",
     "output_type": "stream",
     "text": [
      "Antes:\n",
      "\n",
      " Love this dress!  it's sooo pretty.  i happened to find it in a store, and i'm\n",
      "glad i did bc i never would have ordered it online bc it's petite.  i bought a\n",
      "petite and am 5'8\".  i love the length on me- hits just a little below the knee.\n",
      "would definitely be a true midi on someone who is truly petite.\n",
      "\n",
      "Despues:\n",
      "\n",
      " This item comes from the Dresses department and General division, and is\n",
      "classified under Dresses. I am 34 years old. I rate this item 5 out of 5 stars.\n",
      "Love this dress!  it's sooo pretty.  i happened to find it in a store, and i'm\n",
      "glad i did bc i never would have ordered it online bc it's petite.  i bought a\n",
      "petite and am 5'8\".  i love the length on me- hits just a little below the knee.\n",
      "would definitely be a true midi on someone who is truly petite.\n"
     ]
    }
   ],
   "source": [
    "import textwrap\n",
    "\n",
    "# Wrap text to 80 characters.\n",
    "wrapper = textwrap.TextWrapper(width=80) \n",
    "\n",
    "print(\"Antes:\\n\\n\",wrapper.fill(data_df['Review Text'].iloc[1]),end='\\n\\n')\n",
    "print(\"Despues:\\n\\n\",wrapper.fill(sen_w_feats[1]))"
   ]
  },
  {
   "cell_type": "markdown",
   "id": "4bb7a1c1-76d4-47f9-8f45-89d5b6ed6918",
   "metadata": {},
   "source": [
    "[[Volver]](#Contenido)"
   ]
  },
  {
   "cell_type": "markdown",
   "id": "6d7802a2-b223-473f-86cc-ad54265fc24e",
   "metadata": {
    "slideshow": {
     "slide_type": "subslide"
    },
    "tags": []
   },
   "source": [
    "## <span style=\"color:blue\">Configurando Pytorch</span>"
   ]
  },
  {
   "cell_type": "markdown",
   "id": "05e911c5-fdf0-49ce-a9c1-6dc636d5be09",
   "metadata": {},
   "source": [
    "Usando las facilidades de las GPU podemos acelerar el proceso de entrenamiento:"
   ]
  },
  {
   "cell_type": "code",
   "execution_count": 30,
   "id": "823399ef-d750-4d2c-94fc-84f3832368fa",
   "metadata": {},
   "outputs": [
    {
     "name": "stdout",
     "output_type": "stream",
     "text": [
      "No GPU available, using the CPU instead.\n"
     ]
    }
   ],
   "source": [
    "import torch\n",
    "\n",
    "# If there's a GPU available...\n",
    "if torch.cuda.is_available():    \n",
    "\n",
    "    # Tell PyTorch to use the GPU.    \n",
    "    device = torch.device(\"cuda\")\n",
    "\n",
    "    print('There are %d GPU(s) available.' % torch.cuda.device_count())\n",
    "\n",
    "    print('We will use the GPU:', torch.cuda.get_device_name(0))\n",
    "\n",
    "# If not...\n",
    "else:\n",
    "    print('No GPU available, using the CPU instead.')\n",
    "    device = torch.device(\"cpu\")"
   ]
  },
  {
   "cell_type": "markdown",
   "id": "f2291bb3-01b2-4d0c-b0f1-00bbc00a57ca",
   "metadata": {},
   "source": [
    "Carguemos un modelo base de BERT. \n",
    "\n",
    "En teoría, modelos posteriores a BERT deberían dar mejores resultados.\n",
    "\n",
    "Intente usando RoBERTa o ERNIE por ejemplo, para ver mejores resultados."
   ]
  },
  {
   "cell_type": "code",
   "execution_count": 31,
   "id": "b851336e-becf-4657-997f-2da533f052aa",
   "metadata": {},
   "outputs": [
    {
     "name": "stdout",
     "output_type": "stream",
     "text": [
      "Loading BERT tokenizer...\n"
     ]
    }
   ],
   "source": [
    "from transformers import BertTokenizer\n",
    "\n",
    "# Load the BERT tokenizer.\n",
    "print('Loading BERT tokenizer...')\n",
    "tokenizer = BertTokenizer.from_pretrained('bert-base-uncased', do_lower_case=True)"
   ]
  },
  {
   "cell_type": "markdown",
   "id": "504f42c6-587b-4903-a2ca-1e1303c8fc65",
   "metadata": {},
   "source": [
    "Haremos un FIne-Tuning de BERT para la tarea de clasificación binaria:"
   ]
  },
  {
   "cell_type": "code",
   "execution_count": 33,
   "id": "232d7c27-8c23-40ba-921c-fdf65cc9d02e",
   "metadata": {},
   "outputs": [
    {
     "name": "stderr",
     "output_type": "stream",
     "text": [
      "Some weights of the model checkpoint at bert-base-uncased were not used when initializing BertForSequenceClassification: ['cls.predictions.transform.dense.weight', 'cls.predictions.bias', 'cls.seq_relationship.bias', 'cls.predictions.transform.LayerNorm.bias', 'cls.predictions.decoder.weight', 'cls.predictions.transform.LayerNorm.weight', 'cls.predictions.transform.dense.bias', 'cls.seq_relationship.weight']\n",
      "- This IS expected if you are initializing BertForSequenceClassification from the checkpoint of a model trained on another task or with another architecture (e.g. initializing a BertForSequenceClassification model from a BertForPreTraining model).\n",
      "- This IS NOT expected if you are initializing BertForSequenceClassification from the checkpoint of a model that you expect to be exactly identical (initializing a BertForSequenceClassification model from a BertForSequenceClassification model).\n",
      "Some weights of BertForSequenceClassification were not initialized from the model checkpoint at bert-base-uncased and are newly initialized: ['classifier.weight', 'classifier.bias']\n",
      "You should probably TRAIN this model on a down-stream task to be able to use it for predictions and inference.\n"
     ]
    }
   ],
   "source": [
    "from transformers import BertForSequenceClassification\n",
    "\n",
    "# Load BertForSequenceClassification, the pretrained BERT model with a single \n",
    "# linear classification layer on top. \n",
    "model = BertForSequenceClassification.from_pretrained(\n",
    "    \"bert-base-uncased\", # Use the 12-layer BERT model, with an uncased vocab.\n",
    "    num_labels = 2, # The number of output labels--2 for binary classification.\n",
    ")\n",
    "\n",
    "# Tell pytorch to run this model on the GPU.\n",
    "\n",
    "#desc = model.cuda()"
   ]
  },
  {
   "cell_type": "markdown",
   "id": "bfd807b3-431d-4a42-999d-d29574a2f54a",
   "metadata": {},
   "source": [
    "Para fines de ajuste, los autores del BERT recomiendan elegir entre los siguientes valores (del Apéndice A.3 del paper de [BERT](https://arxiv.org/pdf/1810.04805.pdf)):\n",
    "\n",
    "- Batch size: 16, 32\n",
    "- Learning rate (Adam): 5e-5, 3e-5, 2e-5\n",
    "- Number of epochs: 2, 3, 4"
   ]
  },
  {
   "cell_type": "code",
   "execution_count": 34,
   "id": "c23bd19b-2d5a-4175-9630-1cb37ce139a9",
   "metadata": {},
   "outputs": [],
   "source": [
    "# Larger batch sizes tend to be better, and we can fit this in memory.\n",
    "batch_size = 32\n",
    "\n",
    "# I used a smaller learning rate to combat over-fitting that I was seeing in the\n",
    "# validation loss. I could probably try even smaller.\n",
    "learning_rate = 1e-5\n",
    "\n",
    "# Number of training epochs. \n",
    "epochs = 4"
   ]
  },
  {
   "cell_type": "markdown",
   "id": "cbc289ce-2d1e-4ae8-8e92-a1e46abee955",
   "metadata": {},
   "source": [
    "Otro parámetro clave es la longitud máxima de secuencia, a la que truncamos o rellenamos todas nuestras muestras. \n",
    "\n",
    "Establecer esto en un valor más alto requiere más memoria y ralentiza el entrenamiento.\n",
    "\n",
    "Haremos un pase sobre el conjunto de datos para encontrar la secuencia más larga y usaremos esto para informar nuestra elección."
   ]
  },
  {
   "cell_type": "code",
   "execution_count": 35,
   "id": "4411e9c3-0dc8-41cc-8052-15e0b1ad6a48",
   "metadata": {},
   "outputs": [
    {
     "name": "stdout",
     "output_type": "stream",
     "text": [
      "Max sentence length:  204\n"
     ]
    }
   ],
   "source": [
    "max_len = 0\n",
    "\n",
    "# For every sentence...\n",
    "for sent in sen_w_feats:\n",
    "\n",
    "    # Tokenize the text and add `[CLS]` and `[SEP]` tokens.\n",
    "    input_ids = tokenizer.encode(sent, add_special_tokens=True)\n",
    "\n",
    "    # Update the maximum sentence length.\n",
    "    max_len = max(max_len, len(input_ids))\n",
    "\n",
    "print('Max sentence length: ', max_len)"
   ]
  },
  {
   "cell_type": "code",
   "execution_count": 36,
   "id": "47146695-093b-486e-b869-a4a378c77bd2",
   "metadata": {},
   "outputs": [],
   "source": [
    "# Let's use a maximum length of 200.\n",
    "max_len = 200"
   ]
  },
  {
   "cell_type": "markdown",
   "id": "9646e594-258f-44dd-bf2a-a692e0c5ff7c",
   "metadata": {},
   "source": [
    "Usemos además, el optimizador AdamW. \n",
    "\n",
    "El parámetro *eps* evita divisones por cero y se recomienda ese valor expuesto abajo.\n",
    "\n",
    "La justificación se éude encontrar en [Gentle Introduction to the Adam Optimization Algorithm for Deep Learning](https://machinelearningmastery.com/adam-optimization-algorithm-for-deep-learning/)."
   ]
  },
  {
   "cell_type": "code",
   "execution_count": 43,
   "id": "73920c5a-5cae-4a55-a59c-71742d3f679f",
   "metadata": {},
   "outputs": [],
   "source": [
    "from torch.optim import AdamW\n",
    "\n",
    "# Note: AdamW is a class from the huggingface library (as opposed to pytorch) \n",
    "# I believe the 'W' stands for 'Weight Decay fix\"\n",
    "optimizer = AdamW(model.parameters(),\n",
    "                  lr = learning_rate, \n",
    "                  eps = 1e-8 \n",
    "                )"
   ]
  },
  {
   "cell_type": "markdown",
   "id": "ffa6945e-dea1-4bcf-8455-3a4d3c9aaf4f",
   "metadata": {},
   "source": [
    "También usaremos una función auxiliar para calcular el accuracy plano del modelo."
   ]
  },
  {
   "cell_type": "code",
   "execution_count": 45,
   "id": "1bf582bd-dbc4-4f90-aa4e-b4a947f65025",
   "metadata": {
    "tags": []
   },
   "outputs": [],
   "source": [
    "import numpy as np\n",
    "\n",
    "# Function to calculate the accuracy of our predictions vs labels\n",
    "def flat_accuracy(preds, labels):\n",
    "    pred_flat = np.argmax(preds, axis=1).flatten()\n",
    "    labels_flat = labels.flatten()\n",
    "    return np.sum(pred_flat == labels_flat) / len(labels_flat)"
   ]
  },
  {
   "cell_type": "markdown",
   "id": "6915617d-75a2-4f1f-9fef-6105d906bf4a",
   "metadata": {},
   "source": [
    "Y finalmente, es buena práctica tener en cuanta los tiempos de computo:"
   ]
  },
  {
   "cell_type": "code",
   "execution_count": 46,
   "id": "fdcf30be-5793-4427-a728-faa8537921da",
   "metadata": {},
   "outputs": [],
   "source": [
    "import time\n",
    "import datetime\n",
    "\n",
    "def format_time(elapsed):\n",
    "    '''\n",
    "    Takes a time in seconds and returns a string hh:mm:ss\n",
    "    '''\n",
    "    # Round to the nearest second.\n",
    "    elapsed_rounded = int(round((elapsed)))\n",
    "    \n",
    "    # Format as hh:mm:ss\n",
    "    return str(datetime.timedelta(seconds=elapsed_rounded))"
   ]
  },
  {
   "cell_type": "markdown",
   "id": "987eb4e4-ef5f-44c5-adcd-2e5657a9bca9",
   "metadata": {},
   "source": [
    "[[Volver]](#Contenido)"
   ]
  },
  {
   "cell_type": "markdown",
   "id": "345d1f96-5e2e-4c8d-8b43-450ac3fcbf88",
   "metadata": {
    "slideshow": {
     "slide_type": "subslide"
    },
    "tags": []
   },
   "source": [
    "## <span style=\"color:blue\">Tokenizar y hacer los Encodings</span>"
   ]
  },
  {
   "cell_type": "markdown",
   "id": "a12b018a-d4e9-41d1-9ea3-ef68980cc45a",
   "metadata": {},
   "source": [
    "Ahora que tenemos configurado Pytorch, tokenizemos y hagamos los encodings correspondientes para el modelo:"
   ]
  },
  {
   "cell_type": "code",
   "execution_count": 38,
   "id": "bda8540d-82cb-4e47-a094-84f8feca1578",
   "metadata": {},
   "outputs": [
    {
     "name": "stdout",
     "output_type": "stream",
     "text": [
      "Codificando todos los reviews en el dataset...\n",
      "Hecho.\n"
     ]
    },
    {
     "name": "stderr",
     "output_type": "stream",
     "text": [
      "/var/folders/d_/hfs18jf54371qfmf54zq289c0000gn/T/ipykernel_65163/578883336.py:35: UserWarning: To copy construct from a tensor, it is recommended to use sourceTensor.clone().detach() or sourceTensor.clone().detach().requires_grad_(True), rather than torch.tensor(sourceTensor).\n",
      "  labels = torch.tensor(labels)\n"
     ]
    }
   ],
   "source": [
    "# Tokenize all of the sentences and map the tokens to thier word IDs.\n",
    "input_ids = []\n",
    "attention_masks = []\n",
    "\n",
    "print('Codificando todos los reviews en el dataset...')\n",
    "\n",
    "# For every sentence...\n",
    "for sent in sen_w_feats:\n",
    "    # `encode_plus` will:\n",
    "    #   (1) Tokenize the sentence.\n",
    "    #   (2) Prepend the `[CLS]` token to the start.\n",
    "    #   (3) Append the `[SEP]` token to the end.\n",
    "    #   (4) Map tokens to their IDs.\n",
    "    #   (5) Pad or truncate the sentence to `max_length`\n",
    "    #   (6) Create attention masks for [PAD] tokens.\n",
    "    encoded_dict = tokenizer.encode_plus(\n",
    "                        sent,                      # Sentence to encode.\n",
    "                        add_special_tokens = True, # Add '[CLS]' and '[SEP]'\n",
    "                        max_length = max_len,           # Pad & truncate all sentences.\n",
    "                        truncation = True,\n",
    "                        padding = 'max_length',\n",
    "                        return_attention_mask = True,   # Construct attn. masks.\n",
    "                        return_tensors = 'pt',     # Return pytorch tensors.\n",
    "                )\n",
    "    \n",
    "    # Add the encoded sentence to the list.    \n",
    "    input_ids.append(encoded_dict['input_ids'])\n",
    "    \n",
    "    # And its attention mask (simply differentiates padding from non-padding).\n",
    "    attention_masks.append(encoded_dict['attention_mask'])\n",
    "\n",
    "# Convert the lists into tensors.\n",
    "input_ids = torch.cat(input_ids, dim=0)\n",
    "attention_masks = torch.cat(attention_masks, dim=0)\n",
    "labels = torch.tensor(labels)\n",
    "\n",
    "print('Hecho.')"
   ]
  },
  {
   "cell_type": "markdown",
   "id": "85d37f29-e56a-42d0-9ef5-21ea4a4d23d7",
   "metadata": {},
   "source": [
    "[[Volver]](#Contenido)"
   ]
  },
  {
   "cell_type": "markdown",
   "id": "ab853f4d-2826-458e-8f85-ecd5d7dfe178",
   "metadata": {
    "slideshow": {
     "slide_type": "subslide"
    },
    "tags": []
   },
   "source": [
    "## <span style=\"color:blue\">Crear Datasets y DataLoaders</span>"
   ]
  },
  {
   "cell_type": "markdown",
   "id": "ae5708c3-10f0-4886-9445-bb82011cf18c",
   "metadata": {},
   "source": [
    "Una vez realizados los encodings, procedemos a crear los Datasets y Dataloaders correspondientes para el entrenamiento:"
   ]
  },
  {
   "cell_type": "code",
   "execution_count": 39,
   "id": "b5029550-c803-4309-9505-20cbdf5f229e",
   "metadata": {},
   "outputs": [],
   "source": [
    "from torch.utils.data import TensorDataset\n",
    "\n",
    "# Split the samples, and create TensorDatasets for each split. \n",
    "train_dataset = TensorDataset(input_ids[train_idx], attention_masks[train_idx], labels[train_idx])\n",
    "val_dataset = TensorDataset(input_ids[val_idx], attention_masks[val_idx], labels[val_idx])\n",
    "test_dataset = TensorDataset(input_ids[test_idx], attention_masks[test_idx], labels[test_idx])"
   ]
  },
  {
   "cell_type": "code",
   "execution_count": 40,
   "id": "dac0a955-3d8c-4750-b30b-0faf57a09e9e",
   "metadata": {},
   "outputs": [],
   "source": [
    "from torch.utils.data import DataLoader, RandomSampler, SequentialSampler\n",
    "\n",
    "# Create the DataLoaders for our training and validation sets.\n",
    "# We'll take training samples in random order. \n",
    "train_dataloader = DataLoader(\n",
    "            train_dataset,  # The training samples.\n",
    "            sampler = RandomSampler(train_dataset), # Select batches randomly\n",
    "            batch_size = batch_size # Trains with this batch size.\n",
    "        )\n",
    "\n",
    "# For validation the order doesn't matter, so we'll just read them sequentially.\n",
    "validation_dataloader = DataLoader(\n",
    "            val_dataset, # The validation samples.\n",
    "            sampler = SequentialSampler(val_dataset), # Pull out batches sequentially.\n",
    "            batch_size = batch_size # Evaluate with this batch size.\n",
    "        )\n"
   ]
  },
  {
   "cell_type": "markdown",
   "id": "3e4a8f97-ebb0-41f8-833d-7cc472713437",
   "metadata": {},
   "source": [
    "Como novedad, utlicemos una función de calentamiento para modificar nuestra tasa de aprendizaje.\n",
    "\n",
    "En general, es buena práctica realizarlo para obtener resultados más óptimos."
   ]
  },
  {
   "cell_type": "code",
   "execution_count": 44,
   "id": "4e6923c7-bcd0-4044-8bbc-3c1514c62116",
   "metadata": {},
   "outputs": [],
   "source": [
    "from transformers import get_linear_schedule_with_warmup\n",
    "\n",
    "# Total number of training steps is [number of batches] x [number of epochs]. \n",
    "# (Note that this is not the same as the number of training samples!)\n",
    "total_steps = len(train_dataloader) * epochs\n",
    "\n",
    "# Create the learning rate scheduler.\n",
    "scheduler = get_linear_schedule_with_warmup(optimizer, \n",
    "                                            num_warmup_steps = 0, # Default value in run_glue.py\n",
    "                                            num_training_steps = total_steps)"
   ]
  },
  {
   "cell_type": "markdown",
   "id": "7549780a-b864-4a5f-8c78-677448f9c0c3",
   "metadata": {},
   "source": [
    "[[Volver]](#Contenido)"
   ]
  },
  {
   "cell_type": "markdown",
   "id": "1afb06e3-d686-4185-8879-ee49fa5db9ec",
   "metadata": {
    "slideshow": {
     "slide_type": "subslide"
    },
    "tags": []
   },
   "source": [
    "## <span style=\"color:blue\">Training</span>"
   ]
  },
  {
   "cell_type": "markdown",
   "id": "e1d52973-6e11-4e33-8130-00b74cf797de",
   "metadata": {},
   "source": [
    "Los pasos de entrenamiento se ponen a continuación:\n",
    "\n",
    "- Desempaque nuestras entradas de datos y etiquetas\n",
    "- Cargue datos en la GPU para acelerar\n",
    "- Borre los gradientes calculados en el paso anterior.\n",
    "- En pytorch, los gradientes se acumulan de forma predeterminada (útil para cosas como RNN) a menos que los elimine explícitamente.\n",
    "- Pase hacia adelante (datos de entrada de alimentación a través de la red)\n",
    "- Pase hacia atrás (propagación hacia atrás)\n",
    "- Dígale a la red que actualice los parámetros con *Optimizer.step()*\n",
    "- Seguimiento de variables para monitorear el progreso"
   ]
  },
  {
   "cell_type": "code",
   "execution_count": null,
   "id": "714134b1-84ba-433c-9973-88f1f7880d3d",
   "metadata": {},
   "outputs": [],
   "source": [
    "import random\n",
    "import numpy as np\n",
    "\n",
    "# This training code is based on the `run_glue.py` script here:\n",
    "# https://github.com/huggingface/transformers/blob/5bfcd0485ece086ebcbed2d008813037968a9e58/examples/run_glue.py#L128\n",
    "\n",
    "# Set the seed value all over the place to make this reproducible.\n",
    "seed_val = 42\n",
    "\n",
    "random.seed(seed_val)\n",
    "np.random.seed(seed_val)\n",
    "torch.manual_seed(seed_val)\n",
    "torch.cuda.manual_seed_all(seed_val)\n",
    "\n",
    "# We'll store a number of quantities such as training and validation loss, \n",
    "# validation accuracy, and timings.\n",
    "training_stats = []\n",
    "\n",
    "# Measure the total training time for the whole run.\n",
    "total_t0 = time.time()\n",
    "\n",
    "# For each epoch...\n",
    "for epoch_i in range(0, epochs):\n",
    "    \n",
    "    # ========================================\n",
    "    #               Training\n",
    "    # ========================================\n",
    "    \n",
    "    # Perform one full pass over the training set.\n",
    "\n",
    "    print(\"\")\n",
    "    print('======== Epoch {:} / {:} ========'.format(epoch_i + 1, epochs))\n",
    "    print('Training...')\n",
    "\n",
    "    # Measure how long the training epoch takes.\n",
    "    t0 = time.time()\n",
    "\n",
    "    # Reset the total loss for this epoch.\n",
    "    total_train_loss = 0\n",
    "\n",
    "    # Put the model into training mode. Don't be mislead--the call to \n",
    "    # `train` just changes the *mode*, it doesn't *perform* the training.\n",
    "    # `dropout` and `batchnorm` layers behave differently during training\n",
    "    # vs. test (source: https://stackoverflow.com/questions/51433378/what-does-model-train-do-in-pytorch)\n",
    "    model.train()\n",
    "\n",
    "    # For each batch of training data...\n",
    "    for step, batch in enumerate(train_dataloader):\n",
    "\n",
    "        # Progress update every 40 batches.\n",
    "        if step % 40 == 0 and not step == 0:\n",
    "            # Calculate elapsed time in minutes.\n",
    "            elapsed = format_time(time.time() - t0)\n",
    "            \n",
    "            # Report progress.\n",
    "            print('  Batch {:>5,}  of  {:>5,}.    Elapsed: {:}.'.format(step, len(train_dataloader), elapsed))\n",
    "\n",
    "        # Unpack this training batch from our dataloader. \n",
    "        #\n",
    "        # As we unpack the batch, we'll also copy each tensor to the GPU using the \n",
    "        # `to` method.\n",
    "        #\n",
    "        # `batch` contains three pytorch tensors:\n",
    "        #   [0]: input ids \n",
    "        #   [1]: attention masks\n",
    "        #   [2]: labels \n",
    "        b_input_ids = batch[0].to(device)\n",
    "        b_input_mask = batch[1].to(device)\n",
    "        b_labels = batch[2].to(device)\n",
    "\n",
    "        # Always clear any previously calculated gradients before performing a\n",
    "        # backward pass. PyTorch doesn't do this automatically because \n",
    "        # accumulating the gradients is \"convenient while training RNNs\". \n",
    "        # (source: https://stackoverflow.com/questions/48001598/why-do-we-need-to-call-zero-grad-in-pytorch)\n",
    "        model.zero_grad()        \n",
    "\n",
    "        # Perform a forward pass (evaluate the model on this training batch).\n",
    "        # In PyTorch, calling `model` will in turn call the model's `forward` \n",
    "        # function and pass down the arguments. The `forward` function is \n",
    "        # documented here: \n",
    "        # https://huggingface.co/transformers/model_doc/bert.html#bertforsequenceclassification\n",
    "        # The results are returned in a results object, documented here:\n",
    "        # https://huggingface.co/transformers/main_classes/output.html#transformers.modeling_outputs.SequenceClassifierOutput\n",
    "        # Specifically, we'll get the loss (because we provided labels) and the\n",
    "        # \"logits\"--the model outputs prior to activation.\n",
    "        result = model(b_input_ids, \n",
    "                       token_type_ids=None, \n",
    "                       attention_mask=b_input_mask, \n",
    "                       labels=b_labels,\n",
    "                       return_dict=True)\n",
    "\n",
    "        loss = result.loss\n",
    "        logits = result.logits\n",
    "\n",
    "        # Accumulate the training loss over all of the batches so that we can\n",
    "        # calculate the average loss at the end. `loss` is a Tensor containing a\n",
    "        # single value; the `.item()` function just returns the Python value \n",
    "        # from the tensor.\n",
    "        total_train_loss += loss.item()\n",
    "\n",
    "        # Perform a backward pass to calculate the gradients.\n",
    "        loss.backward()\n",
    "\n",
    "        # Clip the norm of the gradients to 1.0.\n",
    "        # This is to help prevent the \"exploding gradients\" problem.\n",
    "        torch.nn.utils.clip_grad_norm_(model.parameters(), 1.0)\n",
    "\n",
    "        # Update parameters and take a step using the computed gradient.\n",
    "        # The optimizer dictates the \"update rule\"--how the parameters are\n",
    "        # modified based on their gradients, the learning rate, etc.\n",
    "        optimizer.step()\n",
    "\n",
    "        # Update the learning rate.\n",
    "        scheduler.step()\n",
    "\n",
    "    # Calculate the average loss over all of the batches.\n",
    "    avg_train_loss = total_train_loss / len(train_dataloader)            \n",
    "    \n",
    "    # Measure how long this epoch took.\n",
    "    training_time = format_time(time.time() - t0)\n",
    "\n",
    "    print(\"\")\n",
    "    print(\"  Average training loss: {0:.2f}\".format(avg_train_loss))\n",
    "    print(\"  Training epcoh took: {:}\".format(training_time))\n",
    "        \n",
    "    # ========================================\n",
    "    #               Validation\n",
    "    # ========================================\n",
    "    # After the completion of each training epoch, measure our performance on\n",
    "    # our validation set.\n",
    "\n",
    "    print(\"\")\n",
    "    print(\"Running Validation...\")\n",
    "\n",
    "    t0 = time.time()\n",
    "\n",
    "    # Put the model in evaluation mode--the dropout layers behave differently\n",
    "    # during evaluation.\n",
    "    model.eval()\n",
    "\n",
    "    # Tracking variables \n",
    "    total_eval_accuracy = 0\n",
    "    total_eval_loss = 0\n",
    "    nb_eval_steps = 0\n",
    "\n",
    "    # Evaluate data for one epoch\n",
    "    for batch in validation_dataloader:\n",
    "        \n",
    "        # Unpack this training batch from our dataloader. \n",
    "        #\n",
    "        # As we unpack the batch, we'll also copy each tensor to the GPU using \n",
    "        # the `to` method.\n",
    "        #\n",
    "        # `batch` contains three pytorch tensors:\n",
    "        #   [0]: input ids \n",
    "        #   [1]: attention masks\n",
    "        #   [2]: labels \n",
    "        b_input_ids = batch[0].to(device)\n",
    "        b_input_mask = batch[1].to(device)\n",
    "        b_labels = batch[2].to(device)\n",
    "        \n",
    "        # Tell pytorch not to bother with constructing the compute graph during\n",
    "        # the forward pass, since this is only needed for backprop (training).\n",
    "        with torch.no_grad():        \n",
    "\n",
    "            # Forward pass, calculate logit predictions.\n",
    "            # token_type_ids is the same as the \"segment ids\", which \n",
    "            # differentiates sentence 1 and 2 in 2-sentence tasks.\n",
    "            result = model(b_input_ids, \n",
    "                           token_type_ids=None, \n",
    "                           attention_mask=b_input_mask,\n",
    "                           labels=b_labels,\n",
    "                           return_dict=True)\n",
    "\n",
    "        # Get the loss and \"logits\" output by the model. The \"logits\" are the \n",
    "        # output values prior to applying an activation function like the \n",
    "        # softmax.\n",
    "        loss = result.loss\n",
    "        logits = result.logits\n",
    "            \n",
    "        # Accumulate the validation loss.\n",
    "        total_eval_loss += loss.item()\n",
    "\n",
    "        # Move logits and labels to CPU\n",
    "        logits = logits.detach().cpu().numpy()\n",
    "        label_ids = b_labels.to('cpu').numpy()\n",
    "\n",
    "        # Calculate the accuracy for this batch of test sentences, and\n",
    "        # accumulate it over all batches.\n",
    "        total_eval_accuracy += flat_accuracy(logits, label_ids)\n",
    "        \n",
    "\n",
    "    # Report the final accuracy for this validation run.\n",
    "    avg_val_accuracy = total_eval_accuracy / len(validation_dataloader)\n",
    "    print(\"  Accuracy: {0:.2f}\".format(avg_val_accuracy))\n",
    "\n",
    "    # Calculate the average loss over all of the batches.\n",
    "    avg_val_loss = total_eval_loss / len(validation_dataloader)\n",
    "    \n",
    "    # Measure how long the validation run took.\n",
    "    validation_time = format_time(time.time() - t0)\n",
    "    \n",
    "    print(\"  Validation Loss: {0:.2f}\".format(avg_val_loss))\n",
    "    print(\"  Validation took: {:}\".format(validation_time))\n",
    "\n",
    "    # Record all statistics from this epoch.\n",
    "    training_stats.append(\n",
    "        {\n",
    "            'epoch': epoch_i + 1,\n",
    "            'Training Loss': avg_train_loss,\n",
    "            'Valid. Loss': avg_val_loss,\n",
    "            'Valid. Accur.': avg_val_accuracy,\n",
    "            'Training Time': training_time,\n",
    "            'Validation Time': validation_time\n",
    "        }\n",
    "    )\n",
    "\n",
    "print(\"\")\n",
    "print(\"Training complete!\")\n",
    "\n",
    "print(\"Total training took {:} (h:mm:ss)\".format(format_time(time.time()-total_t0)))"
   ]
  },
  {
   "cell_type": "markdown",
   "id": "399b37c8-70c7-4f2e-aeac-a1aba538fd79",
   "metadata": {},
   "source": [
    "[[Volver]](#Contenido)"
   ]
  },
  {
   "cell_type": "markdown",
   "id": "343c9f5e-1964-486c-b991-87766706eb1a",
   "metadata": {
    "slideshow": {
     "slide_type": "subslide"
    },
    "tags": []
   },
   "source": [
    "## <span style=\"color:blue\">Resultados</span>"
   ]
  },
  {
   "cell_type": "markdown",
   "id": "6d6d1862-cca1-40f4-8cb5-30a74085e568",
   "metadata": {},
   "source": [
    "Veamos los resultados obtenidos:"
   ]
  },
  {
   "cell_type": "code",
   "execution_count": null,
   "id": "3d7a51c3-22cf-4c34-86d9-2706597fd12a",
   "metadata": {},
   "outputs": [],
   "source": [
    "import pandas as pd\n",
    "\n",
    "# Display floats with two decimal places.\n",
    "pd.set_option('precision', 2)\n",
    "\n",
    "# Create a DataFrame from our training statistics.\n",
    "df_stats = pd.DataFrame(data=training_stats)\n",
    "\n",
    "# Use the 'epoch' as the row index.\n",
    "df_stats = df_stats.set_index('epoch')\n",
    "\n",
    "# A hack to force the column headers to wrap (doesn't seem to work in Colab).\n",
    "#df = df.style.set_table_styles([dict(selector=\"th\",props=[('max-width', '70px')])])\n",
    "\n",
    "# Display the table.\n",
    "df_stats"
   ]
  },
  {
   "cell_type": "markdown",
   "id": "f555572f-ca14-41a4-a030-111fb7b632f2",
   "metadata": {},
   "source": [
    "Podemos graficar la pérdida de entrenamiento y la pérdida de validación para verificar indicios de sobreajuste."
   ]
  },
  {
   "cell_type": "code",
   "execution_count": null,
   "id": "0b276cbd-ccc2-4cd8-af7a-11f7ce3ac3a7",
   "metadata": {},
   "outputs": [],
   "source": [
    "import matplotlib.pyplot as plt\n",
    "% matplotlib inline\n",
    "\n",
    "import seaborn as sns\n",
    "\n",
    "# Use plot styling from seaborn.\n",
    "sns.set(style='darkgrid')\n",
    "\n",
    "# Increase the plot size and font size.\n",
    "sns.set(font_scale=1.5)\n",
    "plt.rcParams[\"figure.figsize\"] = (12,6)\n",
    "\n",
    "# Plot the learning curve.\n",
    "plt.plot(df_stats['Training Loss'], 'b-o', label=\"Training\")\n",
    "plt.plot(df_stats['Valid. Loss'], 'g-o', label=\"Validation\")\n",
    "\n",
    "# Label the plot.\n",
    "plt.title(\"Training & Validation Loss\")\n",
    "plt.xlabel(\"Epoch\")\n",
    "plt.ylabel(\"Loss\")\n",
    "plt.legend()\n",
    "plt.xticks([1, 2, 3, 4])\n",
    "\n",
    "plt.show()"
   ]
  },
  {
   "cell_type": "markdown",
   "id": "a0171c30-97f5-4ddc-876a-fa6222ad6b9c",
   "metadata": {},
   "source": [
    "Parece que hay algo de ajuste excesivo aquí. \n",
    "\n",
    "Si realmente desea obtener la mejor precisión, puede intentar guardar un checkpoint del modelo después de cada epoch y ver si el tercer punto de control funciona mejor en el conjunto de prueba.\n",
    "\n",
    "¿Por qué pérdida de validación, no precisión?\n",
    "\n",
    "La pérdida de validación es una medida más precisa que la precisión de la validación, porque con precisión no nos importa el valor de salida exacto, sino solo de qué lado de un umbral cae.\n",
    "\n",
    "Si estamos prediciendo la respuesta correcta, pero con menos confianza, entonces la pérdida de validación detectará esto, mientras que la precisión no lo hará."
   ]
  },
  {
   "cell_type": "markdown",
   "id": "ecb74919-8df5-4ce5-9025-8bfa33c06e17",
   "metadata": {},
   "source": [
    "[[Volver]](#Contenido)"
   ]
  },
  {
   "cell_type": "markdown",
   "id": "89fd18c4-c990-47a4-9107-6bc36cf822a0",
   "metadata": {
    "slideshow": {
     "slide_type": "subslide"
    },
    "tags": []
   },
   "source": [
    "## <span style=\"color:blue\">Test</span>"
   ]
  },
  {
   "cell_type": "markdown",
   "id": "389062a8-989f-4c59-a20a-40f259649ed8",
   "metadata": {},
   "source": [
    "Veamos c+omo se comporta el modelo en el conjunto de datos Test:"
   ]
  },
  {
   "cell_type": "code",
   "execution_count": null,
   "id": "5a779684-a28e-49e9-ba35-3a7a82a15d76",
   "metadata": {},
   "outputs": [],
   "source": [
    "# Create a DataLoader to batch our test samples for us. We'll use a sequential\n",
    "# sampler this time--don't need this to be random!\n",
    "prediction_sampler = SequentialSampler(test_dataset)\n",
    "prediction_dataloader = DataLoader(test_dataset, sampler=prediction_sampler, batch_size=batch_size)\n",
    "\n",
    "print('Predicting labels for {:,} test sentences...'.format(len(test_dataset)))\n",
    "\n",
    "# Put model in evaluation mode\n",
    "model.eval()\n",
    "\n",
    "# Tracking variables \n",
    "predictions , true_labels = [], []\n",
    "\n",
    "# Predict \n",
    "for batch in prediction_dataloader:\n",
    "  # Add batch to GPU\n",
    "  batch = tuple(t.to(device) for t in batch)\n",
    "  \n",
    "  # Unpack the inputs from our dataloader\n",
    "  b_input_ids, b_input_mask, b_labels = batch\n",
    "  \n",
    "  # Telling the model not to compute or store gradients, saving memory and \n",
    "  # speeding up prediction\n",
    "  with torch.no_grad():\n",
    "      # Forward pass, calculate logit predictions.\n",
    "      result = model(b_input_ids, \n",
    "                     token_type_ids=None, \n",
    "                     attention_mask=b_input_mask,\n",
    "                     return_dict=True)\n",
    "\n",
    "  logits = result.logits\n",
    "\n",
    "  # Move logits and labels to CPU\n",
    "  logits = logits.detach().cpu().numpy()\n",
    "  label_ids = b_labels.to('cpu').numpy()\n",
    "  \n",
    "  # Store predictions and true labels\n",
    "  predictions.append(logits)\n",
    "  true_labels.append(label_ids)\n",
    "\n",
    "print('Hecho.')\n"
   ]
  },
  {
   "cell_type": "markdown",
   "id": "ae0aa9ee-0455-4c3c-8317-4ab2e56a974b",
   "metadata": {},
   "source": [
    "Debido a que las muestras de prueba se procesaron en lotes, se requiere un poco de reorganización para que los resultados vuelvan a ser una lista simple.\n",
    "\n",
    "Además, las predicciones actualmente son valores de punto flotante que representan confianzas, pero debemos convertirlos en etiquetas binarias (0 o 1)."
   ]
  },
  {
   "cell_type": "code",
   "execution_count": null,
   "id": "1bed39dd-d53d-487f-ab83-f2e19a29faad",
   "metadata": {},
   "outputs": [],
   "source": [
    "# Combine the results across all batches. \n",
    "flat_predictions = np.concatenate(predictions, axis=0)\n",
    "\n",
    "# For each sample, pick the label (0 or 1) with the higher score.\n",
    "flat_predictions = np.argmax(flat_predictions, axis=1).flatten()\n",
    "\n",
    "# Combine the correct labels for each batch into a single list.\n",
    "flat_true_labels = np.concatenate(true_labels, axis=0)"
   ]
  },
  {
   "cell_type": "code",
   "execution_count": null,
   "id": "af359aa2-3287-4c7c-b7c8-bfbe6b13ec23",
   "metadata": {},
   "outputs": [],
   "source": [
    "from sklearn.metrics import f1_score\n",
    "\n",
    "# Calculate the F1\n",
    "f1 = f1_score(flat_true_labels, flat_predictions)\n",
    "\n",
    "print('F1 Score: %.3f' % f1)"
   ]
  },
  {
   "cell_type": "markdown",
   "id": "dbf9e4e8-0aea-4a57-9122-2e4c481fba06",
   "metadata": {},
   "source": [
    "[[Volver]](#Contenido)"
   ]
  },
  {
   "cell_type": "markdown",
   "id": "dc69ea4d-4555-46a4-80bc-cdbf60ac18e7",
   "metadata": {
    "slideshow": {
     "slide_type": "subslide"
    },
    "tags": []
   },
   "source": [
    "## <span style=\"color:blue\">Conclusión</span>"
   ]
  },
  {
   "cell_type": "markdown",
   "id": "2ca111d5-0bbb-4ec3-ae27-77bd6c1cc618",
   "metadata": {},
   "source": [
    "Al simplemente convertir los features adicionales en texto parece ser una gran solución para este conjunto de datos. \n",
    "\n",
    "Esto se debe a que las características categóricas de este conjunto de datos se pueden convertir fácilmente en texto significativo que BERT puede aprovechar.\n",
    "\n",
    "Incluso la calificación, que técnicamente es una característica numérica, es bastante comprensible ya que solo hay 5 valores posibles.\n",
    "\n",
    "El [Multimodal-Toolkit](https://github.com/georgian-io/Multimodal-Toolkit) también incluye otros 2 conjuntos de datos en los que este enfoque (denominado \"unimodal\" en sus tablas de referencia) no obtiene la puntuación más alta. \n",
    "\n",
    "Podría imaginar cómo, si hay características de valor continuo (coma flotante) en el conjunto de datos que son muy significativas, podría ser difícil para BERT entenderlas como texto.\n",
    "\n",
    "Entonces la solución podría estar en hacer un modelo híbrido que reciba tanto texto como los features numéricos importantes al mismo tiempo\n",
    "\n",
    "**Reto:** Traducir el código anterior a Pytorch Lightning para aprovechar las TPU de Google Colab y posibles GPU adidicionales existentes."
   ]
  },
  {
   "cell_type": "markdown",
   "id": "2a8ed6c1-e6b9-4b59-8875-240ccc7ba106",
   "metadata": {},
   "source": [
    "[[Volver]](#Contenido)"
   ]
  }
 ],
 "metadata": {
  "kernelspec": {
   "display_name": "Python 3 (ipykernel)",
   "language": "python",
   "name": "python3"
  },
  "language_info": {
   "codemirror_mode": {
    "name": "ipython",
    "version": 3
   },
   "file_extension": ".py",
   "mimetype": "text/x-python",
   "name": "python",
   "nbconvert_exporter": "python",
   "pygments_lexer": "ipython3",
   "version": "3.9.12"
  }
 },
 "nbformat": 4,
 "nbformat_minor": 5
}
