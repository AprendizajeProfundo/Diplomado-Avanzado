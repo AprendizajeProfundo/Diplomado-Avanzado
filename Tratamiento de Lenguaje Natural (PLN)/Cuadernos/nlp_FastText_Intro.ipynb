{
 "cells": [
  {
   "cell_type": "markdown",
   "id": "ed579373-0237-47c7-bac0-df327165f0fb",
   "metadata": {
    "tags": []
   },
   "source": [
    "# <span style=\"color:green\"><center>Diplomado en Inteligencia Artificial y Aprendizaje Profundo</center></span>"
   ]
  },
  {
   "cell_type": "markdown",
   "id": "067f9282-4c82-4d4b-98f9-93b2028b6535",
   "metadata": {
    "tags": []
   },
   "source": [
    "# <span style=\"color:red\"><center>Introducción a FastText</center></span>"
   ]
  },
  {
   "cell_type": "markdown",
   "id": "8995cbdb-7711-4846-b7e7-ef6feb846a0c",
   "metadata": {},
   "source": [
    "<center>Library for efficient text classification and representation learning</center>"
   ]
  },
  {
   "cell_type": "markdown",
   "id": "26d4fa8b-e43d-476c-9eb3-60e229fccaa1",
   "metadata": {},
   "source": [
    "##   <span style=\"color:blue\">Profesores</span>"
   ]
  },
  {
   "cell_type": "markdown",
   "id": "d1d35956-c081-4d50-8b47-b1516900712c",
   "metadata": {},
   "source": [
    "1. Alvaro Mauricio Montenegro Díaz, ammontenegrod@unal.edu.co\n",
    "2. Daniel Mauricio Montenegro Reyes, dextronomo@gmail.com \n",
    "3. Campo Elías Pardo Turriago, cepardot@unal.edu.co "
   ]
  },
  {
   "cell_type": "markdown",
   "id": "c7d8c5e8-1302-4fa6-bd10-bea8064d8680",
   "metadata": {},
   "source": [
    "##   <span style=\"color:blue\">Asesora Medios y Marketing digital</span>\n",
    " "
   ]
  },
  {
   "cell_type": "markdown",
   "id": "fc912a37-b8a8-47f5-9dcd-5e764b8d17eb",
   "metadata": {},
   "source": [
    "4. Maria del Pilar Montenegro, pmontenegro88@gmail.com "
   ]
  },
  {
   "cell_type": "markdown",
   "id": "71796636-0712-4c57-8490-2bfffdbd8e92",
   "metadata": {},
   "source": [
    "## <span style=\"color:blue\">Asistentes</span>"
   ]
  },
  {
   "cell_type": "markdown",
   "id": "8078ddb6-7dfd-47f8-a2a0-c1d62d4beca8",
   "metadata": {},
   "source": [
    "5. Oleg Jarma, ojarmam@unal.edu.co \n",
    "6. Laura Lizarazo, ljlizarazore@unal.edu.co "
   ]
  },
  {
   "cell_type": "markdown",
   "id": "092a515e-0050-4a43-a94b-696c331fd8b2",
   "metadata": {},
   "source": [
    "## <span style=\"color:blue\">Referencias</span> "
   ]
  },
  {
   "cell_type": "markdown",
   "id": "8328e410-0067-4af5-8906-60b1658db2c6",
   "metadata": {},
   "source": [
    "1. P. Bojanowski*, E. Grave*, A. Joulin, T. Mikolov, [Enriching Word Vectors with Subword Information](https://arxiv.org/pdf/1607.04606.pdf)\n",
    "2. A. Joulin, E. Grave, P. Bojanowski, T. Mikolov, [Bag of Tricks for Efficient Text Classification](https://arxiv.org/pdf/1607.01759.pdf)\n",
    "3. A. Joulin, E. Grave, P. Bojanowski, M. Douze, H. Jégou, T. Mikolov, [FastText.zip: Compressing text classification models](https://arxiv.org/pdf/1612.03651.pdf)"
   ]
  },
  {
   "cell_type": "markdown",
   "id": "6dd985de-295f-43a5-84ae-976f47a40f2b",
   "metadata": {},
   "source": [
    "## <span style=\"color:blue\">Contenido</span>"
   ]
  },
  {
   "cell_type": "markdown",
   "id": "48a52b8a-4b57-45b2-92be-3eb2ab1babbd",
   "metadata": {},
   "source": [
    "* [Introducción](#Introducción)\n",
    "* [Instalación](#Instalación)\n",
    "* [Modelo No Supervisado](#Modelo-No-Suervisado)\n",
    "    * [Uso del Modelo (Toy Example)](#Uso-del-Modelo-\\(Toy-Example\\))\n",
    "        * [Jugando con los Parámetros](#Jugando-con-los-Parámetros)\n",
    "        * [Palabras vecinas más cercanas](#Palabras-vecinas-más-cercanas)\n",
    "    * [Uso del Modelo (Wikipedia)](#Uso-del-Modelo-(Wikipedia))\n",
    "        * [Preprocesamiento](#Preprocesamiento)\n",
    "        * [Entrenando el Modelo](#Entrenando-el-Modelo)\n",
    "        * [Palabras más cercanas](#Palabras-más-cercanas)\n",
    "        * [Curiosidades](#Curiosidades)\n",
    "        * [Analogía de Palabras](#Analogía-de-Palabras)\n",
    "* [Modelo Supervisado](#Modelo-Supervisado)\n",
    "    * [Uso del Modelo](#Uso-del-Modelo)\n",
    "    * [Mejorando el Modelo](#Mejorando-el-Modelo)\n",
    "    * [Autotuning de Parámtros](#Autotuning-de-Parámetros)"
   ]
  },
  {
   "cell_type": "markdown",
   "id": "116cd36d-400d-4d95-a4d2-2f75f440b48f",
   "metadata": {},
   "source": [
    "## <span style=\"color:blue\">Introducción</span>"
   ]
  },
  {
   "cell_type": "markdown",
   "id": "7aed1d13-ba1b-4290-b47f-7ccd527a182f",
   "metadata": {},
   "source": [
    "El modelo [FastText](https://fasttext.cc/) fue introducido por primera vez por Facebook en 2016 como una extensión y supuestamente una mejora del modelo vainilla de Word2Vec. \n",
    "\n",
    "Está basado en el artículo original titulado [Enriching Word Vectors with Subword Information](https://arxiv.org/pdf/1607.04606.pdf) de Mikolov et al. que es una lectura excelente para obtener una comprensión profunda de cómo funciona este modelo. En general, FastText es un marco para el aprendizaje de representaciones de palabras y también para realizar una clasificación de texto sólida, rápida y precisa. \n",
    "\n",
    "El marco es de código abierto de Facebook en GitHub y afirma tener lo siguiente.\n",
    "\n",
    "1. Vectores de palabras en inglés de última generación.\n",
    "2. Vectores de palabras para 157 idiomas entrenados en Wikipedia y rastreo.\n",
    "3. Modelos para identificación de idiomas y diversas tareas supervisadas.\n",
    "\n",
    "De acuedo con los autores,  en general, los modelos predictivos como el modelo *Word2Vec* suelen considerar cada palabra como una entidad distinta (por ejemplo, dónde) y generan una incrustación densa para la palabra. \n",
    "\n",
    "Sin embargo, esto representa una seria limitación con los idiomas que tienen un vocabulario masivo y muchas palabras raras que pueden no aparecer mucho en diferentes corpus. El modelo Word2Vec normalmente ignora la estructura morfológica de cada palabra y considera una palabra como una sola entidad. \n",
    "\n",
    "El modelo **FastText** considera cada palabra como una bolsa de n-gramas de caracteres. Esto también se denomina modelo de subpalabras en el documento.\n",
    "\n",
    "\n",
    "Se agregan símbolos de límites especiales <y> al principio y al final de las palabras. Esto  permite distinguir prefijos y sufijos de otras secuencias de caracteres. También incluiyen la propia palabra *w* en el conjunto de sus n-gramas, para aprender una representación de cada palabra (además de su carácter n-gramas). \n",
    "    \n",
    "    \n",
    "Tomando la palabra *where* y n = 3 (tri-gramas) como ejemplo, estará representada por el carácter n-gramas: <wh, whe, her, ere, re> y la secuencia especial <where> que representa la palabra completa . \n",
    "    \n",
    " Tenga en cuenta que la secuencia, correspondiente a la palabra <her> es diferente del trigrama ella de la palabra where.\n",
    "    \n",
    "En la práctica, el artículo recomienda extraer todos los n-gramas para $3\\le n \\le 6$ Este es un enfoque muy simple, y se podrían considerar diferentes conjuntos de n-gramas, por ejemplo, tomando todos los prefijos y sufijos. \n",
    "    \n",
    "Normalmente asociamos una representación vectorial (incrustación) a cada n-grama de una palabra. Por tanto, podemos representar una palabra mediante la suma de las representaciones vectoriales de sus n-gramas o el promedio de la incrustación de estos n-gramas. \n",
    "    \n",
    "Según los autores, debido a este efecto de aprovechar los n-gramas de palabras individuales basadas en sus caracteres, existe una mayor probabilidad de que las palabras raras obtengan una buena representación, ya que sus n-gramas basados en caracteres deben aparecer en otras palabras del corpus.\n",
    "    \n",
    "Vamos a la práctica."
   ]
  },
  {
   "cell_type": "markdown",
   "id": "14794e07-4318-4ec9-b6b3-b66c644699fe",
   "metadata": {},
   "source": [
    "[[Volver al inicio]](#Contenido)"
   ]
  },
  {
   "cell_type": "markdown",
   "id": "debc2c13-e6f0-4eeb-be52-fa1ffd82aeba",
   "metadata": {},
   "source": [
    "## <span style=\"color:blue\">Instalación</span>"
   ]
  },
  {
   "cell_type": "markdown",
   "id": "799b181b-4dac-4c0e-ab23-f94d30d49425",
   "metadata": {},
   "source": [
    "`$ git clone https://github.com/facebookresearch/fastText.git`\n",
    "\n",
    "`$ cd fastText`\n",
    "\n",
    "`$ sudo pip install .`\n",
    "\n",
    "`$ # or :`\n",
    "\n",
    "`$ sudo python setup.py install`"
   ]
  },
  {
   "cell_type": "markdown",
   "id": "ace4727b-3cbe-4032-ba2e-54c3c28c09eb",
   "metadata": {},
   "source": [
    "Si todo va bien, el siguiente comando debería funcionar:"
   ]
  },
  {
   "cell_type": "code",
   "execution_count": 1,
   "id": "6c6ae491-f39c-4961-b113-da6e7f762f3f",
   "metadata": {},
   "outputs": [],
   "source": [
    "import fasttext as ft"
   ]
  },
  {
   "cell_type": "code",
   "execution_count": 2,
   "id": "8af209fc-d056-4592-b42d-c048fe45f544",
   "metadata": {},
   "outputs": [
    {
     "name": "stdout",
     "output_type": "stream",
     "text": [
      "Help on module fasttext.FastText in fasttext:\n",
      "\n",
      "NAME\n",
      "    fasttext.FastText\n",
      "\n",
      "DESCRIPTION\n",
      "    # Copyright (c) 2017-present, Facebook, Inc.\n",
      "    # All rights reserved.\n",
      "    #\n",
      "    # This source code is licensed under the MIT license found in the\n",
      "    # LICENSE file in the root directory of this source tree.\n",
      "\n",
      "FUNCTIONS\n",
      "    cbow(*kargs, **kwargs)\n",
      "    \n",
      "    load_model(path)\n",
      "        Load a model given a filepath and return a model object.\n",
      "    \n",
      "    read_args(arg_list, arg_dict, arg_names, default_values)\n",
      "    \n",
      "    skipgram(*kargs, **kwargs)\n",
      "    \n",
      "    supervised(*kargs, **kwargs)\n",
      "    \n",
      "    tokenize(text)\n",
      "        Given a string of text, tokenize it and return a list of tokens\n",
      "    \n",
      "    train_supervised(*kargs, **kwargs)\n",
      "        Train a supervised model and return a model object.\n",
      "        \n",
      "        input must be a filepath. The input text does not need to be tokenized\n",
      "        as per the tokenize function, but it must be preprocessed and encoded\n",
      "        as UTF-8. You might want to consult standard preprocessing scripts such\n",
      "        as tokenizer.perl mentioned here: http://www.statmt.org/wmt07/baseline.html\n",
      "        \n",
      "        The input file must must contain at least one label per line. For an\n",
      "        example consult the example datasets which are part of the fastText\n",
      "        repository such as the dataset pulled by classification-example.sh.\n",
      "    \n",
      "    train_unsupervised(*kargs, **kwargs)\n",
      "        Train an unsupervised model and return a model object.\n",
      "        \n",
      "        input must be a filepath. The input text does not need to be tokenized\n",
      "        as per the tokenize function, but it must be preprocessed and encoded\n",
      "        as UTF-8. You might want to consult standard preprocessing scripts such\n",
      "        as tokenizer.perl mentioned here: http://www.statmt.org/wmt07/baseline.html\n",
      "        \n",
      "        The input field must not contain any labels or use the specified label prefix\n",
      "        unless it is ok for those words to be ignored. For an example consult the\n",
      "        dataset pulled by the example script word-vector-example.sh, which is\n",
      "        part of the fastText repository.\n",
      "\n",
      "DATA\n",
      "    BOW = '<'\n",
      "    EOS = '</s>'\n",
      "    EOW = '>'\n",
      "    absolute_import = _Feature((2, 5, 0, 'alpha', 1), (3, 0, 0, 'alpha', 0...\n",
      "    displayed_errors = {}\n",
      "    division = _Feature((2, 2, 0, 'alpha', 2), (3, 0, 0, 'alpha', 0), 1310...\n",
      "    print_function = _Feature((2, 6, 0, 'alpha', 2), (3, 0, 0, 'alpha', 0)...\n",
      "    unicode_literals = _Feature((2, 6, 0, 'alpha', 2), (3, 0, 0, 'alpha', ...\n",
      "    unsupervised_default = {'autotuneDuration': 300, 'autotuneMetric': 'f1...\n",
      "\n",
      "FILE\n",
      "    /Users/moury/miniforge3/envs/impertinencias/lib/python3.10/site-packages/fasttext-0.9.2-py3.10-macosx-11.0-arm64.egg/fasttext/FastText.py\n",
      "\n",
      "\n"
     ]
    }
   ],
   "source": [
    "help(ft.FastText)"
   ]
  },
  {
   "cell_type": "code",
   "execution_count": 3,
   "id": "24a512bd-4a33-4d46-ab5f-d0614584be60",
   "metadata": {},
   "outputs": [
    {
     "data": {
      "text/plain": [
       "['BOW',\n",
       " 'EOS',\n",
       " 'EOW',\n",
       " 'FastText',\n",
       " '__builtins__',\n",
       " '__cached__',\n",
       " '__doc__',\n",
       " '__file__',\n",
       " '__loader__',\n",
       " '__name__',\n",
       " '__package__',\n",
       " '__path__',\n",
       " '__spec__',\n",
       " 'absolute_import',\n",
       " 'cbow',\n",
       " 'division',\n",
       " 'load_model',\n",
       " 'print_function',\n",
       " 'skipgram',\n",
       " 'supervised',\n",
       " 'tokenize',\n",
       " 'train_supervised',\n",
       " 'train_unsupervised',\n",
       " 'unicode_literals']"
      ]
     },
     "execution_count": 3,
     "metadata": {},
     "output_type": "execute_result"
    }
   ],
   "source": [
    "dir(ft)"
   ]
  },
  {
   "cell_type": "markdown",
   "id": "ea770254-4538-4833-b3d5-aacc32289670",
   "metadata": {},
   "source": [
    "Como podemos observar, contamos con dos modelos: **unsupervised** y **supervised**.\n",
    "\n",
    "Veamos cómo funcionan."
   ]
  },
  {
   "cell_type": "markdown",
   "id": "aba0f416-2aa7-4e89-992d-73a7241c1b48",
   "metadata": {},
   "source": [
    "[[Volver al inicio]](#Contenido)"
   ]
  },
  {
   "cell_type": "markdown",
   "id": "7a0a7033-485e-4466-b954-e0f8303aed4c",
   "metadata": {},
   "source": [
    "## Modelo No Supervisado"
   ]
  },
  {
   "cell_type": "markdown",
   "id": "5977c7fb-b8a6-4a41-817a-5b7c22b5067d",
   "metadata": {},
   "source": [
    "Para este ejemplo de juguete, usemos los poemas de Daniel."
   ]
  },
  {
   "cell_type": "markdown",
   "id": "35a9f3f4-9374-45bb-8658-d09174a549ac",
   "metadata": {},
   "source": [
    "## Uso del Modelo (Toy Example)"
   ]
  },
  {
   "cell_type": "code",
   "execution_count": 4,
   "id": "28ea8200-868e-4886-af1a-33f230aee5d0",
   "metadata": {},
   "outputs": [
    {
     "name": "stderr",
     "output_type": "stream",
     "text": [
      "Read 0M words\n",
      "Number of words:  184\n",
      "Number of labels: 0\n",
      "Progress: 100.0% words/sec/thread:   65429 lr:  0.000000 avg.loss:  4.118722 ETA:   0h 0m 0s\n"
     ]
    }
   ],
   "source": [
    "model = ft.train_unsupervised('Poemas_Todo.txt')"
   ]
  },
  {
   "cell_type": "markdown",
   "id": "593a0f9d-71f7-4c0f-9b7e-cc9c4fe2b378",
   "metadata": {},
   "source": [
    "Veamos qué tiene el modelo por dentro:"
   ]
  },
  {
   "cell_type": "code",
   "execution_count": 5,
   "id": "dad67c80-bdbe-43fb-b3a0-da1b9d0b5007",
   "metadata": {},
   "outputs": [
    {
     "data": {
      "text/plain": [
       "['__class__',\n",
       " '__contains__',\n",
       " '__delattr__',\n",
       " '__dict__',\n",
       " '__dir__',\n",
       " '__doc__',\n",
       " '__eq__',\n",
       " '__format__',\n",
       " '__ge__',\n",
       " '__getattribute__',\n",
       " '__getitem__',\n",
       " '__gt__',\n",
       " '__hash__',\n",
       " '__init__',\n",
       " '__init_subclass__',\n",
       " '__le__',\n",
       " '__lt__',\n",
       " '__module__',\n",
       " '__ne__',\n",
       " '__new__',\n",
       " '__reduce__',\n",
       " '__reduce_ex__',\n",
       " '__repr__',\n",
       " '__setattr__',\n",
       " '__sizeof__',\n",
       " '__str__',\n",
       " '__subclasshook__',\n",
       " '__weakref__',\n",
       " '_labels',\n",
       " '_words',\n",
       " 'bucket',\n",
       " 'dim',\n",
       " 'epoch',\n",
       " 'f',\n",
       " 'get_analogies',\n",
       " 'get_dimension',\n",
       " 'get_input_matrix',\n",
       " 'get_input_vector',\n",
       " 'get_label_id',\n",
       " 'get_labels',\n",
       " 'get_line',\n",
       " 'get_meter',\n",
       " 'get_nearest_neighbors',\n",
       " 'get_output_matrix',\n",
       " 'get_sentence_vector',\n",
       " 'get_subword_id',\n",
       " 'get_subwords',\n",
       " 'get_word_id',\n",
       " 'get_word_vector',\n",
       " 'get_words',\n",
       " 'is_quantized',\n",
       " 'label',\n",
       " 'labels',\n",
       " 'loss',\n",
       " 'lr',\n",
       " 'lrUpdateRate',\n",
       " 'maxn',\n",
       " 'minCount',\n",
       " 'minCountLabel',\n",
       " 'minn',\n",
       " 'neg',\n",
       " 'predict',\n",
       " 'pretrainedVectors',\n",
       " 'quantize',\n",
       " 'save_model',\n",
       " 'set_args',\n",
       " 'set_matrices',\n",
       " 't',\n",
       " 'test',\n",
       " 'test_label',\n",
       " 'thread',\n",
       " 'verbose',\n",
       " 'wordNgrams',\n",
       " 'words',\n",
       " 'ws']"
      ]
     },
     "execution_count": 5,
     "metadata": {},
     "output_type": "execute_result"
    }
   ],
   "source": [
    "dir(model)"
   ]
  },
  {
   "cell_type": "code",
   "execution_count": 6,
   "id": "1c5dea40-2f7d-46f9-a6f4-8b5e2cafc71d",
   "metadata": {},
   "outputs": [
    {
     "name": "stdout",
     "output_type": "stream",
     "text": [
      "['</s>', 'y', 'de', 'que', 'la', 'el', 'en', 'las', 'con', 'los', 'por', 'un', 'se', 'tu', 'a', 'del', 'una', 'no', 'mi', 'es', 'te', 'me', 'como', 'su', 'mis', 'para', 'sin', 'tus', 'entre', 'porque', 'lo', 'más', 'sus', 'nos', 'noche', 'ese', 'cada', 'pero', 'al', 'hasta', 'todo', 'manos', 'cielo', 'Y', 'día', 'cuerpo', 'ojos', 'sueño', 'ni', 'son', 'cuando', 'ser', 'qué', 'Me', 'palabras', 'le', 'labios', 'Te', 'ya', 'o', 'cosas', 'mundo', 'si', 'mujer', 'sobre', 'cuerpos', 'vida', 'eres', 'luna', 'esa', 'este', 'toda', 'piel,', 'En', 'sólo', 'jamás', 'donde', 'amor', 'sueños', 'va', 'hay', 'Ese', 'siempre', 'e', 'Es', 'frío', 'La', 'puedo', 'tan', 'deseo', 'lleno', 'rostro', 'visto', 'he', 'dos', 'sueños,', 'quien', 'ha', 'noche,', 'imagen', 'Yo', 'nuestra', 'gusta', 'contra', 'He', 'nubes', 'pasión', 'mar', 'aire', 'esperar', 'volando', 'misma', 'dulce', 'vez', 'lejos', 'tiempo', 'brisa', 'aún', 'El', 'dónde', 'abismo', 'veces', 'música', 'ésta', 'piel', 'hacia', 'letras', 'ante', 'ojos,', 'besos', 'mirando', 'nuestro', 'así', 'somos', 'colores', 'apenas', 'éste', 'mismo', 'entonces', 'cara', 'formas', 'alma', 'profundo', 'desde', 'yo', 'soy', 'bajo', 'busco', 'tí,', 'Un', 'ideas', 'lugar', 'seres', 'brazos,', 'polvo', 'veo', 'No', 'ver', 'Vivo', 'A', 'sirve', 'sol', 'agua', 'casi', 'algún', 'tí', 'mientras', 'frase', 'mano', 'hace', 'dame', 'colores,', 'luces', 'luz', 'mí', 'esperando', 'emociones', 'caricias', 'permanente', 'Déjame', 'quiero', 'fue', 'suaves', 'sonido']\n"
     ]
    }
   ],
   "source": [
    "print(model.words)"
   ]
  },
  {
   "cell_type": "code",
   "execution_count": 7,
   "id": "da5a5320-6c21-4f56-9cbe-a5376958174c",
   "metadata": {},
   "outputs": [
    {
     "data": {
      "text/plain": [
       "184"
      ]
     },
     "execution_count": 7,
     "metadata": {},
     "output_type": "execute_result"
    }
   ],
   "source": [
    "len(model.words)"
   ]
  },
  {
   "cell_type": "code",
   "execution_count": 8,
   "id": "0bd75fcc-d16a-44bb-8113-04e3ae579552",
   "metadata": {},
   "outputs": [
    {
     "data": {
      "text/plain": [
       "array([ 3.70543962e-03,  8.37066956e-03, -5.50515437e-03, -1.24249607e-04,\n",
       "        2.42939778e-03,  1.55407120e-03, -1.08765345e-03, -3.81100061e-03,\n",
       "        1.01086097e-02,  5.31225419e-03, -4.43909131e-03,  2.28441597e-04,\n",
       "       -7.25109538e-04,  4.66341013e-03, -3.68466972e-05, -1.87909952e-03,\n",
       "        9.05735709e-04,  3.71828605e-03, -2.06560642e-03, -6.25834754e-03,\n",
       "       -1.03769416e-03,  4.45846061e-04,  4.55524353e-03, -1.50300446e-03,\n",
       "        3.41521646e-03, -3.51131149e-03,  5.83332847e-04, -8.67802883e-04,\n",
       "       -2.16151448e-03,  2.36369530e-03, -9.19947214e-03, -2.07637064e-03,\n",
       "        8.52814002e-04, -2.41027959e-03, -1.15303211e-02, -7.64431199e-03,\n",
       "       -1.18330074e-03,  1.62962254e-03, -4.67444956e-03, -9.65831615e-03,\n",
       "        1.58754108e-03,  7.66551169e-03,  2.37135566e-03,  4.65557165e-03,\n",
       "       -4.28355881e-04, -5.12372050e-03,  6.79135206e-04, -1.44966587e-03,\n",
       "       -3.05020204e-03,  4.13821964e-03, -5.80588216e-03,  5.08889370e-03,\n",
       "       -1.52134825e-03,  4.22689086e-03,  1.25596335e-03, -4.01819032e-03,\n",
       "       -3.68661713e-03, -5.99279359e-04,  1.99793535e-03,  9.25289374e-03,\n",
       "       -3.55801685e-03,  6.36295415e-03,  1.08154844e-02,  2.25974480e-03,\n",
       "       -2.79875984e-03,  3.24897794e-03, -4.76871058e-03,  4.56008827e-03,\n",
       "        4.89121163e-03,  3.16283759e-03, -4.36968636e-03,  8.28509964e-03,\n",
       "        6.42280374e-03,  1.31064875e-03, -6.09720591e-03,  1.22815336e-03,\n",
       "        1.13256108e-02,  4.69434587e-03,  1.29487587e-03, -3.97395669e-03,\n",
       "       -5.74968196e-03,  1.95662375e-03,  8.50631949e-03, -4.85884957e-03,\n",
       "        2.64058565e-03, -4.64042928e-03, -5.40790730e-04,  5.33305760e-03,\n",
       "       -4.38782573e-03, -3.52200051e-03,  1.38505865e-02,  6.44145627e-03,\n",
       "        1.21967522e-02, -5.53641422e-03,  1.61109504e-03, -6.33485196e-03,\n",
       "        6.36053970e-03,  3.65184573e-03, -1.82133971e-03, -9.00177518e-04],\n",
       "      dtype=float32)"
      ]
     },
     "execution_count": 8,
     "metadata": {},
     "output_type": "execute_result"
    }
   ],
   "source": [
    "soy_vector = model.get_word_vector(\"soy\")\n",
    "soy_vector"
   ]
  },
  {
   "cell_type": "code",
   "execution_count": 9,
   "id": "c07ed896-c93e-4e36-ad25-1f1a82c608ac",
   "metadata": {},
   "outputs": [
    {
     "data": {
      "text/plain": [
       "(100,)"
      ]
     },
     "execution_count": 9,
     "metadata": {},
     "output_type": "execute_result"
    }
   ],
   "source": [
    "soy_vector.shape"
   ]
  },
  {
   "cell_type": "code",
   "execution_count": 10,
   "id": "23e7dd18-88e8-4270-9fd5-a5156560688b",
   "metadata": {},
   "outputs": [],
   "source": [
    "model.save_model(\"Poemas.bin\")"
   ]
  },
  {
   "cell_type": "code",
   "execution_count": 11,
   "id": "89f7fb4e-0834-4e1f-b024-0f8e9ac9c17c",
   "metadata": {},
   "outputs": [],
   "source": [
    "model = ft.load_model(\"Poemas.bin\")"
   ]
  },
  {
   "cell_type": "markdown",
   "id": "007e969f-e4d4-47fa-b5c6-4fdb0e62a0b4",
   "metadata": {},
   "source": [
    "Por defecto, el modelo entrenado es skipgram, pero también tenemos disponible la arquitectura cbow.\n",
    "\n",
    "![ft](https://fasttext.cc/img/cbo_vs_skipgram.png)\n",
    "\n",
    "Fuente: [FastText, Word Representations](https://fasttext.cc/docs/en/unsupervised-tutorial.html)"
   ]
  },
  {
   "cell_type": "code",
   "execution_count": 12,
   "id": "9b18a727-05e4-489d-94a9-ad10191dbf05",
   "metadata": {},
   "outputs": [],
   "source": [
    "# model_cbow = fasttext.train_unsupervised('../Datos/Poemas_Todo.txt', \"cbow\")"
   ]
  },
  {
   "cell_type": "markdown",
   "id": "8567ad9d-265c-4547-b8ab-daa9d5fffad2",
   "metadata": {},
   "source": [
    "En palabras de Facebook,\n",
    "\n",
    "***In practice, we observe that skipgram models works better with subword information than cbow.***"
   ]
  },
  {
   "cell_type": "markdown",
   "id": "97e576af-a6f9-4f0e-87bb-65f6ca567e67",
   "metadata": {},
   "source": [
    "[[Volver al inicio]](#Contenido)"
   ]
  },
  {
   "cell_type": "markdown",
   "id": "c5f2fddb-a296-487e-b4f2-979387ca43ed",
   "metadata": {},
   "source": [
    "### Jugando con los Parámetros "
   ]
  },
  {
   "cell_type": "markdown",
   "id": "8f09f0c5-f2cc-4de4-9052-f88541bfa0f0",
   "metadata": {},
   "source": [
    "Dependiendo del problema, puede ser que los parámetros por defecto no sean los más adecuados.\n",
    "\n",
    "Para conocer todos los parámetros de FastText, podemos ingresar [aquí](https://fasttext.cc/docs/en/python-module.html#train_unsupervised-parameters)\n",
    "\n",
    "Por ejemplo, modifiquemos los parámetros **mínimos** y **máximos** de lo n-gramas permitidos, la **dimensión** del vector, las **epochs** y la frecuencia mínima de palabras:"
   ]
  },
  {
   "cell_type": "code",
   "execution_count": 13,
   "id": "ddba46b5-f09c-4a9e-871c-d007359879df",
   "metadata": {},
   "outputs": [],
   "source": [
    "import fasttext as ft"
   ]
  },
  {
   "cell_type": "code",
   "execution_count": 14,
   "id": "172df83d-30c9-4212-98f1-f9ce4d9e7cc2",
   "metadata": {},
   "outputs": [
    {
     "name": "stderr",
     "output_type": "stream",
     "text": [
      "Read 0M words\n",
      "Number of words:  846\n",
      "Number of labels: 0\n",
      "Progress: 100.0% words/sec/thread:   32835 lr:  0.000000 avg.loss:  3.358345 ETA:   0h 0m 0s\n"
     ]
    }
   ],
   "source": [
    "model = ft.train_unsupervised('Poemas_Todo.txt', minCount=2, minn=2, maxn=5, dim=300)"
   ]
  },
  {
   "cell_type": "markdown",
   "id": "dd52a9ea-2b7a-4ddc-a007-57e8338c8a47",
   "metadata": {},
   "source": [
    "Verifiquemos la longitud de las palabras:"
   ]
  },
  {
   "cell_type": "code",
   "execution_count": 15,
   "id": "dd4f71e5-5220-4283-aae0-176f056a3647",
   "metadata": {},
   "outputs": [
    {
     "data": {
      "text/plain": [
       "(300,)"
      ]
     },
     "execution_count": 15,
     "metadata": {},
     "output_type": "execute_result"
    }
   ],
   "source": [
    "model.get_word_vector(\"soy\").shape"
   ]
  },
  {
   "cell_type": "markdown",
   "id": "e3ae236b-6b61-48f3-90f6-b38982d5b14d",
   "metadata": {},
   "source": [
    "[[Volver al inicio]](#Contenido)"
   ]
  },
  {
   "cell_type": "markdown",
   "id": "77a92f92-2b66-4adb-87fd-d424558379bf",
   "metadata": {},
   "source": [
    "### Palabras vecinas más cercanas"
   ]
  },
  {
   "cell_type": "markdown",
   "id": "ba27aa9c-16e0-48c6-9cf4-767c0a191323",
   "metadata": {},
   "source": [
    "Como cada palabra en el corpus tiene un vector asociado, podemos obtener palabras cercanas usando la similaridad de coseno:"
   ]
  },
  {
   "cell_type": "code",
   "execution_count": 16,
   "id": "2b11bc88-da13-4066-9d20-6e629c022b46",
   "metadata": {},
   "outputs": [
    {
     "data": {
      "text/plain": [
       "[(0.9999974966049194, 'sueños,'),\n",
       " (0.9999974966049194, 'sueño,'),\n",
       " (0.9999974966049194, 'sueños'),\n",
       " (0.9999962449073792, 'pequeño'),\n",
       " (0.9999961853027344, 'suelo'),\n",
       " (0.9999958276748657, 'pensamiento'),\n",
       " (0.9999958276748657, 'suelo,'),\n",
       " (0.9999954700469971, 'pensamiento,'),\n",
       " (0.9999954700469971, 'esta'),\n",
       " (0.9999953508377075, 'colores,'),\n",
       " (0.9999953508377075, 'suerte'),\n",
       " (0.9999953508377075, 'siento'),\n",
       " (0.9999952912330627, 'contaminadas'),\n",
       " (0.9999952912330627, 'aliento'),\n",
       " (0.9999951720237732, 'entonces,'),\n",
       " (0.9999951720237732, 'pequeñas'),\n",
       " (0.9999951720237732, 'pensamientos'),\n",
       " (0.9999951720237732, 'queriendo'),\n",
       " (0.9999951124191284, 'pequeños'),\n",
       " (0.9999951124191284, 'aquello')]"
      ]
     },
     "execution_count": 16,
     "metadata": {},
     "output_type": "execute_result"
    }
   ],
   "source": [
    " model.get_nearest_neighbors('sueño',k=20)"
   ]
  },
  {
   "cell_type": "markdown",
   "id": "91401eda-3484-4ba6-8c3e-8f382a349943",
   "metadata": {},
   "source": [
    "### Visualización de Embeddings de Palabras"
   ]
  },
  {
   "cell_type": "code",
   "execution_count": 69,
   "id": "b5b603df-f16d-4994-8d32-f90408dae67d",
   "metadata": {},
   "outputs": [
    {
     "data": {
      "image/png": "[encoded data removed]",
      "text/plain": [
       "<Figure size 1296x504 with 1 Axes>"
      ]
     },
     "metadata": {
      "needs_background": "light"
     },
     "output_type": "display_data"
    }
   ],
   "source": [
    "from sklearn.decomposition import PCA\n",
    "import numpy as np\n",
    "import matplotlib.pyplot as plt\n",
    "\n",
    "p = model.get_nearest_neighbors('sueño',k=15)\n",
    "similar_words = [x[1] for x in p]\n",
    "wvs = np.array([model.get_word_vector(sw) for sw in similar_words])\n",
    "\n",
    "pca = PCA(n_components=2)\n",
    "P = pca.fit_transform(wvs)\n",
    "labels = similar_words\n",
    "\n",
    "plt.figure(figsize=(18, 7))\n",
    "plt.scatter(P[:, 0], P[:, 1], c='lightgreen', edgecolors='b')\n",
    "plt.title('Visualización con PCA')\n",
    "\n",
    "eps = 0.5e12*np.finfo(float).eps\n",
    "for label, x, y in zip(labels, P[:, 0], P[:, 1]):\n",
    "    plt.annotate(label, xy=(x+eps, y+eps), xytext=(0, 0), textcoords='offset points')"
   ]
  },
  {
   "cell_type": "code",
   "execution_count": 67,
   "id": "466fcaea-5b9f-4d7e-bbca-4b99dc73776d",
   "metadata": {},
   "outputs": [
    {
     "name": "stderr",
     "output_type": "stream",
     "text": [
      "/Users/moury/miniforge3/envs/impertinencias/lib/python3.10/site-packages/sklearn/manifold/_t_sne.py:982: FutureWarning: The PCA initialization in TSNE will change to have the standard deviation of PC1 equal to 1e-4 in 1.2. This will ensure better convergence.\n",
      "  warnings.warn(\n"
     ]
    },
    {
     "data": {
      "image/png": "[encoded data removed]",
      "text/plain": [
       "<Figure size 1296x504 with 1 Axes>"
      ]
     },
     "metadata": {
      "needs_background": "light"
     },
     "output_type": "display_data"
    }
   ],
   "source": [
    "%matplotlib tk\n",
    "%matplotlib inline\n",
    "# visualize embeddings\n",
    "from sklearn.manifold import TSNE\n",
    "\n",
    "p = model.get_nearest_neighbors('sueño',k=15)\n",
    "similar_words = [x[1] for x in p]\n",
    "wvs = np.array([model.get_word_vector(sw) for sw in similar_words])\n",
    "\n",
    "tsne = TSNE(n_components=2, random_state=200, n_iter=5000, perplexity=2,learning_rate='auto',init='pca')\n",
    "P = tsne.fit_transform(wvs)\n",
    "labels = similar_words\n",
    "\n",
    "plt.figure(figsize=(18, 7))\n",
    "plt.scatter(P[:, 0], P[:, 1], c='lightgreen', edgecolors='b')\n",
    "plt.title('Visualización con TSNE')\n",
    "\n",
    "eps = 1e16*np.finfo(float).eps\n",
    "for label, x, y in zip(labels, P[:, 0], P[:, 1]):\n",
    "    plt.annotate(label, xy=(x+eps, y+eps), xytext=(0, 0), textcoords='offset points')"
   ]
  },
  {
   "cell_type": "markdown",
   "id": "a86ae769-7e23-44fd-9265-47c946670a16",
   "metadata": {},
   "source": [
    "### Visualización de Embeddings de Textos"
   ]
  },
  {
   "cell_type": "code",
   "execution_count": 70,
   "id": "e25cf6dc-38e4-421a-b11e-c9cb4f3ab69f",
   "metadata": {},
   "outputs": [
    {
     "data": {
      "image/png": "[encoded data removed]",
      "text/plain": [
       "<Figure size 1296x504 with 1 Axes>"
      ]
     },
     "metadata": {
      "needs_background": "light"
     },
     "output_type": "display_data"
    }
   ],
   "source": [
    "textos = ['Esta mañana está muy soleada',\n",
    "         'Petro jamás ganará',\n",
    "         'Fico jamás ganará la presidencia',\n",
    "         'No quiero ir a votar',\n",
    "         'Quiero ir a votar',\n",
    "         'Me gusta el sol',\n",
    "         'Aprendizaje Profundo dominará el mundo']\n",
    "\n",
    "wvs = np.array([model.get_sentence_vector(t) for t in textos])\n",
    "\n",
    "pca = PCA(n_components=2)\n",
    "P = pca.fit_transform(wvs)\n",
    "labels = textos\n",
    "\n",
    "plt.figure(figsize=(18, 7))\n",
    "plt.scatter(P[:, 0], P[:, 1], c='red', edgecolors='k')\n",
    "plt.title('Visualización con PCA')\n",
    "\n",
    "eps = 1e11*np.finfo(float).eps\n",
    "for label, x, y in zip(labels, P[:, 0], P[:, 1]):\n",
    "    plt.annotate(label, xy=(x+eps, y+eps), xytext=(0, 0), textcoords='offset points')\n",
    "    "
   ]
  },
  {
   "cell_type": "code",
   "execution_count": 73,
   "id": "6abf8876-0b6a-4b82-aeec-c0dfef13863c",
   "metadata": {},
   "outputs": [
    {
     "name": "stderr",
     "output_type": "stream",
     "text": [
      "/Users/moury/miniforge3/envs/impertinencias/lib/python3.10/site-packages/sklearn/manifold/_t_sne.py:982: FutureWarning: The PCA initialization in TSNE will change to have the standard deviation of PC1 equal to 1e-4 in 1.2. This will ensure better convergence.\n",
      "  warnings.warn(\n"
     ]
    },
    {
     "data": {
      "image/png": "[encoded data removed]",
      "text/plain": [
       "<Figure size 1296x504 with 1 Axes>"
      ]
     },
     "metadata": {
      "needs_background": "light"
     },
     "output_type": "display_data"
    }
   ],
   "source": [
    "textos = ['Esta mañana está muy soleada',\n",
    "         'Petro jamás ganará',\n",
    "         'Fico jamás ganará la presidencia',\n",
    "         'No quiero ir a votar',\n",
    "         'Quiero ir a votar',\n",
    "         'Me gusta el sol',\n",
    "         'Aprendizaje Profundo dominará el mundo']\n",
    "\n",
    "wvs = np.array([model.get_sentence_vector(t) for t in textos])\n",
    "\n",
    "tsne = TSNE(n_components=2, random_state=200, n_iter=5000, perplexity=2,learning_rate='auto',init='pca')\n",
    "P = tsne.fit_transform(wvs)\n",
    "labels = textos\n",
    "\n",
    "plt.figure(figsize=(18, 7))\n",
    "plt.scatter(P[:, 0], P[:, 1], c='r', edgecolors='k')\n",
    "plt.title('Visualización con TSNE')\n",
    "\n",
    "eps = 1e16*np.finfo(float).eps\n",
    "for label, x, y in zip(labels, P[:, 0], P[:, 1]):\n",
    "    plt.annotate(label, xy=(x+eps, y+eps), xytext=(0, 0), textcoords='offset points')"
   ]
  },
  {
   "cell_type": "markdown",
   "id": "6f334fe7-c059-4b09-abbe-d5421a656d02",
   "metadata": {},
   "source": [
    "[[Volver al inicio]](#Contenido)"
   ]
  },
  {
   "cell_type": "markdown",
   "id": "a4395285-fa7d-4b82-867a-502d79aeee27",
   "metadata": {},
   "source": [
    "### Usando Modelos Pre-entrados en Español"
   ]
  },
  {
   "cell_type": "code",
   "execution_count": 24,
   "id": "e348d864-1f03-42c7-a9d4-85951d7a0efd",
   "metadata": {},
   "outputs": [],
   "source": [
    "model_es = ft.load_model('cc.es.300.bin')"
   ]
  },
  {
   "cell_type": "code",
   "execution_count": 25,
   "id": "d1da4237-3d07-4163-8401-e61f4b9d4e7f",
   "metadata": {},
   "outputs": [
    {
     "data": {
      "text/plain": [
       "[(0.7171677947044373, 'sueños'),\n",
       " (0.7092401385307312, 'sueno'),\n",
       " (0.6959096789360046, 'sueño.El'),\n",
       " (0.6859577298164368, 'sueño.Y'),\n",
       " (0.6825155019760132, 'Sueño'),\n",
       " (0.6815561652183533, 'sueño.La'),\n",
       " (0.6758346557617188, 'sueño.Pero'),\n",
       " (0.6724787950515747, 'sueño.A'),\n",
       " (0.6669973134994507, 'sueño.Es'),\n",
       " (0.6650846600532532, 'sueñoUn'),\n",
       " (0.6573185920715332, 'elsueño'),\n",
       " (0.6529608964920044, 'sueño.Un'),\n",
       " (0.6516568064689636, 'sueñ'),\n",
       " (0.6469879746437073, 'sueño.En'),\n",
       " (0.6467815637588501, 'sueñoEn')]"
      ]
     },
     "execution_count": 25,
     "metadata": {},
     "output_type": "execute_result"
    }
   ],
   "source": [
    "# TAKES TIME! DONT RUN IT IN CLASS\n",
    "model_es.get_nearest_neighbors('sueño',k=15)"
   ]
  },
  {
   "cell_type": "code",
   "execution_count": 74,
   "id": "c3592835-98c1-40b1-904e-6eb178d87743",
   "metadata": {},
   "outputs": [
    {
     "data": {
      "image/png": "[encoded data removed]",
      "text/plain": [
       "<Figure size 1296x504 with 1 Axes>"
      ]
     },
     "metadata": {
      "needs_background": "light"
     },
     "output_type": "display_data"
    }
   ],
   "source": [
    "textos = ['Esta mañana está muy soleada',\n",
    "         'Petro jamás ganará',\n",
    "         'Fico jamás ganará la presidencia',\n",
    "         'No quiero ir a votar',\n",
    "         'Quiero ir a votar',\n",
    "         'Me gusta el sol',\n",
    "         'Aprendizaje Profundo dominará el mundo']\n",
    "\n",
    "wvs = np.array([model_es.get_sentence_vector(t) for t in textos])\n",
    "\n",
    "pca = PCA(n_components=2)\n",
    "P = pca.fit_transform(wvs)\n",
    "labels = textos\n",
    "\n",
    "plt.figure(figsize=(18, 7))\n",
    "plt.scatter(P[:, 0], P[:, 1], c='red', edgecolors='k')\n",
    "plt.title('Visualización con PCA')\n",
    "\n",
    "eps = 1e13*np.finfo(float).eps\n",
    "for label, x, y in zip(labels, P[:, 0], P[:, 1]):\n",
    "    plt.annotate(label, xy=(x+eps, y+eps), xytext=(0, 0), textcoords='offset points')"
   ]
  },
  {
   "cell_type": "markdown",
   "id": "b7b98e4c-812c-4d21-b162-339fbd3db9c3",
   "metadata": {},
   "source": [
    "### Re-entrenando Embedding "
   ]
  },
  {
   "cell_type": "markdown",
   "id": "d0fc70cb-08f4-4177-96d3-655681f86ffc",
   "metadata": {},
   "source": [
    "### <span style=\"color:red\">¡NO CORRER DE MANERA LOCAL A MENOS QUE TENGA SUFICIENTE MEMORIA RAM!</span>"
   ]
  },
  {
   "cell_type": "code",
   "execution_count": null,
   "id": "30f77aeb-0c4e-48c6-bf43-f978e372a847",
   "metadata": {},
   "outputs": [],
   "source": [
    "#model_transfer_learning_es = ft.train_unsupervised('Poemas_Todo.txt', minCount=2, minn=2, maxn=5, dim=300,pretrainedVectors='cc.es.300.vec')"
   ]
  },
  {
   "cell_type": "markdown",
   "id": "927c6505-0303-4251-9cf7-cb2b6a4c304f",
   "metadata": {},
   "source": [
    "### Bonus: Transformers "
   ]
  },
  {
   "cell_type": "code",
   "execution_count": 35,
   "id": "87a2d5d2-981d-4489-8800-a787e45de5eb",
   "metadata": {},
   "outputs": [],
   "source": [
    "from sentence_transformers import SentenceTransformer\n",
    "\n",
    "model_tr_es = SentenceTransformer('hiiamsid/sentence_similarity_spanish_es')"
   ]
  },
  {
   "cell_type": "code",
   "execution_count": 76,
   "id": "7dc1092c-97c8-4176-90b7-ee87b40ca136",
   "metadata": {},
   "outputs": [
    {
     "data": {
      "image/png": "[encoded data removed]",
      "text/plain": [
       "<Figure size 1296x504 with 1 Axes>"
      ]
     },
     "metadata": {
      "needs_background": "light"
     },
     "output_type": "display_data"
    }
   ],
   "source": [
    "textos = ['Esta mañana está muy soleada',\n",
    "         'Petro jamás ganará',\n",
    "         'Fico jamás ganará la presidencia',\n",
    "         'No quiero ir a votar',\n",
    "         'Quiero ir a votar',\n",
    "         'Me gusta el sol',\n",
    "         'Aprendizaje Profundo dominará el mundo']\n",
    "\n",
    "sent_vec = model_tr_es.encode(textos)\n",
    "\n",
    "pca = PCA(n_components=2)\n",
    "P = pca.fit_transform(sent_vec)\n",
    "labels = textos\n",
    "\n",
    "plt.figure(figsize=(18, 7))\n",
    "plt.scatter(P[:, 0], P[:, 1], c='red', edgecolors='k')\n",
    "plt.title('Visualización con PCA')\n",
    "eps = 1e11*np.finfo(float).eps\n",
    "for label, x, y in zip(labels, P[:, 0], P[:, 1]):\n",
    "    plt.annotate(label, xy=(x+eps, y+eps), xytext=(0, 0), textcoords='offset points')"
   ]
  },
  {
   "cell_type": "markdown",
   "id": "8bbb5a66-732a-4a31-aed0-4d6ac6f05395",
   "metadata": {},
   "source": [
    "## Uso del Modelo (Wikipedia) "
   ]
  },
  {
   "cell_type": "markdown",
   "id": "c6299f83-7766-4506-a020-523d36690e5d",
   "metadata": {},
   "source": [
    "Primero que todo, obtengamos los datos que necesitamos:"
   ]
  },
  {
   "cell_type": "code",
   "execution_count": 5,
   "id": "e2b1fb31-ef67-4b10-83b6-e117e5c24bee",
   "metadata": {},
   "outputs": [
    {
     "name": "stdout",
     "output_type": "stream",
     "text": [
      "--2021-11-19 16:13:05--  http://mattmahoney.net/dc/enwik9.zip\n",
      "Resolving mattmahoney.net (mattmahoney.net)... 67.195.197.24\n",
      "Connecting to mattmahoney.net (mattmahoney.net)|67.195.197.24|:80... connected.\n",
      "HTTP request sent, awaiting response... 206 Partial Content\n",
      "Length: 322592222 (308M), 294168810 (281M) remaining [application/zip]\n",
      "Saving to: ‘../Datos/enwik9.zip’\n",
      "\n",
      "enwik9.zip          100%[+==================>] 307,65M   566KB/s    in 8m 28s  \n",
      "\n",
      "2021-11-19 16:21:34 (565 KB/s) - ‘../Datos/enwik9.zip’ saved [322592222/322592222]\n",
      "\n"
     ]
    }
   ],
   "source": [
    "# Corpus Completo\n",
    "#!wget https://dumps.wikimedia.org/enwiki/latest/enwiki-latest-pages-articles.xml.bz2 -o ../Datos/enwiki-latest-pages-articles.xml.bz2\n",
    "# Corpus 1 billón de bytes (1 Giga)\n",
    "!wget -c http://mattmahoney.net/dc/enwik9.zip -P ../Datos"
   ]
  },
  {
   "cell_type": "markdown",
   "id": "da452367-1674-41ee-a651-40da805a7f20",
   "metadata": {},
   "source": [
    "Como el formato viene en `.zip`, descomprimamos el contenido"
   ]
  },
  {
   "cell_type": "code",
   "execution_count": 7,
   "id": "be23243f-98e1-47de-9823-83588e400273",
   "metadata": {},
   "outputs": [
    {
     "name": "stdout",
     "output_type": "stream",
     "text": [
      "Archive:  ../Datos/enwik9.zip\n",
      "  inflating: ../Datos/enwik9         \n"
     ]
    }
   ],
   "source": [
    "!unzip ../Datos/enwik9.zip -d ../Datos"
   ]
  },
  {
   "cell_type": "markdown",
   "id": "3bf87ff6-60fa-4f3e-840c-6cd600aa9ef7",
   "metadata": {},
   "source": [
    "Miremos algo de información:"
   ]
  },
  {
   "cell_type": "code",
   "execution_count": 12,
   "id": "4c0162c6-11ea-4583-9bbc-391d4f31cde3",
   "metadata": {},
   "outputs": [
    {
     "name": "stdout",
     "output_type": "stream",
     "text": [
      "<mediawiki xmlns=\"http://www.mediawiki.org/xml/export-0.3/\" xmlns:xsi=\"http://www.w3.org/2001/XMLSchema-instance\" xsi:schemaLocation=\"http://www.mediawiki.org/xml/export-0.3/ http://www.mediawiki.org/xml/export-0.3.xsd\" version=\"0.3\" xml:lang=\"en\">\n",
      "  <siteinfo>\n",
      "    <sitename>Wikipedia</sitename>\n",
      "    <base>http://en.wikipedia.org/wiki/Main_Page</base>\n",
      "    <generator>MediaWiki 1.6alpha</generator>\n",
      "    <case>first-letter</case>\n",
      "      <namespaces>\n",
      "      <namespace key=\"-2\">Media</namespace>\n",
      "      <namespace key=\"-1\">Special</namespace>\n",
      "      <namespace key=\"0\" />\n",
      "      <namespace key=\"1\">Talk</namespace>\n",
      "      <namespace key=\"2\">User</namespace>\n",
      "      <namespace key=\"3\">User talk</namespace>\n",
      "      <namespace key=\"4\">Wikipedia</namespace>\n",
      "      <namespace key=\"5\">Wikipedia talk</namespace>\n",
      "      <namespace key=\"6\">Image</namespace>\n",
      "      <namespace key=\"7\">Image talk</namespace>\n",
      "      <namespace key=\"8\">MediaWiki</namespace>\n",
      "      <namespace key=\"9\">MediaWiki talk</namespace>\n",
      "      <namespace key=\"10\">Template</namespace>\n",
      "      <namespace key=\"11\">Template talk</namespace>\n",
      "      <namespace key=\"12\">Help</namespace>\n",
      "      <namespace key=\"13\">Help talk</namespace>\n",
      "      <namespace key=\"14\">Category</namespace>\n",
      "      <namespace key=\"15\">Category talk</namespace>\n",
      "      <namespace key=\"100\">Portal</namespace>\n",
      "      <namespace key=\"101\">Portal talk</namespace>\n",
      "    </namespaces>\n",
      "  </siteinfo>\n",
      "  <page>\n",
      "    <title>AaA</title>\n",
      "    <id>1</id>\n",
      "    <revision>\n",
      "      <id>32899315</id>\n",
      "      <timestamp>2005-12-27T18:46:47Z</timestamp>\n",
      "      <contributor>\n",
      "        <username>Jsmethers</username>\n",
      "        <id>614213</id>\n",
      "      </contributor>\n",
      "      <text xml:space=\"preserve\">#REDIRECT [[AAA]]</text>\n",
      "    </revision>\n",
      "  </page>\n",
      "  <page>\n",
      "    <title>AlgeriA</title>\n",
      "    <id>5</id>\n",
      "    <revision>\n",
      "      <id>18063769</id>\n",
      "      <timestamp>2005-07-03T11:13:13Z</timestamp>\n",
      "      <contributor>\n",
      "        <username>Docu</username>\n",
      "        <id>8029</id>\n",
      "      </contributor>\n",
      "      <minor />\n",
      "      <comment>addi"
     ]
    }
   ],
   "source": [
    "!head -c 2000 ../Datos/enwik9"
   ]
  },
  {
   "cell_type": "markdown",
   "id": "5094edac-085a-47c2-b367-52b9e9eaf898",
   "metadata": {},
   "source": [
    "Como un archivo raw de Wikipedia contiene toneladas de datos HTML/XML, preprocesaremos la información con el archivo wikifil.pl, escrito por Matt Mahoney y puede ser encontrado el script original en su paǵina personal [aquí](http://mattmahoney.net/).\n",
    "\n",
    "El script asociado funciona usando el lenguaje de programación PERL, y se ejecuta a continuación:"
   ]
  },
  {
   "cell_type": "markdown",
   "id": "f6f65a4c-ea83-46f3-9217-ec0e29654e0e",
   "metadata": {
    "tags": []
   },
   "source": [
    "### Preprocesamiento"
   ]
  },
  {
   "cell_type": "code",
   "execution_count": 13,
   "id": "0a1fdc73-71f1-4991-a543-83847c789ef3",
   "metadata": {},
   "outputs": [],
   "source": [
    "!perl ../Datos/wikifil.pl ../Datos/enwik9 > ../Datos/fil9"
   ]
  },
  {
   "cell_type": "markdown",
   "id": "f3b65f69-5e33-4439-8f9c-cf03f525218b",
   "metadata": {},
   "source": [
    "Veamos algo del resultado obtenido:"
   ]
  },
  {
   "cell_type": "code",
   "execution_count": 2,
   "id": "1e7627df-cb50-4e5e-9baf-03866ab32973",
   "metadata": {},
   "outputs": [
    {
     "name": "stdout",
     "output_type": "stream",
     "text": [
      " anarchism originated as a term of abuse first used against early working class radicals including the diggers of the english revolution and the sans culottes of the french revolution whilst the term is still used in a pejorative way to describe any act that used violent means to destroy the organization of society it has also been taken up as a positive label by self defined anarchists the word anarchism is derived from the greek without archons ruler chief king anarchism as a political philosophy is the belief that rulers are unnecessary and should be abolished although there are differing interpretations of what this means anarchism also refers to related social movements that advocate the elimination of authoritarian institutions particularly the state the word anarchy as most anarchists use it does not imply chaos nihilism or anomie but rather a harmonious anti authoritarian society in place of what are regarded as authoritarian political structures and coercive economic institutions anarchists advocate social relations based upon voluntary association of autonomous individuals mutual aid and self governance while anarchism is most easily defined by what it is against anarchists also offer positive visions of what they believe to be a truly free society however ideas about how an anarchist society might work vary considerably especially with respect to economics there is also disagreement about how a free society might be brought about origins and predecessors kropotkin and others argue that before recorded history human society was organized on anarchist principles most anthropologists follow kropotkin and engels in believing that hunter gatherer bands were egalitarian and lacked division of labour accumulated wealth or decreed law and had equal access to resources william godwin anarchists including the the anarchy organisation and rothbard find anarchist attitudes in taoism from ancient china kropotkin found similar ideas in stoic zeno of citium according to"
     ]
    }
   ],
   "source": [
    "!head -c 2000 ../Datos/fil9"
   ]
  },
  {
   "cell_type": "markdown",
   "id": "bf6e72a8-3a62-4231-954a-c4f6803e0057",
   "metadata": {},
   "source": [
    "[[Volver al inicio]](#Contenido)"
   ]
  },
  {
   "cell_type": "markdown",
   "id": "ac4d4f46-a27e-443a-8c81-aed718cab638",
   "metadata": {
    "tags": []
   },
   "source": [
    "### Entrenando del Modelo"
   ]
  },
  {
   "cell_type": "code",
   "execution_count": null,
   "id": "a0a7544f-8ea2-4868-b923-be908ee40f18",
   "metadata": {},
   "outputs": [
    {
     "name": "stderr",
     "output_type": "stream",
     "text": [
      "Read 124M words3M words\n",
      "Number of words:  218316\n",
      "Number of labels: 0\n",
      "Progress:  31.5% words/sec/thread:   45623 lr:  0.034237 avg.loss:  0.601562 ETA:   0h51m49sm 8s lr:  0.049049 avg.loss:  1.546121 ETA:   1h16m37s 1.495166 ETA:   1h17m48s  4.0% words/sec/thread:   42449 lr:  0.047977 avg.loss:  1.451111 ETA:   1h18m 2s words/sec/thread:   42355 lr:  0.046572 avg.loss:  1.341497 ETA:   1h15m55sh16m 3s% words/sec/thread:   44134 lr:  0.045075 avg.loss:  1.130582 ETA:   1h10m31s 16.0% words/sec/thread:   45933 lr:  0.041981 avg.loss:  0.870252 ETA:   1h 3m 6s 17.8% words/sec/thread:   45410 lr:  0.041112 avg.loss:  0.814919 ETA:   1h 2m31sh 2m25s  44928 lr:  0.038916 avg.loss:  0.719204 ETA:   0h59m48s57m30s 25.7% words/sec/thread:   45038 lr:  0.037161 avg.loss:  0.668852 ETA:   0h56m58s  0h54m58s 0.035755 avg.loss:  0.635238 ETA:   0h54m46s 30.9% words/sec/thread:   45385 lr:  0.034537 avg.loss:  0.608555 ETA:   0h52m32s"
     ]
    }
   ],
   "source": [
    "model = ft.train_unsupervised('../Datos/fil9')"
   ]
  },
  {
   "cell_type": "markdown",
   "id": "a1a95e90-940a-461f-ac5d-83d82e83f275",
   "metadata": {},
   "source": [
    "[[Volver al inicio]](#Contenido)"
   ]
  },
  {
   "cell_type": "markdown",
   "id": "09a576c6-6d0c-45b9-a4e9-bd078fad6c1a",
   "metadata": {
    "tags": []
   },
   "source": [
    "### Palabras más cercanas"
   ]
  },
  {
   "cell_type": "code",
   "execution_count": null,
   "id": "cbd8ebef-994f-47ee-a57d-3bb9b9442dbd",
   "metadata": {},
   "outputs": [],
   "source": [
    "model.get_nearest_neighbors('asparagus')"
   ]
  },
  {
   "cell_type": "markdown",
   "id": "1479038e-e720-4157-a99b-a549f5c6f75f",
   "metadata": {},
   "source": [
    "[[Volver al inicio]](#Contenido)"
   ]
  },
  {
   "cell_type": "markdown",
   "id": "5f98a7aa-fe59-4f49-b7a3-e94e9707c695",
   "metadata": {},
   "source": [
    "###  Curiosidades"
   ]
  },
  {
   "cell_type": "code",
   "execution_count": null,
   "id": "ec0dbdc1-ad47-4fe1-8a19-ba775c45b550",
   "metadata": {},
   "outputs": [],
   "source": [
    "model.get_nearest_neighbors('pidgey')"
   ]
  },
  {
   "cell_type": "markdown",
   "id": "6086122b-3842-450f-95b3-5d686e798cc0",
   "metadata": {},
   "source": [
    "[[Volver al inicio]](#Contenido)"
   ]
  },
  {
   "cell_type": "markdown",
   "id": "1e6099ba-392c-49de-bdd7-76b0864a809c",
   "metadata": {},
   "source": [
    "###  Analogía de Palabras"
   ]
  },
  {
   "cell_type": "code",
   "execution_count": null,
   "id": "7d12bcb4-fa84-4c07-a309-58eedf7d616c",
   "metadata": {},
   "outputs": [],
   "source": [
    "model.get_analogies(\"berlin\", \"germany\", \"france\")"
   ]
  },
  {
   "cell_type": "markdown",
   "id": "a6aa150c-1678-44fc-b9e1-283efdc34cee",
   "metadata": {},
   "source": [
    "[[Volver al inicio]](#Contenido)"
   ]
  },
  {
   "cell_type": "markdown",
   "id": "c5ac4298-2e20-4dbc-a143-bafaf1dd9577",
   "metadata": {
    "tags": []
   },
   "source": [
    "## Modelo Supervisado"
   ]
  },
  {
   "cell_type": "markdown",
   "id": "71474a8b-701d-495e-82ec-5422c48ad7ec",
   "metadata": {},
   "source": [
    "Para este ejemplo, usaremos el conjunto de datos de preguntas de [the cooking section of Stackexchange](https://cooking.stackexchange.com/):"
   ]
  },
  {
   "cell_type": "code",
   "execution_count": null,
   "id": "dc311d87-61a1-4642-ba31-51066cf146c5",
   "metadata": {},
   "outputs": [],
   "source": [
    "!wget https://dl.fbaipublicfiles.com/fasttext/data/cooking.stackexchange.tar.gz && tar xvzf cooking.stackexchange.tar.gz"
   ]
  },
  {
   "cell_type": "code",
   "execution_count": null,
   "id": "e2fec219-b87e-4442-82e0-cd0f1a198b28",
   "metadata": {},
   "outputs": [],
   "source": [
    "!head cooking.stackexchange.txt"
   ]
  },
  {
   "cell_type": "code",
   "execution_count": null,
   "id": "9a934f5a-4f85-4447-b5d7-4c3246fa0d34",
   "metadata": {},
   "outputs": [],
   "source": [
    "!wc cooking.stackexchange.txt"
   ]
  },
  {
   "cell_type": "code",
   "execution_count": null,
   "id": "8c5c4763-fd44-4ee9-a0d2-50ee151c89c2",
   "metadata": {},
   "outputs": [],
   "source": [
    "!head -n 12404 cooking.stackexchange.txt > cooking.train"
   ]
  },
  {
   "cell_type": "code",
   "execution_count": null,
   "id": "dcf4affa-9e81-49a5-a3ae-dfaeaa82ccdf",
   "metadata": {},
   "outputs": [],
   "source": [
    "!tail -n 3000 cooking.stackexchange.txt > cooking.valid"
   ]
  },
  {
   "cell_type": "markdown",
   "id": "d0dfde01-e229-4a6f-91c5-2b05688f36af",
   "metadata": {},
   "source": [
    "[[Volver al inicio]](#Contenido)"
   ]
  },
  {
   "cell_type": "markdown",
   "id": "d65f1891-0752-4934-a12b-539a25fbfe6e",
   "metadata": {},
   "source": [
    "### Uso del Modelo"
   ]
  },
  {
   "cell_type": "code",
   "execution_count": null,
   "id": "504df596-824c-46ff-892f-3ab07f8c035e",
   "metadata": {},
   "outputs": [],
   "source": [
    "import fasttext as ft"
   ]
  },
  {
   "cell_type": "code",
   "execution_count": null,
   "id": "d440246d-00a7-4a10-96e8-f2b0b0d353de",
   "metadata": {},
   "outputs": [],
   "source": [
    "model = fasttext.train_supervised(input=\"cooking.train\")"
   ]
  },
  {
   "cell_type": "code",
   "execution_count": null,
   "id": "e8271089-b258-4efb-9f56-83f50f6c99fd",
   "metadata": {},
   "outputs": [],
   "source": [
    "model.predict(\"Which baking dish is best to bake a banana bread ?\")"
   ]
  },
  {
   "cell_type": "code",
   "execution_count": null,
   "id": "84dfcc5e-755a-4e27-8bed-f3ae16fc0eeb",
   "metadata": {},
   "outputs": [],
   "source": [
    "model.test(\"cooking.valid\")"
   ]
  },
  {
   "cell_type": "markdown",
   "id": "4837114c-ddba-45ca-b00d-ff195adfad62",
   "metadata": {},
   "source": [
    "[[Volver al inicio]](#Contenido)"
   ]
  },
  {
   "cell_type": "markdown",
   "id": "789784af-a957-48fa-aa1d-ad810ab7a18a",
   "metadata": {
    "tags": []
   },
   "source": [
    "### Mejorando el Modelo "
   ]
  },
  {
   "cell_type": "code",
   "execution_count": null,
   "id": "75066d8b-9000-407b-b67d-4084702f4696",
   "metadata": {},
   "outputs": [],
   "source": [
    "!cat cooking.stackexchange.txt | sed -e \"s/\\([.\\!?,'/()]\\)/ \\1 /g\" | tr \"[:upper:]\" \"[:lower:]\" > cooking.preprocessed.txt\n",
    "!head -n 12404 cooking.preprocessed.txt > cooking.train\n",
    "!tail -n 3000 cooking.preprocessed.txt > cooking.valid"
   ]
  },
  {
   "cell_type": "code",
   "execution_count": null,
   "id": "5a06841b-ea77-49c0-adf8-1d84d6e1a966",
   "metadata": {},
   "outputs": [],
   "source": [
    "model = fasttext.train_supervised(input=\"cooking.train\")"
   ]
  },
  {
   "cell_type": "code",
   "execution_count": null,
   "id": "1fc38ec2-478f-4fac-8bb3-032ae0f13310",
   "metadata": {},
   "outputs": [],
   "source": [
    "model.test(\"cooking.valid\")"
   ]
  },
  {
   "cell_type": "markdown",
   "id": "2efea151-f77f-468e-817f-bffe57939f31",
   "metadata": {},
   "source": [
    "[[Volver al inicio]](#Contenido)"
   ]
  },
  {
   "cell_type": "markdown",
   "id": "a85cf55c-1748-44f3-8a42-c1215b73bda8",
   "metadata": {},
   "source": [
    "###  Autotuning de Parámetros"
   ]
  },
  {
   "cell_type": "code",
   "execution_count": null,
   "id": "34286ee7-65ab-42fc-b984-967d2187de86",
   "metadata": {},
   "outputs": [],
   "source": [
    "model = fasttext.train_supervised(input='cooking.train', autotuneValidationFile='cooking.valid')"
   ]
  },
  {
   "cell_type": "code",
   "execution_count": null,
   "id": "88d56132-e967-4858-b769-a26d87b1cdef",
   "metadata": {},
   "outputs": [],
   "source": [
    "model.test(\"cooking.valid\")"
   ]
  },
  {
   "cell_type": "markdown",
   "id": "3d8ddaf7-f2bb-4161-85cc-4d0080248f0c",
   "metadata": {},
   "source": [
    "[[Volver al inicio]](#Contenido)"
   ]
  }
 ],
 "metadata": {
  "kernelspec": {
   "display_name": "Python 3 (ipykernel)",
   "language": "python",
   "name": "python3"
  },
  "language_info": {
   "codemirror_mode": {
    "name": "ipython",
    "version": 3
   },
   "file_extension": ".py",
   "mimetype": "text/x-python",
   "name": "python",
   "nbconvert_exporter": "python",
   "pygments_lexer": "ipython3",
   "version": "3.10.2"
  }
 },
 "nbformat": 4,
 "nbformat_minor": 5
}
