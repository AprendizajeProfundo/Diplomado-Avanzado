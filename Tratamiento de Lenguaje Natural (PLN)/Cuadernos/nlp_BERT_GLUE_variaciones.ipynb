{
 "cells": [
  {
   "cell_type": "markdown",
   "id": "d15b5b8c-7a1d-46dd-8535-38f84bcbe370",
   "metadata": {
    "slideshow": {
     "slide_type": "slide"
    },
    "tags": []
   },
   "source": [
    "<figure>\n",
    "<img src=\"../Imagenes/logo-final-ap.png\"  width=\"80\" height=\"80\" align=\"left\"/> \n",
    "</figure>\n",
    "\n",
    "# <span style=\"color:blue\"><left>Aprendizaje Profundo</left></span>"
   ]
  },
  {
   "cell_type": "markdown",
   "id": "6711534f-1f29-4d83-897f-314c4b7cdf6c",
   "metadata": {},
   "source": [
    "# <span style=\"color:red\"><center>BERT, RoBERTa, XLNet, Sentence-BERT, BETO, ERNIE, ...</center></span>"
   ]
  },
  {
   "cell_type": "markdown",
   "id": "e9ed5914-19b2-452a-99d1-cbd32e817d5b",
   "metadata": {
    "tags": []
   },
   "source": [
    "<center>Entendiendo Modelos BERT y sus variaciones</center>"
   ]
  },
  {
   "cell_type": "markdown",
   "id": "68cf671c-4f8b-4924-830c-54a8c817a54e",
   "metadata": {
    "tags": []
   },
   "source": [
    "##   <span style=\"color:blue\">Profesores</span>"
   ]
  },
  {
   "cell_type": "markdown",
   "id": "ea51c570-28f5-4b44-9d0d-2afec6299cef",
   "metadata": {},
   "source": [
    "### Coordinador\n"
   ]
  },
  {
   "cell_type": "markdown",
   "id": "2dd12147-2f15-41d8-b2eb-0f2f21795dcf",
   "metadata": {},
   "source": [
    "- Campo Elías Pardo Turriago, cepardot@unal.edu.co "
   ]
  },
  {
   "cell_type": "markdown",
   "id": "6069e5ed-3afa-4c07-b802-d9977af78152",
   "metadata": {},
   "source": [
    "### Conferencistas\n"
   ]
  },
  {
   "cell_type": "markdown",
   "id": "b960b5a5-15c6-4450-b690-61d123d9312c",
   "metadata": {},
   "source": [
    "- Alvaro  Montenegro, PhD, ammontenegrod@unal.edu.co\n",
    "- Daniel  Montenegro, Msc, dextronomo@gmail.com \n",
    "- Oleg Jarma, Estadístico, ojarmam@unal.edu.co "
   ]
  },
  {
   "cell_type": "markdown",
   "id": "711cb94a-8cd4-4515-abbe-544c7d4e9efc",
   "metadata": {},
   "source": [
    "## <span style=\"color:blue\">Asesora Medios y Marketing digital</span>"
   ]
  },
  {
   "cell_type": "markdown",
   "id": "bd2416d3-b8d7-4067-8a7e-dfe306b32d9f",
   "metadata": {},
   "source": [
    "- Maria del Pilar Montenegro, pmontenegro88@gmail.com \n",
    "\n"
   ]
  },
  {
   "cell_type": "markdown",
   "id": "e0c73998-24b2-407d-bda0-33c227085980",
   "metadata": {},
   "source": [
    "## <span style=\"color:blue\">Asistentes</span>\n",
    "\n"
   ]
  },
  {
   "cell_type": "markdown",
   "id": "d701f0e3-230c-4f8b-b0f2-b8ea1dc40ac7",
   "metadata": {},
   "source": [
    "- Nayibe Yesenia Arias, naariasc@unal.edu.co\n",
    "- Venus Celeste Puertas, vpuertasg@unal.edu.co "
   ]
  },
  {
   "cell_type": "markdown",
   "id": "a432d442-8366-49c9-a84e-6c1ce0b7708c",
   "metadata": {
    "slideshow": {
     "slide_type": "subslide"
    },
    "tags": []
   },
   "source": [
    "## <span style=\"color:blue\">Referencias</span>"
   ]
  },
  {
   "cell_type": "markdown",
   "id": "de41b69a-451a-4a56-8c6f-4d1cfcb49e40",
   "metadata": {},
   "source": [
    "1. [Devlin et. al., BERT: Pre-training of Deep Bidirectional Transformers for Language Understanding](https://arxiv.org/pdf/1810.04805.pdf), mayo 2019.\n",
    "1. [Liu et al., RoBERTa: A Robustly Optimized BERT Pretraining Approach](https://arxiv.org/pdf/1907.11692.pdf), julio 2019\n",
    "1. [Yang et al., XLNet: Generalized Autoregressive Pretraining\n",
    "for Language Understanding](https://arxiv.org/pdf/1906.08237.pdf), enero 2020.\n",
    "1. [ERNIE: Enhanced Language Representation with Informative Entities](https://arxiv.org/pdf/1905.07129.pdf), junio 2019\n",
    "1. [GLUE Score](https://openreview.net/pdf?id=rJ4km2R5t7), 2019\n",
    "1. [SUPERGLUE Score](https://arxiv.org/pdf/1905.00537.pdf), febrero 2020\n",
    "1. [Aprendizaje Profundo-Diplomado](https://github.com/AprendizajeProfundo/Diplomado)\n",
    "1. [Aprendizaje Profundo-PLN](https://github.com/AprendizajeProfundo/PLN)\n",
    "1. [Ashish Vaswani et al.,   Attention Is All You Need](https://arxiv.org/pdf/1706.03762.pdf), diciembre 2017.\n",
    "1. [Dennis Rothman, Transformers for Natural Language processing](http://libgen.rs/search.php?req=Transformers+for+Natural+Language+processing&open=0&res=25&view=simple&phrase=1&column=def), enero 2021.\n",
    "1.[ Varios,  Dive into deep learning](https://d2l.ai/), enero 2021"
   ]
  },
  {
   "cell_type": "markdown",
   "id": "3159f5eb-0a12-4f81-864a-afa6feda3efd",
   "metadata": {
    "slideshow": {
     "slide_type": "subslide"
    },
    "tags": []
   },
   "source": [
    "## <span style=\"color:blue\">Contenido</span>"
   ]
  },
  {
   "cell_type": "markdown",
   "id": "e4c3e28b-0526-46ba-95da-03b3ee457f38",
   "metadata": {
    "origin_pos": 0
   },
   "source": [
    "* [Cómo usar BERT](#Cómo-usar-BERT)\n",
    "* [GLUE Score](#GLUE-Score)\n",
    "    * [CoLA](#CoLA)\n",
    "    * [SST-2](#SST-2)\n",
    "    * [MRPC](#MRPC)\n",
    "    * [SST-B](#SST-B)\n",
    "    * [QQP](#QQP)\n",
    "    * [MNLI-m](#MNLI-m)\n",
    "    * [MNLI-mm](#MNLI-mm)\n",
    "    * [QNLI](#QNLI)\n",
    "    * [RTE](#RTE)\n",
    "    * [WNLI](#WNLI)\n",
    "    * [AX](#AX)\n",
    "* [SUPERGLUE Score](#SUPERGLUE-Score)\n",
    "* [Variaciones Principales de BERT](#Variaciones-Principales-de-BERT)\n",
    "* [Sentence-BERT](#Sentence-BERT)\n",
    "* [ERNIE](#ERNIE)"
   ]
  },
  {
   "cell_type": "markdown",
   "id": "a5823373-a919-4664-9b37-ec736dd4dec2",
   "metadata": {
    "slideshow": {
     "slide_type": "subslide"
    },
    "tags": []
   },
   "source": [
    "## <span style=\"color:blue\">¿Cómo usar BERT?</span>"
   ]
  },
  {
   "cell_type": "markdown",
   "id": "875e2f04-2f1d-4a52-9773-920b701ca2ba",
   "metadata": {
    "slideshow": {
     "slide_type": "subslide"
    },
    "tags": []
   },
   "source": [
    "\n",
    "<figure>\n",
    "<center>\n",
    "<img src=\"../Imagenes/BERT-EL-NUEVO-ALGORITMO-DE-GOOGLE.jpg\" width=\"600\" height=\"600\" align=\"center\"/>\n",
    "</center>\n",
    "<figcaption>\n",
    "<p style=\"text-align:center\">BERT-Transformer</p>\n",
    "</figcaption>\n",
    "</figure>\n",
    "\n",
    "Fuente:[Bert el nuevo algoritmo de Google](https://blog.sinapsis.agency/bert-el-nuevo-algoritmo-de-google/)"
   ]
  },
  {
   "cell_type": "markdown",
   "id": "585fa209-5b45-4efe-85b8-747e32f6fff1",
   "metadata": {},
   "source": [
    "Ahora que hemos visto el funcionamiento teórico de BERT, es hora de ponernos a usarlo para diferentes tareas.\n",
    "\n",
    "Lo primero que haremos es tratar de entender el input que espera BERT y los outputs que genera.\n",
    "\n",
    "Para lo que sigue, usaremos **HuggingFace** para cargar nuestros modelos."
   ]
  },
  {
   "cell_type": "code",
   "execution_count": 6,
   "id": "059c813b-7cf9-4c7b-927b-a6af7c9cb645",
   "metadata": {},
   "outputs": [],
   "source": [
    "# Cada Modelo tiene su propio Tokenizador\n",
    "from transformers import BertModel, BertTokenizer"
   ]
  },
  {
   "cell_type": "markdown",
   "id": "6bc2b5d2-cd31-444b-bd2d-7683c4376c07",
   "metadata": {
    "tags": []
   },
   "source": [
    "### <span style=\"color:blue\">Tokenizador de BERT</span>"
   ]
  },
  {
   "cell_type": "code",
   "execution_count": 7,
   "id": "4759ef81-8eb8-4d20-8b36-85d746b12f06",
   "metadata": {},
   "outputs": [],
   "source": [
    "# Instanciar Tokenizador\n",
    "tokenizer = BertTokenizer.from_pretrained('dccuchile/bert-base-spanish-wwm-uncased')"
   ]
  },
  {
   "cell_type": "code",
   "execution_count": 101,
   "id": "fa98abf3-e020-4f4c-905f-affdf83c806a",
   "metadata": {},
   "outputs": [
    {
     "name": "stdout",
     "output_type": "stream",
     "text": [
      "\n",
      "Output del tokenizador:\n",
      "\n",
      " {'input_ids': tensor([[   4, 1705, 1012, 1987, 8228, 1204, 1035, 1032, 1947, 1048, 1136, 2734,\n",
      "         1047, 1008,    5]]), 'token_type_ids': tensor([[0, 0, 0, 0, 0, 0, 0, 0, 0, 0, 0, 0, 0, 0, 0]]), 'attention_mask': tensor([[1, 1, 1, 1, 1, 1, 1, 1, 1, 1, 1, 1, 1, 1, 1]])}\n"
     ]
    }
   ],
   "source": [
    "# Texto de ejemplo\n",
    "ejemplo = 'Voy a comer papitas en la noche con mi gata.'\n",
    "\n",
    "# Input de BERT\n",
    "bert_input = tokenizer(ejemplo, return_tensors=\"pt\")\n",
    "# Cortando y usando padding\n",
    "#bert_input = tokenizer(ejemplo, padding='max_length', max_length = 20, truncation=True, return_tensors=\"pt\")\n",
    "# Salidas del tokenizador\n",
    "print(\"\\nOutput del tokenizador:\\n\\n\",bert_input)"
   ]
  },
  {
   "cell_type": "code",
   "execution_count": 102,
   "id": "14510f2d-c22f-4b5f-9948-a12002157bca",
   "metadata": {},
   "outputs": [
    {
     "name": "stdout",
     "output_type": "stream",
     "text": [
      "Tokens Ids:\n",
      "tensor([[   4, 1705, 1012, 1987, 8228, 1204, 1035, 1032, 1947, 1048, 1136, 2734,\n",
      "         1047, 1008,    5]])\n"
     ]
    }
   ],
   "source": [
    "# Observar ids de los tokens\n",
    "print('Tokens Ids:')\n",
    "print(bert_input.input_ids)"
   ]
  },
  {
   "cell_type": "code",
   "execution_count": 177,
   "id": "50c0ec03-b0fc-4c9e-b807-506f3f8bd684",
   "metadata": {},
   "outputs": [
    {
     "name": "stdout",
     "output_type": "stream",
     "text": [
      "[CLS] voy a comer papitas en la noche con mi gata. [SEP]\n",
      "['[CLS] voy a comer papitas en la noche con mi gata. [SEP]']\n"
     ]
    }
   ],
   "source": [
    "# Decodificar token ids\n",
    "decodificado = tokenizer.decode(bert_input.input_ids[0])\n",
    "# decodificado = tokenizer.decode(bert_input.input_ids[0],skip_special_tokens=True)\n",
    "print(decodificado)"
   ]
  },
  {
   "cell_type": "markdown",
   "id": "b1695e2b-6c89-4177-b2c3-b270a6f0d7dc",
   "metadata": {},
   "source": [
    "Como podemos notar, hay una diferencia entre el número de palabras y el número de tokens."
   ]
  },
  {
   "cell_type": "code",
   "execution_count": 138,
   "id": "443a82d4-524a-47e8-b744-d63685bf75fa",
   "metadata": {},
   "outputs": [
    {
     "name": "stdout",
     "output_type": "stream",
     "text": [
      "\n",
      "Número de Palabras: 10\n",
      "Número de Tokens  : 15\n"
     ]
    }
   ],
   "source": [
    "# Número de Palabras en la frase\n",
    "print(\"\\nNúmero de Palabras:\",len(ejemplo.split()))\n",
    "# Número de tokens (incluye [CLS] y [SEP])\n",
    "print(\"Número de Tokens  :\",len(bert_input.input_ids[0]))"
   ]
  },
  {
   "cell_type": "markdown",
   "id": "988612e8-75ff-4672-a6e0-13a45966c861",
   "metadata": {},
   "source": [
    "Observemos cómo se realiza la tokenización a nivel interno:"
   ]
  },
  {
   "cell_type": "code",
   "execution_count": 179,
   "id": "2761b73b-7c82-4814-bb34-942406636077",
   "metadata": {},
   "outputs": [
    {
     "name": "stdout",
     "output_type": "stream",
     "text": [
      "['voy', 'a', 'comer', 'papi', '##tas', 'en', 'la', 'noche', 'con', 'mi', 'ga', '##ta', '.']\n",
      "['[CLS]', 'voy', 'a', 'comer', 'papi', '##tas', 'en', 'la', 'noche', 'con', 'mi', 'ga', '##ta', '.', '[SEP]']\n"
     ]
    }
   ],
   "source": [
    "# Verdadera Tokenización\n",
    "tokens = tokenizer.tokenize(ejemplo)\n",
    "print(tokens)\n",
    "tokens = ['[CLS]'] + tokens + ['[SEP]']\n",
    "print(tokens)"
   ]
  },
  {
   "cell_type": "markdown",
   "id": "5a076833-bf56-413f-af9f-e54d63473bbb",
   "metadata": {},
   "source": [
    "Además de los tokens especiales, que son"
   ]
  },
  {
   "cell_type": "code",
   "execution_count": 106,
   "id": "5c323314-3c12-4913-bb14-09251da387c6",
   "metadata": {},
   "outputs": [
    {
     "name": "stdout",
     "output_type": "stream",
     "text": [
      "[0, 1, 3, 4, 5] ['[MASK]', '[PAD]', '[UNK]', '[CLS]', '[SEP]']\n"
     ]
    }
   ],
   "source": [
    "# Tokens especiales\n",
    "print(sorted(tokenizer.all_special_ids),tokenizer.convert_ids_to_tokens(sorted(tokenizer.all_special_ids)))"
   ]
  },
  {
   "cell_type": "markdown",
   "id": "c17f0386-1909-4753-b205-e5fb57e07172",
   "metadata": {},
   "source": [
    "BERT cuenta con un vocabulario no tan grande, comparado con una tokenización enteramente por palabras."
   ]
  },
  {
   "cell_type": "code",
   "execution_count": 107,
   "id": "cfd3ceb6-92c9-42fc-a33f-ac86b7e9cc2f",
   "metadata": {},
   "outputs": [
    {
     "name": "stdout",
     "output_type": "stream",
     "text": [
      "31002\n"
     ]
    }
   ],
   "source": [
    "print(len(tokenizer.get_vocab()))"
   ]
  },
  {
   "cell_type": "markdown",
   "id": "1eba689f-8c79-4ee2-b35b-36e38f7affce",
   "metadata": {
    "tags": []
   },
   "source": [
    "### <span style=\"color:blue\">Output de BERT</span>"
   ]
  },
  {
   "cell_type": "code",
   "execution_count": 108,
   "id": "dbd304ac-17da-49b2-9d74-eaa5a525f290",
   "metadata": {},
   "outputs": [
    {
     "name": "stderr",
     "output_type": "stream",
     "text": [
      "Some weights of the model checkpoint at dccuchile/bert-base-spanish-wwm-uncased were not used when initializing BertModel: ['cls.predictions.transform.dense.bias', 'cls.predictions.decoder.weight', 'cls.predictions.transform.LayerNorm.weight', 'cls.predictions.transform.LayerNorm.bias', 'cls.predictions.decoder.bias', 'cls.predictions.transform.dense.weight', 'cls.predictions.bias']\n",
      "- This IS expected if you are initializing BertModel from the checkpoint of a model trained on another task or with another architecture (e.g. initializing a BertForSequenceClassification model from a BertForPreTraining model).\n",
      "- This IS NOT expected if you are initializing BertModel from the checkpoint of a model that you expect to be exactly identical (initializing a BertForSequenceClassification model from a BertForSequenceClassification model).\n",
      "Some weights of BertModel were not initialized from the model checkpoint at dccuchile/bert-base-spanish-wwm-uncased and are newly initialized: ['bert.pooler.dense.weight', 'bert.pooler.dense.bias']\n",
      "You should probably TRAIN this model on a down-stream task to be able to use it for predictions and inference.\n"
     ]
    }
   ],
   "source": [
    "model = BertModel.from_pretrained('dccuchile/bert-base-spanish-wwm-uncased')"
   ]
  },
  {
   "cell_type": "code",
   "execution_count": 109,
   "id": "f808550f-c3cc-4ef1-8374-ac04ba8fdd7f",
   "metadata": {},
   "outputs": [],
   "source": [
    "x = model(bert_input['input_ids'],bert_input['attention_mask'])\n",
    "#x\n",
    "#x.last_hidden_state\n",
    "#x.pooler_output"
   ]
  },
  {
   "cell_type": "markdown",
   "id": "1a82b9b1-4008-437d-aeb6-78629063c80f",
   "metadata": {},
   "source": [
    "model regresa una lista con dos objetos: \n",
    "\n",
    "* El primer valor, *last_hidden_state*, contiene la representación de todos los tokens obtenidos solo de la capa del codificador final (codificador 12).\n",
    "* A continuación, *pooler_output* indica la representación del token [CLS] de la capa codificadora final, que se procesa posteriormente mediante una capa lineal y una activación *tanh*. La capa lineal es entrenada cuando se entrena el modelo BERT para la tarea NSP (Next sequence prediction).\n"
   ]
  },
  {
   "cell_type": "code",
   "execution_count": 149,
   "id": "aebfc327-66c3-4b15-a04a-39fac7fc90b3",
   "metadata": {},
   "outputs": [],
   "source": [
    "embeddings_c12, pooler = model(bert_input['input_ids'],bert_input['attention_mask'],return_dict=False)"
   ]
  },
  {
   "cell_type": "code",
   "execution_count": 150,
   "id": "bb261e68-aaa7-4d5b-80f8-6459e787ed8b",
   "metadata": {},
   "outputs": [
    {
     "name": "stdout",
     "output_type": "stream",
     "text": [
      "tensor([[[ 0.1484, -0.3802,  0.0250,  ..., -1.0641,  0.6994, -0.7393],\n",
      "         [-0.3931, -0.1181,  0.0966,  ..., -0.9495,  0.7772, -0.7068],\n",
      "         [-0.0809, -0.2313,  0.6576,  ..., -0.3303,  0.8048, -1.3535],\n",
      "         ...,\n",
      "         [ 0.4387, -0.5332, -0.6894,  ..., -0.6974,  0.7406, -0.6476],\n",
      "         [ 0.0772, -0.5173, -0.2054,  ..., -0.9474,  0.7835, -0.3945],\n",
      "         [-0.0945, -0.3754, -0.1654,  ..., -0.8822,  0.9774, -0.7301]]],\n",
      "       grad_fn=<NativeLayerNormBackward0>)\n",
      "\n",
      "Tamaño del Embedding: torch.Size([1, 15, 768])\n"
     ]
    }
   ],
   "source": [
    "# Mostrar embedding por tokens (15 tokens)\n",
    "print(embeddings_c12)\n",
    "# Tamaño del embedding (batch,tokens,dimensión del embedding)\n",
    "print(\"\\nTamaño del Embedding:\",embeddings_c12.shape)"
   ]
  },
  {
   "cell_type": "code",
   "execution_count": 151,
   "id": "d905ee4b-1466-47e7-b6aa-5c7364c02b0b",
   "metadata": {},
   "outputs": [
    {
     "name": "stdout",
     "output_type": "stream",
     "text": [
      "Voy ----> tensor([-0.3931, -0.1181,  0.0966,  0.2925, -0.3660])...\n"
     ]
    }
   ],
   "source": [
    "# Ejemplo de Embedding\n",
    "print(f'{ejemplo.split()[0]} ----> {embeddings_c12[0,1,:5].detach()}...')"
   ]
  },
  {
   "cell_type": "code",
   "execution_count": 152,
   "id": "b547e5e1-f44b-442b-8bea-b298f9052de6",
   "metadata": {},
   "outputs": [
    {
     "name": "stdout",
     "output_type": "stream",
     "text": [
      "\n",
      "Tamaño del Pooler: torch.Size([1, 768])\n"
     ]
    }
   ],
   "source": [
    "# Tamaño del pooler\n",
    "print(\"\\nTamaño del Pooler:\",pooler.shape)"
   ]
  },
  {
   "cell_type": "markdown",
   "id": "006441a8-407b-49ac-aae6-0383a42303d0",
   "metadata": {
    "tags": []
   },
   "source": [
    "### <span style=\"color:blue\">Extracción de los incrustamientos de todas las capas codificadoras</span>"
   ]
  },
  {
   "cell_type": "markdown",
   "id": "f0acd28f-14fe-49d5-bbfd-d292562b3c70",
   "metadata": {},
   "source": [
    "En esta sección revisamos como extraer las incrustaciones (embeddings) que salen de cada una de las capas codificadoras (12 por ejemplo en el modelo base). Algunos veces esto se hace para extraer diferentes features de las sentencias. \n",
    "\n",
    "Por ejemplo en la tarea NER (name entity recognition) los investigadores han usado las incrustaciones de las diferentes capas, para hacer promedios pesados de algunas de ellas y con esto han podido mejorar la exactitud en la precisión.\n",
    "\n",
    "Para hacer esto, es necesario instanciar el modelo preentrenado con la opción *output_hidden_states=True*:"
   ]
  },
  {
   "cell_type": "code",
   "execution_count": 153,
   "id": "41b68bd9-0e99-45b2-b0f7-92a50d6d9c77",
   "metadata": {},
   "outputs": [
    {
     "name": "stderr",
     "output_type": "stream",
     "text": [
      "Some weights of the model checkpoint at dccuchile/bert-base-spanish-wwm-uncased were not used when initializing BertModel: ['cls.predictions.transform.dense.bias', 'cls.predictions.decoder.weight', 'cls.predictions.transform.LayerNorm.weight', 'cls.predictions.transform.LayerNorm.bias', 'cls.predictions.decoder.bias', 'cls.predictions.transform.dense.weight', 'cls.predictions.bias']\n",
      "- This IS expected if you are initializing BertModel from the checkpoint of a model trained on another task or with another architecture (e.g. initializing a BertForSequenceClassification model from a BertForPreTraining model).\n",
      "- This IS NOT expected if you are initializing BertModel from the checkpoint of a model that you expect to be exactly identical (initializing a BertForSequenceClassification model from a BertForSequenceClassification model).\n",
      "Some weights of BertModel were not initialized from the model checkpoint at dccuchile/bert-base-spanish-wwm-uncased and are newly initialized: ['bert.pooler.dense.weight', 'bert.pooler.dense.bias']\n",
      "You should probably TRAIN this model on a down-stream task to be able to use it for predictions and inference.\n"
     ]
    }
   ],
   "source": [
    "model = BertModel.from_pretrained('dccuchile/bert-base-spanish-wwm-uncased', output_hidden_states=True)"
   ]
  },
  {
   "cell_type": "code",
   "execution_count": 162,
   "id": "6b8cc018-d378-4a17-ba49-e6a029ca7001",
   "metadata": {},
   "outputs": [],
   "source": [
    "out = model(bert_input['input_ids'],bert_input['attention_mask'])\n",
    "\n",
    "last_hidden_state, pooler_output, hidden_states = out.last_hidden_state, out.pooler_output, out.hidden_states"
   ]
  },
  {
   "cell_type": "code",
   "execution_count": 157,
   "id": "b1478c48-3208-4e5e-bc45-56d587989cb9",
   "metadata": {},
   "outputs": [
    {
     "name": "stdout",
     "output_type": "stream",
     "text": [
      "torch.Size([1, 15, 768])\n",
      "torch.Size([1, 768])\n",
      "13\n"
     ]
    }
   ],
   "source": [
    "print(last_hidden_state.shape)\n",
    "print(pooler_output.shape)\n",
    "print(len(hidden_states)) # esta es una lista conteniendo las incrustaciones de todas las capas codificadoras"
   ]
  },
  {
   "cell_type": "markdown",
   "id": "2fdbd6ca-d354-4879-a5cb-e9e688063880",
   "metadata": {},
   "source": [
    "Observe que *hidden_states* tiene 13 elementos. La capa 0 corresponde a la incrustación de la capa de entrada, luego los elementos 1 a 12 corresponden a las incrustaciones de salida de cada una de las 12 capas codificadoras.\n",
    "\n",
    "Las incrustaciones de cada capa *i*, se obtienen mediante *hidden_states[i]:"
   ]
  },
  {
   "cell_type": "code",
   "execution_count": null,
   "id": "a284daa5-8f6c-409c-a873-354354080736",
   "metadata": {},
   "outputs": [],
   "source": [
    "# hidden_states[0]"
   ]
  },
  {
   "cell_type": "markdown",
   "id": "1a33cfad-0ef9-4aa4-be22-7f2dcf3f2bd4",
   "metadata": {
    "tags": []
   },
   "source": [
    "### <span style=\"color:blue\">Recuperando los pesos de atención</span>"
   ]
  },
  {
   "cell_type": "markdown",
   "id": "22b2d2bd-2279-4e27-8057-97f84ab70928",
   "metadata": {},
   "source": [
    "Los pesos de  atención después de la atención softmax, se utilizan para calcular el promedio ponderado en las cabezas de  autoatención. \n",
    "Son obtenidos pasando al modelo *output_attentions=True*\n",
    "\n",
    "+ *output attention* es una tupla. Cada elemento coresponde a los pesos de atención de cada capa codificadora."
   ]
  },
  {
   "cell_type": "code",
   "execution_count": 163,
   "id": "7c1ed7ca-330a-450d-b936-1cc22b3fd5a9",
   "metadata": {},
   "outputs": [
    {
     "name": "stderr",
     "output_type": "stream",
     "text": [
      "Some weights of the model checkpoint at dccuchile/bert-base-spanish-wwm-uncased were not used when initializing BertModel: ['cls.predictions.transform.dense.bias', 'cls.predictions.decoder.weight', 'cls.predictions.transform.LayerNorm.weight', 'cls.predictions.transform.LayerNorm.bias', 'cls.predictions.decoder.bias', 'cls.predictions.transform.dense.weight', 'cls.predictions.bias']\n",
      "- This IS expected if you are initializing BertModel from the checkpoint of a model trained on another task or with another architecture (e.g. initializing a BertForSequenceClassification model from a BertForPreTraining model).\n",
      "- This IS NOT expected if you are initializing BertModel from the checkpoint of a model that you expect to be exactly identical (initializing a BertForSequenceClassification model from a BertForSequenceClassification model).\n",
      "Some weights of BertModel were not initialized from the model checkpoint at dccuchile/bert-base-spanish-wwm-uncased and are newly initialized: ['bert.pooler.dense.weight', 'bert.pooler.dense.bias']\n",
      "You should probably TRAIN this model on a down-stream task to be able to use it for predictions and inference.\n"
     ]
    }
   ],
   "source": [
    "model = BertModel.from_pretrained('dccuchile/bert-base-spanish-wwm-uncased',output_hidden_states=True, output_attentions=True)"
   ]
  },
  {
   "cell_type": "code",
   "execution_count": 165,
   "id": "52bbd55e-0e7c-4171-ab7e-f82c59ed4bb9",
   "metadata": {},
   "outputs": [
    {
     "name": "stdout",
     "output_type": "stream",
     "text": [
      "12\n"
     ]
    }
   ],
   "source": [
    "out = model(bert_input['input_ids'],bert_input['attention_mask'])\n",
    "\n",
    "last_hidden_state, pooler_output, hidden_states, attentions = \\\n",
    "        out.last_hidden_state, out.pooler_output, out.hidden_states, \\\n",
    "        out.attentions\n",
    "print(len(attentions))"
   ]
  },
  {
   "cell_type": "code",
   "execution_count": 21,
   "id": "c7df91fe-9841-4623-b4d6-7383a50a94f1",
   "metadata": {},
   "outputs": [
    {
     "name": "stdout",
     "output_type": "stream",
     "text": [
      "torch.Size([1, 12, 7, 7])\n"
     ]
    }
   ],
   "source": [
    "print(attentions[11].shape)"
   ]
  },
  {
   "cell_type": "markdown",
   "id": "25ebb1cd-c41f-4004-b5e1-e2445dc65824",
   "metadata": {},
   "source": [
    "La salida se explica así:\n",
    "\n",
    "- El tamaño del batch es 1. Una sentencia.\n",
    "- Son 12 cabezas de atención.\n",
    "- La sentencia viene de tamaño 7.\n",
    "\n",
    "Por lo tanto tenemos la salida de las 12 cabezas de atención para la sentencia.\n",
    "\n",
    "Vamos a darle una mirada a los pesos de atención de la última capa codificadora\n",
    "\n"
   ]
  },
  {
   "cell_type": "code",
   "execution_count": 168,
   "id": "9bc151b6-8d9b-47dd-8168-d8879e91e7aa",
   "metadata": {},
   "outputs": [],
   "source": [
    "attention11 = attentions[11].squeeze()#elimina la dimensión de batch."
   ]
  },
  {
   "cell_type": "code",
   "execution_count": 169,
   "id": "eb81adf1-fda6-4bde-ad49-d4d1e3936394",
   "metadata": {},
   "outputs": [
    {
     "data": {
      "text/plain": [
       "torch.Size([12, 15, 15])"
      ]
     },
     "execution_count": 169,
     "metadata": {},
     "output_type": "execute_result"
    }
   ],
   "source": [
    "attention11.shape"
   ]
  },
  {
   "cell_type": "markdown",
   "id": "34ddf243-040e-4edf-a748-3a22806160fc",
   "metadata": {
    "tags": []
   },
   "source": [
    "### <span style=\"color:blue\">Función para graficar pesos de atención de una cabeza</span>"
   ]
  },
  {
   "cell_type": "code",
   "execution_count": 166,
   "id": "5f4d1626-d396-4ebb-acf4-b7e9babf5ece",
   "metadata": {},
   "outputs": [],
   "source": [
    "import matplotlib.pyplot as plt\n",
    "from mpl_toolkits.axes_grid1 import make_axes_locatable\n",
    "\n",
    "# versión con decode utf-8\n",
    "def plot_attention_head_cp(in_tokens, translated_tokens, attention):\n",
    "  # The plot is of the attention when a token was generated.\n",
    "  # The model didn't generate `<START>` in the output. Skip it.\n",
    "  translated_tokens = translated_tokens[1:]\n",
    "\n",
    "  ax = plt.gca()\n",
    "  ax.matshow(attention)\n",
    "  ax.set_xticks(range(len(in_tokens)))\n",
    "  ax.set_yticks(range(len(translated_tokens)))\n",
    "\n",
    "  labels = [label.decode('utf-8') for label in in_tokens.numpy()]\n",
    "  ax.set_xticklabels(\n",
    "      labels, rotation=90)\n",
    "\n",
    "  labels = [label.decode('utf-8') for label in translated_tokens.numpy()]\n",
    "  ax.set_yticklabels(labels)\n",
    "\n",
    "\n",
    "\n",
    "def plot_attention_head(in_tokens, translated_tokens, attention):\n",
    "  # The plot is of the attention when a token was generated.\n",
    "  # The model didn't generate `<START>` in the output. Skip it.\n",
    "  #translated_tokens = translated_tokens[1:]\n",
    "\n",
    "  ax = plt.gca()\n",
    "  pcm = ax.matshow(attention)\n",
    "  ax.set_xticks(range(len(in_tokens)))\n",
    "  ax.set_yticks(range(len(translated_tokens)))\n",
    "\n",
    "  labels = [label for label in in_tokens]\n",
    "  ax.set_xticklabels(\n",
    "      labels, rotation=90)\n",
    "\n",
    "  labels = [label for label in translated_tokens]\n",
    "  ax.set_yticklabels(labels)\n",
    "  \n",
    " "
   ]
  },
  {
   "cell_type": "code",
   "execution_count": 170,
   "id": "1f03c0b6-f806-49cc-aac3-eb047647ebeb",
   "metadata": {},
   "outputs": [
    {
     "data": {
      "text/plain": [
       "torch.Size([15, 15])"
      ]
     },
     "execution_count": 170,
     "metadata": {},
     "output_type": "execute_result"
    }
   ],
   "source": [
    "head = attention11[0]\n",
    "head.shape"
   ]
  },
  {
   "cell_type": "code",
   "execution_count": 171,
   "id": "a3a29d86-aa14-429f-b823-1c8e391e2106",
   "metadata": {},
   "outputs": [],
   "source": [
    "head = head.detach().numpy()"
   ]
  },
  {
   "cell_type": "code",
   "execution_count": 180,
   "id": "148c6112-45e9-444e-b19c-05bbbe4ccd10",
   "metadata": {},
   "outputs": [
    {
     "data": {
      "image/png": "[encoded data removed]",
      "text/plain": [
       "<Figure size 432x288 with 1 Axes>"
      ]
     },
     "metadata": {
      "needs_background": "light"
     },
     "output_type": "display_data"
    }
   ],
   "source": [
    "plot_attention_head(in_tokens=tokens, translated_tokens=tokens, attention=head)"
   ]
  },
  {
   "cell_type": "markdown",
   "id": "2883420b-d4a3-4b00-88a0-61c06e3a9515",
   "metadata": {
    "tags": []
   },
   "source": [
    "### <span style=\"color:blue\">Visualizando los pesos de todas las cabezas de atención</span>"
   ]
  },
  {
   "cell_type": "code",
   "execution_count": 185,
   "id": "e43b3d48-7513-4407-8317-e53dc7a94afd",
   "metadata": {},
   "outputs": [],
   "source": [
    "def plot_attention_weights(sentence, translated_tokens, attention_heads):\n",
    "  in_tokens = sentence\n",
    "  #in_tokens = tokenizers.pt.tokenize(in_tokens).to_tensor()\n",
    "  #in_tokens = tokenizers.pt.lookup(in_tokens)[0]\n",
    "  #in_tokens\n",
    "\n",
    "  fig = plt.figure(figsize=(20, 20))\n",
    "\n",
    "  for h, head in enumerate(attention_heads):\n",
    "    ax = fig.add_subplot(3, 4, h+1)\n",
    "\n",
    "    plot_attention_head(in_tokens, translated_tokens, head)\n",
    "\n",
    "    ax.set_xlabel(f'Head {h+1}')\n",
    "\n",
    "  plt.tight_layout()\n",
    "  plt.show()"
   ]
  },
  {
   "cell_type": "code",
   "execution_count": 186,
   "id": "10fcd7c1-6adf-443b-9244-17dbbf17a106",
   "metadata": {},
   "outputs": [
    {
     "data": {
      "image/png": "[encoded data removed]",
      "text/plain": [
       "<Figure size 1440x1440 with 12 Axes>"
      ]
     },
     "metadata": {
      "needs_background": "light"
     },
     "output_type": "display_data"
    }
   ],
   "source": [
    "heads = attention11.detach().numpy()\n",
    "\n",
    "plot_attention_weights(sentence=tokens, translated_tokens=tokens, \n",
    "                      attention_heads=heads)"
   ]
  },
  {
   "cell_type": "markdown",
   "id": "7ad76f44-a6f6-4e94-a6c5-6f0b022931aa",
   "metadata": {
    "slideshow": {
     "slide_type": "subslide"
    },
    "tags": []
   },
   "source": [
    "[[Volver al inicio]](#Contenido)"
   ]
  },
  {
   "cell_type": "markdown",
   "id": "10fa2f80-91f3-455e-b28a-8041657c5e29",
   "metadata": {
    "slideshow": {
     "slide_type": "subslide"
    },
    "tags": []
   },
   "source": [
    "## <span style=\"color:blue\">GLUE Score</span>"
   ]
  },
  {
   "cell_type": "markdown",
   "id": "1c18ba40-4b5a-4402-943d-a11126b31c53",
   "metadata": {},
   "source": [
    "El procesamiento de Lenguaje Natural (PLN), ha crecido tanto en los últimos años, que ahora se cambia el paradigma sobre las tareas que se deben responder en modelos de lenguaje. Ya no se habla propiamente de PLN, sino de CLN (Comprensión del Lenguaje Natural, NLU).\n",
    "\n",
    "Cabe resaltar algunas diferencias:\n",
    "\n",
    "El **PLN** busca:\n",
    "\n",
    "- Procesar grandes cantidades de datos de lenguaje natural.\n",
    "- Obtener percepciones e información sobre los datos.\n",
    "\n",
    "Pero para que esto ocurra, se debe estandarizar el texto para analizarlo (por ejemplo, procesándolo, quitando palabras vacías, etc...)\n",
    "\n",
    "El **NLU** busca, por otro lado:\n",
    "\n",
    "- Interpretar el lenguaje natural.\n",
    "- Derivar significado.\n",
    "- Identificar el contexto.\n",
    "\n",
    "Para amyor información, se puede leer por ejemplo [NLP vs NLU: What’s The Difference?](https://www.bmc.com/blogs/nlu-vs-nlp-natural-language-understanding-processing/).\n",
    "\n",
    "Como los modelos como BERT son tan útiles para responder a diferentes tareas (todo gracias al **Transfer Learning**), se hace necesario crear alguna especie de métrica que pueda evaluar la capacidad de estos modelos en poder desempeñarse en dichas tareas.\n",
    "\n",
    "Es por esto que con ayuda de varios científicos reconocidos (algunos parte de DeepMind), han creado el Score **GLUE**, para evaluación de modelos del estado del arte (SOTA).\n",
    "\n",
    "En palabras del propio paper:\n",
    "\n",
    "*\"Para que la tecnología de comprensión del lenguaje natural (NLU) sea de máxima utilidad, debe ser capaz de procesar el lenguaje de una manera que no sea exclusiva de una sola tarea, género o conjunto de datos. En pos de este objetivo, presentamos la Evaluación comparativa de comprensión del Lenguaje (GLUE), una colección de herramientas para evaluar el rendimiento de los modelos en un conjunto diverso de tareas NLU existentes. Por Incluyendo tareas con datos de entrenamiento limitados, GLUE está diseñado para favorecer y fomentar modelos que comparten conocimientos lingüísticos generales entre tareas... El bajo rendimiento absoluto de nuestro mejor modelo indica la necesidad de sistemas NLU generales mejorados.\"*"
   ]
  },
  {
   "cell_type": "markdown",
   "id": "00c3075a-d6d1-4539-9dcc-0abc2a238fa6",
   "metadata": {},
   "source": [
    "En la siguiente tabla se puede observar las estadísticas de los conjuntos de datos asociados a **GLUE**:"
   ]
  },
  {
   "cell_type": "markdown",
   "id": "84a184ac-d4df-4ccb-ae65-4852ad658b7f",
   "metadata": {},
   "source": [
    "![GLUE](../Imagenes/GLUE.png)"
   ]
  },
  {
   "cell_type": "markdown",
   "id": "13f80468-c1ec-4302-be27-09ad95ec9fe4",
   "metadata": {
    "slideshow": {
     "slide_type": "subslide"
    },
    "tags": []
   },
   "source": [
    "## <span style=\"color:blue\">Tareas de una sola Frase</span>"
   ]
  },
  {
   "cell_type": "markdown",
   "id": "4ba757af-ecf8-4c3a-a6ae-65ac00c1c310",
   "metadata": {
    "slideshow": {
     "slide_type": "subslide"
    },
    "tags": []
   },
   "source": [
    "### <span style=\"color:blue\">CoLA</span>"
   ]
  },
  {
   "cell_type": "markdown",
   "id": "7c158f76-4834-45c9-a90f-8c6e77f61b1c",
   "metadata": {},
   "source": [
    "El Corpus de Aceptabilidad Lingüística (CoLA) en su forma completa consta de 10657 oraciones de 23 publicaciones lingüísticas, anotadas por expertos para la aceptabilidad (gramaticalidad) por sus autores originales. La versión pública proporcionada aquí contiene 9594 oraciones que pertenecen a conjuntos de entrenamiento y desarrollo, y excluye 1063 oraciones que pertenecen a un conjunto de prueba retenido.\n",
    "\n",
    "El paper del dataset puede ser leído en [Neural Network Acceptability Judgments](https://arxiv.org/pdf/1805.12471.pdf), por Alex Warstadt et al. para mayor información.\n",
    "\n",
    "El dataset puede ser descargado desde la página de GLUE o directamente desde la página origen de [CoLA](https://nyu-mll.github.io/CoLA/).\n",
    "\n",
    "Veamos en qué consisten los datos:"
   ]
  },
  {
   "cell_type": "code",
   "execution_count": 192,
   "id": "121240d5-161f-4be1-ae75-ab91d7b81991",
   "metadata": {},
   "outputs": [
    {
     "data": {
      "text/html": [
       "<div>\n",
       "<style scoped>\n",
       "    .dataframe tbody tr th:only-of-type {\n",
       "        vertical-align: middle;\n",
       "    }\n",
       "\n",
       "    .dataframe tbody tr th {\n",
       "        vertical-align: top;\n",
       "    }\n",
       "\n",
       "    .dataframe thead th {\n",
       "        text-align: right;\n",
       "    }\n",
       "</style>\n",
       "<table border=\"1\" class=\"dataframe\">\n",
       "  <thead>\n",
       "    <tr style=\"text-align: right;\">\n",
       "      <th></th>\n",
       "      <th>0</th>\n",
       "      <th>1</th>\n",
       "      <th>2</th>\n",
       "      <th>3</th>\n",
       "    </tr>\n",
       "  </thead>\n",
       "  <tbody>\n",
       "    <tr>\n",
       "      <th>0</th>\n",
       "      <td>gj04</td>\n",
       "      <td>1</td>\n",
       "      <td>NaN</td>\n",
       "      <td>Our friends won't buy this analysis, let alone...</td>\n",
       "    </tr>\n",
       "    <tr>\n",
       "      <th>1</th>\n",
       "      <td>gj04</td>\n",
       "      <td>1</td>\n",
       "      <td>NaN</td>\n",
       "      <td>One more pseudo generalization and I'm giving up.</td>\n",
       "    </tr>\n",
       "    <tr>\n",
       "      <th>2</th>\n",
       "      <td>gj04</td>\n",
       "      <td>1</td>\n",
       "      <td>NaN</td>\n",
       "      <td>One more pseudo generalization or I'm giving up.</td>\n",
       "    </tr>\n",
       "    <tr>\n",
       "      <th>3</th>\n",
       "      <td>gj04</td>\n",
       "      <td>1</td>\n",
       "      <td>NaN</td>\n",
       "      <td>The more we study verbs, the crazier they get.</td>\n",
       "    </tr>\n",
       "    <tr>\n",
       "      <th>4</th>\n",
       "      <td>gj04</td>\n",
       "      <td>1</td>\n",
       "      <td>NaN</td>\n",
       "      <td>Day by day the facts are getting murkier.</td>\n",
       "    </tr>\n",
       "    <tr>\n",
       "      <th>...</th>\n",
       "      <td>...</td>\n",
       "      <td>...</td>\n",
       "      <td>...</td>\n",
       "      <td>...</td>\n",
       "    </tr>\n",
       "    <tr>\n",
       "      <th>8546</th>\n",
       "      <td>ad03</td>\n",
       "      <td>0</td>\n",
       "      <td>*</td>\n",
       "      <td>Poseidon appears to own a dragon</td>\n",
       "    </tr>\n",
       "    <tr>\n",
       "      <th>8547</th>\n",
       "      <td>ad03</td>\n",
       "      <td>0</td>\n",
       "      <td>*</td>\n",
       "      <td>Digitize is my happiest memory</td>\n",
       "    </tr>\n",
       "    <tr>\n",
       "      <th>8548</th>\n",
       "      <td>ad03</td>\n",
       "      <td>1</td>\n",
       "      <td>NaN</td>\n",
       "      <td>It is easy to slay the Gorgon.</td>\n",
       "    </tr>\n",
       "    <tr>\n",
       "      <th>8549</th>\n",
       "      <td>ad03</td>\n",
       "      <td>1</td>\n",
       "      <td>NaN</td>\n",
       "      <td>I had the strangest feeling that I knew you.</td>\n",
       "    </tr>\n",
       "    <tr>\n",
       "      <th>8550</th>\n",
       "      <td>ad03</td>\n",
       "      <td>1</td>\n",
       "      <td>NaN</td>\n",
       "      <td>What all did you get for Christmas?</td>\n",
       "    </tr>\n",
       "  </tbody>\n",
       "</table>\n",
       "<p>8551 rows × 4 columns</p>\n",
       "</div>"
      ],
      "text/plain": [
       "         0  1    2                                                  3\n",
       "0     gj04  1  NaN  Our friends won't buy this analysis, let alone...\n",
       "1     gj04  1  NaN  One more pseudo generalization and I'm giving up.\n",
       "2     gj04  1  NaN   One more pseudo generalization or I'm giving up.\n",
       "3     gj04  1  NaN     The more we study verbs, the crazier they get.\n",
       "4     gj04  1  NaN          Day by day the facts are getting murkier.\n",
       "...    ... ..  ...                                                ...\n",
       "8546  ad03  0    *                   Poseidon appears to own a dragon\n",
       "8547  ad03  0    *                     Digitize is my happiest memory\n",
       "8548  ad03  1  NaN                     It is easy to slay the Gorgon.\n",
       "8549  ad03  1  NaN       I had the strangest feeling that I knew you.\n",
       "8550  ad03  1  NaN                What all did you get for Christmas?\n",
       "\n",
       "[8551 rows x 4 columns]"
      ]
     },
     "execution_count": 192,
     "metadata": {},
     "output_type": "execute_result"
    }
   ],
   "source": [
    "import pandas as pd\n",
    "\n",
    "CoLA_train = pd.read_csv('../Datos/CoLA/train.tsv',sep='\\t',header=None)\n",
    "CoLA_dev = pd.read_csv('../Datos/CoLA/dev.tsv',sep='\\t',header=None)\n",
    "CoLA_train"
   ]
  },
  {
   "cell_type": "markdown",
   "id": "ead1116b-3932-4c80-a391-ba4beec9be2e",
   "metadata": {},
   "source": [
    "Formato de datos:\n",
    "\n",
    "Cada línea en los archivos .tsv consta de 4 columnas separadas por tabuladores.\n",
    "\n",
    "- Columna 1: el código que representa la fuente de la oración.\n",
    "- Columna 2: la etiqueta del juicio de aceptabilidad (0=inaceptable, 1=aceptable).\n",
    "- Columna 3: el juicio de aceptabilidad tal como lo anotó originalmente el autor.\n",
    "- Columna 4: la oración."
   ]
  },
  {
   "cell_type": "markdown",
   "id": "c298cf70-d955-483c-a268-839ee2404a36",
   "metadata": {},
   "source": [
    "Cabe notar, que en el GLUE, en esta tarea en particular, la precisión de los modelos no basta; se hace necesario calcular la Correlación de Matthews, pues se trata de un problema de clasificación binaria desbalanceado.\n",
    "\n",
    "Una buena introducción a esta métrica se puede encontrar en [Matthews Correlation Coefficient is The Best Classification Metric You’ve Never Heard Of](https://towardsdatascience.com/the-best-classification-metric-youve-never-heard-of-the-matthews-correlation-coefficient-3bf50a2f3e9a)."
   ]
  },
  {
   "cell_type": "markdown",
   "id": "66aa3ac5-6642-4780-b422-c01e5830803e",
   "metadata": {
    "slideshow": {
     "slide_type": "subslide"
    },
    "tags": []
   },
   "source": [
    "[[Volver al inicio]](#Contenido)"
   ]
  },
  {
   "cell_type": "markdown",
   "id": "12d9776f-9d0e-44c6-a1c1-0e3b5d33fdf6",
   "metadata": {
    "slideshow": {
     "slide_type": "subslide"
    },
    "tags": []
   },
   "source": [
    "### <span style=\"color:blue\">SST-2</span>"
   ]
  },
  {
   "cell_type": "markdown",
   "id": "f75ff864-0d24-4aaa-963a-0543bd508bda",
   "metadata": {},
   "source": [
    "Stanford Sentiment Treebank es un corpus con árboles de análisis sintáctico completamente etiquetados que permite un análisis completo de los efectos de composición del sentimiento en el lenguaje. El corpus se basa en el conjunto de datos presentado por Pang y Lee (2005) y consta de 11.855 oraciones individuales extraídas de reseñas de películas. Se analizó con el analizador de Stanford e incluye un total de 215.154 frases únicas de esos árboles de análisis, cada una anotada por 3 jueces humanos.\n",
    "\n",
    "Cada frase está etiquetada como negativa, algo negativa, neutral, algo positiva o positiva. El corpus con las 5 etiquetas se denomina SST-5 o SST de grano fino. Los experimentos de clasificación binaria en oraciones completas (negativas o algo negativas versus algo positivas o positivas con oraciones neutras descartadas) se refieren al conjunto de datos como SST-2 o SST binario.\n",
    "\n",
    "El paper del dataset puede ser leído en [Recursive Deep Models for Semantic Compositionality\n",
    "Over a Sentiment Treebank](https://nlp.stanford.edu/~socherr/EMNLP2013_RNTN.pdf), por Richard Socher et al. para mayor información.\n",
    "\n",
    "El dataset puede ser descargado desde la página de GLUE o directamente desde la página origen de [Sentiment Analysis](https://nlp.stanford.edu/sentiment/) de la Universidad de Standford.\n",
    "\n",
    "Veamos en qué consisten los datos:"
   ]
  },
  {
   "cell_type": "code",
   "execution_count": 194,
   "id": "086268e8-5ebd-478f-ac52-482054f153fa",
   "metadata": {},
   "outputs": [
    {
     "data": {
      "text/html": [
       "<div>\n",
       "<style scoped>\n",
       "    .dataframe tbody tr th:only-of-type {\n",
       "        vertical-align: middle;\n",
       "    }\n",
       "\n",
       "    .dataframe tbody tr th {\n",
       "        vertical-align: top;\n",
       "    }\n",
       "\n",
       "    .dataframe thead th {\n",
       "        text-align: right;\n",
       "    }\n",
       "</style>\n",
       "<table border=\"1\" class=\"dataframe\">\n",
       "  <thead>\n",
       "    <tr style=\"text-align: right;\">\n",
       "      <th></th>\n",
       "      <th>sentence</th>\n",
       "      <th>label</th>\n",
       "    </tr>\n",
       "  </thead>\n",
       "  <tbody>\n",
       "    <tr>\n",
       "      <th>0</th>\n",
       "      <td>hide new secretions from the parental units</td>\n",
       "      <td>0</td>\n",
       "    </tr>\n",
       "    <tr>\n",
       "      <th>1</th>\n",
       "      <td>contains no wit , only labored gags</td>\n",
       "      <td>0</td>\n",
       "    </tr>\n",
       "    <tr>\n",
       "      <th>2</th>\n",
       "      <td>that loves its characters and communicates som...</td>\n",
       "      <td>1</td>\n",
       "    </tr>\n",
       "    <tr>\n",
       "      <th>3</th>\n",
       "      <td>remains utterly satisfied to remain the same t...</td>\n",
       "      <td>0</td>\n",
       "    </tr>\n",
       "    <tr>\n",
       "      <th>4</th>\n",
       "      <td>on the worst revenge-of-the-nerds clichés the ...</td>\n",
       "      <td>0</td>\n",
       "    </tr>\n",
       "    <tr>\n",
       "      <th>...</th>\n",
       "      <td>...</td>\n",
       "      <td>...</td>\n",
       "    </tr>\n",
       "    <tr>\n",
       "      <th>67344</th>\n",
       "      <td>a delightful comedy</td>\n",
       "      <td>1</td>\n",
       "    </tr>\n",
       "    <tr>\n",
       "      <th>67345</th>\n",
       "      <td>anguish , anger and frustration</td>\n",
       "      <td>0</td>\n",
       "    </tr>\n",
       "    <tr>\n",
       "      <th>67346</th>\n",
       "      <td>at achieving the modest , crowd-pleasing goals...</td>\n",
       "      <td>1</td>\n",
       "    </tr>\n",
       "    <tr>\n",
       "      <th>67347</th>\n",
       "      <td>a patient viewer</td>\n",
       "      <td>1</td>\n",
       "    </tr>\n",
       "    <tr>\n",
       "      <th>67348</th>\n",
       "      <td>this new jangle of noise , mayhem and stupidit...</td>\n",
       "      <td>0</td>\n",
       "    </tr>\n",
       "  </tbody>\n",
       "</table>\n",
       "<p>67349 rows × 2 columns</p>\n",
       "</div>"
      ],
      "text/plain": [
       "                                                sentence  label\n",
       "0           hide new secretions from the parental units       0\n",
       "1                   contains no wit , only labored gags       0\n",
       "2      that loves its characters and communicates som...      1\n",
       "3      remains utterly satisfied to remain the same t...      0\n",
       "4      on the worst revenge-of-the-nerds clichés the ...      0\n",
       "...                                                  ...    ...\n",
       "67344                               a delightful comedy       1\n",
       "67345                   anguish , anger and frustration       0\n",
       "67346  at achieving the modest , crowd-pleasing goals...      1\n",
       "67347                                  a patient viewer       1\n",
       "67348  this new jangle of noise , mayhem and stupidit...      0\n",
       "\n",
       "[67349 rows x 2 columns]"
      ]
     },
     "execution_count": 194,
     "metadata": {},
     "output_type": "execute_result"
    }
   ],
   "source": [
    "import pandas as pd\n",
    "\n",
    "SST2_train = pd.read_csv('../Datos/SST-2/train.tsv',sep='\\t')\n",
    "SST2_train"
   ]
  },
  {
   "cell_type": "markdown",
   "id": "dde1db96-1909-4f48-b3b2-9b8035530ac7",
   "metadata": {},
   "source": [
    "En esta tarea, basta con el accuracy del modelo (precisión)."
   ]
  },
  {
   "cell_type": "markdown",
   "id": "ac95ac04-f755-4c10-b83c-2ea59ce12a84",
   "metadata": {
    "slideshow": {
     "slide_type": "subslide"
    },
    "tags": []
   },
   "source": [
    "[[Volver al inicio]](#Contenido)"
   ]
  },
  {
   "cell_type": "markdown",
   "id": "f26fe8fc-2ad3-4353-8a7a-dd672ca2e0f0",
   "metadata": {
    "slideshow": {
     "slide_type": "subslide"
    },
    "tags": []
   },
   "source": [
    "## <span style=\"color:blue\">Tareas de Similaridad entre Frases</span>"
   ]
  },
  {
   "cell_type": "markdown",
   "id": "c593a52b-6003-4841-9141-303a4192ab82",
   "metadata": {
    "slideshow": {
     "slide_type": "subslide"
    },
    "tags": []
   },
   "source": [
    "### <span style=\"color:blue\">MRPC</span>"
   ]
  },
  {
   "cell_type": "markdown",
   "id": "1e47f151-d13f-46e9-a3c7-a48dfb12133c",
   "metadata": {},
   "source": [
    "Microsoft Research Paraphrase Corpus (Dolan & Brockett, 2005) es un corpus de pares de oraciones extraídos automáticamente de fuentes de noticias en línea, con anotaciones humanas para determinar si las oraciones en el par son semánticamente equivalentes. Porque las clases están desequilibradas (68% positivo), seguimos la práctica común e informamos tanto la precisión como la puntuación F1.\n",
    "\n",
    "Para usuarios Mac/Linux no es trivial la lectura del dataset, por lo cual se recomienda leer esta referencia para poder leerlo de manera adecuada: [Script for downloading all GLUE data](https://github.com/nyu-mll/GLUE-baselines/blob/master/download_glue_data.py)\n",
    "\n",
    "Veamos en qué consisten los datos:"
   ]
  },
  {
   "cell_type": "code",
   "execution_count": 213,
   "id": "a087ddff-e076-41ca-b599-05386477533e",
   "metadata": {},
   "outputs": [
    {
     "data": {
      "text/html": [
       "<div>\n",
       "<style scoped>\n",
       "    .dataframe tbody tr th:only-of-type {\n",
       "        vertical-align: middle;\n",
       "    }\n",
       "\n",
       "    .dataframe tbody tr th {\n",
       "        vertical-align: top;\n",
       "    }\n",
       "\n",
       "    .dataframe thead th {\n",
       "        text-align: right;\n",
       "    }\n",
       "</style>\n",
       "<table border=\"1\" class=\"dataframe\">\n",
       "  <thead>\n",
       "    <tr style=\"text-align: right;\">\n",
       "      <th></th>\n",
       "      <th>Quality</th>\n",
       "      <th>#1 ID</th>\n",
       "      <th>#2 ID</th>\n",
       "      <th>#1 String</th>\n",
       "      <th>#2 String</th>\n",
       "    </tr>\n",
       "  </thead>\n",
       "  <tbody>\n",
       "    <tr>\n",
       "      <th>0</th>\n",
       "      <td>1</td>\n",
       "      <td>1089874</td>\n",
       "      <td>1089925</td>\n",
       "      <td>PCCW's chief operating officer, Mike Butcher, ...</td>\n",
       "      <td>Current Chief Operating Officer Mike Butcher a...</td>\n",
       "    </tr>\n",
       "    <tr>\n",
       "      <th>1</th>\n",
       "      <td>1</td>\n",
       "      <td>3019446</td>\n",
       "      <td>3019327</td>\n",
       "      <td>The world's two largest automakers said their ...</td>\n",
       "      <td>Domestic sales at both GM and No. 2 Ford Motor...</td>\n",
       "    </tr>\n",
       "    <tr>\n",
       "      <th>2</th>\n",
       "      <td>1</td>\n",
       "      <td>1945605</td>\n",
       "      <td>1945824</td>\n",
       "      <td>According to the federal Centers for Disease C...</td>\n",
       "      <td>The Centers for Disease Control and Prevention...</td>\n",
       "    </tr>\n",
       "    <tr>\n",
       "      <th>3</th>\n",
       "      <td>0</td>\n",
       "      <td>1430402</td>\n",
       "      <td>1430329</td>\n",
       "      <td>A tropical storm rapidly developed in the Gulf...</td>\n",
       "      <td>A tropical storm rapidly developed in the Gulf...</td>\n",
       "    </tr>\n",
       "    <tr>\n",
       "      <th>4</th>\n",
       "      <td>0</td>\n",
       "      <td>3354381</td>\n",
       "      <td>3354396</td>\n",
       "      <td>The company didn't detail the costs of the rep...</td>\n",
       "      <td>But company officials expect the costs of the ...</td>\n",
       "    </tr>\n",
       "    <tr>\n",
       "      <th>...</th>\n",
       "      <td>...</td>\n",
       "      <td>...</td>\n",
       "      <td>...</td>\n",
       "      <td>...</td>\n",
       "      <td>...</td>\n",
       "    </tr>\n",
       "    <tr>\n",
       "      <th>1720</th>\n",
       "      <td>0</td>\n",
       "      <td>2685984</td>\n",
       "      <td>2686122</td>\n",
       "      <td>After Hughes refused to rehire Hernandez, he c...</td>\n",
       "      <td>Hernandez filed an Equal Employment Opportunit...</td>\n",
       "    </tr>\n",
       "    <tr>\n",
       "      <th>1721</th>\n",
       "      <td>0</td>\n",
       "      <td>339215</td>\n",
       "      <td>339172</td>\n",
       "      <td>There are 103 Democrats in the Assembly and 47...</td>\n",
       "      <td>Democrats dominate the Assembly while Republic...</td>\n",
       "    </tr>\n",
       "    <tr>\n",
       "      <th>1722</th>\n",
       "      <td>0</td>\n",
       "      <td>2996850</td>\n",
       "      <td>2996734</td>\n",
       "      <td>Bethany Hamilton remained in stable condition ...</td>\n",
       "      <td>Bethany, who remained in stable condition afte...</td>\n",
       "    </tr>\n",
       "    <tr>\n",
       "      <th>1723</th>\n",
       "      <td>1</td>\n",
       "      <td>2095781</td>\n",
       "      <td>2095812</td>\n",
       "      <td>Last week the power station’s US owners, AES C...</td>\n",
       "      <td>The news comes after Drax's American owner, AE...</td>\n",
       "    </tr>\n",
       "    <tr>\n",
       "      <th>1724</th>\n",
       "      <td>1</td>\n",
       "      <td>2136244</td>\n",
       "      <td>2136052</td>\n",
       "      <td>Sobig.F spreads when unsuspecting computer use...</td>\n",
       "      <td>The virus spreads when unsuspecting computer u...</td>\n",
       "    </tr>\n",
       "  </tbody>\n",
       "</table>\n",
       "<p>1725 rows × 5 columns</p>\n",
       "</div>"
      ],
      "text/plain": [
       "      Quality    #1 ID    #2 ID  \\\n",
       "0           1  1089874  1089925   \n",
       "1           1  3019446  3019327   \n",
       "2           1  1945605  1945824   \n",
       "3           0  1430402  1430329   \n",
       "4           0  3354381  3354396   \n",
       "...       ...      ...      ...   \n",
       "1720        0  2685984  2686122   \n",
       "1721        0   339215   339172   \n",
       "1722        0  2996850  2996734   \n",
       "1723        1  2095781  2095812   \n",
       "1724        1  2136244  2136052   \n",
       "\n",
       "                                              #1 String  \\\n",
       "0     PCCW's chief operating officer, Mike Butcher, ...   \n",
       "1     The world's two largest automakers said their ...   \n",
       "2     According to the federal Centers for Disease C...   \n",
       "3     A tropical storm rapidly developed in the Gulf...   \n",
       "4     The company didn't detail the costs of the rep...   \n",
       "...                                                 ...   \n",
       "1720  After Hughes refused to rehire Hernandez, he c...   \n",
       "1721  There are 103 Democrats in the Assembly and 47...   \n",
       "1722  Bethany Hamilton remained in stable condition ...   \n",
       "1723  Last week the power station’s US owners, AES C...   \n",
       "1724  Sobig.F spreads when unsuspecting computer use...   \n",
       "\n",
       "                                              #2 String  \n",
       "0     Current Chief Operating Officer Mike Butcher a...  \n",
       "1     Domestic sales at both GM and No. 2 Ford Motor...  \n",
       "2     The Centers for Disease Control and Prevention...  \n",
       "3     A tropical storm rapidly developed in the Gulf...  \n",
       "4     But company officials expect the costs of the ...  \n",
       "...                                                 ...  \n",
       "1720  Hernandez filed an Equal Employment Opportunit...  \n",
       "1721  Democrats dominate the Assembly while Republic...  \n",
       "1722  Bethany, who remained in stable condition afte...  \n",
       "1723  The news comes after Drax's American owner, AE...  \n",
       "1724  The virus spreads when unsuspecting computer u...  \n",
       "\n",
       "[1725 rows x 5 columns]"
      ]
     },
     "execution_count": 213,
     "metadata": {},
     "output_type": "execute_result"
    }
   ],
   "source": [
    "import pandas as pd\n",
    "\n",
    "MRPC = pd.read_csv('../Datos/MRPC/msr_paraphrase_test.txt',sep='\\t+',engine='python')\n",
    "MRPC"
   ]
  },
  {
   "cell_type": "markdown",
   "id": "790a75fc-b48c-4a45-84cb-56134c9b7959",
   "metadata": {
    "slideshow": {
     "slide_type": "subslide"
    },
    "tags": []
   },
   "source": [
    "[[Volver al inicio]](#Contenido)"
   ]
  },
  {
   "cell_type": "markdown",
   "id": "465e32df-909c-4a94-8f4f-e7333a2d8e37",
   "metadata": {
    "slideshow": {
     "slide_type": "subslide"
    },
    "tags": []
   },
   "source": [
    "### <span style=\"color:blue\">SST-B</span>"
   ]
  },
  {
   "cell_type": "markdown",
   "id": "9da37a00-651b-42f6-a0ac-a1022b70e94e",
   "metadata": {},
   "source": [
    "Creado por Cer et al. en 2017, en el Semantic Textual Similarity Benchmark, la tarea es predecir la similitud textual entre pares de oraciones, en idioma inglés. \n",
    "\n",
    "Contiene 8.628 en formato de archivo CSV.\n",
    "\n",
    "Referencias sobre su construcción puede ser encontrado en [SemEval-2017 Task 1: Semantic Textual Similarity\n",
    "Multilingual and Cross-lingual Focused Evaluation](https://arxiv.org/pdf/1708.00055.pdf).\n",
    "\n",
    "Veamos en qué consisten los datos:"
   ]
  },
  {
   "cell_type": "code",
   "execution_count": 215,
   "id": "b1d78e70-919f-4a30-859c-b0c6b8c9b091",
   "metadata": {},
   "outputs": [
    {
     "data": {
      "text/html": [
       "<div>\n",
       "<style scoped>\n",
       "    .dataframe tbody tr th:only-of-type {\n",
       "        vertical-align: middle;\n",
       "    }\n",
       "\n",
       "    .dataframe tbody tr th {\n",
       "        vertical-align: top;\n",
       "    }\n",
       "\n",
       "    .dataframe thead th {\n",
       "        text-align: right;\n",
       "    }\n",
       "</style>\n",
       "<table border=\"1\" class=\"dataframe\">\n",
       "  <thead>\n",
       "    <tr style=\"text-align: right;\">\n",
       "      <th></th>\n",
       "      <th>genre</th>\n",
       "      <th>filename</th>\n",
       "      <th>year</th>\n",
       "      <th>old_index</th>\n",
       "      <th>source1</th>\n",
       "      <th>source2</th>\n",
       "      <th>sentence1</th>\n",
       "      <th>sentence2</th>\n",
       "      <th>score</th>\n",
       "    </tr>\n",
       "    <tr>\n",
       "      <th>index</th>\n",
       "      <th></th>\n",
       "      <th></th>\n",
       "      <th></th>\n",
       "      <th></th>\n",
       "      <th></th>\n",
       "      <th></th>\n",
       "      <th></th>\n",
       "      <th></th>\n",
       "      <th></th>\n",
       "    </tr>\n",
       "  </thead>\n",
       "  <tbody>\n",
       "    <tr>\n",
       "      <th>0</th>\n",
       "      <td>main-captions</td>\n",
       "      <td>MSRvid</td>\n",
       "      <td>2012test</td>\n",
       "      <td>1</td>\n",
       "      <td>none</td>\n",
       "      <td>none</td>\n",
       "      <td>A plane is taking off.</td>\n",
       "      <td>An air plane is taking off.</td>\n",
       "      <td>5.00</td>\n",
       "    </tr>\n",
       "    <tr>\n",
       "      <th>1</th>\n",
       "      <td>main-captions</td>\n",
       "      <td>MSRvid</td>\n",
       "      <td>2012test</td>\n",
       "      <td>4</td>\n",
       "      <td>none</td>\n",
       "      <td>none</td>\n",
       "      <td>A man is playing a large flute.</td>\n",
       "      <td>A man is playing a flute.</td>\n",
       "      <td>3.80</td>\n",
       "    </tr>\n",
       "    <tr>\n",
       "      <th>2</th>\n",
       "      <td>main-captions</td>\n",
       "      <td>MSRvid</td>\n",
       "      <td>2012test</td>\n",
       "      <td>5</td>\n",
       "      <td>none</td>\n",
       "      <td>none</td>\n",
       "      <td>A man is spreading shreded cheese on a pizza.</td>\n",
       "      <td>A man is spreading shredded cheese on an uncoo...</td>\n",
       "      <td>3.80</td>\n",
       "    </tr>\n",
       "    <tr>\n",
       "      <th>3</th>\n",
       "      <td>main-captions</td>\n",
       "      <td>MSRvid</td>\n",
       "      <td>2012test</td>\n",
       "      <td>6</td>\n",
       "      <td>none</td>\n",
       "      <td>none</td>\n",
       "      <td>Three men are playing chess.</td>\n",
       "      <td>Two men are playing chess.</td>\n",
       "      <td>2.60</td>\n",
       "    </tr>\n",
       "    <tr>\n",
       "      <th>4</th>\n",
       "      <td>main-captions</td>\n",
       "      <td>MSRvid</td>\n",
       "      <td>2012test</td>\n",
       "      <td>9</td>\n",
       "      <td>none</td>\n",
       "      <td>none</td>\n",
       "      <td>A man is playing the cello.</td>\n",
       "      <td>A man seated is playing the cello.</td>\n",
       "      <td>4.25</td>\n",
       "    </tr>\n",
       "    <tr>\n",
       "      <th>...</th>\n",
       "      <td>...</td>\n",
       "      <td>...</td>\n",
       "      <td>...</td>\n",
       "      <td>...</td>\n",
       "      <td>...</td>\n",
       "      <td>...</td>\n",
       "      <td>...</td>\n",
       "      <td>...</td>\n",
       "      <td>...</td>\n",
       "    </tr>\n",
       "    <tr>\n",
       "      <th>5744</th>\n",
       "      <td>main-news</td>\n",
       "      <td>headlines</td>\n",
       "      <td>2016</td>\n",
       "      <td>1456</td>\n",
       "      <td>Europe Media Monitor (http://emm.newsbrief.eu)</td>\n",
       "      <td>Europe Media Monitor (http://emm.newsbrief.eu)</td>\n",
       "      <td>Severe Gales As Storm Clodagh Hits Britain</td>\n",
       "      <td>Merkel pledges NATO solidarity with Latvia</td>\n",
       "      <td>0.00</td>\n",
       "    </tr>\n",
       "    <tr>\n",
       "      <th>5745</th>\n",
       "      <td>main-news</td>\n",
       "      <td>headlines</td>\n",
       "      <td>2016</td>\n",
       "      <td>1465</td>\n",
       "      <td>Europe Media Monitor (http://emm.newsbrief.eu)</td>\n",
       "      <td>Europe Media Monitor (http://emm.newsbrief.eu)</td>\n",
       "      <td>Dozens of Egyptians hostages taken by Libyan t...</td>\n",
       "      <td>Egyptian boat crash death toll rises as more b...</td>\n",
       "      <td>0.00</td>\n",
       "    </tr>\n",
       "    <tr>\n",
       "      <th>5746</th>\n",
       "      <td>main-news</td>\n",
       "      <td>headlines</td>\n",
       "      <td>2016</td>\n",
       "      <td>1466</td>\n",
       "      <td>Europe Media Monitor (http://emm.newsbrief.eu)</td>\n",
       "      <td>Europe Media Monitor (http://emm.newsbrief.eu)</td>\n",
       "      <td>President heading to Bahrain</td>\n",
       "      <td>President Xi: China to continue help to fight ...</td>\n",
       "      <td>0.00</td>\n",
       "    </tr>\n",
       "    <tr>\n",
       "      <th>5747</th>\n",
       "      <td>main-news</td>\n",
       "      <td>headlines</td>\n",
       "      <td>2016</td>\n",
       "      <td>1470</td>\n",
       "      <td>Europe Media Monitor (http://emm.newsbrief.eu)</td>\n",
       "      <td>Europe Media Monitor (http://emm.newsbrief.eu)</td>\n",
       "      <td>China, India vow to further bilateral ties</td>\n",
       "      <td>China Scrambles to Reassure Jittery Stock Traders</td>\n",
       "      <td>0.00</td>\n",
       "    </tr>\n",
       "    <tr>\n",
       "      <th>5748</th>\n",
       "      <td>main-news</td>\n",
       "      <td>headlines</td>\n",
       "      <td>2016</td>\n",
       "      <td>1492</td>\n",
       "      <td>Europe Media Monitor (http://emm.newsbrief.eu)</td>\n",
       "      <td>Europe Media Monitor (http://emm.newsbrief.eu)</td>\n",
       "      <td>Putin spokesman: Doping charges appear unfounded</td>\n",
       "      <td>The Latest on Severe Weather: 1 Dead in Texas ...</td>\n",
       "      <td>0.00</td>\n",
       "    </tr>\n",
       "  </tbody>\n",
       "</table>\n",
       "<p>5749 rows × 9 columns</p>\n",
       "</div>"
      ],
      "text/plain": [
       "               genre   filename      year  old_index  \\\n",
       "index                                                  \n",
       "0      main-captions     MSRvid  2012test          1   \n",
       "1      main-captions     MSRvid  2012test          4   \n",
       "2      main-captions     MSRvid  2012test          5   \n",
       "3      main-captions     MSRvid  2012test          6   \n",
       "4      main-captions     MSRvid  2012test          9   \n",
       "...              ...        ...       ...        ...   \n",
       "5744       main-news  headlines      2016       1456   \n",
       "5745       main-news  headlines      2016       1465   \n",
       "5746       main-news  headlines      2016       1466   \n",
       "5747       main-news  headlines      2016       1470   \n",
       "5748       main-news  headlines      2016       1492   \n",
       "\n",
       "                                              source1  \\\n",
       "index                                                   \n",
       "0                                                none   \n",
       "1                                                none   \n",
       "2                                                none   \n",
       "3                                                none   \n",
       "4                                                none   \n",
       "...                                               ...   \n",
       "5744   Europe Media Monitor (http://emm.newsbrief.eu)   \n",
       "5745   Europe Media Monitor (http://emm.newsbrief.eu)   \n",
       "5746   Europe Media Monitor (http://emm.newsbrief.eu)   \n",
       "5747   Europe Media Monitor (http://emm.newsbrief.eu)   \n",
       "5748   Europe Media Monitor (http://emm.newsbrief.eu)   \n",
       "\n",
       "                                              source2  \\\n",
       "index                                                   \n",
       "0                                                none   \n",
       "1                                                none   \n",
       "2                                                none   \n",
       "3                                                none   \n",
       "4                                                none   \n",
       "...                                               ...   \n",
       "5744   Europe Media Monitor (http://emm.newsbrief.eu)   \n",
       "5745   Europe Media Monitor (http://emm.newsbrief.eu)   \n",
       "5746   Europe Media Monitor (http://emm.newsbrief.eu)   \n",
       "5747   Europe Media Monitor (http://emm.newsbrief.eu)   \n",
       "5748   Europe Media Monitor (http://emm.newsbrief.eu)   \n",
       "\n",
       "                                               sentence1  \\\n",
       "index                                                      \n",
       "0                                 A plane is taking off.   \n",
       "1                        A man is playing a large flute.   \n",
       "2          A man is spreading shreded cheese on a pizza.   \n",
       "3                           Three men are playing chess.   \n",
       "4                            A man is playing the cello.   \n",
       "...                                                  ...   \n",
       "5744          Severe Gales As Storm Clodagh Hits Britain   \n",
       "5745   Dozens of Egyptians hostages taken by Libyan t...   \n",
       "5746                        President heading to Bahrain   \n",
       "5747          China, India vow to further bilateral ties   \n",
       "5748    Putin spokesman: Doping charges appear unfounded   \n",
       "\n",
       "                                               sentence2  score  \n",
       "index                                                            \n",
       "0                            An air plane is taking off.   5.00  \n",
       "1                              A man is playing a flute.   3.80  \n",
       "2      A man is spreading shredded cheese on an uncoo...   3.80  \n",
       "3                             Two men are playing chess.   2.60  \n",
       "4                     A man seated is playing the cello.   4.25  \n",
       "...                                                  ...    ...  \n",
       "5744          Merkel pledges NATO solidarity with Latvia   0.00  \n",
       "5745   Egyptian boat crash death toll rises as more b...   0.00  \n",
       "5746   President Xi: China to continue help to fight ...   0.00  \n",
       "5747   China Scrambles to Reassure Jittery Stock Traders   0.00  \n",
       "5748   The Latest on Severe Weather: 1 Dead in Texas ...   0.00  \n",
       "\n",
       "[5749 rows x 9 columns]"
      ]
     },
     "execution_count": 215,
     "metadata": {},
     "output_type": "execute_result"
    }
   ],
   "source": [
    "import pandas as pd\n",
    "\n",
    "MRPC = pd.read_csv('../Datos/STS-B/train.tsv',sep='\\t+',engine='python',index_col=0)\n",
    "MRPC"
   ]
  },
  {
   "cell_type": "markdown",
   "id": "912c919a-bbcc-4ec4-951c-246bfd2d982c",
   "metadata": {},
   "source": [
    "Notemos que la tarea de este dataset no es de clasificación, sino de **regresión**.\n",
    "\n",
    "Por esto, las métricas usadas para su evaluación son las correlaciones de Pearson/Spearman."
   ]
  },
  {
   "cell_type": "markdown",
   "id": "dcaa697a-348b-42c5-b9ce-04a16d1743f2",
   "metadata": {
    "slideshow": {
     "slide_type": "subslide"
    },
    "tags": []
   },
   "source": [
    "[[Volver al inicio]](#Contenido)"
   ]
  },
  {
   "cell_type": "markdown",
   "id": "a5e0768f-2202-4cc4-9468-76e5fd4cca8b",
   "metadata": {
    "slideshow": {
     "slide_type": "subslide"
    },
    "tags": []
   },
   "source": [
    "### <span style=\"color:blue\">QQP</span>"
   ]
  },
  {
   "cell_type": "markdown",
   "id": "fc7da488-e778-4c66-af8f-59a37c638ef9",
   "metadata": {},
   "source": [
    "El conjunto de datos de pares de preguntas de Quora (QQP) consta de más de 400.000 pares de preguntas.\n",
    "\n",
    "Cada par de preguntas se anota con un valor binario que indica si las dos preguntas se parafrasean entre sí. \n",
    "\n",
    "Referencias sobre su construcción puede ser encontrado en [First Quora Dataset Release: Question Pairs](https://quoradata.quora.com/First-Quora-Dataset-Release-Question-Pairs.)\n",
    "\n",
    "Veamos en qué consisten los datos:"
   ]
  },
  {
   "cell_type": "code",
   "execution_count": 216,
   "id": "04904df3-8467-4cf7-b390-338322e5f662",
   "metadata": {},
   "outputs": [
    {
     "data": {
      "text/html": [
       "<div>\n",
       "<style scoped>\n",
       "    .dataframe tbody tr th:only-of-type {\n",
       "        vertical-align: middle;\n",
       "    }\n",
       "\n",
       "    .dataframe tbody tr th {\n",
       "        vertical-align: top;\n",
       "    }\n",
       "\n",
       "    .dataframe thead th {\n",
       "        text-align: right;\n",
       "    }\n",
       "</style>\n",
       "<table border=\"1\" class=\"dataframe\">\n",
       "  <thead>\n",
       "    <tr style=\"text-align: right;\">\n",
       "      <th></th>\n",
       "      <th>qid1</th>\n",
       "      <th>qid2</th>\n",
       "      <th>question1</th>\n",
       "      <th>question2</th>\n",
       "      <th>is_duplicate</th>\n",
       "    </tr>\n",
       "    <tr>\n",
       "      <th>id</th>\n",
       "      <th></th>\n",
       "      <th></th>\n",
       "      <th></th>\n",
       "      <th></th>\n",
       "      <th></th>\n",
       "    </tr>\n",
       "  </thead>\n",
       "  <tbody>\n",
       "    <tr>\n",
       "      <th>133273</th>\n",
       "      <td>213221</td>\n",
       "      <td>213222</td>\n",
       "      <td>How is the life of a math student? Could you d...</td>\n",
       "      <td>Which level of prepration is enough for the ex...</td>\n",
       "      <td>0</td>\n",
       "    </tr>\n",
       "    <tr>\n",
       "      <th>402555</th>\n",
       "      <td>536040</td>\n",
       "      <td>536041</td>\n",
       "      <td>How do I control my horny emotions?</td>\n",
       "      <td>How do you control your horniness?</td>\n",
       "      <td>1</td>\n",
       "    </tr>\n",
       "    <tr>\n",
       "      <th>360472</th>\n",
       "      <td>364011</td>\n",
       "      <td>490273</td>\n",
       "      <td>What causes stool color to change to yellow?</td>\n",
       "      <td>What can cause stool to come out as little balls?</td>\n",
       "      <td>0</td>\n",
       "    </tr>\n",
       "    <tr>\n",
       "      <th>150662</th>\n",
       "      <td>155721</td>\n",
       "      <td>7256</td>\n",
       "      <td>What can one do after MBBS?</td>\n",
       "      <td>What do i do after my MBBS ?</td>\n",
       "      <td>1</td>\n",
       "    </tr>\n",
       "    <tr>\n",
       "      <th>183004</th>\n",
       "      <td>279958</td>\n",
       "      <td>279959</td>\n",
       "      <td>Where can I find a power outlet for my laptop ...</td>\n",
       "      <td>Would a second airport in Sydney, Australia be...</td>\n",
       "      <td>0</td>\n",
       "    </tr>\n",
       "    <tr>\n",
       "      <th>...</th>\n",
       "      <td>...</td>\n",
       "      <td>...</td>\n",
       "      <td>...</td>\n",
       "      <td>...</td>\n",
       "      <td>...</td>\n",
       "    </tr>\n",
       "    <tr>\n",
       "      <th>57443</th>\n",
       "      <td>100941</td>\n",
       "      <td>83372</td>\n",
       "      <td>How do I make money flying my drone?</td>\n",
       "      <td>How can I use a dji phantom to make money</td>\n",
       "      <td>1</td>\n",
       "    </tr>\n",
       "    <tr>\n",
       "      <th>278260</th>\n",
       "      <td>62873</td>\n",
       "      <td>34460</td>\n",
       "      <td>What can you do with an economics degree?</td>\n",
       "      <td>What jobs can you get with an economics degree?</td>\n",
       "      <td>1</td>\n",
       "    </tr>\n",
       "    <tr>\n",
       "      <th>136211</th>\n",
       "      <td>217377</td>\n",
       "      <td>217378</td>\n",
       "      <td>What type of current does a battery produce?</td>\n",
       "      <td>How does a generator work and produce current?</td>\n",
       "      <td>0</td>\n",
       "    </tr>\n",
       "    <tr>\n",
       "      <th>302720</th>\n",
       "      <td>425744</td>\n",
       "      <td>285638</td>\n",
       "      <td>Grammar: What is difference between schedule a...</td>\n",
       "      <td>How do I understand the difference between the...</td>\n",
       "      <td>0</td>\n",
       "    </tr>\n",
       "    <tr>\n",
       "      <th>126322</th>\n",
       "      <td>39774</td>\n",
       "      <td>20105</td>\n",
       "      <td>What is the easiest way to earn money using in...</td>\n",
       "      <td>How can I earn money online easily?</td>\n",
       "      <td>1</td>\n",
       "    </tr>\n",
       "  </tbody>\n",
       "</table>\n",
       "<p>363846 rows × 5 columns</p>\n",
       "</div>"
      ],
      "text/plain": [
       "          qid1    qid2                                          question1  \\\n",
       "id                                                                          \n",
       "133273  213221  213222  How is the life of a math student? Could you d...   \n",
       "402555  536040  536041                How do I control my horny emotions?   \n",
       "360472  364011  490273       What causes stool color to change to yellow?   \n",
       "150662  155721    7256                        What can one do after MBBS?   \n",
       "183004  279958  279959  Where can I find a power outlet for my laptop ...   \n",
       "...        ...     ...                                                ...   \n",
       "57443   100941   83372               How do I make money flying my drone?   \n",
       "278260   62873   34460          What can you do with an economics degree?   \n",
       "136211  217377  217378       What type of current does a battery produce?   \n",
       "302720  425744  285638  Grammar: What is difference between schedule a...   \n",
       "126322   39774   20105  What is the easiest way to earn money using in...   \n",
       "\n",
       "                                                question2  is_duplicate  \n",
       "id                                                                       \n",
       "133273  Which level of prepration is enough for the ex...             0  \n",
       "402555                 How do you control your horniness?             1  \n",
       "360472  What can cause stool to come out as little balls?             0  \n",
       "150662                       What do i do after my MBBS ?             1  \n",
       "183004  Would a second airport in Sydney, Australia be...             0  \n",
       "...                                                   ...           ...  \n",
       "57443           How can I use a dji phantom to make money             1  \n",
       "278260    What jobs can you get with an economics degree?             1  \n",
       "136211     How does a generator work and produce current?             0  \n",
       "302720  How do I understand the difference between the...             0  \n",
       "126322                How can I earn money online easily?             1  \n",
       "\n",
       "[363846 rows x 5 columns]"
      ]
     },
     "execution_count": 216,
     "metadata": {},
     "output_type": "execute_result"
    }
   ],
   "source": [
    "import pandas as pd\n",
    "\n",
    "MRPC = pd.read_csv('../Datos/QQP/train.tsv',sep='\\t+',engine='python',index_col=0)\n",
    "MRPC"
   ]
  },
  {
   "cell_type": "markdown",
   "id": "dd3a7f79-aaea-49e7-b7f1-2dcdcd302b95",
   "metadata": {},
   "source": [
    "Como en MRPC, la distribución de clases en QQP está desequilibrada (63% negativa), por lo que informar tanto la precisión como la puntuación F1. Usamos el conjunto de prueba estándar, para el cual obtuvimos etiquetas privadas de los autores. Observamos que el conjunto de prueba tiene una distribución de etiquetas diferente a la del conjunto de entrenamiento."
   ]
  },
  {
   "cell_type": "markdown",
   "id": "bcca786c-6133-46d8-9979-af47bea4e6a2",
   "metadata": {
    "slideshow": {
     "slide_type": "subslide"
    },
    "tags": []
   },
   "source": [
    "[[Volver al inicio]](#Contenido)"
   ]
  },
  {
   "cell_type": "markdown",
   "id": "b2a2dca0-91e6-4dbf-97f9-2321fcfc56dc",
   "metadata": {
    "slideshow": {
     "slide_type": "subslide"
    },
    "tags": []
   },
   "source": [
    "## <span style=\"color:blue\">Tareas de Inferencia</span>"
   ]
  },
  {
   "cell_type": "markdown",
   "id": "e6cd5c45-b617-40bc-bfa4-f2f86cb5d757",
   "metadata": {
    "slideshow": {
     "slide_type": "subslide"
    },
    "tags": []
   },
   "source": [
    "### <span style=\"color:blue\">MNLI-m</span>"
   ]
  },
  {
   "cell_type": "markdown",
   "id": "7a84b61e-fb91-433b-b272-875dc80cf2bd",
   "metadata": {},
   "source": [
    "El Multi-Genre Natural Language Inference Corpus (Williams et al., 2018) es una colección de pares de oraciones de colaboración colectiva con anotaciones de vinculación textual. \n",
    "\n",
    "Dada una oración de premisa y una oración de hipótesis, la tarea es predecir si la premisa implica la hipótesis (vinculación), contradice la hipótesis (contradicción) o ninguna (neutral).\n",
    "\n",
    "Las oraciones de premisa son recopilados de diez fuentes diferentes, incluidos discursos transcritos, ficción e informes gubernamentales.\n",
    "\n",
    "Referencias al dataset se peuden encontrar en [MultiNLI](https://cims.nyu.edu/~sbowman/multinli/).\n",
    "\n",
    "Veamos en qué consisten los datos:"
   ]
  },
  {
   "cell_type": "code",
   "execution_count": 217,
   "id": "a25c97fd-4e0f-44f8-8645-e1b0cfbf165f",
   "metadata": {},
   "outputs": [
    {
     "data": {
      "text/html": [
       "<div>\n",
       "<style scoped>\n",
       "    .dataframe tbody tr th:only-of-type {\n",
       "        vertical-align: middle;\n",
       "    }\n",
       "\n",
       "    .dataframe tbody tr th {\n",
       "        vertical-align: top;\n",
       "    }\n",
       "\n",
       "    .dataframe thead th {\n",
       "        text-align: right;\n",
       "    }\n",
       "</style>\n",
       "<table border=\"1\" class=\"dataframe\">\n",
       "  <thead>\n",
       "    <tr style=\"text-align: right;\">\n",
       "      <th></th>\n",
       "      <th>promptID</th>\n",
       "      <th>pairID</th>\n",
       "      <th>genre</th>\n",
       "      <th>sentence1_binary_parse</th>\n",
       "      <th>sentence2_binary_parse</th>\n",
       "      <th>sentence1_parse</th>\n",
       "      <th>sentence2_parse</th>\n",
       "      <th>sentence1</th>\n",
       "      <th>sentence2</th>\n",
       "      <th>label1</th>\n",
       "      <th>gold_label</th>\n",
       "    </tr>\n",
       "    <tr>\n",
       "      <th>index</th>\n",
       "      <th></th>\n",
       "      <th></th>\n",
       "      <th></th>\n",
       "      <th></th>\n",
       "      <th></th>\n",
       "      <th></th>\n",
       "      <th></th>\n",
       "      <th></th>\n",
       "      <th></th>\n",
       "      <th></th>\n",
       "      <th></th>\n",
       "    </tr>\n",
       "  </thead>\n",
       "  <tbody>\n",
       "    <tr>\n",
       "      <th>0</th>\n",
       "      <td>31193</td>\n",
       "      <td>31193n</td>\n",
       "      <td>government</td>\n",
       "      <td>( ( Conceptually ( cream skimming ) ) ( ( has ...</td>\n",
       "      <td>( ( ( Product and ) geography ) ( ( are ( what...</td>\n",
       "      <td>(ROOT (S (NP (JJ Conceptually) (NN cream) (NN ...</td>\n",
       "      <td>(ROOT (S (NP (NN Product) (CC and) (NN geograp...</td>\n",
       "      <td>Conceptually cream skimming has two basic dime...</td>\n",
       "      <td>Product and geography are what make cream skim...</td>\n",
       "      <td>neutral</td>\n",
       "      <td>neutral</td>\n",
       "    </tr>\n",
       "    <tr>\n",
       "      <th>1</th>\n",
       "      <td>101457</td>\n",
       "      <td>101457e</td>\n",
       "      <td>telephone</td>\n",
       "      <td>( you ( ( know ( during ( ( ( the season ) and...</td>\n",
       "      <td>( You ( ( ( ( lose ( the things ) ) ( to ( the...</td>\n",
       "      <td>(ROOT (S (NP (PRP you)) (VP (VBP know) (PP (IN...</td>\n",
       "      <td>(ROOT (S (NP (PRP You)) (VP (VBP lose) (NP (DT...</td>\n",
       "      <td>you know during the season and i guess at at y...</td>\n",
       "      <td>You lose the things to the following level if ...</td>\n",
       "      <td>entailment</td>\n",
       "      <td>entailment</td>\n",
       "    </tr>\n",
       "    <tr>\n",
       "      <th>2</th>\n",
       "      <td>134793</td>\n",
       "      <td>134793e</td>\n",
       "      <td>fiction</td>\n",
       "      <td>( ( One ( of ( our number ) ) ) ( ( will ( ( (...</td>\n",
       "      <td>( ( ( A member ) ( of ( my team ) ) ) ( ( will...</td>\n",
       "      <td>(ROOT (S (NP (NP (CD One)) (PP (IN of) (NP (PR...</td>\n",
       "      <td>(ROOT (S (NP (NP (DT A) (NN member)) (PP (IN o...</td>\n",
       "      <td>One of our number will carry out your instruct...</td>\n",
       "      <td>A member of my team will execute your orders w...</td>\n",
       "      <td>entailment</td>\n",
       "      <td>entailment</td>\n",
       "    </tr>\n",
       "    <tr>\n",
       "      <th>3</th>\n",
       "      <td>37397</td>\n",
       "      <td>37397e</td>\n",
       "      <td>fiction</td>\n",
       "      <td>( ( How ( ( ( do you ) know ) ? ) ) ( ( All th...</td>\n",
       "      <td>( ( This information ) ( ( belongs ( to them )...</td>\n",
       "      <td>(ROOT (S (SBARQ (WHADVP (WRB How)) (SQ (VBP do...</td>\n",
       "      <td>(ROOT (S (NP (DT This) (NN information)) (VP (...</td>\n",
       "      <td>How do you know? All this is their information...</td>\n",
       "      <td>This information belongs to them.</td>\n",
       "      <td>entailment</td>\n",
       "      <td>entailment</td>\n",
       "    </tr>\n",
       "    <tr>\n",
       "      <th>4</th>\n",
       "      <td>50563</td>\n",
       "      <td>50563n</td>\n",
       "      <td>telephone</td>\n",
       "      <td>( yeah ( i ( ( tell you ) ( what ( ( though ( ...</td>\n",
       "      <td>( ( The ( tennis shoes ) ) ( ( have ( ( a rang...</td>\n",
       "      <td>(ROOT (S (VP (VB yeah) (S (NP (FW i)) (VP (VB ...</td>\n",
       "      <td>(ROOT (S (NP (DT The) (NN tennis) (NNS shoes))...</td>\n",
       "      <td>yeah i tell you what though if you go price so...</td>\n",
       "      <td>The tennis shoes have a range of prices.</td>\n",
       "      <td>neutral</td>\n",
       "      <td>neutral</td>\n",
       "    </tr>\n",
       "    <tr>\n",
       "      <th>...</th>\n",
       "      <td>...</td>\n",
       "      <td>...</td>\n",
       "      <td>...</td>\n",
       "      <td>...</td>\n",
       "      <td>...</td>\n",
       "      <td>...</td>\n",
       "      <td>...</td>\n",
       "      <td>...</td>\n",
       "      <td>...</td>\n",
       "      <td>...</td>\n",
       "      <td>...</td>\n",
       "    </tr>\n",
       "    <tr>\n",
       "      <th>392697</th>\n",
       "      <td>30418</td>\n",
       "      <td>30418c</td>\n",
       "      <td>government</td>\n",
       "      <td>( Clearly ( , ( California ( ( ( can ( - ( and...</td>\n",
       "      <td>( California ( ( ( can not ) ( do ( any better...</td>\n",
       "      <td>(ROOT (S (ADVP (RB Clearly)) (, ,) (NP (NNP Ca...</td>\n",
       "      <td>(ROOT (S (NP (NNP California)) (VP (MD can) (R...</td>\n",
       "      <td>Clearly, California can - and must - do better.</td>\n",
       "      <td>California cannot do any better.</td>\n",
       "      <td>contradiction</td>\n",
       "      <td>contradiction</td>\n",
       "    </tr>\n",
       "    <tr>\n",
       "      <th>392698</th>\n",
       "      <td>105454</td>\n",
       "      <td>105454n</td>\n",
       "      <td>travel</td>\n",
       "      <td>( It ( ( ( was once ) ( regarded ( as ( ( the ...</td>\n",
       "      <td>( So ( ( many ( of ( the ( original buildings ...</td>\n",
       "      <td>(ROOT (S (NP (PRP It)) (VP (VBD was) (ADVP (RB...</td>\n",
       "      <td>(ROOT (S (IN So) (NP (NP (JJ many)) (PP (IN of...</td>\n",
       "      <td>It was once regarded as the most beautiful str...</td>\n",
       "      <td>So many of the original buildings had been rep...</td>\n",
       "      <td>neutral</td>\n",
       "      <td>neutral</td>\n",
       "    </tr>\n",
       "    <tr>\n",
       "      <th>392699</th>\n",
       "      <td>13960</td>\n",
       "      <td>13960e</td>\n",
       "      <td>travel</td>\n",
       "      <td>( Houseboats ( ( are ( ( a ( ( beautifully pre...</td>\n",
       "      <td>( ( ( The tradition ) ( of houseboats ) ) ( ( ...</td>\n",
       "      <td>(ROOT (S (NP (NNS Houseboats)) (VP (VBP are) (...</td>\n",
       "      <td>(ROOT (S (NP (NP (DT The) (NN tradition)) (PP ...</td>\n",
       "      <td>Houseboats are a beautifully preserved traditi...</td>\n",
       "      <td>The tradition of houseboats originated while t...</td>\n",
       "      <td>entailment</td>\n",
       "      <td>entailment</td>\n",
       "    </tr>\n",
       "    <tr>\n",
       "      <th>392700</th>\n",
       "      <td>114061</td>\n",
       "      <td>114061n</td>\n",
       "      <td>slate</td>\n",
       "      <td>( Obituaries ( fondly ( ( ( ( recalled ( his (...</td>\n",
       "      <td>( ( The obituaries ) ( ( were ( ( beautiful an...</td>\n",
       "      <td>(ROOT (S (NP (NNS Obituaries)) (ADVP (RB fondl...</td>\n",
       "      <td>(ROOT (S (NP (DT The) (NNS obituaries)) (VP (V...</td>\n",
       "      <td>Obituaries fondly recalled his on-air debates ...</td>\n",
       "      <td>The obituaries were beautiful and written in k...</td>\n",
       "      <td>neutral</td>\n",
       "      <td>neutral</td>\n",
       "    </tr>\n",
       "    <tr>\n",
       "      <th>392701</th>\n",
       "      <td>2065</td>\n",
       "      <td>2065n</td>\n",
       "      <td>telephone</td>\n",
       "      <td>( ( ( ( in ( that other ) ) ( you ( know ( uh ...</td>\n",
       "      <td>( ( My husband ) ( ( has ( ( been ( so overwor...</td>\n",
       "      <td>(ROOT (SBAR (SBAR (WHPP (IN in) (WHNP (WDT tha...</td>\n",
       "      <td>(ROOT (S (NP (PRP$ My) (NN husband)) (VP (VBZ ...</td>\n",
       "      <td>in that other you know uh that i should do it ...</td>\n",
       "      <td>My husband has been so overworked lately that ...</td>\n",
       "      <td>neutral</td>\n",
       "      <td>neutral</td>\n",
       "    </tr>\n",
       "  </tbody>\n",
       "</table>\n",
       "<p>392702 rows × 11 columns</p>\n",
       "</div>"
      ],
      "text/plain": [
       "        promptID   pairID       genre  \\\n",
       "index                                   \n",
       "0          31193   31193n  government   \n",
       "1         101457  101457e   telephone   \n",
       "2         134793  134793e     fiction   \n",
       "3          37397   37397e     fiction   \n",
       "4          50563   50563n   telephone   \n",
       "...          ...      ...         ...   \n",
       "392697     30418   30418c  government   \n",
       "392698    105454  105454n      travel   \n",
       "392699     13960   13960e      travel   \n",
       "392700    114061  114061n       slate   \n",
       "392701      2065    2065n   telephone   \n",
       "\n",
       "                                   sentence1_binary_parse  \\\n",
       "index                                                       \n",
       "0       ( ( Conceptually ( cream skimming ) ) ( ( has ...   \n",
       "1       ( you ( ( know ( during ( ( ( the season ) and...   \n",
       "2       ( ( One ( of ( our number ) ) ) ( ( will ( ( (...   \n",
       "3       ( ( How ( ( ( do you ) know ) ? ) ) ( ( All th...   \n",
       "4       ( yeah ( i ( ( tell you ) ( what ( ( though ( ...   \n",
       "...                                                   ...   \n",
       "392697  ( Clearly ( , ( California ( ( ( can ( - ( and...   \n",
       "392698  ( It ( ( ( was once ) ( regarded ( as ( ( the ...   \n",
       "392699  ( Houseboats ( ( are ( ( a ( ( beautifully pre...   \n",
       "392700  ( Obituaries ( fondly ( ( ( ( recalled ( his (...   \n",
       "392701  ( ( ( ( in ( that other ) ) ( you ( know ( uh ...   \n",
       "\n",
       "                                   sentence2_binary_parse  \\\n",
       "index                                                       \n",
       "0       ( ( ( Product and ) geography ) ( ( are ( what...   \n",
       "1       ( You ( ( ( ( lose ( the things ) ) ( to ( the...   \n",
       "2       ( ( ( A member ) ( of ( my team ) ) ) ( ( will...   \n",
       "3       ( ( This information ) ( ( belongs ( to them )...   \n",
       "4       ( ( The ( tennis shoes ) ) ( ( have ( ( a rang...   \n",
       "...                                                   ...   \n",
       "392697  ( California ( ( ( can not ) ( do ( any better...   \n",
       "392698  ( So ( ( many ( of ( the ( original buildings ...   \n",
       "392699  ( ( ( The tradition ) ( of houseboats ) ) ( ( ...   \n",
       "392700  ( ( The obituaries ) ( ( were ( ( beautiful an...   \n",
       "392701  ( ( My husband ) ( ( has ( ( been ( so overwor...   \n",
       "\n",
       "                                          sentence1_parse  \\\n",
       "index                                                       \n",
       "0       (ROOT (S (NP (JJ Conceptually) (NN cream) (NN ...   \n",
       "1       (ROOT (S (NP (PRP you)) (VP (VBP know) (PP (IN...   \n",
       "2       (ROOT (S (NP (NP (CD One)) (PP (IN of) (NP (PR...   \n",
       "3       (ROOT (S (SBARQ (WHADVP (WRB How)) (SQ (VBP do...   \n",
       "4       (ROOT (S (VP (VB yeah) (S (NP (FW i)) (VP (VB ...   \n",
       "...                                                   ...   \n",
       "392697  (ROOT (S (ADVP (RB Clearly)) (, ,) (NP (NNP Ca...   \n",
       "392698  (ROOT (S (NP (PRP It)) (VP (VBD was) (ADVP (RB...   \n",
       "392699  (ROOT (S (NP (NNS Houseboats)) (VP (VBP are) (...   \n",
       "392700  (ROOT (S (NP (NNS Obituaries)) (ADVP (RB fondl...   \n",
       "392701  (ROOT (SBAR (SBAR (WHPP (IN in) (WHNP (WDT tha...   \n",
       "\n",
       "                                          sentence2_parse  \\\n",
       "index                                                       \n",
       "0       (ROOT (S (NP (NN Product) (CC and) (NN geograp...   \n",
       "1       (ROOT (S (NP (PRP You)) (VP (VBP lose) (NP (DT...   \n",
       "2       (ROOT (S (NP (NP (DT A) (NN member)) (PP (IN o...   \n",
       "3       (ROOT (S (NP (DT This) (NN information)) (VP (...   \n",
       "4       (ROOT (S (NP (DT The) (NN tennis) (NNS shoes))...   \n",
       "...                                                   ...   \n",
       "392697  (ROOT (S (NP (NNP California)) (VP (MD can) (R...   \n",
       "392698  (ROOT (S (IN So) (NP (NP (JJ many)) (PP (IN of...   \n",
       "392699  (ROOT (S (NP (NP (DT The) (NN tradition)) (PP ...   \n",
       "392700  (ROOT (S (NP (DT The) (NNS obituaries)) (VP (V...   \n",
       "392701  (ROOT (S (NP (PRP$ My) (NN husband)) (VP (VBZ ...   \n",
       "\n",
       "                                                sentence1  \\\n",
       "index                                                       \n",
       "0       Conceptually cream skimming has two basic dime...   \n",
       "1       you know during the season and i guess at at y...   \n",
       "2       One of our number will carry out your instruct...   \n",
       "3       How do you know? All this is their information...   \n",
       "4       yeah i tell you what though if you go price so...   \n",
       "...                                                   ...   \n",
       "392697    Clearly, California can - and must - do better.   \n",
       "392698  It was once regarded as the most beautiful str...   \n",
       "392699  Houseboats are a beautifully preserved traditi...   \n",
       "392700  Obituaries fondly recalled his on-air debates ...   \n",
       "392701  in that other you know uh that i should do it ...   \n",
       "\n",
       "                                                sentence2         label1  \\\n",
       "index                                                                      \n",
       "0       Product and geography are what make cream skim...        neutral   \n",
       "1       You lose the things to the following level if ...     entailment   \n",
       "2       A member of my team will execute your orders w...     entailment   \n",
       "3                       This information belongs to them.     entailment   \n",
       "4                The tennis shoes have a range of prices.        neutral   \n",
       "...                                                   ...            ...   \n",
       "392697                   California cannot do any better.  contradiction   \n",
       "392698  So many of the original buildings had been rep...        neutral   \n",
       "392699  The tradition of houseboats originated while t...     entailment   \n",
       "392700  The obituaries were beautiful and written in k...        neutral   \n",
       "392701  My husband has been so overworked lately that ...        neutral   \n",
       "\n",
       "           gold_label  \n",
       "index                  \n",
       "0             neutral  \n",
       "1          entailment  \n",
       "2          entailment  \n",
       "3          entailment  \n",
       "4             neutral  \n",
       "...               ...  \n",
       "392697  contradiction  \n",
       "392698        neutral  \n",
       "392699     entailment  \n",
       "392700        neutral  \n",
       "392701        neutral  \n",
       "\n",
       "[392702 rows x 11 columns]"
      ]
     },
     "execution_count": 217,
     "metadata": {},
     "output_type": "execute_result"
    }
   ],
   "source": [
    "import pandas as pd\n",
    "\n",
    "MNLI = pd.read_csv('../Datos/MNLI/train.tsv',sep='\\t+',engine='python',index_col=0)\n",
    "MNLI"
   ]
  },
  {
   "cell_type": "markdown",
   "id": "e5e7203d-1260-4530-b367-503bc55f4cda",
   "metadata": {},
   "source": [
    "En esta tarea, basta con el accuracy del modelo (precisión)."
   ]
  },
  {
   "cell_type": "markdown",
   "id": "99b2309b-6262-4641-83b1-653e87297f7e",
   "metadata": {
    "slideshow": {
     "slide_type": "subslide"
    },
    "tags": []
   },
   "source": [
    "[[Volver al inicio]](#Contenido)"
   ]
  },
  {
   "cell_type": "markdown",
   "id": "4236a24c-b6f3-4cda-aa63-deb34f235a5a",
   "metadata": {
    "slideshow": {
     "slide_type": "subslide"
    },
    "tags": []
   },
   "source": [
    "### <span style=\"color:blue\">MNLI-m</span>"
   ]
  },
  {
   "cell_type": "markdown",
   "id": "f589964b-2260-4a48-a082-e617417c32df",
   "metadata": {},
   "source": [
    "Este conjunto es el mismo que el anterior pero en el área de cross-domain (fuera del dominio), que son ejemplos que no se relacionan en absoluto con aquellos del entrenamiento del modelo.\n",
    "\n",
    "Para amyor información, se puede consultar [A Broad-Coverage Challenge Corpus for\n",
    "Sentence Understanding through Inference](https://cims.nyu.edu/~sbowman/multinli/paper.pdf)."
   ]
  },
  {
   "cell_type": "markdown",
   "id": "b7792689-675c-4d47-8d40-c1e8f6ccb2f7",
   "metadata": {
    "slideshow": {
     "slide_type": "subslide"
    },
    "tags": []
   },
   "source": [
    "[[Volver al inicio]](#Contenido)"
   ]
  },
  {
   "cell_type": "markdown",
   "id": "422d75fc-a286-4795-87ce-bb6808cb95dc",
   "metadata": {
    "slideshow": {
     "slide_type": "subslide"
    },
    "tags": []
   },
   "source": [
    "### <span style=\"color:blue\">WNLI</span>"
   ]
  },
  {
   "cell_type": "markdown",
   "id": "d8b55615-f2a5-4a1e-8156-0fa83abfb03f",
   "metadata": {},
   "source": [
    "El Winograd Schema Challenge (Levesque et al., 2011) es una tarea de comprensión lectora en el que un sistema debe leer una oración con un pronombre y seleccionar el referente de ese pronombre de una lista de opciones.\n",
    "\n",
    "Los ejemplos se construyen manualmente para frustrar métodos estadísticos simples: Cada uno depende de la información contextual proporcionada por una sola palabra o frase en la oración.\n",
    "\n",
    "Para convertir el problema en una clasificación de pares de oraciones, construimos pares de oraciones reemplazando el pronombre ambiguo con cada referente posible. \n",
    "\n",
    "La tarea es predecir si la oración con el pronombre sustituido está relacionada con la oración original. Además, debido a una peculiaridad de los datos, el conjunto de desarrollo es contradictorio:\n",
    "\n",
    "Las hipótesis a veces se comparten entre los ejemplos de entrenamiento y desarrollo, por lo que si un modelo memoriza los ejemplos de entrenamiento, predecirán la etiqueta incorrecta en el conjunto de desarrollo correspondiente.\n",
    "\n",
    "Veamos en qué consisten los datos:"
   ]
  },
  {
   "cell_type": "code",
   "execution_count": 221,
   "id": "25095f97-f889-4a66-8ed6-833330f4ab8e",
   "metadata": {},
   "outputs": [
    {
     "data": {
      "text/html": [
       "<div>\n",
       "<style scoped>\n",
       "    .dataframe tbody tr th:only-of-type {\n",
       "        vertical-align: middle;\n",
       "    }\n",
       "\n",
       "    .dataframe tbody tr th {\n",
       "        vertical-align: top;\n",
       "    }\n",
       "\n",
       "    .dataframe thead th {\n",
       "        text-align: right;\n",
       "    }\n",
       "</style>\n",
       "<table border=\"1\" class=\"dataframe\">\n",
       "  <thead>\n",
       "    <tr style=\"text-align: right;\">\n",
       "      <th></th>\n",
       "      <th>sentence1</th>\n",
       "      <th>sentence2</th>\n",
       "      <th>label</th>\n",
       "    </tr>\n",
       "    <tr>\n",
       "      <th>index</th>\n",
       "      <th></th>\n",
       "      <th></th>\n",
       "      <th></th>\n",
       "    </tr>\n",
       "  </thead>\n",
       "  <tbody>\n",
       "    <tr>\n",
       "      <th>0</th>\n",
       "      <td>I stuck a pin through a carrot. When I pulled ...</td>\n",
       "      <td>The carrot had a hole.</td>\n",
       "      <td>1</td>\n",
       "    </tr>\n",
       "    <tr>\n",
       "      <th>1</th>\n",
       "      <td>John couldn't see the stage with Billy in fron...</td>\n",
       "      <td>John is so short.</td>\n",
       "      <td>1</td>\n",
       "    </tr>\n",
       "    <tr>\n",
       "      <th>2</th>\n",
       "      <td>The police arrested all of the gang members. T...</td>\n",
       "      <td>The police were trying to stop the drug trade ...</td>\n",
       "      <td>1</td>\n",
       "    </tr>\n",
       "    <tr>\n",
       "      <th>3</th>\n",
       "      <td>Steve follows Fred's example in everything. He...</td>\n",
       "      <td>Steve influences him hugely.</td>\n",
       "      <td>0</td>\n",
       "    </tr>\n",
       "    <tr>\n",
       "      <th>4</th>\n",
       "      <td>When Tatyana reached the cabin, her mother was...</td>\n",
       "      <td>mother was careful not to disturb her, undress...</td>\n",
       "      <td>0</td>\n",
       "    </tr>\n",
       "    <tr>\n",
       "      <th>...</th>\n",
       "      <td>...</td>\n",
       "      <td>...</td>\n",
       "      <td>...</td>\n",
       "    </tr>\n",
       "    <tr>\n",
       "      <th>630</th>\n",
       "      <td>When Tommy dropped his ice cream, Timmy giggle...</td>\n",
       "      <td>Father gave Timmy a sympathetic look.</td>\n",
       "      <td>0</td>\n",
       "    </tr>\n",
       "    <tr>\n",
       "      <th>631</th>\n",
       "      <td>Mark told Pete many lies about himself, which ...</td>\n",
       "      <td>Pete should have been more skeptical.</td>\n",
       "      <td>1</td>\n",
       "    </tr>\n",
       "    <tr>\n",
       "      <th>632</th>\n",
       "      <td>Tom said \"Check\" to Ralph as he took his bishop.</td>\n",
       "      <td>Tom said \"Check\" to Ralph as he took Tom's bis...</td>\n",
       "      <td>0</td>\n",
       "    </tr>\n",
       "    <tr>\n",
       "      <th>633</th>\n",
       "      <td>Emma's mother had died long ago, and her place...</td>\n",
       "      <td>Emma's mother's place had been taken by an exc...</td>\n",
       "      <td>1</td>\n",
       "    </tr>\n",
       "    <tr>\n",
       "      <th>634</th>\n",
       "      <td>Although they ran at about the same speed, Sue...</td>\n",
       "      <td>Sally had such a bad start.</td>\n",
       "      <td>1</td>\n",
       "    </tr>\n",
       "  </tbody>\n",
       "</table>\n",
       "<p>635 rows × 3 columns</p>\n",
       "</div>"
      ],
      "text/plain": [
       "                                               sentence1  \\\n",
       "index                                                      \n",
       "0      I stuck a pin through a carrot. When I pulled ...   \n",
       "1      John couldn't see the stage with Billy in fron...   \n",
       "2      The police arrested all of the gang members. T...   \n",
       "3      Steve follows Fred's example in everything. He...   \n",
       "4      When Tatyana reached the cabin, her mother was...   \n",
       "...                                                  ...   \n",
       "630    When Tommy dropped his ice cream, Timmy giggle...   \n",
       "631    Mark told Pete many lies about himself, which ...   \n",
       "632     Tom said \"Check\" to Ralph as he took his bishop.   \n",
       "633    Emma's mother had died long ago, and her place...   \n",
       "634    Although they ran at about the same speed, Sue...   \n",
       "\n",
       "                                               sentence2  label  \n",
       "index                                                            \n",
       "0                                 The carrot had a hole.      1  \n",
       "1                                      John is so short.      1  \n",
       "2      The police were trying to stop the drug trade ...      1  \n",
       "3                           Steve influences him hugely.      0  \n",
       "4      mother was careful not to disturb her, undress...      0  \n",
       "...                                                  ...    ...  \n",
       "630                Father gave Timmy a sympathetic look.      0  \n",
       "631                Pete should have been more skeptical.      1  \n",
       "632    Tom said \"Check\" to Ralph as he took Tom's bis...      0  \n",
       "633    Emma's mother's place had been taken by an exc...      1  \n",
       "634                          Sally had such a bad start.      1  \n",
       "\n",
       "[635 rows x 3 columns]"
      ]
     },
     "execution_count": 221,
     "metadata": {},
     "output_type": "execute_result"
    }
   ],
   "source": [
    "import pandas as pd\n",
    "\n",
    "WNLI = pd.read_csv('../Datos/WNLI/train.tsv',sep='\\t+',engine='python',index_col=0)\n",
    "WNLI"
   ]
  },
  {
   "cell_type": "markdown",
   "id": "de318542-07cc-4434-b741-ed7fbaffc7c3",
   "metadata": {},
   "source": [
    "En esta tarea, basta con el accuracy del modelo (precisión)."
   ]
  },
  {
   "cell_type": "markdown",
   "id": "7219db4e-58d3-4733-a745-5ae44740eda9",
   "metadata": {
    "slideshow": {
     "slide_type": "subslide"
    },
    "tags": []
   },
   "source": [
    "[[Volver al inicio]](#Contenido)"
   ]
  },
  {
   "cell_type": "markdown",
   "id": "a1c5d59c-596b-466d-9689-af488d7698ee",
   "metadata": {
    "slideshow": {
     "slide_type": "subslide"
    },
    "tags": []
   },
   "source": [
    "### <span style=\"color:blue\">AX</span>"
   ]
  },
  {
   "cell_type": "markdown",
   "id": "bae0f216-fe60-4fad-8fff-4b36642bc920",
   "metadata": {},
   "source": [
    "Según el paper de GLUE, AX es un conjunto manualmente construído para medir el rendimiento de los modelos.\n",
    "\n",
    "En palabras de los autores,\n",
    "\n",
    "*\"Inspirándose en la suite FraCaS (Cooper et al., 1996) y la reciente competencia Build-It-Break-It (Ettinger et al., 2017), incluimos un pequeño conjunto de prueba seleccionado manualmente para el análisis de rendimiento de sistema. Si bien el punto de referencia principal refleja principalmente una distribución impulsada por la aplicación de ejemplos, nuestro conjunto de datos de diagnóstico destaca un conjunto predefinido de fenómenos que creemos que son interesante e importante que los modelos capturen.\"*"
   ]
  },
  {
   "cell_type": "code",
   "execution_count": 222,
   "id": "42e874af-221a-4af0-bbe7-6f383dbea2c5",
   "metadata": {},
   "outputs": [
    {
     "data": {
      "text/html": [
       "<div>\n",
       "<style scoped>\n",
       "    .dataframe tbody tr th:only-of-type {\n",
       "        vertical-align: middle;\n",
       "    }\n",
       "\n",
       "    .dataframe tbody tr th {\n",
       "        vertical-align: top;\n",
       "    }\n",
       "\n",
       "    .dataframe thead th {\n",
       "        text-align: right;\n",
       "    }\n",
       "</style>\n",
       "<table border=\"1\" class=\"dataframe\">\n",
       "  <thead>\n",
       "    <tr style=\"text-align: right;\">\n",
       "      <th></th>\n",
       "      <th>sentence1</th>\n",
       "      <th>sentence2</th>\n",
       "    </tr>\n",
       "    <tr>\n",
       "      <th>index</th>\n",
       "      <th></th>\n",
       "      <th></th>\n",
       "    </tr>\n",
       "  </thead>\n",
       "  <tbody>\n",
       "    <tr>\n",
       "      <th>0</th>\n",
       "      <td>The cat sat on the mat.</td>\n",
       "      <td>The cat did not sit on the mat.</td>\n",
       "    </tr>\n",
       "    <tr>\n",
       "      <th>1</th>\n",
       "      <td>The cat did not sit on the mat.</td>\n",
       "      <td>The cat sat on the mat.</td>\n",
       "    </tr>\n",
       "    <tr>\n",
       "      <th>2</th>\n",
       "      <td>When you've got no snow, it's really hard to l...</td>\n",
       "      <td>When you've got snow, it's really hard to lear...</td>\n",
       "    </tr>\n",
       "    <tr>\n",
       "      <th>3</th>\n",
       "      <td>When you've got snow, it's really hard to lear...</td>\n",
       "      <td>When you've got no snow, it's really hard to l...</td>\n",
       "    </tr>\n",
       "    <tr>\n",
       "      <th>4</th>\n",
       "      <td>Out of the box, Ouya supports media apps such ...</td>\n",
       "      <td>Out of the box, Ouya doesn't support media app...</td>\n",
       "    </tr>\n",
       "    <tr>\n",
       "      <th>...</th>\n",
       "      <td>...</td>\n",
       "      <td>...</td>\n",
       "    </tr>\n",
       "    <tr>\n",
       "      <th>1099</th>\n",
       "      <td>Tunics or shirts of some form or another are w...</td>\n",
       "      <td>People wear tunics or shirts of some form or a...</td>\n",
       "    </tr>\n",
       "    <tr>\n",
       "      <th>1100</th>\n",
       "      <td>A general artificial intelligence should alway...</td>\n",
       "      <td>The new general artificial intelligence I'm de...</td>\n",
       "    </tr>\n",
       "    <tr>\n",
       "      <th>1101</th>\n",
       "      <td>The new general artificial intelligence I'm de...</td>\n",
       "      <td>A general artificial intelligence should alway...</td>\n",
       "    </tr>\n",
       "    <tr>\n",
       "      <th>1102</th>\n",
       "      <td>A general artificial intelligence should alway...</td>\n",
       "      <td>The new general artificial intelligence I'm de...</td>\n",
       "    </tr>\n",
       "    <tr>\n",
       "      <th>1103</th>\n",
       "      <td>The new general artificial intelligence I'm de...</td>\n",
       "      <td>A general artificial intelligence should alway...</td>\n",
       "    </tr>\n",
       "  </tbody>\n",
       "</table>\n",
       "<p>1104 rows × 2 columns</p>\n",
       "</div>"
      ],
      "text/plain": [
       "                                               sentence1  \\\n",
       "index                                                      \n",
       "0                                The cat sat on the mat.   \n",
       "1                        The cat did not sit on the mat.   \n",
       "2      When you've got no snow, it's really hard to l...   \n",
       "3      When you've got snow, it's really hard to lear...   \n",
       "4      Out of the box, Ouya supports media apps such ...   \n",
       "...                                                  ...   \n",
       "1099   Tunics or shirts of some form or another are w...   \n",
       "1100   A general artificial intelligence should alway...   \n",
       "1101   The new general artificial intelligence I'm de...   \n",
       "1102   A general artificial intelligence should alway...   \n",
       "1103   The new general artificial intelligence I'm de...   \n",
       "\n",
       "                                               sentence2  \n",
       "index                                                     \n",
       "0                        The cat did not sit on the mat.  \n",
       "1                                The cat sat on the mat.  \n",
       "2      When you've got snow, it's really hard to lear...  \n",
       "3      When you've got no snow, it's really hard to l...  \n",
       "4      Out of the box, Ouya doesn't support media app...  \n",
       "...                                                  ...  \n",
       "1099   People wear tunics or shirts of some form or a...  \n",
       "1100   The new general artificial intelligence I'm de...  \n",
       "1101   A general artificial intelligence should alway...  \n",
       "1102   The new general artificial intelligence I'm de...  \n",
       "1103   A general artificial intelligence should alway...  \n",
       "\n",
       "[1104 rows x 2 columns]"
      ]
     },
     "execution_count": 222,
     "metadata": {},
     "output_type": "execute_result"
    }
   ],
   "source": [
    "import pandas as pd\n",
    "\n",
    "AX = pd.read_csv('../Datos/AX/AX.tsv',sep='\\t+',engine='python',index_col=0)\n",
    "AX"
   ]
  },
  {
   "cell_type": "markdown",
   "id": "ca37aef0-92e5-4abc-83e7-751fb3d30e04",
   "metadata": {},
   "source": [
    "Para este conjunto de datos se usa la correlación de Matthews."
   ]
  },
  {
   "cell_type": "markdown",
   "id": "17c57e97-c054-4ae3-939d-7bef3b3eb3a2",
   "metadata": {
    "slideshow": {
     "slide_type": "subslide"
    },
    "tags": []
   },
   "source": [
    "## <span style=\"color:blue\">SUPERGLUE Score</span>"
   ]
  },
  {
   "cell_type": "markdown",
   "id": "d712efbe-5ac8-4b8a-9637-a90887698525",
   "metadata": {},
   "source": [
    "Debido al advenmiento de los Transformers y BERT, así como GPT que lograron obtener grandes mejoras en el conjunto GLUE en menos de un año, fue creado el conjunto SUPERGLUE con tareas mucho más difíciles y diferentes que el GLUE.\n",
    "\n",
    "Los modelos del SOTA deben apuntar a ambos conjuntos de datos, pero los modelos más actuales apuntan grandemente al SUPERGLUE.\n",
    "\n",
    "Para mayores referencias, se puede consultar [SuperGLUE: A Stickier Benchmark for\n",
    "General-Purpose Language Understanding Systems](https://arxiv.org/pdf/1905.00537.pdf)\n",
    "\n",
    "Además, la página oficial se encuentra en [SUPERGLUE](https://super.gluebenchmark.com/)."
   ]
  },
  {
   "cell_type": "markdown",
   "id": "3a875649-1a22-4fa7-abfe-cba36ccfc5d4",
   "metadata": {
    "slideshow": {
     "slide_type": "subslide"
    },
    "tags": []
   },
   "source": [
    "[[Volver al inicio]](#Contenido)"
   ]
  },
  {
   "cell_type": "markdown",
   "id": "d862ab7b-3062-4b47-a2ef-6a3466c38221",
   "metadata": {
    "slideshow": {
     "slide_type": "subslide"
    },
    "tags": []
   },
   "source": [
    "## <span style=\"color:blue\">Variaciones Principales de BERT</span>"
   ]
  },
  {
   "cell_type": "markdown",
   "id": "6487175c-d6f0-4125-bb57-b9986ef832e2",
   "metadata": {},
   "source": [
    "Debido a que BERT puede ser modificado de varias maneras (por ejemplo el método de entrenamiento, el número de batches, capas codificadores, etc...), han surgido a lo largo de estos años variaciones del modelo BERT que han logrado grandes avances en el SOTA del GLUE y SUPERGLUE.\n",
    "\n",
    "A continuación vemos unos pocos ejemplos."
   ]
  },
  {
   "cell_type": "markdown",
   "id": "b1c4c0fd-b590-4b28-8159-18b428204f52",
   "metadata": {
    "slideshow": {
     "slide_type": "subslide"
    },
    "tags": []
   },
   "source": [
    "### <span style=\"color:blue\">RoBERTa</span>"
   ]
  },
  {
   "cell_type": "markdown",
   "id": "189457c0-75d1-4236-93b5-dbdbae6f7959",
   "metadata": {},
   "source": [
    "**Desarrollado por Facebook**, RoBERTa significa [A Robustly Optimized BERT Pretraining Approach](https://arxiv.org/pdf/1907.11692.pdf), que afirma tener mejores resultados que BERT en el SOTA de ciertos conjuntos de datos.\n",
    "\n",
    "En palabras de los autores,\n",
    "\n",
    "*\"Nuestro mejor modelo logra resultados de última generación en GLUE, RACE y SQuAD. Estos resultados resaltan la importancia de las opciones de diseño que antes se pasaban por alto, y plantear preguntas sobre el origen de las mejoras recientemente informadas. Liberamos nuestro modelos y código.\"*"
   ]
  },
  {
   "cell_type": "code",
   "execution_count": null,
   "id": "d5a43078-2ebb-456d-b199-1be500ee5449",
   "metadata": {},
   "outputs": [],
   "source": [
    "from transformers import RobertaTokenizer, RobertaModel\n",
    "\n",
    "tokenizer = RobertaTokenizer.from_pretrained('roberta-base')\n",
    "model = RobertaModel.from_pretrained('roberta-base')\n",
    "text = \"Replace me by any text you'd like.\"\n",
    "encoded_input = tokenizer(text, return_tensors='pt')\n",
    "output = model(**encoded_input)"
   ]
  },
  {
   "cell_type": "markdown",
   "id": "cdfc8869-e487-4c17-8f87-585f511fe747",
   "metadata": {},
   "source": [
    "Notemos que RoBERTa usa un tokenizador diferente de BERT: Usa un tokenizador BPE (Byte-Pair Encoding), mientras que BERT usa un tokenizador basado en la técnica WordPiece.\n",
    "\n",
    "En lecciones posteriores veremos todo sobre tokenización, pero un buen punto de partida son\n",
    "\n",
    "- [Byte-Pair Encoding: Subword-based tokenization algorithm](https://towardsdatascience.com/byte-pair-encoding-subword-based-tokenization-algorithm-77828a70bee0).\n",
    "- [WordPiece: Subword-based tokenization algorithm](https://towardsdatascience.com/wordpiece-subword-based-tokenization-algorithm-1fbd14394ed7)."
   ]
  },
  {
   "cell_type": "code",
   "execution_count": 223,
   "id": "38fb9e06-2f38-4dcb-a0c7-fa17b1b2faf7",
   "metadata": {},
   "outputs": [
    {
     "data": {
      "application/vnd.jupyter.widget-view+json": {
       "model_id": "e39c7dbd5a5e43a5a569d5c1b6c2dec6",
       "version_major": 2,
       "version_minor": 0
      },
      "text/plain": [
       "Downloading:   0%|          | 0.00/481 [00:00<?, ?B/s]"
      ]
     },
     "metadata": {},
     "output_type": "display_data"
    },
    {
     "data": {
      "application/vnd.jupyter.widget-view+json": {
       "model_id": "87a2c014418544148c37c48b17d589c6",
       "version_major": 2,
       "version_minor": 0
      },
      "text/plain": [
       "Downloading:   0%|          | 0.00/478M [00:00<?, ?B/s]"
      ]
     },
     "metadata": {},
     "output_type": "display_data"
    },
    {
     "data": {
      "application/vnd.jupyter.widget-view+json": {
       "model_id": "8b82b9782b984d7c8b1d072e8495b0e1",
       "version_major": 2,
       "version_minor": 0
      },
      "text/plain": [
       "Downloading:   0%|          | 0.00/878k [00:00<?, ?B/s]"
      ]
     },
     "metadata": {},
     "output_type": "display_data"
    },
    {
     "data": {
      "application/vnd.jupyter.widget-view+json": {
       "model_id": "f1546f0d00c9421a8607be6a611b2f6f",
       "version_major": 2,
       "version_minor": 0
      },
      "text/plain": [
       "Downloading:   0%|          | 0.00/446k [00:00<?, ?B/s]"
      ]
     },
     "metadata": {},
     "output_type": "display_data"
    },
    {
     "data": {
      "application/vnd.jupyter.widget-view+json": {
       "model_id": "a042cc5e095643dd9d120683e3013c35",
       "version_major": 2,
       "version_minor": 0
      },
      "text/plain": [
       "Downloading:   0%|          | 0.00/1.29M [00:00<?, ?B/s]"
      ]
     },
     "metadata": {},
     "output_type": "display_data"
    },
    {
     "data": {
      "text/plain": [
       "[{'score': 0.33065393567085266,\n",
       "  'token': 2943,\n",
       "  'token_str': ' male',\n",
       "  'sequence': \"Hello I'm a male model.\"},\n",
       " {'score': 0.04655429348349571,\n",
       "  'token': 2182,\n",
       "  'token_str': ' female',\n",
       "  'sequence': \"Hello I'm a female model.\"},\n",
       " {'score': 0.04232943058013916,\n",
       "  'token': 2038,\n",
       "  'token_str': ' professional',\n",
       "  'sequence': \"Hello I'm a professional model.\"},\n",
       " {'score': 0.03721670061349869,\n",
       "  'token': 2734,\n",
       "  'token_str': ' fashion',\n",
       "  'sequence': \"Hello I'm a fashion model.\"},\n",
       " {'score': 0.032536327838897705,\n",
       "  'token': 1083,\n",
       "  'token_str': ' Russian',\n",
       "  'sequence': \"Hello I'm a Russian model.\"}]"
      ]
     },
     "execution_count": 223,
     "metadata": {},
     "output_type": "execute_result"
    }
   ],
   "source": [
    "# importar pipeline de transformers\n",
    "from transformers import pipeline\n",
    "# pipeline para rellenar máscaras\n",
    "unmasker = pipeline('fill-mask', model='roberta-base')\n",
    "# ejemplo de relleno de máscara\n",
    "unmasker(\"Hello I'm a <mask> model.\")"
   ]
  },
  {
   "cell_type": "markdown",
   "id": "89a4b942-bb31-446d-b973-5362c865f94b",
   "metadata": {
    "slideshow": {
     "slide_type": "subslide"
    },
    "tags": []
   },
   "source": [
    "### <span style=\"color:blue\">XLNet</span>"
   ]
  },
  {
   "cell_type": "markdown",
   "id": "9349d3d9-2f0a-4e83-8635-0dc49d5c5768",
   "metadata": {},
   "source": [
    "Como una variante de los transformers, surgieron los [Transformer-XL: Attentive Language Models Beyond a Fixed-Length Context](https://arxiv.org/pdf/1901.02860.pdf), que apuntan a resolver problemas de dependencias a largo plazo en los módulos de autoatención.\n",
    "\n",
    "En palabras de los autores de XLNet,\n",
    "\n",
    "*\"Con la capacidad de modelar contextos bidireccionales, eliminando el ruido de la codificación automática el preentrenamiento basado en BERT logra un mejor rendimiento que los enfoques de preentrenamiento basados en el modelado de lenguaje autorregresivo.*\n",
    "\n",
    "*Sin embargo, confiando en corromper la entrada con máscaras, BERT descuida la dependencia entre las posiciones enmascaradas y sufre de una discrepancia entre el preentrenamiento y el ajuste fino.*\n",
    "\n",
    "*A la luz de estos pros y contras, proponemos XLNet, un método de preentrenamiento autorregresivo generalizado que (1) permite aprender contextos bidireccionales maximizando la probabilidad esperada sobre todos permutaciones del orden de factorización y (2) supera las limitaciones de BERT gracias a su formulación autorregresiva. Además, XLNet integra ideas de Transformer-XL, el modelo autorregresivo de última generación, al preentrenamiento.*\n",
    "\n",
    "*Empíricamente, bajo configuraciones experimentales comparables, XLNet supera a BERT en 20 tareas, a menudo por un amplio margen, incluida la respuesta a preguntas, lenguaje natural inferencia, análisis de sentimientos y clasificación de documentos.\"*"
   ]
  },
  {
   "cell_type": "markdown",
   "id": "84ca7c95-6c34-4c67-87a7-20ab6e744981",
   "metadata": {},
   "source": [
    "**Reto:** Cargue y pruebe XLNet base y realice alguna tarea de NLU."
   ]
  },
  {
   "cell_type": "markdown",
   "id": "2cc50fa5-efbd-4e34-9e22-b0448adffe08",
   "metadata": {
    "slideshow": {
     "slide_type": "subslide"
    },
    "tags": []
   },
   "source": [
    "### <span style=\"color:blue\">ELECTRA</span>"
   ]
  },
  {
   "cell_type": "markdown",
   "id": "44161728-007a-4fb0-9153-31d2624a5c9b",
   "metadata": {},
   "source": [
    "ELECTRA viene de **Efficiently Learning an Encoder that Classifies Token Replacements Accurately**.\n",
    "\n",
    "*\"Métodos de preentrenamiento de modelado de lenguaje enmascarado (MLM) como BERT corrompe la entrada reemplazando algunos tokens con [MASK] y luego entrene un modelo para reconstruir los tokens originales. Si bien producen buenos resultados cuando se transfieren a las tareas de NLP posteriores, generalmente requieren grandes cantidades de cómputo para ser eficaz.*\n",
    "\n",
    "*Como alternativa, proponemos una tarea de preentrenamiento más eficiente en la muestra llamado detección de token reemplazado. En lugar de enmascarar la entrada, nuestro enfoque la corrompe reemplazando algunos tokens con alternativas plausibles muestreadas de una pequeña red de generadores.*\n",
    "\n",
    "*Entonces, en lugar de entrenar un modelo que prediga el original identidades de los tokens corruptos, entrenamos un modelo discriminativo que predice si cada token en la entrada corrupta fue reemplazado por una muestra del generador o no.\"*"
   ]
  },
  {
   "cell_type": "markdown",
   "id": "8dee5505-8bf9-4641-a14e-f1e63bb3e7cb",
   "metadata": {},
   "source": [
    "**Reto:** Cargue y pruebe ELECTRA base y realice alguna tarea de NLU."
   ]
  },
  {
   "cell_type": "markdown",
   "id": "04bb7fe2-b544-45dc-9d36-8701d8bddf89",
   "metadata": {
    "slideshow": {
     "slide_type": "subslide"
    },
    "tags": []
   },
   "source": [
    "### <span style=\"color:blue\">ERNIE</span>"
   ]
  },
  {
   "cell_type": "markdown",
   "id": "c6eef88f-e52c-4230-a4a4-177559e6818e",
   "metadata": {},
   "source": [
    "**E**nhanced **R**epresentation through k**N**owledge **I**nt**E**gration, es un modelo propuesto por chinos que se posiciona en los primeros puestos del GLUE y SUPERGLUE (Al momento de escritura, puesto 4. en SUPERGLUE, puesto 3 en GLUE) en sus distintas versiones (actualmente en 3.0)\n",
    "\n",
    "Este modelo puede ser de gran importancia porque es de los pocos en primeros puestos cuyo código ha sido liberado al público.\n",
    "\n",
    "Afortunadamente, lo podemos enontrar en HuggingFace (aunque los modelos más avanzados requieren una librería llamada paddlepaddle).\n",
    "\n",
    "Su técnica se basa en tener en cuanta grafos de conocimiento integrados al modelo transformer (Knowledge Graphs), que enriquecen la representación de lenguaje con conocimiento externo."
   ]
  },
  {
   "cell_type": "code",
   "execution_count": 225,
   "id": "39a6fd08-e38f-456f-a83d-13978ba6c644",
   "metadata": {},
   "outputs": [
    {
     "data": {
      "application/vnd.jupyter.widget-view+json": {
       "model_id": "134f2870f133482d8b6990fabb6d0db4",
       "version_major": 2,
       "version_minor": 0
      },
      "text/plain": [
       "Downloading:   0%|          | 0.00/715 [00:00<?, ?B/s]"
      ]
     },
     "metadata": {},
     "output_type": "display_data"
    },
    {
     "data": {
      "application/vnd.jupyter.widget-view+json": {
       "model_id": "d13f32d681124d818ac8dfff5e6729dc",
       "version_major": 2,
       "version_minor": 0
      },
      "text/plain": [
       "Downloading:   0%|          | 0.00/77.6k [00:00<?, ?B/s]"
      ]
     },
     "metadata": {},
     "output_type": "display_data"
    },
    {
     "data": {
      "application/vnd.jupyter.widget-view+json": {
       "model_id": "b38b2d11a02343fc98d4616e30ebe3c8",
       "version_major": 2,
       "version_minor": 0
      },
      "text/plain": [
       "Downloading:   0%|          | 0.00/381M [00:00<?, ?B/s]"
      ]
     },
     "metadata": {},
     "output_type": "display_data"
    },
    {
     "name": "stdout",
     "output_type": "stream",
     "text": [
      "odict_keys(['last_hidden_state', 'pooler_output'])\n"
     ]
    }
   ],
   "source": [
    "from transformers import AutoTokenizer, AutoModel\n",
    "\n",
    "tokenizer = AutoTokenizer.from_pretrained(\"nghuyong/ernie-gram-zh\")\n",
    "model = AutoModel.from_pretrained(\"nghuyong/ernie-gram-zh\")\n",
    "\n",
    "example_text = '你好世界!'\n",
    "input_ex = tokenizer(example_text, padding='max_length', max_length = 512, truncation=True, return_tensors=\"pt\")\n",
    "\n",
    "x = model(input_ex['input_ids'])\n",
    "\n",
    "print(x.keys())"
   ]
  },
  {
   "cell_type": "markdown",
   "id": "a8797242-634d-49ee-b582-a487aaf84f64",
   "metadata": {
    "slideshow": {
     "slide_type": "subslide"
    },
    "tags": []
   },
   "source": [
    "[[Volver al inicio]](#Contenido)"
   ]
  },
  {
   "cell_type": "markdown",
   "id": "9b4287a7-2cd9-4ee2-87b8-9539014c6d11",
   "metadata": {
    "slideshow": {
     "slide_type": "subslide"
    },
    "tags": []
   },
   "source": [
    "## <span style=\"color:blue\">Sentence-BERT</span>"
   ]
  },
  {
   "cell_type": "markdown",
   "id": "bf9e34b9-c6e6-4d9b-a9b7-ab8ffdd83a9d",
   "metadata": {},
   "source": [
    "Todos los modelos anteriores se basan en producir embeddings por tokens. [CLS] a lo más resume las frases de entrada, pero se ha comprobado que no es una buena representación para el proceso de clasificación. \n",
    "\n",
    "Además, al querer comparar dos frases, se requiere que ambas oraciones se alimenten a la red, lo que provoca una sobrecarga computacional masiva: encontrar el par más similar en una colección de 10,000 oraciones requiere alrededor de 50 millones de cálculos de inferencia (~65 horas) con BERT.\n",
    "\n",
    "Es por esto que nace Sentence-BERT, donde se soluciona este problema: [Sentence-BERT: Sentence Embeddings using Siamese BERT-Networks](https://arxiv.org/abs/1908.10084)"
   ]
  },
  {
   "cell_type": "code",
   "execution_count": null,
   "id": "6cf5792d-bc1d-4da8-9744-414d6e17a981",
   "metadata": {},
   "outputs": [],
   "source": [
    "from sentence_transformers import SentenceTransformer\n",
    "model = SentenceTransformer('paraphrase-MiniLM-L6-v2')\n",
    "\n",
    "#Our sentences we like to encode\n",
    "sentences = ['This framework generates embeddings for each input sentence',\n",
    "    'Sentences are passed as a list of string.',\n",
    "    'The quick brown fox jumps over the lazy dog.']\n",
    "\n",
    "#Sentences are encoded by calling model.encode()\n",
    "embeddings = model.encode(sentences)\n",
    "\n",
    "#Print the embeddings\n",
    "for sentence, embedding in zip(sentences, embeddings):\n",
    "    print(\"Sentence:\", sentence)\n",
    "    print(\"Embedding:\", embedding)\n",
    "    print(\"\")"
   ]
  },
  {
   "cell_type": "code",
   "execution_count": null,
   "id": "bd7fa273-a1fe-416d-b7d5-a9e44e31daa4",
   "metadata": {},
   "outputs": [],
   "source": [
    "from sentence_transformers import SentenceTransformer, util\n",
    "model = SentenceTransformer('all-MiniLM-L6-v2')\n",
    "\n",
    "# Two lists of sentences\n",
    "sentences1 = ['The cat sits outside',\n",
    "             'A man is playing guitar',\n",
    "             'The new movie is awesome']\n",
    "\n",
    "sentences2 = ['The dog plays in the garden',\n",
    "              'A woman watches TV',\n",
    "              'The new movie is so great']\n",
    "\n",
    "#Compute embedding for both lists\n",
    "embeddings1 = model.encode(sentences1, convert_to_tensor=True)\n",
    "embeddings2 = model.encode(sentences2, convert_to_tensor=True)\n",
    "\n",
    "#Compute cosine-similarits\n",
    "cosine_scores = util.cos_sim(embeddings1, embeddings2)\n",
    "\n",
    "#Output the pairs with their score\n",
    "for i in range(len(sentences1)):\n",
    "    print(\"{} \\t\\t {} \\t\\t Score: {:.4f}\".format(sentences1[i], sentences2[i], cosine_scores[i][i]))"
   ]
  },
  {
   "cell_type": "markdown",
   "id": "665dae8e-9f01-417e-bc89-adb2ec3a35fe",
   "metadata": {},
   "source": [
    "De lo más importante y para finalizar esta sección, es que **¡actualmente tenemos un modelo en español!**"
   ]
  },
  {
   "cell_type": "code",
   "execution_count": null,
   "id": "cb5aea64-6dc8-4465-98ed-2efcf11ff30a",
   "metadata": {},
   "outputs": [],
   "source": [
    "from sentence_transformers import SentenceTransformer\n",
    "sentences = [\"Soy un hombre muy feliz\", \"Me pone de emociones fuertes y sonrientes.\"]\n",
    "\n",
    "model = SentenceTransformer('hiiamsid/sentence_similarity_spanish_es')\n",
    "embeddings = model.encode(sentences)\n",
    "print(embeddings)"
   ]
  },
  {
   "cell_type": "markdown",
   "id": "c10eb097-3254-4994-a98d-63cca8b7a910",
   "metadata": {
    "slideshow": {
     "slide_type": "subslide"
    },
    "tags": []
   },
   "source": [
    "[[Volver al inicio]](#Contenido)"
   ]
  }
 ],
 "metadata": {
  "kernelspec": {
   "display_name": "Python 3 (ipykernel)",
   "language": "python",
   "name": "python3"
  },
  "language_info": {
   "codemirror_mode": {
    "name": "ipython",
    "version": 3
   },
   "file_extension": ".py",
   "mimetype": "text/x-python",
   "name": "python",
   "nbconvert_exporter": "python",
   "pygments_lexer": "ipython3",
   "version": "3.9.10"
  }
 },
 "nbformat": 4,
 "nbformat_minor": 5
}
