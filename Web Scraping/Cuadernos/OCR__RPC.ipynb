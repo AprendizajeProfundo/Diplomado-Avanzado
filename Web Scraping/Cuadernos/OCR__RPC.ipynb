{
  "nbformat": 4,
  "nbformat_minor": 0,
  "metadata": {
    "colab": {
      "name": "OCR._RPC.ipynb",
      "provenance": []
    },
    "kernelspec": {
      "name": "python3",
      "display_name": "Python 3"
    },
    "language_info": {
      "name": "python"
    }
  },
  "cells": [
    {
      "cell_type": "code",
      "source": [
        "!pip install pdf2image\n",
        "!pip install pytesseract\n",
        "!sudo apt install tesseract-ocr"
      ],
      "metadata": {
        "colab": {
          "base_uri": "https://localhost:8080/"
        },
        "id": "MDv72yOpHABc",
        "outputId": "27a435f4-00c0-4acf-f9a1-75aba71ab7fc"
      },
      "execution_count": 1,
      "outputs": [
        {
          "output_type": "stream",
          "name": "stdout",
          "text": [
            "Requirement already satisfied: pdf2image in /usr/local/lib/python3.7/dist-packages (1.16.0)\n",
            "Requirement already satisfied: pillow in /usr/local/lib/python3.7/dist-packages (from pdf2image) (9.0.1)\n",
            "Requirement already satisfied: pytesseract in /usr/local/lib/python3.7/dist-packages (0.3.9)\n",
            "Requirement already satisfied: packaging>=21.3 in /usr/local/lib/python3.7/dist-packages (from pytesseract) (21.3)\n",
            "Requirement already satisfied: Pillow>=8.0.0 in /usr/local/lib/python3.7/dist-packages (from pytesseract) (9.0.1)\n",
            "Requirement already satisfied: pyparsing!=3.0.5,>=2.0.2 in /usr/local/lib/python3.7/dist-packages (from packaging>=21.3->pytesseract) (3.0.7)\n",
            "Reading package lists... Done\n",
            "Building dependency tree       \n",
            "Reading state information... Done\n",
            "tesseract-ocr is already the newest version (4.00~git2288-10f4998a-2).\n",
            "0 upgraded, 0 newly installed, 0 to remove and 39 not upgraded.\n"
          ]
        }
      ]
    },
    {
      "cell_type": "code",
      "execution_count": 2,
      "metadata": {
        "id": "OxBA-b4pG6Yw"
      },
      "outputs": [],
      "source": [
        "from pdf2image import convert_from_path\n",
        "import re\n",
        "import numpy as np\n",
        "import cv2\n",
        "from PIL import Image\n",
        "import pytesseract\n",
        "import matplotlib.pyplot as plt\n",
        "from glob import glob"
      ]
    },
    {
      "cell_type": "code",
      "source": [
        "pdfs =  glob(f\"./*RP*.pdf\")\n",
        "pdfs"
      ],
      "metadata": {
        "colab": {
          "base_uri": "https://localhost:8080/"
        },
        "id": "oY2nIv1jG-Sp",
        "outputId": "f3b18a54-39d7-4adc-dc9a-b93d173935c8"
      },
      "execution_count": 3,
      "outputs": [
        {
          "output_type": "execute_result",
          "data": {
            "text/plain": [
              "['./437-2022 RPC.pdf']"
            ]
          },
          "metadata": {},
          "execution_count": 3
        }
      ]
    },
    {
      "cell_type": "code",
      "source": [
        "# use this command to install open cv2\n",
        "# pip install opencv-python\n",
        "\n",
        "# use this command to install PIL\n",
        "# pip install Pillow\n",
        "\n",
        "def mark_region(image_path):\n",
        "    \n",
        "    im = cv2.imread(image_path)\n",
        "\n",
        "    gray = cv2.cvtColor(im, cv2.COLOR_BGR2GRAY)\n",
        "    blur = cv2.GaussianBlur(gray, (9,9), 0)\n",
        "    thresh = cv2.adaptiveThreshold(blur,255,cv2.ADAPTIVE_THRESH_GAUSSIAN_C, cv2.THRESH_BINARY_INV,11,30)\n",
        "\n",
        "    # Dilate to combine adjacent text contours\n",
        "    kernel = cv2.getStructuringElement(cv2.MORPH_RECT, (9,9))\n",
        "    dilate = cv2.dilate(thresh, kernel, iterations=4)\n",
        "\n",
        "    # Find contours, highlight text areas, and extract ROIs\n",
        "    cnts = cv2.findContours(dilate, cv2.RETR_EXTERNAL, cv2.CHAIN_APPROX_SIMPLE)\n",
        "    cnts = cnts[0] if len(cnts) == 2 else cnts[1]\n",
        "\n",
        "    line_items_coordinates = []\n",
        "    for c in cnts:\n",
        "        area = cv2.contourArea(c)\n",
        "        x,y,w,h = cv2.boundingRect(c)\n",
        "\n",
        "        if y >= 600 and x <= 1000:\n",
        "            if area > 10000:\n",
        "                image = cv2.rectangle(im, (x,y), (2200, y+h), color=(255,0,255), thickness=3)\n",
        "                line_items_coordinates.append([(x,y), (2200, y+h)])\n",
        "\n",
        "        if y >= 2400 and x<= 2000:\n",
        "            image = cv2.rectangle(im, (x,y), (2200, y+h), color=(255,0,255), thickness=3)\n",
        "            line_items_coordinates.append([(x,y), (2200, y+h)])\n",
        "            \n",
        "\n",
        "    return line_items_coordinates"
      ],
      "metadata": {
        "id": "F6X4AlrWHhH6"
      },
      "execution_count": 4,
      "outputs": []
    },
    {
      "cell_type": "code",
      "source": [
        "!apt-get install poppler-utils"
      ],
      "metadata": {
        "colab": {
          "base_uri": "https://localhost:8080/"
        },
        "id": "72WMDBlYHuf7",
        "outputId": "26455139-16be-4267-aad0-d1493ebd6589"
      },
      "execution_count": 5,
      "outputs": [
        {
          "output_type": "stream",
          "name": "stdout",
          "text": [
            "Reading package lists... Done\n",
            "Building dependency tree       \n",
            "Reading state information... Done\n",
            "poppler-utils is already the newest version (0.62.0-2ubuntu2.12).\n",
            "0 upgraded, 0 newly installed, 0 to remove and 39 not upgraded.\n"
          ]
        }
      ]
    },
    {
      "cell_type": "code",
      "source": [
        "VAL = []\n",
        "for pdf in pdfs:\n",
        "    print(pdf,end=' ')\n",
        "    pages = convert_from_path(pdf,500)[0].save(pdf + \".jpg\", \"JPEG\")\n",
        "\n",
        "    line_items_coordinates = mark_region(pdf + \".jpg\")\n",
        "\n",
        "    # load the original image\n",
        "    image = cv2.imread(pdf + \".jpg\")\n",
        "\n",
        "    TEXT=[]\n",
        "    for line_items_coordinate in line_items_coordinates:\n",
        "        # get co-ordinates to crop the image\n",
        "        c = line_items_coordinate\n",
        "\n",
        "        # cropping image img = image[y0:y1, x0:x1]\n",
        "        img = image[c[0][1]:c[1][1], c[0][0]:c[1][0]]    \n",
        "\n",
        "        #plt.figure(figsize=(10,10))\n",
        "        #plt.imshow(img)\n",
        "\n",
        "        # convert the image to black and white for better OCR\n",
        "        ret,thresh1 = cv2.threshold(img,120,255,cv2.THRESH_BINARY)\n",
        "\n",
        "        text = str(pytesseract.image_to_string(thresh1, config='--psm 6'))\n",
        "        # pytesseract image to string to get results\n",
        "        TEXT.append(text)\n",
        "        #print(text)\n",
        "    try:\n",
        "        valor = [re.search('Valor.*',t) for t in TEXT]\n",
        "        valor = np.unique([v.group() for v in valor if v])[0]\n",
        "        valor = re.sub('Valor: \\$\\s?','',valor)\n",
        "        valor = re.sub('Valor. \\$\\s?','',valor)\n",
        "        valor = re.sub('Valor \\$\\s?','',valor)\n",
        "        valor = re.sub('\\,','.',valor)\n",
        "        VAL.append(valor)\n",
        "    except: VAL.append('DESCONOCIDO')\n",
        "    print(VAL)"
      ],
      "metadata": {
        "colab": {
          "base_uri": "https://localhost:8080/"
        },
        "id": "1dbpQArnHlax",
        "outputId": "fe6705d9-8f95-4b7d-f68f-7635597f43da"
      },
      "execution_count": 6,
      "outputs": [
        {
          "output_type": "stream",
          "name": "stdout",
          "text": [
            "./437-2022 RPC.pdf ['19.692.339 COP']\n"
          ]
        }
      ]
    }
  ]
}