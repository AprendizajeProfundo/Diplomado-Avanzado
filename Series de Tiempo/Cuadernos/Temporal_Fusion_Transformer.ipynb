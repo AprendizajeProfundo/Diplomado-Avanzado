{
 "cells": [
  {
   "cell_type": "markdown",
   "id": "116e67da-ad3d-4268-b485-65ef7172f1da",
   "metadata": {},
   "source": [
    "<figure>\n",
    "<img src=\"../Imagenes/logo-final-ap.png\"  width=\"80\" height=\"80\" align=\"left\"/> \n",
    "</figure>\n",
    "\n",
    "# <span style=\"color:blue\"><left>Aprendizaje Profundo</left></span>"
   ]
  },
  {
   "cell_type": "markdown",
   "id": "2f36a866-5fee-4fc7-bce7-85c19e06d35a",
   "metadata": {},
   "source": [
    "# <span style=\"color:red\"><center>Temporal Fusion Transformer</center></span>"
   ]
  },
  {
   "cell_type": "markdown",
   "id": "f8a2f8b6-3e8f-4bf0-8780-6e2ad9efee7e",
   "metadata": {},
   "source": [
    "<center>Pronóstico de demanda con Temporal Fusion Transformer</center>"
   ]
  },
  {
   "cell_type": "markdown",
   "id": "d7436142-a95f-4973-9439-e100b0f0a2aa",
   "metadata": {},
   "source": [
    "<figure>\n",
    "<center>\n",
    "<img src=\"../Imagenes/Multihorizon_Forecasting.png\" width=\"600\" height=\"600\" align=\"center\"/>\n",
    "</center>\n",
    "</figure>\n",
    "\n",
    "\n",
    "Fuente: Alvaro Montenegro"
   ]
  },
  {
   "cell_type": "markdown",
   "id": "f99e3c90-dbc9-45fe-8201-8ddfae6f5395",
   "metadata": {
    "slideshow": {
     "slide_type": "slide"
    },
    "tags": []
   },
   "source": [
    "##   <span style=\"color:blue\">Profesores</span>"
   ]
  },
  {
   "cell_type": "markdown",
   "id": "e9a4a353-7bea-4b7f-8713-69146e84066e",
   "metadata": {
    "slideshow": {
     "slide_type": "slide"
    },
    "tags": []
   },
   "source": [
    "### Coordinador"
   ]
  },
  {
   "cell_type": "markdown",
   "id": "a9080bdf-eee3-41b7-bcc3-4763ab317d4d",
   "metadata": {
    "slideshow": {
     "slide_type": "slide"
    },
    "tags": []
   },
   "source": [
    "- Campo Elías Pardo, PhD, cepardot@unal.edu.co"
   ]
  },
  {
   "cell_type": "markdown",
   "id": "7731b9d7-3800-4c8b-a8e7-3968c1b31e67",
   "metadata": {
    "slideshow": {
     "slide_type": "slide"
    },
    "tags": []
   },
   "source": [
    "### Conferencistas"
   ]
  },
  {
   "cell_type": "markdown",
   "id": "4f17c879-dc56-4314-8f0b-f282072b74e8",
   "metadata": {},
   "source": [
    "- Alvaro  Montenegro, PhD, ammontenegrod@unal.edu.co\n",
    "- Daniel  Montenegro, Msc, dextronomo@gmail.com \n",
    "- Oleg Jarma, Estadístico, ojarmam@unal.edu.co "
   ]
  },
  {
   "cell_type": "markdown",
   "id": "a89ba8a2-e5d0-4e5e-88a6-26c135cf25e1",
   "metadata": {},
   "source": [
    "##   <span style=\"color:blue\">Asesora Medios y Marketing digital</span>\n",
    " "
   ]
  },
  {
   "cell_type": "markdown",
   "id": "e6f602a4-92bc-4e49-989b-fe1114780c01",
   "metadata": {
    "slideshow": {
     "slide_type": "slide"
    },
    "tags": []
   },
   "source": [
    "- Maria del Pilar Montenegro, pmontenegro88@gmail.com "
   ]
  },
  {
   "cell_type": "markdown",
   "id": "7095bc4c-ef8f-470e-b41f-f898494d0420",
   "metadata": {},
   "source": [
    "## <span style=\"color:blue\">Asistentes</span>"
   ]
  },
  {
   "cell_type": "markdown",
   "id": "8ae30b59-4139-4270-a2bd-b6c58482ed2d",
   "metadata": {},
   "source": [
    "- Nayibe Yesenia Arias, naariasc@unal.edu.co\n",
    "- Venus Celeste Puertas, vpuertasg@unal.edu.co "
   ]
  },
  {
   "cell_type": "markdown",
   "id": "7ff62e42-72b6-408f-950f-f9e0d39ff401",
   "metadata": {},
   "source": [
    "## <span style=\"color:blue\">Referencias</span>"
   ]
  },
  {
   "cell_type": "markdown",
   "id": "7c546c17-3fbe-4bd1-826e-0bcde6fe639f",
   "metadata": {},
   "source": [
    "1. [Alvaro Montenegro y Daniel Montenegro, Inteligencia Artificial y Aprendizaje Profundo, 2021](https://github.com/AprendizajeProfundo/Diplomado)\n",
    "1. [Alvaro Montenegro, Daniel Montenegro y Oleg Jarma, Inteligencia Artificial y Aprendizaje Profundo Avanzado, 2022](https://github.com/AprendizajeProfundo/Diplomado-Avanzado)\n",
    "1. [Tutoriales de Pytorch](https://pytorch.org/tutorials/)\n",
    "1. [Pytorchlightning.ai](https://www.pytorchlightning.ai/)\n",
    "1. [Tutorial de Pytorch-Forecasting (Temporal Fusion Transformer)](https://pytorch-forecasting.readthedocs.io/en/latest/tutorials/stallion.html)\n",
    "1. [Lim et. al., Temporal Fusion Transformer](https://arxiv.org/pdf/1912.09363.pdf)"
   ]
  },
  {
   "cell_type": "markdown",
   "id": "59cded78-ef97-4957-9821-71f18d27073d",
   "metadata": {
    "slideshow": {
     "slide_type": "slide"
    },
    "tags": []
   },
   "source": [
    "## <span style=\"color:blue\">Contenido</span>"
   ]
  },
  {
   "cell_type": "markdown",
   "id": "0e473b6b-e560-42ed-b90e-deb76d9ee9bd",
   "metadata": {},
   "source": [
    "* [Introducción](#Introducción)\n",
    "* [Temporal Fusion Transformer](#Temporal-Fusion-Transformer)"
   ]
  },
  {
   "cell_type": "markdown",
   "id": "ab698e08-33bf-45c2-8b16-306084b6bf78",
   "metadata": {
    "tags": []
   },
   "source": [
    "## <span style=\"color:blue\">Introducción</span> "
   ]
  },
  {
   "cell_type": "markdown",
   "id": "3d8fd637-e1b0-429e-b40e-fde358a815f2",
   "metadata": {},
   "source": [
    "Las aplicaciones prácticas de pronóstico de múltiples horizontes comúnmente tienen acceso a\n",
    "una variedad de fuentes de datos, incluida:\n",
    "\n",
    "* la información conocida sobre el futuro (por ejemplo, próximas fechas de vacaciones), \n",
    "* otras series de tiempo exógenas (p. ej., tráfico peatonal histórico de clientes) \n",
    "* y metadatos estáticos (p. ej., ubicación de la tienda) – \n",
    "\n",
    "En general no se tiene sin ningún conocimiento previo sobre cómo interactúan. Esta heterogeneidad de fuentes de datos junto con poca información sobre sus interacciones hace\n",
    "la previsión de series de tiempo de horizontes múltiples es particularmente desafiante."
   ]
  },
  {
   "cell_type": "markdown",
   "id": "3b8edf68-e51d-4116-ab84-efa46248ceb4",
   "metadata": {},
   "source": [
    "<figure>\n",
    "<center>\n",
    "<img src=\"../Imagenes/Multihorizon_Forecasting.png\" width=\"600\" height=\"600\" align=\"center\"/>\n",
    "</center>\n",
    "</figure>\n",
    "\n",
    "\n",
    "Fuente: [Artículo TFT](https://arxiv.org/pdf/1912.09363.pdf)"
   ]
  },
  {
   "cell_type": "markdown",
   "id": "15e123bb-41ee-4527-a013-75054a458530",
   "metadata": {},
   "source": [
    "## <span style=\"color:blue\">Temporal Fusion Transformer</span> "
   ]
  },
  {
   "cell_type": "markdown",
   "id": "fba36b79-0da4-4560-a4ca-f09c60ab4215",
   "metadata": {
    "tags": []
   },
   "source": [
    "### Hipótesis asumidas"
   ]
  },
  {
   "cell_type": "markdown",
   "id": "97d6881f-3b81-480b-88bb-075919114c50",
   "metadata": {
    "tags": []
   },
   "source": [
    "* Hay entidades únicas en un conjunto de datos de series de tiempo dado, como diferentes tiendas en el comercio minorista o pacientes en el cuidado de la salud. \n",
    "* Cada entidad $i$ está asociada con un conjunto de covariables estáticas $s_i \\in R^{m_s}$ , \n",
    "* Hay entradas $x_{i,t}\\in  R^{m_x}$ y escalares objetivos $y_{ i,t} \\in  R $ en cada paso de tiempo $t \\in[0, T_i ]$. \n",
    "* Las características de entrada dependientes del tiempo están subdividida en dos categorías $x_{i,t} = [z_{i,t}, w_{i,t}]$, en donde  las entradas observadas $z_{i,t} \\in R^{ m_z }$  solo se pueden medir en cada paso y se desconocen de antemano, y entradas conocidas $x_{i,t} \\in  R^{ m_x}$ que pueden ser predeterminadas (por ejemplo, el día de la semana en tiempo $t$)."
   ]
  },
  {
   "cell_type": "markdown",
   "id": "1c993b22-2bab-4cf8-aa45-67c59dd42288",
   "metadata": {
    "tags": []
   },
   "source": [
    "### Intervalos de predicción"
   ]
  },
  {
   "cell_type": "markdown",
   "id": "92d5c91a-0151-4137-803a-f28233db7694",
   "metadata": {
    "tags": []
   },
   "source": [
    "En muchos escenarios, la provisión de intervalos de predicción puede ser útil para\n",
    "optimizar las decisiones y la gestión de riesgos al proporcionar una indicación de los posibles\n",
    "mejores y peores valores que puede tomar el objetivo. \n",
    "\n",
    "Como tal, en TFT adoptan la regresión  cuantil en la configuración de pronóstico de múltiples horizontes (por ejemplo, generar los percentiles 10,\n",
    "50 y 90 en cada paso de tiempo). Cada pronóstico por cuantiles tomala forma\n",
    "\n",
    "$$\n",
    "\\hat{y}_ i (q, t, \\tau ) = f_q (\\tau, y_{ i,t−k:t} , z_{i,t−k:t , x i,t−k:t+\\tau} , s_i ) ,\n",
    "$$\n",
    "\n",
    "\n",
    "donde $\\hat{y}_ i (q, t, \\tau )$  es el q-ésimo cuantil de muestra predicho del paso adelante $\\tau$\n",
    "pronóstico en el tiempo $t$, y $f q (\\cdot)$ es un modelo de predicción (función de enlace). \n",
    "\n",
    "En línea con otros métodos directos, TFT genera simultáneamente pronósticos para $\\tau_{\\max}$ pasos de tiempo adelante, es decir, $\\tau \\in \\{1, . . . , tau_{\\max} \\}$. \n",
    "\n",
    "Se incorpora toda la información pasada dentro de una mirada retrospectiva en una ventana finita $k$, usando \n",
    "\n",
    "+ entradas objetivo (target) y entradas (inputs) conocidos solo hasta el momento del pronóstico, es decir, \n",
    "$y_{ i,t−k:t} = \\{y_{i,t−k} , \\cdots, y_{ i,t} \\}$ \n",
    "+ entradas conocidas en todo el rango,  es decir,   $x_{i,t-k:t+\\tau} = x_{i,t-k} , \\cdots, x_{i,t} , \\cdots, x_{i,t+\\tau}$"
   ]
  },
  {
   "cell_type": "markdown",
   "id": "2ca3b9ad-e253-4a2f-97bf-c91b15a230fa",
   "metadata": {},
   "source": [
    "### Arquitectura del modelo Temporal Fusion Transformer"
   ]
  },
  {
   "cell_type": "markdown",
   "id": "09fd827e-8bef-4950-905f-3578f083c1c1",
   "metadata": {},
   "source": [
    "\n",
    "La imagen muestra la arquitectura del modelo Temporal Fusion Transformer (TFT)"
   ]
  },
  {
   "cell_type": "markdown",
   "id": "3473d87e-b5a5-46c6-9124-e5471a170e76",
   "metadata": {},
   "source": [
    "<figure>\n",
    "<center>\n",
    "<img src=\"../Imagenes/Temporal_Fusion_Transformer.png\" width=\"1000\" height=\"1000\" align=\"center\"/>\n",
    "</center>\n",
    "</figure>\n",
    "\n",
    "Fuente: [Artículo TFT](https://arxiv.org/pdf/1912.09363.pdf)"
   ]
  },
  {
   "cell_type": "markdown",
   "id": "e9649e67-4c36-458f-8ea2-123f99821169",
   "metadata": {},
   "source": [
    "TFT está diseñado para usar componentes canónicos para construir características de manera eficiente\n",
    "representaciones para cada tipo de entrada (es decir, entradas estáticas, conocidas, observadas) para \n",
    "Pronosticar el rendimiento en una amplia gama de problemas. Los principales constituyentes\n",
    "de TFT son:\n",
    "\n",
    "1. **Mecanismos de compuerta** para omitir cualquier componente no utilizado de la arquitectura. tura, proporcionando profundidad adaptativa y complejidad de red para acomodar una amplia gama de conjuntos de datos y escenarios.\n",
    "2. **Redes de selección de variables** para seleccionar variables de entrada relevantes en cada momento paso.\n",
    "3. ***Codificadores de covariables estáticas** para integrar características estáticas en la red, a través de la codificación de vectores de contexto para condicionar la dinámica temporal.\n",
    "4. **Procesamiento temporal** para aprender relaciones temporales tanto a corto como a largo plazo*. relaciones de entradas variables en el tiempo tanto observadas como conocidas. Una capa *seq2seq* se emplea para el procesamiento local, mientras que la dependencia a largo plazo se capturan utilizando un  bloque de atención de múltiples cabezas interpretable.\n",
    "5. **Intervalos de predicción** a través de pronósticos por cuantiles para determinar el rango de probabilidad valores objetivo en cada horizonte de predicción."
   ]
  }
 ],
 "metadata": {
  "kernelspec": {
   "display_name": "Python 3 (ipykernel)",
   "language": "python",
   "name": "python3"
  },
  "language_info": {
   "codemirror_mode": {
    "name": "ipython",
    "version": 3
   },
   "file_extension": ".py",
   "mimetype": "text/x-python",
   "name": "python",
   "nbconvert_exporter": "python",
   "pygments_lexer": "ipython3",
   "version": "3.9.12"
  }
 },
 "nbformat": 4,
 "nbformat_minor": 5
}
