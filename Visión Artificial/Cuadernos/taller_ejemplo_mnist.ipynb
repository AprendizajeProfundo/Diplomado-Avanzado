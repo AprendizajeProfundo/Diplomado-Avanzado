{
  "cells": [
    {
      "cell_type": "markdown",
      "metadata": {
        "id": "b8ipknGZWwtY"
      },
      "source": [
        "<figure>\n",
        "<img src=\"https://raw.githubusercontent.com/AprendizajeProfundo/Diplomado-Avanzado/main/Programación/Imagenes/logo-final-ap.png\"  width=\"80\" height=\"80\" align=\"left\"/> \n",
        "</figure>\n",
        "\n",
        "# <span style=\"color:blue\"><left>Aprendizaje Profundo</left></span>"
      ]
    },
    {
      "cell_type": "markdown",
      "metadata": {
        "id": "_PydvCD6W1cb"
      },
      "source": [
        "# <span style=\"color:red\"><center>Ejemplo MNIST</center></span>"
      ]
    },
    {
      "cell_type": "markdown",
      "metadata": {
        "id": "PN4JC-VpXDzM"
      },
      "source": [
        "## <span style=\"color:blue\">Autores</span>"
      ]
    },
    {
      "cell_type": "markdown",
      "metadata": {
        "id": "u5dIyFACW_VO"
      },
      "source": [
        "* Nayibe Yesenia Arias, naariasc@unal.edu.co"
      ]
    },
    {
      "cell_type": "markdown",
      "metadata": {
        "id": "78r-TVsiXOkB"
      },
      "source": [
        "## <span style=\"color:blue\">Profesores</span>"
      ]
    },
    {
      "cell_type": "markdown",
      "metadata": {
        "id": "li6XvuYDXR8q"
      },
      "source": [
        "### Coordinador"
      ]
    },
    {
      "cell_type": "markdown",
      "metadata": {
        "id": "cjbRnQ4cXWlX"
      },
      "source": [
        "- Campo Elías Pardo, PhD, cepardot@unal.edu.co"
      ]
    },
    {
      "cell_type": "markdown",
      "metadata": {
        "id": "HY6KT1hGXXRj"
      },
      "source": [
        "### Conferencistas"
      ]
    },
    {
      "cell_type": "markdown",
      "metadata": {
        "id": "8-fvQKlMXba7"
      },
      "source": [
        "- Alvaro  Montenegro, PhD, ammontenegrod@unal.edu.co\n",
        "- Daniel  Montenegro, Msc, dextronomo@gmail.com "
      ]
    },
    {
      "cell_type": "markdown",
      "metadata": {
        "id": "ROBemDKUXcJs"
      },
      "source": [
        "##   <span style=\"color:blue\">Asesora Medios y Marketing digital</span>"
      ]
    },
    {
      "cell_type": "markdown",
      "metadata": {
        "id": "8savYE1yXfLZ"
      },
      "source": [
        "- Maria del Pilar Montenegro, pmontenegro88@gmail.com "
      ]
    },
    {
      "cell_type": "markdown",
      "metadata": {
        "id": "XXiTPXb1XiuB"
      },
      "source": [
        "## <span style=\"color:blue\">Asistentes</span>\n"
      ]
    },
    {
      "cell_type": "markdown",
      "metadata": {
        "id": "VWdjGqFoK3GF"
      },
      "source": [
        "- Nayibe Yesenia Arias, naariasc@unal.edu.co\n",
        "- Venus Celeste Puertas, vpuertasg@unal.edu.co"
      ]
    },
    {
      "cell_type": "markdown",
      "metadata": {
        "id": "vmX7bKAkNEZw"
      },
      "source": [
        "## ¿Qué es Fashion-MNIST?\n",
        "\n",
        "Es una colección de imágenes que se usan para entrenar algoritmos de aprendizaje automático y visón por computadora. \n",
        "\n",
        "Fashion-MNIST se compone de imágenes en escala de grises, de 28×28 pixeles. \n",
        "\n",
        "60.000 imágenes componen Fashion-MNIST, donde 50.000 de ellas son para entrenamiento, y las restantes 10.000 para pruebas. \n",
        "\n",
        "Todas las categorías (10) poseen 6.000 imágenes, lo que implica que el dataset está balanceado.\n",
        "\n",
        "A diferencia del MNIST tradicional, las categorías no son números del 0 al 9 escritos a mano alzada, sino prendas de vestir, como se puede suponer por su nombre. En particular, estas son las categorías:\n",
        "\n",
        "* T-shirt/top (Camiseta o top).\n",
        "* Trouser/pants (Pantalones).\n",
        "* Pullover shirt (Pullover).\n",
        "* Dress (Vestido).\n",
        "* Coat (Abrigo).\n",
        "* Sandal (Sandalias).\n",
        "* Shirt (Camisa).\n",
        "* Sneaker (Zapatos deportivos).\n",
        "* Bag (Bolso o maleta)\n",
        "* Ankle boot (Botines).\n",
        "\n",
        "Construiremos una red neuronal convolucional para predecir las clases de conjuntos de datos. "
      ]
    },
    {
      "cell_type": "markdown",
      "metadata": {
        "id": "1rm65OztSCpF"
      },
      "source": [
        "## Importando librerías"
      ]
    },
    {
      "cell_type": "code",
      "execution_count": null,
      "metadata": {
        "id": "-1_8VZgpEtea"
      },
      "outputs": [],
      "source": [
        "import numpy as np\n",
        "import pandas as pd\n",
        "import matplotlib.pyplot as plt\n",
        "\n",
        "import torch\n",
        "import torch.nn as nn\n",
        "from torch.autograd import Variable\n",
        "\n",
        "import torchvision\n",
        "import torchvision.transforms as transforms\n",
        "from torch.utils.data import Dataset, DataLoader\n",
        "from sklearn.metrics import confusion_matrix"
      ]
    },
    {
      "cell_type": "markdown",
      "metadata": {
        "id": "s6bjL6wESfoV"
      },
      "source": [
        "## Eligiendo GPU o CPU\n"
      ]
    },
    {
      "cell_type": "code",
      "execution_count": null,
      "metadata": {
        "id": "q6btjJ9YTXXw"
      },
      "outputs": [],
      "source": [
        "device = torch.device(\"cuda:0\" if torch.cuda.is_available() else \"cpu\")"
      ]
    },
    {
      "cell_type": "markdown",
      "metadata": {
        "id": "CGIhqokgSv1W"
      },
      "source": [
        "Hay 2 formas de cargar el conjunto de datos Fashion MNIST.\n",
        "\n",
        "\n",
        "    1. Cargue csv y luego herede la clase Pytorch Dataset.\n",
        "    2. Use el módulo de Pytorch torchvision.datasets. Tiene muchos conjuntos de datos populares como MNIST, FashionMNIST, CIFAR10, etc.\n",
        "    \n",
        "    \n",
        "\n",
        "* Usamos la clase DataLoader de torch.utils.data para cargar datos en lotes en ambos métodos.\n",
        "* Comente el código de un método que no esté utilizando.\n",
        "\n",
        "\n",
        "\n",
        "\n"
      ]
    },
    {
      "cell_type": "markdown",
      "metadata": {
        "id": "VePPK186m6iS"
      },
      "source": [
        "###  Cargando datos FashionMNIST \n",
        "\n",
        "\n"
      ]
    },
    {
      "cell_type": "code",
      "execution_count": null,
      "metadata": {
        "colab": {
          "base_uri": "https://localhost:8080/",
          "height": 437,
          "referenced_widgets": [
            "18cc4d31bcb74c27afdeee011161c4dd",
            "d90ee1d34b0a4a77a097cc215dc248a8",
            "62caebcca7d54c4589ff7c536519b0dd",
            "2e86bd8751ff4244ada38e8e41332198",
            "200b926373e54d60ae24705d076ab2f4",
            "05ab923df6424250922dbc2a1ed120ff",
            "af91a2fba7984a968d62620aa6c84d47",
            "48725200ad7c47b29f3feff9c83bde78",
            "2c31c937484e44b7afa8b93bcb2f0aa9",
            "974383162e6b4a21a641a2b5280ac33a",
            "8c46327efe0c46908421b730231dabe0",
            "664d676ff46f4584bfb04d8e366b95b6",
            "3f46cf74e37e47319a0c855131c514fc",
            "b36bd32899c9464cb7d2dedcc5cd0b1f",
            "141104eea7a648a0bb1d3311de043191",
            "7e11c7563334431f8639e2ca663cf738",
            "a3dbdbbd58f44753916fd16ebae16ffb",
            "3d080dce3e9f4da89e6e25a5af13a299",
            "d6fa4d0304bb40c89006bfc0d09aeede",
            "cba3bc804e574649bbaa472ca8ab69ae",
            "f1e01daa2745451ea5f5dccf3093d1b1",
            "64b2a518a085440eb1c3eb90b222fc04",
            "68e2ff9f0f024d9e996f7f602c0d7c0d",
            "a721e6a60a2740a8a1560f11535decdb",
            "cd2b546c422e4922a55139f8f85fa8e0",
            "e0996585833144349cd5c368975be15d",
            "8864f4a892324f179264ec2095e32c6d",
            "bdf0b11214084a7d8d32c3b54062664f",
            "80f6f9979e4841af86e66e04882ee8b8",
            "cb6e9b97b66544a99d3bae3df06d755c",
            "ca16729857c34458a23b29fcb8c4bd8c",
            "0798449ba578463386bbc31ccaca638a",
            "8bd7c106dfb44727ab508a2bcbd940b8",
            "cd0a1e1c8b784507853abcfa2dfebe34",
            "76f00731b85b4bcf87ae6a1887341699",
            "745670856a614540a59071920aa96ab0",
            "9a7a0d43a22b405cafb316419616c7b2",
            "acc6cb571453499c97ccf36fe6459fd2",
            "5247b58e8aba45fd9d5e482cdc44fb37",
            "c33322208a1b4b9aa2f4f26eac780efc",
            "31afa492787341fbb723b5bf81f163cb",
            "9bd11b6957284d9f861c4247f2367d84",
            "cad5277088e44da0a944bf9adc475e0f",
            "407d0576b1a04ebc8c6421bee7e1f399"
          ]
        },
        "id": "zM618_wYGM0n",
        "outputId": "967dea2c-913e-44fb-f3fe-ceb79639b253"
      },
      "outputs": [
        {
          "name": "stdout",
          "output_type": "stream",
          "text": [
            "Downloading http://fashion-mnist.s3-website.eu-central-1.amazonaws.com/train-images-idx3-ubyte.gz\n",
            "Downloading http://fashion-mnist.s3-website.eu-central-1.amazonaws.com/train-images-idx3-ubyte.gz to ./data/FashionMNIST/raw/train-images-idx3-ubyte.gz\n"
          ]
        },
        {
          "data": {
            "application/vnd.jupyter.widget-view+json": {
              "model_id": "18cc4d31bcb74c27afdeee011161c4dd",
              "version_major": 2,
              "version_minor": 0
            },
            "text/plain": [
              "  0%|          | 0/26421880 [00:00<?, ?it/s]"
            ]
          },
          "metadata": {},
          "output_type": "display_data"
        },
        {
          "name": "stdout",
          "output_type": "stream",
          "text": [
            "Extracting ./data/FashionMNIST/raw/train-images-idx3-ubyte.gz to ./data/FashionMNIST/raw\n",
            "\n",
            "Downloading http://fashion-mnist.s3-website.eu-central-1.amazonaws.com/train-labels-idx1-ubyte.gz\n",
            "Downloading http://fashion-mnist.s3-website.eu-central-1.amazonaws.com/train-labels-idx1-ubyte.gz to ./data/FashionMNIST/raw/train-labels-idx1-ubyte.gz\n"
          ]
        },
        {
          "data": {
            "application/vnd.jupyter.widget-view+json": {
              "model_id": "664d676ff46f4584bfb04d8e366b95b6",
              "version_major": 2,
              "version_minor": 0
            },
            "text/plain": [
              "  0%|          | 0/29515 [00:00<?, ?it/s]"
            ]
          },
          "metadata": {},
          "output_type": "display_data"
        },
        {
          "name": "stdout",
          "output_type": "stream",
          "text": [
            "Extracting ./data/FashionMNIST/raw/train-labels-idx1-ubyte.gz to ./data/FashionMNIST/raw\n",
            "\n",
            "Downloading http://fashion-mnist.s3-website.eu-central-1.amazonaws.com/t10k-images-idx3-ubyte.gz\n",
            "Downloading http://fashion-mnist.s3-website.eu-central-1.amazonaws.com/t10k-images-idx3-ubyte.gz to ./data/FashionMNIST/raw/t10k-images-idx3-ubyte.gz\n"
          ]
        },
        {
          "data": {
            "application/vnd.jupyter.widget-view+json": {
              "model_id": "68e2ff9f0f024d9e996f7f602c0d7c0d",
              "version_major": 2,
              "version_minor": 0
            },
            "text/plain": [
              "  0%|          | 0/4422102 [00:00<?, ?it/s]"
            ]
          },
          "metadata": {},
          "output_type": "display_data"
        },
        {
          "name": "stdout",
          "output_type": "stream",
          "text": [
            "Extracting ./data/FashionMNIST/raw/t10k-images-idx3-ubyte.gz to ./data/FashionMNIST/raw\n",
            "\n",
            "Downloading http://fashion-mnist.s3-website.eu-central-1.amazonaws.com/t10k-labels-idx1-ubyte.gz\n",
            "Downloading http://fashion-mnist.s3-website.eu-central-1.amazonaws.com/t10k-labels-idx1-ubyte.gz to ./data/FashionMNIST/raw/t10k-labels-idx1-ubyte.gz\n"
          ]
        },
        {
          "data": {
            "application/vnd.jupyter.widget-view+json": {
              "model_id": "cd0a1e1c8b784507853abcfa2dfebe34",
              "version_major": 2,
              "version_minor": 0
            },
            "text/plain": [
              "  0%|          | 0/5148 [00:00<?, ?it/s]"
            ]
          },
          "metadata": {},
          "output_type": "display_data"
        },
        {
          "name": "stdout",
          "output_type": "stream",
          "text": [
            "Extracting ./data/FashionMNIST/raw/t10k-labels-idx1-ubyte.gz to ./data/FashionMNIST/raw\n",
            "\n"
          ]
        }
      ],
      "source": [
        "\n",
        "train_set = torchvision.datasets.FashionMNIST(\"./data\", download=True, transform=\n",
        "                                                transforms.Compose([transforms.ToTensor()]))\n",
        "test_set = torchvision.datasets.FashionMNIST(\"./data\", download=True, train=False, transform=\n",
        "                                               transforms.Compose([transforms.ToTensor()]))  \n",
        "                                             "
      ]
    },
    {
      "cell_type": "code",
      "execution_count": null,
      "metadata": {
        "id": "8s2uhlGJZOOP"
      },
      "outputs": [],
      "source": [
        "\n",
        "train_loader = torch.utils.data.DataLoader(train_set, \n",
        "                                           batch_size=100)\n",
        "test_loader = torch.utils.data.DataLoader(test_set,\n",
        "                                          batch_size=100)\n",
        "                                          "
      ]
    },
    {
      "cell_type": "markdown",
      "metadata": {
        "id": "4SfsxOX4peHU"
      },
      "source": [
        "### Tenemos 10 tipos de ropa en el conjunto de datos FashionMNIST.\n",
        "\n",
        "\n",
        "> Hacer un método que devuelva el nombre de clase para el número de etiqueta.\n",
        "\n",
        "ejemplo: \n",
        "si la etiqueta es 5, devolvemos Sandalia."
      ]
    },
    {
      "cell_type": "code",
      "execution_count": null,
      "metadata": {
        "id": "uWIE3hVqOlMi"
      },
      "outputs": [],
      "source": [
        "def output_label(label):\n",
        "    output_mapping = {\n",
        "                 0: \"T-shirt/Top\",\n",
        "                 1: \"Trouser\",\n",
        "                 2: \"Pullover\",\n",
        "                 3: \"Dress\",\n",
        "                 4: \"Coat\", \n",
        "                 5: \"Sandal\", \n",
        "                 6: \"Shirt\",\n",
        "                 7: \"Sneaker\",\n",
        "                 8: \"Bag\",\n",
        "                 9: \"Ankle Boot\"\n",
        "                 }\n",
        "    input = (label.item() if type(label) == torch.Tensor else label)\n",
        "    return output_mapping[input]"
      ]
    },
    {
      "cell_type": "markdown",
      "metadata": {
        "id": "yDH7i5UFo7w3"
      },
      "source": [
        "### Jugando con datos y mostrando algunas imágenes usando el método matplotlib imshow().\n",
        "\n",
        "\n",
        "\n"
      ]
    },
    {
      "cell_type": "code",
      "execution_count": null,
      "metadata": {
        "colab": {
          "base_uri": "https://localhost:8080/"
        },
        "id": "RB9jenaDYZmt",
        "outputId": "6e6f3781-8fc8-4243-cedd-240f6ff4ff9b"
      },
      "outputs": [
        {
          "data": {
            "text/plain": [
              "torch.Size([100, 1, 28, 28])"
            ]
          },
          "execution_count": 6,
          "metadata": {},
          "output_type": "execute_result"
        }
      ],
      "source": [
        "a = next(iter(train_loader))\n",
        "a[0].size()"
      ]
    },
    {
      "cell_type": "code",
      "execution_count": null,
      "metadata": {
        "colab": {
          "base_uri": "https://localhost:8080/"
        },
        "id": "D-PnIoRpjuZW",
        "outputId": "8daccf70-546a-4c5b-e085-add1dd82e752"
      },
      "outputs": [
        {
          "data": {
            "text/plain": [
              "60000"
            ]
          },
          "execution_count": 7,
          "metadata": {},
          "output_type": "execute_result"
        }
      ],
      "source": [
        "len(train_set)"
      ]
    },
    {
      "cell_type": "code",
      "execution_count": null,
      "metadata": {
        "colab": {
          "base_uri": "https://localhost:8080/",
          "height": 282
        },
        "id": "2kC6CrJrlbf_",
        "outputId": "6f169d39-00ca-4699-8eeb-e26158eafda3"
      },
      "outputs": [
        {
          "name": "stdout",
          "output_type": "stream",
          "text": [
            "9\n"
          ]
        },
        {
          "data": {
            "image/png": "[encoded data removed]",
            "text/plain": [
              "<Figure size 432x288 with 1 Axes>"
            ]
          },
          "metadata": {
            "needs_background": "light"
          },
          "output_type": "display_data"
        }
      ],
      "source": [
        "image, label = next(iter(train_set))\n",
        "plt.imshow(image.squeeze(), cmap=\"gray\")\n",
        "print(label)"
      ]
    },
    {
      "cell_type": "code",
      "execution_count": null,
      "metadata": {
        "colab": {
          "base_uri": "https://localhost:8080/"
        },
        "id": "sgpYsgh0PY09",
        "outputId": "54826612-959e-40cb-9430-1c12b03cd795"
      },
      "outputs": [
        {
          "name": "stdout",
          "output_type": "stream",
          "text": [
            "<class 'torch.Tensor'> <class 'torch.Tensor'>\n",
            "torch.Size([10, 1, 28, 28]) torch.Size([10])\n"
          ]
        }
      ],
      "source": [
        "demo_loader = torch.utils.data.DataLoader(train_set, batch_size=10)\n",
        "\n",
        "batch = next(iter(demo_loader))\n",
        "images, labels = batch\n",
        "print(type(images), type(labels))\n",
        "print(images.shape, labels.shape)"
      ]
    },
    {
      "cell_type": "code",
      "execution_count": null,
      "metadata": {
        "colab": {
          "base_uri": "https://localhost:8080/",
          "height": 163
        },
        "id": "2Z0D4BgQRW8e",
        "outputId": "7b133634-d667-4762-ce63-13e7ac0a7eea"
      },
      "outputs": [
        {
          "name": "stdout",
          "output_type": "stream",
          "text": [
            "labels:  Ankle Boot, T-shirt/Top, T-shirt/Top, Dress, T-shirt/Top, Pullover, Sneaker, Pullover, Sandal, Sandal, "
          ]
        },
        {
          "data": {
            "image/png": "[encoded data removed]",
            "text/plain": [
              "<Figure size 1080x1440 with 1 Axes>"
            ]
          },
          "metadata": {
            "needs_background": "light"
          },
          "output_type": "display_data"
        }
      ],
      "source": [
        "grid = torchvision.utils.make_grid(images, nrow=10)\n",
        "\n",
        "plt.figure(figsize=(15, 20))\n",
        "plt.imshow(np.transpose(grid, (1, 2, 0)))\n",
        "print(\"labels: \", end=\" \")\n",
        "for i, label in enumerate(labels):\n",
        "    print(output_label(label), end=\", \")\n"
      ]
    },
    {
      "cell_type": "markdown",
      "metadata": {
        "id": "YM2u0Riup9mx"
      },
      "source": [
        "## Construyendo una red neuronal convolucional\n",
        "\n",
        "* Hacer una clase de modelo (FashionCNN en nuestro caso)\n",
        "    * Hereda la clase nn.Module que es una súper clase para todas las redes neuronales en Pytorch.\n",
        "    \n",
        "* Nuestra Red Neural tiene las siguientes capas:\n",
        "    * Dos capas secuenciales, cada una consta de las siguientes capas:\n",
        "        * Capa de convolución que tiene un tamaño de kernel de 3 * 3, relleno = 1 (zero_padding) en la primera capa y relleno = 0 en la segunda. Zancada de 1 en ambas capas.\n",
        "        * Capa de normalización de lotes.\n",
        "        * Función de activación: ReLU.\n",
        "        * Capa Max Pooling con tamaño de kernel de 2 * 2 y zancada 2.\n",
        "     * Aplane la salida para una capa densa (también conocida como capa completamente conectada).\n",
        "     * 3 capas totalmente conectadas con diferentes características de entrada/salida.\n",
        "     * 1 capa de abandono que tiene probabilidad de clase p = 0,25.\n",
        "  \n",
        "     * Toda la funcionalidad se proporciona en el método directo que define el paso directo de CNN.\n",
        "     * Nuestra imagen de entrada está cambiando de la siguiente manera:\n",
        "        * Primera capa de convulación: entrada: 28 \\* 28 \\* 3, salida: 28 \\* 28 \\* 32\n",
        "        * Primera capa Max Pooling: entrada: 28 \\* 28 \\* 32, salida: 14 \\* 14 \\* 32\n",
        "        * Segunda capa Conv: entrada: 14 \\* 14 \\* 32, salida: 12 \\* 12 \\* 64\n",
        "        * Segunda capa de agrupación máxima: 12 \\* 12 \\* 64, salida: 6 \\* 6 \\* 64\n",
        "    * La capa final completamente conectada tiene 10 funciones de salida para 10 tipos de ropa.\n",
        "\n",
        "> Vamos a implementar la red...\n",
        "\n"
      ]
    },
    {
      "cell_type": "code",
      "execution_count": null,
      "metadata": {
        "id": "hyCH0Q4hSgFB"
      },
      "outputs": [],
      "source": [
        "class FashionCNN(nn.Module):\n",
        "    \n",
        "    def __init__(self):\n",
        "        super(FashionCNN, self).__init__()\n",
        "        \n",
        "        self.layer1 = nn.Sequential(\n",
        "            nn.Conv2d(in_channels=1, out_channels=32, kernel_size=3, padding=1),\n",
        "            nn.BatchNorm2d(32),\n",
        "            nn.ReLU(),\n",
        "            nn.MaxPool2d(kernel_size=2, stride=2)\n",
        "        )\n",
        "        \n",
        "        self.layer2 = nn.Sequential(\n",
        "            nn.Conv2d(in_channels=32, out_channels=64, kernel_size=3),\n",
        "            nn.BatchNorm2d(64),\n",
        "            nn.ReLU(),\n",
        "            nn.MaxPool2d(2)\n",
        "        )\n",
        "        \n",
        "        self.fc1 = nn.Linear(in_features=64*6*6, out_features=600)\n",
        "        self.drop = nn.Dropout2d(0.25)\n",
        "        self.fc2 = nn.Linear(in_features=600, out_features=120)\n",
        "        self.fc3 = nn.Linear(in_features=120, out_features=10)\n",
        "        \n",
        "    def forward(self, x):\n",
        "        out = self.layer1(x)\n",
        "        out = self.layer2(out)\n",
        "        out = out.view(out.size(0), -1)\n",
        "        out = self.fc1(out)\n",
        "        out = self.drop(out)\n",
        "        out = self.fc2(out)\n",
        "        out = self.fc3(out)\n",
        "        \n",
        "        return out\n"
      ]
    },
    {
      "cell_type": "markdown",
      "metadata": {
        "id": "0mMVaW_PvCC2"
      },
      "source": [
        "### Haciendo un modelo de nuestra clase CNN\n",
        "\n",
        "* Creación de un objeto (modelo en el código)\n",
        "* Transferirlo a GPU si está disponible.\n",
        "* Definición de una función de pérdida. estamos usando CrossEntropyLoss() aquí.\n",
        "* Uso del algoritmo de Adam para fines de optimización.\n",
        "\n"
      ]
    },
    {
      "cell_type": "code",
      "execution_count": null,
      "metadata": {
        "colab": {
          "base_uri": "https://localhost:8080/"
        },
        "id": "NILDHzNgQ1Gt",
        "outputId": "02fefae1-4f42-4aff-e3c9-88bb9b81226f"
      },
      "outputs": [
        {
          "name": "stdout",
          "output_type": "stream",
          "text": [
            "FashionCNN(\n",
            "  (layer1): Sequential(\n",
            "    (0): Conv2d(1, 32, kernel_size=(3, 3), stride=(1, 1), padding=(1, 1))\n",
            "    (1): BatchNorm2d(32, eps=1e-05, momentum=0.1, affine=True, track_running_stats=True)\n",
            "    (2): ReLU()\n",
            "    (3): MaxPool2d(kernel_size=2, stride=2, padding=0, dilation=1, ceil_mode=False)\n",
            "  )\n",
            "  (layer2): Sequential(\n",
            "    (0): Conv2d(32, 64, kernel_size=(3, 3), stride=(1, 1))\n",
            "    (1): BatchNorm2d(64, eps=1e-05, momentum=0.1, affine=True, track_running_stats=True)\n",
            "    (2): ReLU()\n",
            "    (3): MaxPool2d(kernel_size=2, stride=2, padding=0, dilation=1, ceil_mode=False)\n",
            "  )\n",
            "  (fc1): Linear(in_features=2304, out_features=600, bias=True)\n",
            "  (drop): Dropout2d(p=0.25, inplace=False)\n",
            "  (fc2): Linear(in_features=600, out_features=120, bias=True)\n",
            "  (fc3): Linear(in_features=120, out_features=10, bias=True)\n",
            ")\n"
          ]
        }
      ],
      "source": [
        "model = FashionCNN()\n",
        "model.to(device)\n",
        "\n",
        "error = nn.CrossEntropyLoss()\n",
        "\n",
        "learning_rate = 0.001\n",
        "optimizer = torch.optim.Adam(model.parameters(), lr=learning_rate)\n",
        "print(model)"
      ]
    },
    {
      "cell_type": "markdown",
      "metadata": {
        "id": "im58ZlvMvkty"
      },
      "source": [
        "## Entrenar la red y probarla en un conjunto de datos de prueba"
      ]
    },
    {
      "cell_type": "code",
      "execution_count": null,
      "metadata": {
        "colab": {
          "base_uri": "https://localhost:8080/"
        },
        "id": "SYh_6HtpUlNl",
        "outputId": "9b05dd23-ec79-49a9-d682-2050a149c7d9"
      },
      "outputs": [
        {
          "name": "stdout",
          "output_type": "stream",
          "text": [
            "Iteration: 500, Loss: 0.5475422739982605, Accuracy: 86.25999450683594%\n",
            "Iteration: 1000, Loss: 0.3030553162097931, Accuracy: 88.97000122070312%\n",
            "Iteration: 1500, Loss: 0.30129170417785645, Accuracy: 88.04000091552734%\n",
            "Iteration: 2000, Loss: 0.227613627910614, Accuracy: 88.87999725341797%\n",
            "Iteration: 2500, Loss: 0.174112930893898, Accuracy: 89.82999420166016%\n",
            "Iteration: 3000, Loss: 0.15197306871414185, Accuracy: 90.86000061035156%\n"
          ]
        }
      ],
      "source": [
        "num_epochs = 5\n",
        "count = 0\n",
        "# Lists for visualization of loss and accuracy \n",
        "loss_list = []\n",
        "iteration_list = []\n",
        "accuracy_list = []\n",
        "\n",
        "# Lists for knowing classwise accuracy\n",
        "predictions_list = []\n",
        "labels_list = []\n",
        "\n",
        "for epoch in range(num_epochs):\n",
        "    for images, labels in train_loader:\n",
        "        # Transfering images and labels to GPU if available\n",
        "        images, labels = images.to(device), labels.to(device)\n",
        "    \n",
        "        train = Variable(images.view(100, 1, 28, 28))\n",
        "        labels = Variable(labels)\n",
        "        \n",
        "        # Forward pass \n",
        "        outputs = model(train)\n",
        "        loss = error(outputs, labels)\n",
        "        \n",
        "        # Initializing a gradient as 0 so there is no mixing of gradient among the batches\n",
        "        optimizer.zero_grad()\n",
        "        \n",
        "        #Propagating the error backward\n",
        "        loss.backward()\n",
        "        \n",
        "        # Optimizing the parameters\n",
        "        optimizer.step()\n",
        "    \n",
        "        count += 1\n",
        "    \n",
        "    # Testing the model\n",
        "    \n",
        "        if not (count % 50):    # It's same as \"if count % 50 == 0\"\n",
        "            total = 0\n",
        "            correct = 0\n",
        "        \n",
        "            for images, labels in test_loader:\n",
        "                images, labels = images.to(device), labels.to(device)\n",
        "                labels_list.append(labels)\n",
        "            \n",
        "                test = Variable(images.view(100, 1, 28, 28))\n",
        "            \n",
        "                outputs = model(test)\n",
        "            \n",
        "                predictions = torch.max(outputs, 1)[1].to(device)\n",
        "                predictions_list.append(predictions)\n",
        "                correct += (predictions == labels).sum()\n",
        "            \n",
        "                total += len(labels)\n",
        "            \n",
        "            accuracy = correct * 100 / total\n",
        "            loss_list.append(loss.data)\n",
        "            iteration_list.append(count)\n",
        "            accuracy_list.append(accuracy)\n",
        "        \n",
        "        if not (count % 500):\n",
        "            print(\"Iteration: {}, Loss: {}, Accuracy: {}%\".format(count, loss.data, accuracy))\n"
      ]
    },
    {
      "cell_type": "markdown",
      "metadata": {
        "id": "1xm9MZ6O0irC"
      },
      "source": [
        "### Visualización de la pérdida y precisión con iteraciones\n"
      ]
    },
    {
      "cell_type": "code",
      "execution_count": null,
      "metadata": {
        "colab": {
          "base_uri": "https://localhost:8080/"
        },
        "id": "_65bKzqnU8rN",
        "outputId": "797a3468-a500-497b-e3ab-7daf51274f82"
      },
      "outputs": [
        {
          "name": "stdout",
          "output_type": "stream",
          "text": [
            "[tensor(0.5076, device='cuda:0'), tensor(0.4208, device='cuda:0'), tensor(0.4380, device='cuda:0'), tensor(0.5269, device='cuda:0'), tensor(0.3946, device='cuda:0'), tensor(0.3282, device='cuda:0'), tensor(0.3726, device='cuda:0'), tensor(0.4259, device='cuda:0'), tensor(0.6507, device='cuda:0'), tensor(0.5475, device='cuda:0'), tensor(0.3511, device='cuda:0'), tensor(0.2957, device='cuda:0'), tensor(0.3417, device='cuda:0'), tensor(0.2731, device='cuda:0'), tensor(0.3254, device='cuda:0'), tensor(0.3613, device='cuda:0'), tensor(0.2596, device='cuda:0'), tensor(0.3738, device='cuda:0'), tensor(0.2771, device='cuda:0'), tensor(0.3031, device='cuda:0'), tensor(0.4732, device='cuda:0'), tensor(0.3773, device='cuda:0'), tensor(0.3113, device='cuda:0'), tensor(0.2370, device='cuda:0'), tensor(0.3051, device='cuda:0'), tensor(0.2372, device='cuda:0'), tensor(0.2954, device='cuda:0'), tensor(0.2643, device='cuda:0'), tensor(0.2652, device='cuda:0'), tensor(0.3013, device='cuda:0'), tensor(0.2137, device='cuda:0'), tensor(0.3600, device='cuda:0'), tensor(0.4440, device='cuda:0'), tensor(0.3438, device='cuda:0'), tensor(0.2950, device='cuda:0'), tensor(0.1747, device='cuda:0'), tensor(0.3049, device='cuda:0'), tensor(0.1845, device='cuda:0'), tensor(0.2609, device='cuda:0'), tensor(0.2276, device='cuda:0'), tensor(0.2171, device='cuda:0'), tensor(0.2541, device='cuda:0'), tensor(0.1885, device='cuda:0'), tensor(0.3065, device='cuda:0'), tensor(0.5400, device='cuda:0'), tensor(0.2840, device='cuda:0'), tensor(0.2678, device='cuda:0'), tensor(0.1780, device='cuda:0'), tensor(0.2159, device='cuda:0'), tensor(0.1741, device='cuda:0'), tensor(0.2505, device='cuda:0'), tensor(0.1787, device='cuda:0'), tensor(0.1855, device='cuda:0'), tensor(0.1951, device='cuda:0'), tensor(0.2451, device='cuda:0'), tensor(0.2933, device='cuda:0'), tensor(0.5386, device='cuda:0'), tensor(0.2260, device='cuda:0'), tensor(0.2566, device='cuda:0'), tensor(0.1520, device='cuda:0')]\n",
            "[tensor(0.5076), tensor(0.4208), tensor(0.4380), tensor(0.5269), tensor(0.3946), tensor(0.3282), tensor(0.3726), tensor(0.4259), tensor(0.6507), tensor(0.5475), tensor(0.3511), tensor(0.2957), tensor(0.3417), tensor(0.2731), tensor(0.3254), tensor(0.3613), tensor(0.2596), tensor(0.3738), tensor(0.2771), tensor(0.3031), tensor(0.4732), tensor(0.3773), tensor(0.3113), tensor(0.2370), tensor(0.3051), tensor(0.2372), tensor(0.2954), tensor(0.2643), tensor(0.2652), tensor(0.3013), tensor(0.2137), tensor(0.3600), tensor(0.4440), tensor(0.3438), tensor(0.2950), tensor(0.1747), tensor(0.3049), tensor(0.1845), tensor(0.2609), tensor(0.2276), tensor(0.2171), tensor(0.2541), tensor(0.1885), tensor(0.3065), tensor(0.5400), tensor(0.2840), tensor(0.2678), tensor(0.1780), tensor(0.2159), tensor(0.1741), tensor(0.2505), tensor(0.1787), tensor(0.1855), tensor(0.1951), tensor(0.2451), tensor(0.2933), tensor(0.5386), tensor(0.2260), tensor(0.2566), tensor(0.1520)]\n"
          ]
        }
      ],
      "source": [
        "print(loss_list)\n",
        "lista_perdida=[]\n",
        "for i in loss_list:\n",
        "  lista_perdida.append(i.cpu())"
      ]
    },
    {
      "cell_type": "code",
      "execution_count": null,
      "metadata": {
        "colab": {
          "base_uri": "https://localhost:8080/",
          "height": 295
        },
        "id": "4s4cGX4Hanyz",
        "outputId": "752a23bf-f243-42eb-e708-4024b4889d45"
      },
      "outputs": [
        {
          "data": {
            "image/png": "[encoded data removed]",
            "text/plain": [
              "<Figure size 432x288 with 1 Axes>"
            ]
          },
          "metadata": {
            "needs_background": "light"
          },
          "output_type": "display_data"
        }
      ],
      "source": [
        "plt.plot(iteration_list, lista_perdida)\n",
        "plt.xlabel(\"No. of Iteration\")\n",
        "plt.ylabel(\"Loss\")\n",
        "plt.title(\"Iterations vs Loss\")\n",
        "plt.show()"
      ]
    },
    {
      "cell_type": "code",
      "execution_count": null,
      "metadata": {
        "colab": {
          "base_uri": "https://localhost:8080/"
        },
        "id": "ilmdQe9snAia",
        "outputId": "7882443f-10c8-43f0-cb05-43af03cf0166"
      },
      "outputs": [
        {
          "name": "stdout",
          "output_type": "stream",
          "text": [
            "[tensor(79.2200, device='cuda:0'), tensor(82.7100, device='cuda:0'), tensor(85.7600, device='cuda:0'), tensor(85.5900, device='cuda:0'), tensor(85.7400, device='cuda:0'), tensor(86.2400, device='cuda:0'), tensor(85.1900, device='cuda:0'), tensor(85.9600, device='cuda:0'), tensor(85.4700, device='cuda:0'), tensor(88.1700, device='cuda:0'), tensor(87.6100, device='cuda:0'), tensor(87.3300, device='cuda:0'), tensor(88.2600, device='cuda:0'), tensor(88.5800, device='cuda:0'), tensor(87.8200, device='cuda:0'), tensor(87.6800, device='cuda:0'), tensor(88.1700, device='cuda:0'), tensor(88.0800, device='cuda:0'), tensor(87.4100, device='cuda:0'), tensor(87.7400, device='cuda:0'), tensor(86.8200, device='cuda:0'), tensor(88.6600, device='cuda:0'), tensor(88.1800, device='cuda:0'), tensor(87.4100, device='cuda:0'), tensor(89.4500, device='cuda:0'), tensor(89.4800, device='cuda:0'), tensor(89.2300, device='cuda:0'), tensor(89.7000, device='cuda:0'), tensor(88.6700, device='cuda:0'), tensor(88.3500, device='cuda:0'), tensor(89.3100, device='cuda:0'), tensor(89.8400, device='cuda:0'), tensor(87.5500, device='cuda:0'), tensor(90.1800, device='cuda:0'), tensor(89.2000, device='cuda:0'), tensor(88.5500, device='cuda:0'), tensor(89.7800, device='cuda:0'), tensor(89.3100, device='cuda:0'), tensor(89.8100, device='cuda:0'), tensor(89.4400, device='cuda:0'), tensor(88.2700, device='cuda:0'), tensor(89.0400, device='cuda:0'), tensor(90.2900, device='cuda:0'), tensor(89.8600, device='cuda:0'), tensor(89.6500, device='cuda:0'), tensor(90.3600, device='cuda:0'), tensor(89.5700, device='cuda:0'), tensor(89.3200, device='cuda:0'), tensor(90.6800, device='cuda:0'), tensor(89.4100, device='cuda:0'), tensor(90.3400, device='cuda:0'), tensor(89.5100, device='cuda:0'), tensor(88.9000, device='cuda:0'), tensor(89.3300, device='cuda:0'), tensor(90.1100, device='cuda:0'), tensor(90.2100, device='cuda:0'), tensor(89.8000, device='cuda:0'), tensor(90.5400, device='cuda:0'), tensor(89.2200, device='cuda:0'), tensor(90.0800, device='cuda:0')]\n",
            "[tensor(79.2200), tensor(82.7100), tensor(85.7600), tensor(85.5900), tensor(85.7400), tensor(86.2400), tensor(85.1900), tensor(85.9600), tensor(85.4700), tensor(88.1700), tensor(87.6100), tensor(87.3300), tensor(88.2600), tensor(88.5800), tensor(87.8200), tensor(87.6800), tensor(88.1700), tensor(88.0800), tensor(87.4100), tensor(87.7400), tensor(86.8200), tensor(88.6600), tensor(88.1800), tensor(87.4100), tensor(89.4500), tensor(89.4800), tensor(89.2300), tensor(89.7000), tensor(88.6700), tensor(88.3500), tensor(89.3100), tensor(89.8400), tensor(87.5500), tensor(90.1800), tensor(89.2000), tensor(88.5500), tensor(89.7800), tensor(89.3100), tensor(89.8100), tensor(89.4400), tensor(88.2700), tensor(89.0400), tensor(90.2900), tensor(89.8600), tensor(89.6500), tensor(90.3600), tensor(89.5700), tensor(89.3200), tensor(90.6800), tensor(89.4100), tensor(90.3400), tensor(89.5100), tensor(88.9000), tensor(89.3300), tensor(90.1100), tensor(90.2100), tensor(89.8000), tensor(90.5400), tensor(89.2200), tensor(90.0800)]\n"
          ]
        }
      ],
      "source": [
        "#Guardo la informacion almacenada en los tensores en una lista para poder graficar\n",
        "print(accuracy_list)\n",
        "lista_accuracy=[]\n",
        "#print(loss_list)\n",
        "for i in accuracy_list:\n",
        "  lista_accuracy.append(i.cpu())\n"
      ]
    },
    {
      "cell_type": "code",
      "execution_count": null,
      "metadata": {
        "colab": {
          "base_uri": "https://localhost:8080/",
          "height": 295
        },
        "id": "TtsjkmY8qo_t",
        "outputId": "2924414c-2947-4f24-fc3d-cce678f356d5"
      },
      "outputs": [
        {
          "data": {
            "image/png": "[encoded data removed]",
            "text/plain": [
              "<Figure size 432x288 with 1 Axes>"
            ]
          },
          "metadata": {
            "needs_background": "light"
          },
          "output_type": "display_data"
        }
      ],
      "source": [
        "plt.plot(iteration_list, lista_accuracy)\n",
        "plt.xlabel(\"No. of Iteration\")\n",
        "plt.ylabel(\"Accuracy\")\n",
        "plt.title(\"Iterations vs Accuracy\")\n",
        "plt.show()"
      ]
    },
    {
      "cell_type": "markdown",
      "metadata": {
        "id": "mZTkzUKn0vq3"
      },
      "source": [
        "### Mirando la precisión en cada clase de conjunto de datos FashionMNIST"
      ]
    },
    {
      "cell_type": "code",
      "execution_count": null,
      "metadata": {
        "colab": {
          "base_uri": "https://localhost:8080/"
        },
        "id": "Mq9_qes8Qg6h",
        "outputId": "0c80a7d9-5d66-4d86-853a-d21174f46769"
      },
      "outputs": [
        {
          "name": "stdout",
          "output_type": "stream",
          "text": [
            "Accuracy of T-shirt/Top: 86.20%\n",
            "Accuracy of Trouser: 98.00%\n",
            "Accuracy of Pullover: 73.50%\n",
            "Accuracy of Dress: 94.90%\n",
            "Accuracy of Coat: 84.00%\n",
            "Accuracy of Sandal: 96.00%\n",
            "Accuracy of Shirt: 74.60%\n",
            "Accuracy of Sneaker: 96.20%\n",
            "Accuracy of Bag: 98.70%\n",
            "Accuracy of Ankle Boot: 97.40%\n"
          ]
        }
      ],
      "source": [
        "class_correct = [0. for _ in range(10)]\n",
        "total_correct = [0. for _ in range(10)]\n",
        "\n",
        "with torch.no_grad():\n",
        "    for images, labels in test_loader:\n",
        "        images, labels = images.to(device), labels.to(device)\n",
        "        test = Variable(images)\n",
        "        outputs = model(test)\n",
        "        predicted = torch.max(outputs, 1)[1]\n",
        "        c = (predicted == labels).squeeze()\n",
        "        \n",
        "        for i in range(100):\n",
        "            label = labels[i]\n",
        "            class_correct[label] += c[i].item()\n",
        "            total_correct[label] += 1\n",
        "        \n",
        "for i in range(10):\n",
        "    print(\"Accuracy of {}: {:.2f}%\".format(output_label(i), class_correct[i] * 100 / total_correct[i]))"
      ]
    },
    {
      "cell_type": "markdown",
      "metadata": {
        "id": "ZxZhix0v0_KZ"
      },
      "source": [
        "### Imprimir la matriz de confusión"
      ]
    },
    {
      "cell_type": "code",
      "execution_count": null,
      "metadata": {
        "id": "GXme4c22cii2"
      },
      "outputs": [],
      "source": [
        "from itertools import chain \n",
        "\n",
        "predictions_l = [predictions_list[i].tolist() for i in range(len(predictions_list))]\n",
        "labels_l = [labels_list[i].tolist() for i in range(len(labels_list))]\n",
        "predictions_l = list(chain.from_iterable(predictions_l))\n",
        "labels_l = list(chain.from_iterable(labels_l))"
      ]
    },
    {
      "cell_type": "code",
      "execution_count": null,
      "metadata": {
        "colab": {
          "base_uri": "https://localhost:8080/"
        },
        "id": "ft-Qlbb5bl0A",
        "outputId": "ab8fdf22-bed3-409f-f629-b6644d0e4b76"
      },
      "outputs": [
        {
          "name": "stdout",
          "output_type": "stream",
          "text": [
            "Classification report for CNN :\n",
            "              precision    recall  f1-score   support\n",
            "\n",
            "           0       0.83      0.83      0.83     60000\n",
            "           1       0.98      0.98      0.98     60000\n",
            "           2       0.83      0.81      0.82     60000\n",
            "           3       0.88      0.89      0.88     60000\n",
            "           4       0.79      0.83      0.81     60000\n",
            "           5       0.97      0.96      0.97     60000\n",
            "           6       0.70      0.67      0.68     60000\n",
            "           7       0.93      0.94      0.94     60000\n",
            "           8       0.96      0.97      0.97     60000\n",
            "           9       0.95      0.95      0.95     60000\n",
            "\n",
            "    accuracy                           0.88    600000\n",
            "   macro avg       0.88      0.88      0.88    600000\n",
            "weighted avg       0.88      0.88      0.88    600000\n",
            "\n",
            "\n"
          ]
        }
      ],
      "source": [
        "import sklearn.metrics as metrics\n",
        "\n",
        "confusion_matrix(labels_l, predictions_l)\n",
        "print(\"Classification report for CNN :\\n%s\\n\"\n",
        "      % (metrics.classification_report(labels_l, predictions_l)))"
      ]
    }
  ],
  "metadata": {
    "accelerator": "GPU",
    "colab": {
      "collapsed_sections": [],
      "name": "taller_ejemplo_mnist.ipynb",
      "provenance": []
    },
    "kernelspec": {
      "display_name": "Python 3",
      "language": "python",
      "name": "python3"
    },
    "language_info": {
      "codemirror_mode": {
        "name": "ipython",
        "version": 3
      },
      "file_extension": ".py",
      "mimetype": "text/x-python",
      "name": "python",
      "nbconvert_exporter": "python",
      "pygments_lexer": "ipython3",
      "version": "3.7.3"
    },
    "widgets": {
      "application/vnd.jupyter.widget-state+json": {
        "05ab923df6424250922dbc2a1ed120ff": {
          "model_module": "@jupyter-widgets/base",
          "model_module_version": "1.2.0",
          "model_name": "LayoutModel",
          "state": {
            "_model_module": "@jupyter-widgets/base",
            "_model_module_version": "1.2.0",
            "_model_name": "LayoutModel",
            "_view_count": null,
            "_view_module": "@jupyter-widgets/base",
            "_view_module_version": "1.2.0",
            "_view_name": "LayoutView",
            "align_content": null,
            "align_items": null,
            "align_self": null,
            "border": null,
            "bottom": null,
            "display": null,
            "flex": null,
            "flex_flow": null,
            "grid_area": null,
            "grid_auto_columns": null,
            "grid_auto_flow": null,
            "grid_auto_rows": null,
            "grid_column": null,
            "grid_gap": null,
            "grid_row": null,
            "grid_template_areas": null,
            "grid_template_columns": null,
            "grid_template_rows": null,
            "height": null,
            "justify_content": null,
            "justify_items": null,
            "left": null,
            "margin": null,
            "max_height": null,
            "max_width": null,
            "min_height": null,
            "min_width": null,
            "object_fit": null,
            "object_position": null,
            "order": null,
            "overflow": null,
            "overflow_x": null,
            "overflow_y": null,
            "padding": null,
            "right": null,
            "top": null,
            "visibility": null,
            "width": null
          }
        },
        "0798449ba578463386bbc31ccaca638a": {
          "model_module": "@jupyter-widgets/base",
          "model_module_version": "1.2.0",
          "model_name": "LayoutModel",
          "state": {
            "_model_module": "@jupyter-widgets/base",
            "_model_module_version": "1.2.0",
            "_model_name": "LayoutModel",
            "_view_count": null,
            "_view_module": "@jupyter-widgets/base",
            "_view_module_version": "1.2.0",
            "_view_name": "LayoutView",
            "align_content": null,
            "align_items": null,
            "align_self": null,
            "border": null,
            "bottom": null,
            "display": null,
            "flex": null,
            "flex_flow": null,
            "grid_area": null,
            "grid_auto_columns": null,
            "grid_auto_flow": null,
            "grid_auto_rows": null,
            "grid_column": null,
            "grid_gap": null,
            "grid_row": null,
            "grid_template_areas": null,
            "grid_template_columns": null,
            "grid_template_rows": null,
            "height": null,
            "justify_content": null,
            "justify_items": null,
            "left": null,
            "margin": null,
            "max_height": null,
            "max_width": null,
            "min_height": null,
            "min_width": null,
            "object_fit": null,
            "object_position": null,
            "order": null,
            "overflow": null,
            "overflow_x": null,
            "overflow_y": null,
            "padding": null,
            "right": null,
            "top": null,
            "visibility": null,
            "width": null
          }
        },
        "141104eea7a648a0bb1d3311de043191": {
          "model_module": "@jupyter-widgets/controls",
          "model_module_version": "1.5.0",
          "model_name": "HTMLModel",
          "state": {
            "_dom_classes": [],
            "_model_module": "@jupyter-widgets/controls",
            "_model_module_version": "1.5.0",
            "_model_name": "HTMLModel",
            "_view_count": null,
            "_view_module": "@jupyter-widgets/controls",
            "_view_module_version": "1.5.0",
            "_view_name": "HTMLView",
            "description": "",
            "description_tooltip": null,
            "layout": "IPY_MODEL_f1e01daa2745451ea5f5dccf3093d1b1",
            "placeholder": "​",
            "style": "IPY_MODEL_64b2a518a085440eb1c3eb90b222fc04",
            "value": " 29696/? [00:00&lt;00:00, 132912.93it/s]"
          }
        },
        "18cc4d31bcb74c27afdeee011161c4dd": {
          "model_module": "@jupyter-widgets/controls",
          "model_module_version": "1.5.0",
          "model_name": "HBoxModel",
          "state": {
            "_dom_classes": [],
            "_model_module": "@jupyter-widgets/controls",
            "_model_module_version": "1.5.0",
            "_model_name": "HBoxModel",
            "_view_count": null,
            "_view_module": "@jupyter-widgets/controls",
            "_view_module_version": "1.5.0",
            "_view_name": "HBoxView",
            "box_style": "",
            "children": [
              "IPY_MODEL_d90ee1d34b0a4a77a097cc215dc248a8",
              "IPY_MODEL_62caebcca7d54c4589ff7c536519b0dd",
              "IPY_MODEL_2e86bd8751ff4244ada38e8e41332198"
            ],
            "layout": "IPY_MODEL_200b926373e54d60ae24705d076ab2f4"
          }
        },
        "200b926373e54d60ae24705d076ab2f4": {
          "model_module": "@jupyter-widgets/base",
          "model_module_version": "1.2.0",
          "model_name": "LayoutModel",
          "state": {
            "_model_module": "@jupyter-widgets/base",
            "_model_module_version": "1.2.0",
            "_model_name": "LayoutModel",
            "_view_count": null,
            "_view_module": "@jupyter-widgets/base",
            "_view_module_version": "1.2.0",
            "_view_name": "LayoutView",
            "align_content": null,
            "align_items": null,
            "align_self": null,
            "border": null,
            "bottom": null,
            "display": null,
            "flex": null,
            "flex_flow": null,
            "grid_area": null,
            "grid_auto_columns": null,
            "grid_auto_flow": null,
            "grid_auto_rows": null,
            "grid_column": null,
            "grid_gap": null,
            "grid_row": null,
            "grid_template_areas": null,
            "grid_template_columns": null,
            "grid_template_rows": null,
            "height": null,
            "justify_content": null,
            "justify_items": null,
            "left": null,
            "margin": null,
            "max_height": null,
            "max_width": null,
            "min_height": null,
            "min_width": null,
            "object_fit": null,
            "object_position": null,
            "order": null,
            "overflow": null,
            "overflow_x": null,
            "overflow_y": null,
            "padding": null,
            "right": null,
            "top": null,
            "visibility": null,
            "width": null
          }
        },
        "2c31c937484e44b7afa8b93bcb2f0aa9": {
          "model_module": "@jupyter-widgets/controls",
          "model_module_version": "1.5.0",
          "model_name": "ProgressStyleModel",
          "state": {
            "_model_module": "@jupyter-widgets/controls",
            "_model_module_version": "1.5.0",
            "_model_name": "ProgressStyleModel",
            "_view_count": null,
            "_view_module": "@jupyter-widgets/base",
            "_view_module_version": "1.2.0",
            "_view_name": "StyleView",
            "bar_color": null,
            "description_width": ""
          }
        },
        "2e86bd8751ff4244ada38e8e41332198": {
          "model_module": "@jupyter-widgets/controls",
          "model_module_version": "1.5.0",
          "model_name": "HTMLModel",
          "state": {
            "_dom_classes": [],
            "_model_module": "@jupyter-widgets/controls",
            "_model_module_version": "1.5.0",
            "_model_name": "HTMLModel",
            "_view_count": null,
            "_view_module": "@jupyter-widgets/controls",
            "_view_module_version": "1.5.0",
            "_view_name": "HTMLView",
            "description": "",
            "description_tooltip": null,
            "layout": "IPY_MODEL_974383162e6b4a21a641a2b5280ac33a",
            "placeholder": "​",
            "style": "IPY_MODEL_8c46327efe0c46908421b730231dabe0",
            "value": " 26422272/? [00:01&lt;00:00, 22426188.71it/s]"
          }
        },
        "31afa492787341fbb723b5bf81f163cb": {
          "model_module": "@jupyter-widgets/base",
          "model_module_version": "1.2.0",
          "model_name": "LayoutModel",
          "state": {
            "_model_module": "@jupyter-widgets/base",
            "_model_module_version": "1.2.0",
            "_model_name": "LayoutModel",
            "_view_count": null,
            "_view_module": "@jupyter-widgets/base",
            "_view_module_version": "1.2.0",
            "_view_name": "LayoutView",
            "align_content": null,
            "align_items": null,
            "align_self": null,
            "border": null,
            "bottom": null,
            "display": null,
            "flex": null,
            "flex_flow": null,
            "grid_area": null,
            "grid_auto_columns": null,
            "grid_auto_flow": null,
            "grid_auto_rows": null,
            "grid_column": null,
            "grid_gap": null,
            "grid_row": null,
            "grid_template_areas": null,
            "grid_template_columns": null,
            "grid_template_rows": null,
            "height": null,
            "justify_content": null,
            "justify_items": null,
            "left": null,
            "margin": null,
            "max_height": null,
            "max_width": null,
            "min_height": null,
            "min_width": null,
            "object_fit": null,
            "object_position": null,
            "order": null,
            "overflow": null,
            "overflow_x": null,
            "overflow_y": null,
            "padding": null,
            "right": null,
            "top": null,
            "visibility": null,
            "width": null
          }
        },
        "3d080dce3e9f4da89e6e25a5af13a299": {
          "model_module": "@jupyter-widgets/controls",
          "model_module_version": "1.5.0",
          "model_name": "DescriptionStyleModel",
          "state": {
            "_model_module": "@jupyter-widgets/controls",
            "_model_module_version": "1.5.0",
            "_model_name": "DescriptionStyleModel",
            "_view_count": null,
            "_view_module": "@jupyter-widgets/base",
            "_view_module_version": "1.2.0",
            "_view_name": "StyleView",
            "description_width": ""
          }
        },
        "3f46cf74e37e47319a0c855131c514fc": {
          "model_module": "@jupyter-widgets/controls",
          "model_module_version": "1.5.0",
          "model_name": "HTMLModel",
          "state": {
            "_dom_classes": [],
            "_model_module": "@jupyter-widgets/controls",
            "_model_module_version": "1.5.0",
            "_model_name": "HTMLModel",
            "_view_count": null,
            "_view_module": "@jupyter-widgets/controls",
            "_view_module_version": "1.5.0",
            "_view_name": "HTMLView",
            "description": "",
            "description_tooltip": null,
            "layout": "IPY_MODEL_a3dbdbbd58f44753916fd16ebae16ffb",
            "placeholder": "​",
            "style": "IPY_MODEL_3d080dce3e9f4da89e6e25a5af13a299",
            "value": ""
          }
        },
        "407d0576b1a04ebc8c6421bee7e1f399": {
          "model_module": "@jupyter-widgets/controls",
          "model_module_version": "1.5.0",
          "model_name": "DescriptionStyleModel",
          "state": {
            "_model_module": "@jupyter-widgets/controls",
            "_model_module_version": "1.5.0",
            "_model_name": "DescriptionStyleModel",
            "_view_count": null,
            "_view_module": "@jupyter-widgets/base",
            "_view_module_version": "1.2.0",
            "_view_name": "StyleView",
            "description_width": ""
          }
        },
        "48725200ad7c47b29f3feff9c83bde78": {
          "model_module": "@jupyter-widgets/base",
          "model_module_version": "1.2.0",
          "model_name": "LayoutModel",
          "state": {
            "_model_module": "@jupyter-widgets/base",
            "_model_module_version": "1.2.0",
            "_model_name": "LayoutModel",
            "_view_count": null,
            "_view_module": "@jupyter-widgets/base",
            "_view_module_version": "1.2.0",
            "_view_name": "LayoutView",
            "align_content": null,
            "align_items": null,
            "align_self": null,
            "border": null,
            "bottom": null,
            "display": null,
            "flex": null,
            "flex_flow": null,
            "grid_area": null,
            "grid_auto_columns": null,
            "grid_auto_flow": null,
            "grid_auto_rows": null,
            "grid_column": null,
            "grid_gap": null,
            "grid_row": null,
            "grid_template_areas": null,
            "grid_template_columns": null,
            "grid_template_rows": null,
            "height": null,
            "justify_content": null,
            "justify_items": null,
            "left": null,
            "margin": null,
            "max_height": null,
            "max_width": null,
            "min_height": null,
            "min_width": null,
            "object_fit": null,
            "object_position": null,
            "order": null,
            "overflow": null,
            "overflow_x": null,
            "overflow_y": null,
            "padding": null,
            "right": null,
            "top": null,
            "visibility": null,
            "width": null
          }
        },
        "5247b58e8aba45fd9d5e482cdc44fb37": {
          "model_module": "@jupyter-widgets/base",
          "model_module_version": "1.2.0",
          "model_name": "LayoutModel",
          "state": {
            "_model_module": "@jupyter-widgets/base",
            "_model_module_version": "1.2.0",
            "_model_name": "LayoutModel",
            "_view_count": null,
            "_view_module": "@jupyter-widgets/base",
            "_view_module_version": "1.2.0",
            "_view_name": "LayoutView",
            "align_content": null,
            "align_items": null,
            "align_self": null,
            "border": null,
            "bottom": null,
            "display": null,
            "flex": null,
            "flex_flow": null,
            "grid_area": null,
            "grid_auto_columns": null,
            "grid_auto_flow": null,
            "grid_auto_rows": null,
            "grid_column": null,
            "grid_gap": null,
            "grid_row": null,
            "grid_template_areas": null,
            "grid_template_columns": null,
            "grid_template_rows": null,
            "height": null,
            "justify_content": null,
            "justify_items": null,
            "left": null,
            "margin": null,
            "max_height": null,
            "max_width": null,
            "min_height": null,
            "min_width": null,
            "object_fit": null,
            "object_position": null,
            "order": null,
            "overflow": null,
            "overflow_x": null,
            "overflow_y": null,
            "padding": null,
            "right": null,
            "top": null,
            "visibility": null,
            "width": null
          }
        },
        "62caebcca7d54c4589ff7c536519b0dd": {
          "model_module": "@jupyter-widgets/controls",
          "model_module_version": "1.5.0",
          "model_name": "FloatProgressModel",
          "state": {
            "_dom_classes": [],
            "_model_module": "@jupyter-widgets/controls",
            "_model_module_version": "1.5.0",
            "_model_name": "FloatProgressModel",
            "_view_count": null,
            "_view_module": "@jupyter-widgets/controls",
            "_view_module_version": "1.5.0",
            "_view_name": "ProgressView",
            "bar_style": "success",
            "description": "",
            "description_tooltip": null,
            "layout": "IPY_MODEL_48725200ad7c47b29f3feff9c83bde78",
            "max": 26421880,
            "min": 0,
            "orientation": "horizontal",
            "style": "IPY_MODEL_2c31c937484e44b7afa8b93bcb2f0aa9",
            "value": 26421880
          }
        },
        "64b2a518a085440eb1c3eb90b222fc04": {
          "model_module": "@jupyter-widgets/controls",
          "model_module_version": "1.5.0",
          "model_name": "DescriptionStyleModel",
          "state": {
            "_model_module": "@jupyter-widgets/controls",
            "_model_module_version": "1.5.0",
            "_model_name": "DescriptionStyleModel",
            "_view_count": null,
            "_view_module": "@jupyter-widgets/base",
            "_view_module_version": "1.2.0",
            "_view_name": "StyleView",
            "description_width": ""
          }
        },
        "664d676ff46f4584bfb04d8e366b95b6": {
          "model_module": "@jupyter-widgets/controls",
          "model_module_version": "1.5.0",
          "model_name": "HBoxModel",
          "state": {
            "_dom_classes": [],
            "_model_module": "@jupyter-widgets/controls",
            "_model_module_version": "1.5.0",
            "_model_name": "HBoxModel",
            "_view_count": null,
            "_view_module": "@jupyter-widgets/controls",
            "_view_module_version": "1.5.0",
            "_view_name": "HBoxView",
            "box_style": "",
            "children": [
              "IPY_MODEL_3f46cf74e37e47319a0c855131c514fc",
              "IPY_MODEL_b36bd32899c9464cb7d2dedcc5cd0b1f",
              "IPY_MODEL_141104eea7a648a0bb1d3311de043191"
            ],
            "layout": "IPY_MODEL_7e11c7563334431f8639e2ca663cf738"
          }
        },
        "68e2ff9f0f024d9e996f7f602c0d7c0d": {
          "model_module": "@jupyter-widgets/controls",
          "model_module_version": "1.5.0",
          "model_name": "HBoxModel",
          "state": {
            "_dom_classes": [],
            "_model_module": "@jupyter-widgets/controls",
            "_model_module_version": "1.5.0",
            "_model_name": "HBoxModel",
            "_view_count": null,
            "_view_module": "@jupyter-widgets/controls",
            "_view_module_version": "1.5.0",
            "_view_name": "HBoxView",
            "box_style": "",
            "children": [
              "IPY_MODEL_a721e6a60a2740a8a1560f11535decdb",
              "IPY_MODEL_cd2b546c422e4922a55139f8f85fa8e0",
              "IPY_MODEL_e0996585833144349cd5c368975be15d"
            ],
            "layout": "IPY_MODEL_8864f4a892324f179264ec2095e32c6d"
          }
        },
        "745670856a614540a59071920aa96ab0": {
          "model_module": "@jupyter-widgets/controls",
          "model_module_version": "1.5.0",
          "model_name": "FloatProgressModel",
          "state": {
            "_dom_classes": [],
            "_model_module": "@jupyter-widgets/controls",
            "_model_module_version": "1.5.0",
            "_model_name": "FloatProgressModel",
            "_view_count": null,
            "_view_module": "@jupyter-widgets/controls",
            "_view_module_version": "1.5.0",
            "_view_name": "ProgressView",
            "bar_style": "success",
            "description": "",
            "description_tooltip": null,
            "layout": "IPY_MODEL_31afa492787341fbb723b5bf81f163cb",
            "max": 5148,
            "min": 0,
            "orientation": "horizontal",
            "style": "IPY_MODEL_9bd11b6957284d9f861c4247f2367d84",
            "value": 5148
          }
        },
        "76f00731b85b4bcf87ae6a1887341699": {
          "model_module": "@jupyter-widgets/controls",
          "model_module_version": "1.5.0",
          "model_name": "HTMLModel",
          "state": {
            "_dom_classes": [],
            "_model_module": "@jupyter-widgets/controls",
            "_model_module_version": "1.5.0",
            "_model_name": "HTMLModel",
            "_view_count": null,
            "_view_module": "@jupyter-widgets/controls",
            "_view_module_version": "1.5.0",
            "_view_name": "HTMLView",
            "description": "",
            "description_tooltip": null,
            "layout": "IPY_MODEL_5247b58e8aba45fd9d5e482cdc44fb37",
            "placeholder": "​",
            "style": "IPY_MODEL_c33322208a1b4b9aa2f4f26eac780efc",
            "value": ""
          }
        },
        "7e11c7563334431f8639e2ca663cf738": {
          "model_module": "@jupyter-widgets/base",
          "model_module_version": "1.2.0",
          "model_name": "LayoutModel",
          "state": {
            "_model_module": "@jupyter-widgets/base",
            "_model_module_version": "1.2.0",
            "_model_name": "LayoutModel",
            "_view_count": null,
            "_view_module": "@jupyter-widgets/base",
            "_view_module_version": "1.2.0",
            "_view_name": "LayoutView",
            "align_content": null,
            "align_items": null,
            "align_self": null,
            "border": null,
            "bottom": null,
            "display": null,
            "flex": null,
            "flex_flow": null,
            "grid_area": null,
            "grid_auto_columns": null,
            "grid_auto_flow": null,
            "grid_auto_rows": null,
            "grid_column": null,
            "grid_gap": null,
            "grid_row": null,
            "grid_template_areas": null,
            "grid_template_columns": null,
            "grid_template_rows": null,
            "height": null,
            "justify_content": null,
            "justify_items": null,
            "left": null,
            "margin": null,
            "max_height": null,
            "max_width": null,
            "min_height": null,
            "min_width": null,
            "object_fit": null,
            "object_position": null,
            "order": null,
            "overflow": null,
            "overflow_x": null,
            "overflow_y": null,
            "padding": null,
            "right": null,
            "top": null,
            "visibility": null,
            "width": null
          }
        },
        "80f6f9979e4841af86e66e04882ee8b8": {
          "model_module": "@jupyter-widgets/controls",
          "model_module_version": "1.5.0",
          "model_name": "DescriptionStyleModel",
          "state": {
            "_model_module": "@jupyter-widgets/controls",
            "_model_module_version": "1.5.0",
            "_model_name": "DescriptionStyleModel",
            "_view_count": null,
            "_view_module": "@jupyter-widgets/base",
            "_view_module_version": "1.2.0",
            "_view_name": "StyleView",
            "description_width": ""
          }
        },
        "8864f4a892324f179264ec2095e32c6d": {
          "model_module": "@jupyter-widgets/base",
          "model_module_version": "1.2.0",
          "model_name": "LayoutModel",
          "state": {
            "_model_module": "@jupyter-widgets/base",
            "_model_module_version": "1.2.0",
            "_model_name": "LayoutModel",
            "_view_count": null,
            "_view_module": "@jupyter-widgets/base",
            "_view_module_version": "1.2.0",
            "_view_name": "LayoutView",
            "align_content": null,
            "align_items": null,
            "align_self": null,
            "border": null,
            "bottom": null,
            "display": null,
            "flex": null,
            "flex_flow": null,
            "grid_area": null,
            "grid_auto_columns": null,
            "grid_auto_flow": null,
            "grid_auto_rows": null,
            "grid_column": null,
            "grid_gap": null,
            "grid_row": null,
            "grid_template_areas": null,
            "grid_template_columns": null,
            "grid_template_rows": null,
            "height": null,
            "justify_content": null,
            "justify_items": null,
            "left": null,
            "margin": null,
            "max_height": null,
            "max_width": null,
            "min_height": null,
            "min_width": null,
            "object_fit": null,
            "object_position": null,
            "order": null,
            "overflow": null,
            "overflow_x": null,
            "overflow_y": null,
            "padding": null,
            "right": null,
            "top": null,
            "visibility": null,
            "width": null
          }
        },
        "8bd7c106dfb44727ab508a2bcbd940b8": {
          "model_module": "@jupyter-widgets/controls",
          "model_module_version": "1.5.0",
          "model_name": "DescriptionStyleModel",
          "state": {
            "_model_module": "@jupyter-widgets/controls",
            "_model_module_version": "1.5.0",
            "_model_name": "DescriptionStyleModel",
            "_view_count": null,
            "_view_module": "@jupyter-widgets/base",
            "_view_module_version": "1.2.0",
            "_view_name": "StyleView",
            "description_width": ""
          }
        },
        "8c46327efe0c46908421b730231dabe0": {
          "model_module": "@jupyter-widgets/controls",
          "model_module_version": "1.5.0",
          "model_name": "DescriptionStyleModel",
          "state": {
            "_model_module": "@jupyter-widgets/controls",
            "_model_module_version": "1.5.0",
            "_model_name": "DescriptionStyleModel",
            "_view_count": null,
            "_view_module": "@jupyter-widgets/base",
            "_view_module_version": "1.2.0",
            "_view_name": "StyleView",
            "description_width": ""
          }
        },
        "974383162e6b4a21a641a2b5280ac33a": {
          "model_module": "@jupyter-widgets/base",
          "model_module_version": "1.2.0",
          "model_name": "LayoutModel",
          "state": {
            "_model_module": "@jupyter-widgets/base",
            "_model_module_version": "1.2.0",
            "_model_name": "LayoutModel",
            "_view_count": null,
            "_view_module": "@jupyter-widgets/base",
            "_view_module_version": "1.2.0",
            "_view_name": "LayoutView",
            "align_content": null,
            "align_items": null,
            "align_self": null,
            "border": null,
            "bottom": null,
            "display": null,
            "flex": null,
            "flex_flow": null,
            "grid_area": null,
            "grid_auto_columns": null,
            "grid_auto_flow": null,
            "grid_auto_rows": null,
            "grid_column": null,
            "grid_gap": null,
            "grid_row": null,
            "grid_template_areas": null,
            "grid_template_columns": null,
            "grid_template_rows": null,
            "height": null,
            "justify_content": null,
            "justify_items": null,
            "left": null,
            "margin": null,
            "max_height": null,
            "max_width": null,
            "min_height": null,
            "min_width": null,
            "object_fit": null,
            "object_position": null,
            "order": null,
            "overflow": null,
            "overflow_x": null,
            "overflow_y": null,
            "padding": null,
            "right": null,
            "top": null,
            "visibility": null,
            "width": null
          }
        },
        "9a7a0d43a22b405cafb316419616c7b2": {
          "model_module": "@jupyter-widgets/controls",
          "model_module_version": "1.5.0",
          "model_name": "HTMLModel",
          "state": {
            "_dom_classes": [],
            "_model_module": "@jupyter-widgets/controls",
            "_model_module_version": "1.5.0",
            "_model_name": "HTMLModel",
            "_view_count": null,
            "_view_module": "@jupyter-widgets/controls",
            "_view_module_version": "1.5.0",
            "_view_name": "HTMLView",
            "description": "",
            "description_tooltip": null,
            "layout": "IPY_MODEL_cad5277088e44da0a944bf9adc475e0f",
            "placeholder": "​",
            "style": "IPY_MODEL_407d0576b1a04ebc8c6421bee7e1f399",
            "value": " 6144/? [00:00&lt;00:00, 150530.71it/s]"
          }
        },
        "9bd11b6957284d9f861c4247f2367d84": {
          "model_module": "@jupyter-widgets/controls",
          "model_module_version": "1.5.0",
          "model_name": "ProgressStyleModel",
          "state": {
            "_model_module": "@jupyter-widgets/controls",
            "_model_module_version": "1.5.0",
            "_model_name": "ProgressStyleModel",
            "_view_count": null,
            "_view_module": "@jupyter-widgets/base",
            "_view_module_version": "1.2.0",
            "_view_name": "StyleView",
            "bar_color": null,
            "description_width": ""
          }
        },
        "a3dbdbbd58f44753916fd16ebae16ffb": {
          "model_module": "@jupyter-widgets/base",
          "model_module_version": "1.2.0",
          "model_name": "LayoutModel",
          "state": {
            "_model_module": "@jupyter-widgets/base",
            "_model_module_version": "1.2.0",
            "_model_name": "LayoutModel",
            "_view_count": null,
            "_view_module": "@jupyter-widgets/base",
            "_view_module_version": "1.2.0",
            "_view_name": "LayoutView",
            "align_content": null,
            "align_items": null,
            "align_self": null,
            "border": null,
            "bottom": null,
            "display": null,
            "flex": null,
            "flex_flow": null,
            "grid_area": null,
            "grid_auto_columns": null,
            "grid_auto_flow": null,
            "grid_auto_rows": null,
            "grid_column": null,
            "grid_gap": null,
            "grid_row": null,
            "grid_template_areas": null,
            "grid_template_columns": null,
            "grid_template_rows": null,
            "height": null,
            "justify_content": null,
            "justify_items": null,
            "left": null,
            "margin": null,
            "max_height": null,
            "max_width": null,
            "min_height": null,
            "min_width": null,
            "object_fit": null,
            "object_position": null,
            "order": null,
            "overflow": null,
            "overflow_x": null,
            "overflow_y": null,
            "padding": null,
            "right": null,
            "top": null,
            "visibility": null,
            "width": null
          }
        },
        "a721e6a60a2740a8a1560f11535decdb": {
          "model_module": "@jupyter-widgets/controls",
          "model_module_version": "1.5.0",
          "model_name": "HTMLModel",
          "state": {
            "_dom_classes": [],
            "_model_module": "@jupyter-widgets/controls",
            "_model_module_version": "1.5.0",
            "_model_name": "HTMLModel",
            "_view_count": null,
            "_view_module": "@jupyter-widgets/controls",
            "_view_module_version": "1.5.0",
            "_view_name": "HTMLView",
            "description": "",
            "description_tooltip": null,
            "layout": "IPY_MODEL_bdf0b11214084a7d8d32c3b54062664f",
            "placeholder": "​",
            "style": "IPY_MODEL_80f6f9979e4841af86e66e04882ee8b8",
            "value": ""
          }
        },
        "acc6cb571453499c97ccf36fe6459fd2": {
          "model_module": "@jupyter-widgets/base",
          "model_module_version": "1.2.0",
          "model_name": "LayoutModel",
          "state": {
            "_model_module": "@jupyter-widgets/base",
            "_model_module_version": "1.2.0",
            "_model_name": "LayoutModel",
            "_view_count": null,
            "_view_module": "@jupyter-widgets/base",
            "_view_module_version": "1.2.0",
            "_view_name": "LayoutView",
            "align_content": null,
            "align_items": null,
            "align_self": null,
            "border": null,
            "bottom": null,
            "display": null,
            "flex": null,
            "flex_flow": null,
            "grid_area": null,
            "grid_auto_columns": null,
            "grid_auto_flow": null,
            "grid_auto_rows": null,
            "grid_column": null,
            "grid_gap": null,
            "grid_row": null,
            "grid_template_areas": null,
            "grid_template_columns": null,
            "grid_template_rows": null,
            "height": null,
            "justify_content": null,
            "justify_items": null,
            "left": null,
            "margin": null,
            "max_height": null,
            "max_width": null,
            "min_height": null,
            "min_width": null,
            "object_fit": null,
            "object_position": null,
            "order": null,
            "overflow": null,
            "overflow_x": null,
            "overflow_y": null,
            "padding": null,
            "right": null,
            "top": null,
            "visibility": null,
            "width": null
          }
        },
        "af91a2fba7984a968d62620aa6c84d47": {
          "model_module": "@jupyter-widgets/controls",
          "model_module_version": "1.5.0",
          "model_name": "DescriptionStyleModel",
          "state": {
            "_model_module": "@jupyter-widgets/controls",
            "_model_module_version": "1.5.0",
            "_model_name": "DescriptionStyleModel",
            "_view_count": null,
            "_view_module": "@jupyter-widgets/base",
            "_view_module_version": "1.2.0",
            "_view_name": "StyleView",
            "description_width": ""
          }
        },
        "b36bd32899c9464cb7d2dedcc5cd0b1f": {
          "model_module": "@jupyter-widgets/controls",
          "model_module_version": "1.5.0",
          "model_name": "FloatProgressModel",
          "state": {
            "_dom_classes": [],
            "_model_module": "@jupyter-widgets/controls",
            "_model_module_version": "1.5.0",
            "_model_name": "FloatProgressModel",
            "_view_count": null,
            "_view_module": "@jupyter-widgets/controls",
            "_view_module_version": "1.5.0",
            "_view_name": "ProgressView",
            "bar_style": "success",
            "description": "",
            "description_tooltip": null,
            "layout": "IPY_MODEL_d6fa4d0304bb40c89006bfc0d09aeede",
            "max": 29515,
            "min": 0,
            "orientation": "horizontal",
            "style": "IPY_MODEL_cba3bc804e574649bbaa472ca8ab69ae",
            "value": 29515
          }
        },
        "bdf0b11214084a7d8d32c3b54062664f": {
          "model_module": "@jupyter-widgets/base",
          "model_module_version": "1.2.0",
          "model_name": "LayoutModel",
          "state": {
            "_model_module": "@jupyter-widgets/base",
            "_model_module_version": "1.2.0",
            "_model_name": "LayoutModel",
            "_view_count": null,
            "_view_module": "@jupyter-widgets/base",
            "_view_module_version": "1.2.0",
            "_view_name": "LayoutView",
            "align_content": null,
            "align_items": null,
            "align_self": null,
            "border": null,
            "bottom": null,
            "display": null,
            "flex": null,
            "flex_flow": null,
            "grid_area": null,
            "grid_auto_columns": null,
            "grid_auto_flow": null,
            "grid_auto_rows": null,
            "grid_column": null,
            "grid_gap": null,
            "grid_row": null,
            "grid_template_areas": null,
            "grid_template_columns": null,
            "grid_template_rows": null,
            "height": null,
            "justify_content": null,
            "justify_items": null,
            "left": null,
            "margin": null,
            "max_height": null,
            "max_width": null,
            "min_height": null,
            "min_width": null,
            "object_fit": null,
            "object_position": null,
            "order": null,
            "overflow": null,
            "overflow_x": null,
            "overflow_y": null,
            "padding": null,
            "right": null,
            "top": null,
            "visibility": null,
            "width": null
          }
        },
        "c33322208a1b4b9aa2f4f26eac780efc": {
          "model_module": "@jupyter-widgets/controls",
          "model_module_version": "1.5.0",
          "model_name": "DescriptionStyleModel",
          "state": {
            "_model_module": "@jupyter-widgets/controls",
            "_model_module_version": "1.5.0",
            "_model_name": "DescriptionStyleModel",
            "_view_count": null,
            "_view_module": "@jupyter-widgets/base",
            "_view_module_version": "1.2.0",
            "_view_name": "StyleView",
            "description_width": ""
          }
        },
        "ca16729857c34458a23b29fcb8c4bd8c": {
          "model_module": "@jupyter-widgets/controls",
          "model_module_version": "1.5.0",
          "model_name": "ProgressStyleModel",
          "state": {
            "_model_module": "@jupyter-widgets/controls",
            "_model_module_version": "1.5.0",
            "_model_name": "ProgressStyleModel",
            "_view_count": null,
            "_view_module": "@jupyter-widgets/base",
            "_view_module_version": "1.2.0",
            "_view_name": "StyleView",
            "bar_color": null,
            "description_width": ""
          }
        },
        "cad5277088e44da0a944bf9adc475e0f": {
          "model_module": "@jupyter-widgets/base",
          "model_module_version": "1.2.0",
          "model_name": "LayoutModel",
          "state": {
            "_model_module": "@jupyter-widgets/base",
            "_model_module_version": "1.2.0",
            "_model_name": "LayoutModel",
            "_view_count": null,
            "_view_module": "@jupyter-widgets/base",
            "_view_module_version": "1.2.0",
            "_view_name": "LayoutView",
            "align_content": null,
            "align_items": null,
            "align_self": null,
            "border": null,
            "bottom": null,
            "display": null,
            "flex": null,
            "flex_flow": null,
            "grid_area": null,
            "grid_auto_columns": null,
            "grid_auto_flow": null,
            "grid_auto_rows": null,
            "grid_column": null,
            "grid_gap": null,
            "grid_row": null,
            "grid_template_areas": null,
            "grid_template_columns": null,
            "grid_template_rows": null,
            "height": null,
            "justify_content": null,
            "justify_items": null,
            "left": null,
            "margin": null,
            "max_height": null,
            "max_width": null,
            "min_height": null,
            "min_width": null,
            "object_fit": null,
            "object_position": null,
            "order": null,
            "overflow": null,
            "overflow_x": null,
            "overflow_y": null,
            "padding": null,
            "right": null,
            "top": null,
            "visibility": null,
            "width": null
          }
        },
        "cb6e9b97b66544a99d3bae3df06d755c": {
          "model_module": "@jupyter-widgets/base",
          "model_module_version": "1.2.0",
          "model_name": "LayoutModel",
          "state": {
            "_model_module": "@jupyter-widgets/base",
            "_model_module_version": "1.2.0",
            "_model_name": "LayoutModel",
            "_view_count": null,
            "_view_module": "@jupyter-widgets/base",
            "_view_module_version": "1.2.0",
            "_view_name": "LayoutView",
            "align_content": null,
            "align_items": null,
            "align_self": null,
            "border": null,
            "bottom": null,
            "display": null,
            "flex": null,
            "flex_flow": null,
            "grid_area": null,
            "grid_auto_columns": null,
            "grid_auto_flow": null,
            "grid_auto_rows": null,
            "grid_column": null,
            "grid_gap": null,
            "grid_row": null,
            "grid_template_areas": null,
            "grid_template_columns": null,
            "grid_template_rows": null,
            "height": null,
            "justify_content": null,
            "justify_items": null,
            "left": null,
            "margin": null,
            "max_height": null,
            "max_width": null,
            "min_height": null,
            "min_width": null,
            "object_fit": null,
            "object_position": null,
            "order": null,
            "overflow": null,
            "overflow_x": null,
            "overflow_y": null,
            "padding": null,
            "right": null,
            "top": null,
            "visibility": null,
            "width": null
          }
        },
        "cba3bc804e574649bbaa472ca8ab69ae": {
          "model_module": "@jupyter-widgets/controls",
          "model_module_version": "1.5.0",
          "model_name": "ProgressStyleModel",
          "state": {
            "_model_module": "@jupyter-widgets/controls",
            "_model_module_version": "1.5.0",
            "_model_name": "ProgressStyleModel",
            "_view_count": null,
            "_view_module": "@jupyter-widgets/base",
            "_view_module_version": "1.2.0",
            "_view_name": "StyleView",
            "bar_color": null,
            "description_width": ""
          }
        },
        "cd0a1e1c8b784507853abcfa2dfebe34": {
          "model_module": "@jupyter-widgets/controls",
          "model_module_version": "1.5.0",
          "model_name": "HBoxModel",
          "state": {
            "_dom_classes": [],
            "_model_module": "@jupyter-widgets/controls",
            "_model_module_version": "1.5.0",
            "_model_name": "HBoxModel",
            "_view_count": null,
            "_view_module": "@jupyter-widgets/controls",
            "_view_module_version": "1.5.0",
            "_view_name": "HBoxView",
            "box_style": "",
            "children": [
              "IPY_MODEL_76f00731b85b4bcf87ae6a1887341699",
              "IPY_MODEL_745670856a614540a59071920aa96ab0",
              "IPY_MODEL_9a7a0d43a22b405cafb316419616c7b2"
            ],
            "layout": "IPY_MODEL_acc6cb571453499c97ccf36fe6459fd2"
          }
        },
        "cd2b546c422e4922a55139f8f85fa8e0": {
          "model_module": "@jupyter-widgets/controls",
          "model_module_version": "1.5.0",
          "model_name": "FloatProgressModel",
          "state": {
            "_dom_classes": [],
            "_model_module": "@jupyter-widgets/controls",
            "_model_module_version": "1.5.0",
            "_model_name": "FloatProgressModel",
            "_view_count": null,
            "_view_module": "@jupyter-widgets/controls",
            "_view_module_version": "1.5.0",
            "_view_name": "ProgressView",
            "bar_style": "success",
            "description": "",
            "description_tooltip": null,
            "layout": "IPY_MODEL_cb6e9b97b66544a99d3bae3df06d755c",
            "max": 4422102,
            "min": 0,
            "orientation": "horizontal",
            "style": "IPY_MODEL_ca16729857c34458a23b29fcb8c4bd8c",
            "value": 4422102
          }
        },
        "d6fa4d0304bb40c89006bfc0d09aeede": {
          "model_module": "@jupyter-widgets/base",
          "model_module_version": "1.2.0",
          "model_name": "LayoutModel",
          "state": {
            "_model_module": "@jupyter-widgets/base",
            "_model_module_version": "1.2.0",
            "_model_name": "LayoutModel",
            "_view_count": null,
            "_view_module": "@jupyter-widgets/base",
            "_view_module_version": "1.2.0",
            "_view_name": "LayoutView",
            "align_content": null,
            "align_items": null,
            "align_self": null,
            "border": null,
            "bottom": null,
            "display": null,
            "flex": null,
            "flex_flow": null,
            "grid_area": null,
            "grid_auto_columns": null,
            "grid_auto_flow": null,
            "grid_auto_rows": null,
            "grid_column": null,
            "grid_gap": null,
            "grid_row": null,
            "grid_template_areas": null,
            "grid_template_columns": null,
            "grid_template_rows": null,
            "height": null,
            "justify_content": null,
            "justify_items": null,
            "left": null,
            "margin": null,
            "max_height": null,
            "max_width": null,
            "min_height": null,
            "min_width": null,
            "object_fit": null,
            "object_position": null,
            "order": null,
            "overflow": null,
            "overflow_x": null,
            "overflow_y": null,
            "padding": null,
            "right": null,
            "top": null,
            "visibility": null,
            "width": null
          }
        },
        "d90ee1d34b0a4a77a097cc215dc248a8": {
          "model_module": "@jupyter-widgets/controls",
          "model_module_version": "1.5.0",
          "model_name": "HTMLModel",
          "state": {
            "_dom_classes": [],
            "_model_module": "@jupyter-widgets/controls",
            "_model_module_version": "1.5.0",
            "_model_name": "HTMLModel",
            "_view_count": null,
            "_view_module": "@jupyter-widgets/controls",
            "_view_module_version": "1.5.0",
            "_view_name": "HTMLView",
            "description": "",
            "description_tooltip": null,
            "layout": "IPY_MODEL_05ab923df6424250922dbc2a1ed120ff",
            "placeholder": "​",
            "style": "IPY_MODEL_af91a2fba7984a968d62620aa6c84d47",
            "value": ""
          }
        },
        "e0996585833144349cd5c368975be15d": {
          "model_module": "@jupyter-widgets/controls",
          "model_module_version": "1.5.0",
          "model_name": "HTMLModel",
          "state": {
            "_dom_classes": [],
            "_model_module": "@jupyter-widgets/controls",
            "_model_module_version": "1.5.0",
            "_model_name": "HTMLModel",
            "_view_count": null,
            "_view_module": "@jupyter-widgets/controls",
            "_view_module_version": "1.5.0",
            "_view_name": "HTMLView",
            "description": "",
            "description_tooltip": null,
            "layout": "IPY_MODEL_0798449ba578463386bbc31ccaca638a",
            "placeholder": "​",
            "style": "IPY_MODEL_8bd7c106dfb44727ab508a2bcbd940b8",
            "value": " 4422656/? [00:00&lt;00:00, 7744381.94it/s]"
          }
        },
        "f1e01daa2745451ea5f5dccf3093d1b1": {
          "model_module": "@jupyter-widgets/base",
          "model_module_version": "1.2.0",
          "model_name": "LayoutModel",
          "state": {
            "_model_module": "@jupyter-widgets/base",
            "_model_module_version": "1.2.0",
            "_model_name": "LayoutModel",
            "_view_count": null,
            "_view_module": "@jupyter-widgets/base",
            "_view_module_version": "1.2.0",
            "_view_name": "LayoutView",
            "align_content": null,
            "align_items": null,
            "align_self": null,
            "border": null,
            "bottom": null,
            "display": null,
            "flex": null,
            "flex_flow": null,
            "grid_area": null,
            "grid_auto_columns": null,
            "grid_auto_flow": null,
            "grid_auto_rows": null,
            "grid_column": null,
            "grid_gap": null,
            "grid_row": null,
            "grid_template_areas": null,
            "grid_template_columns": null,
            "grid_template_rows": null,
            "height": null,
            "justify_content": null,
            "justify_items": null,
            "left": null,
            "margin": null,
            "max_height": null,
            "max_width": null,
            "min_height": null,
            "min_width": null,
            "object_fit": null,
            "object_position": null,
            "order": null,
            "overflow": null,
            "overflow_x": null,
            "overflow_y": null,
            "padding": null,
            "right": null,
            "top": null,
            "visibility": null,
            "width": null
          }
        }
      }
    }
  },
  "nbformat": 4,
  "nbformat_minor": 0
}
