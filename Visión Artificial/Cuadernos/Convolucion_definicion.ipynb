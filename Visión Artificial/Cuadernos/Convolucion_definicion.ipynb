{
 "cells": [
  {
   "cell_type": "markdown",
   "id": "be6c7552-b48d-4ec8-9670-8e40d7f87429",
   "metadata": {},
   "source": [
    "<figure>\n",
    "<img src=\"../Imagenes/logo-final-ap.png\"  width=\"80\" height=\"80\" align=\"left\"/> \n",
    "</figure>\n",
    "\n",
    "# <span style=\"color:blue\"><left>Aprendizaje Profundo</left></span>"
   ]
  },
  {
   "cell_type": "markdown",
   "id": "b415f178-3e60-42e1-90a9-aaa10f039656",
   "metadata": {},
   "source": [
    "# <span style=\"color:red\"><center>Visión por Computadora</center></span>\n",
    "## <span style=\"color:red\"><center>Convolución: Definiciones</center></span>"
   ]
  },
  {
   "cell_type": "markdown",
   "id": "fb9bd6a8-a99a-4df9-b6f9-1d9ba3041bae",
   "metadata": {},
   "source": [
    "## <span style=\"color:blue\">Contenido</span>"
   ]
  },
  {
   "cell_type": "markdown",
   "id": "f3de7bcb-a2c0-4d22-ad9c-fd39288d6131",
   "metadata": {},
   "source": [
    "* [Paquetes a usar](#Paquetes-a-usar)\n",
    "* [Detección de códigos QR](#Detección-de-códigos-QR)\n",
    "* [Detección facial básica](#Detección-facial-básica)"
   ]
  },
  {
   "cell_type": "markdown",
   "id": "6555bc47-654a-472a-af5c-b931abf9bf85",
   "metadata": {},
   "source": [
    "Empezaremos observando la convolución en su definición matemática. La \"convolución\" es una operación entre dos funciones\n",
    "\n",
    "\\begin{equation}\n",
    "    f(t)\\otimes g(t) = \\int^{\\infty}_{-\\infty}f(t)g(t-\\tau)d\\tau\n",
    "\\end{equation}\n",
    "\n",
    "¿Se entiende? ¿No? Busquemos un ejemplo\n",
    "\n"
   ]
  },
  {
   "cell_type": "code",
   "execution_count": null,
   "id": "8ea3e100-f1f1-49e6-b4da-03bd6c7b99db",
   "metadata": {},
   "outputs": [],
   "source": []
  }
 ],
 "metadata": {
  "kernelspec": {
   "display_name": "Python 3 (ipykernel)",
   "language": "python",
   "name": "python3"
  },
  "language_info": {
   "codemirror_mode": {
    "name": "ipython",
    "version": 3
   },
   "file_extension": ".py",
   "mimetype": "text/x-python",
   "name": "python",
   "nbconvert_exporter": "python",
   "pygments_lexer": "ipython3",
   "version": "3.9.10"
  }
 },
 "nbformat": 4,
 "nbformat_minor": 5
}
