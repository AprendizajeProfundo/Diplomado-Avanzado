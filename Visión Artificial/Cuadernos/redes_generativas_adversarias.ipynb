{
 "cells": [
  {
   "cell_type": "markdown",
   "metadata": {},
   "source": [
    "<figure>\n",
    "<img src=\"../Imagenes/logo-final-ap.png\"  width=\"80\" height=\"80\" align=\"left\"/> \n",
    "</figure>\n",
    "\n",
    "# <span style=\"color:blue\"><left>Aprendizaje Profundo</left></span>"
   ]
  },
  {
   "cell_type": "markdown",
   "metadata": {},
   "source": [
    "# <span style=\"color:red\"><center>Visión por Computadora</center></span>\n",
    "## <span style=\"color:red\"><center>Redes Generativas Adversarias</center></span>"
   ]
  },
  {
   "cell_type": "markdown",
   "metadata": {},
   "source": [
    "##   <span style=\"color:blue\">Profesores</span>"
   ]
  },
  {
   "cell_type": "markdown",
   "metadata": {},
   "source": [
    "### Coordinador\n"
   ]
  },
  {
   "cell_type": "markdown",
   "metadata": {},
   "source": [
    "- Campo Elías Pardo Turriago, cepardot@unal.edu.co "
   ]
  },
  {
   "cell_type": "markdown",
   "metadata": {},
   "source": [
    "### Conferencistas\n"
   ]
  },
  {
   "cell_type": "markdown",
   "metadata": {},
   "source": [
    "- Alvaro  Montenegro, PhD, ammontenegrod@unal.edu.co\n",
    "- Daniel  Montenegro, Msc, dextronomo@gmail.com \n",
    "- Oleg Jarma, Estadístico, ojarmam@unal.edu.co "
   ]
  },
  {
   "cell_type": "markdown",
   "metadata": {},
   "source": [
    "## <span style=\"color:blue\">Asesora Medios y Marketing digital</span>"
   ]
  },
  {
   "cell_type": "markdown",
   "metadata": {},
   "source": [
    "- Maria del Pilar Montenegro, pmontenegro88@gmail.com \n",
    "\n"
   ]
  },
  {
   "cell_type": "markdown",
   "metadata": {},
   "source": [
    "## <span style=\"color:blue\">Asistentes</span>\n",
    "\n"
   ]
  },
  {
   "cell_type": "markdown",
   "metadata": {},
   "source": [
    "- Nayibe Yesenia Arias, naariasc@unal.edu.co\n",
    "- Venus Celeste Puertas, vpuertasg@unal.edu.co "
   ]
  },
  {
   "cell_type": "markdown",
   "metadata": {},
   "source": [
    "## <span style=\"color:blue\">Introducción</span>"
   ]
  },
  {
   "cell_type": "markdown",
   "metadata": {},
   "source": [
    "Una parte importante de modelos de Aprendizaje automatizado son, como los vamos a llamar ahora, \"modelos discriminadores\", siendo capaces de diferenciar sobre diferentes tipos de datos. Entre estos están los modelos para las tareas de clasificación y detección.\n",
    "\n",
    "Pero hay otro tipo de modelos cuya intención no es aprender de los datos para hacer inferencia sobre estos, sino aprender para generar nuevos datos. Estos son los \"modelos generadores\".\n",
    "\n",
    "Vamos a charlar un poco del contexto de ambos tipos de modelos, junto con un una arquitectura que mezcla ambas clases de modelos para mejorar su rendimiento: Redes Generativas Adversarias."
   ]
  },
  {
   "cell_type": "markdown",
   "metadata": {},
   "source": [
    "## <span style=\"color:blue\">Discriminación y generación</span>"
   ]
  },
  {
   "cell_type": "markdown",
   "metadata": {},
   "source": [
    "Supongamos que tenemos una base de datos de fotos de tamaño 32x32, y queremos detectar si en estas hay un perro o un gato con base en las características que encontramos. Para hcer esto, definimos un modelo con:\n",
    "\n",
    "- Etiquetas: $Y=y$\n",
    "- Características: $X=\\{x_1, x_2, \\dots, x_n \\}$\n",
    "\n",
    "ahora, podemos pensar en cómo los modelos discriminadores y generadores utilizan estas variables para aprender y obtener resultados\n",
    "\n"
   ]
  },
  {
   "cell_type": "markdown",
   "metadata": {},
   "source": [
    "### <span style=\"color:blue\">Modelos discriminatorios</span>"
   ]
  },
  {
   "cell_type": "markdown",
   "metadata": {},
   "source": [
    "El modelo discriminador es esencialmente el modelo de la probabilidad de las etiquetas o \"variable respuesta\" $Y$, dadas las características o \"variables de observación\" $X$. Al final, queremos obtener las probabilidades de los casos de $P(Y|X=x)$. En resumidas cuentas, el modelo recibe las características y entrega las probabilidades de cada etiqueta.\n",
    "\n",
    "En nuestro ejemplo, con base en las características de la foto que le demos al modelo, este va a darnos dos probabilidades, la probabilidad de sea gato y que sea perro. Luego obtenemos el valor máximo de estas probabilidades para tener la \"predicción final\".\n",
    "\n",
    "Como se dijo con anterioridad, la mayoría de modelos enseñados tradicionalmente forman parte de esta categoría: Regresiones, Máquinas de soporte vectorial, Perceptrones e incluso las redes CNN con un componente completamente conectado."
   ]
  },
  {
   "cell_type": "markdown",
   "metadata": {},
   "source": [
    "### <span style=\"color:blue\">Modelos generadores</span>"
   ]
  },
  {
   "cell_type": "markdown",
   "metadata": {},
   "source": [
    "El modelo generador hace las cosas un poco diferente, aunque hay varias formas de verlo:\n",
    "\n",
    "En la primera forma, el modelo generador es el modelo de la probabilidad de las variables de observación $X$, dada la variable respuesta $Y$. Así que se buscan las probabilidades de todos los casos $P(X|Y = y)$. \n",
    "\n",
    "En nuestro ejemplo, con base en la etiqueta que le demos, como \"perro\", el modelo va a generar las probabilidades de todas las posibles imágenes que pueden hacerse. en este caso $256^{32 \\times 32}$. Luego se obtiene aquella imagen con la mayor probabilidad, o la que el modelo cree que es la que mayor tiene que ver con la etiqueta \"perro\".\n",
    "\n",
    "Aunque esta no es la única forma de verlo. También se han planteado los modelos generadores como los modelos de las probabilidades conjuntas de $P(X,Y)$. Diciendo, de alguna forma, que no estamos seguros de lo que queremos, así que busquemos las probabilidades de todas las posibles combinaciones de características y etiquetas.\n",
    "\n",
    "En el último caso de nuestro ejemplo, Modelaremos todas estas combinaciones, las cuales son $256^{32 \\times 32}*2$, y para buscar aquella imagen que el modelo piense que es la más cercana a ser un \"perro\", se busca el máximo de las probabilidades de $P(X, Y=\\text{perro})$.\n",
    "\n",
    "Esto no significa que estas dos definiciones sean completamente separadas. Sabemos que las probabilidades conjuntos pueden encontrarse a partír de las condicionales\n",
    "\n",
    "\\begin{align}\n",
    "    P(X,Y)=P(X|Y)P(Y)\n",
    "\\end{align}\n",
    "\n",
    "Así que, si podemos modelar $P(Y)$, podemos pasar de una definición a otra.\n",
    "\n",
    "\n",
    "De hecho ya hemos visto un ejemplo de modelos generadores con los [Autoencoders](../../Autocodificadores/Cuadernos/ae_Example_Dense_mnist.ipynb)"
   ]
  },
  {
   "cell_type": "markdown",
   "metadata": {},
   "source": [
    "## <span style=\"color:blue\">Redes Generativas Adversarias</span>"
   ]
  },
  {
   "cell_type": "markdown",
   "metadata": {},
   "source": [
    "Hablemos de Poker\n",
    "\n",
    "<figure>\n",
    "<center>\n",
    "<img src=\"../Imagenes/soundwave.png\" width=\"500\" height=\"300\" align=\"center\"/> \n",
    "</center>\n",
    "</figure>"
   ]
  }
 ],
 "metadata": {
  "interpreter": {
   "hash": "3a35811627f2d849a94a681c597b35b034065b47c984a0e4ef87a04e993e3cd2"
  },
  "kernelspec": {
   "display_name": "Python 3.10.2 ('torch-gpu')",
   "language": "python",
   "name": "python3"
  },
  "language_info": {
   "name": "python",
   "version": "3.10.2"
  },
  "orig_nbformat": 4
 },
 "nbformat": 4,
 "nbformat_minor": 2
}
