{
 "cells": [
  {
   "cell_type": "markdown",
   "id": "e17872b7-6436-4310-a263-c624d9b1419a",
   "metadata": {
    "slideshow": {
     "slide_type": "slide"
    },
    "tags": []
   },
   "source": [
    "<figure>\n",
    "<img src=\"../Imagenes/logo-final-ap.png\"  width=\"80\" height=\"80\" align=\"left\"/> \n",
    "</figure>\n",
    "\n",
    "# <span style=\"color:blue\"><left>Aprendizaje Profundo</left></span>"
   ]
  },
  {
   "cell_type": "markdown",
   "id": "cf0d2108-a548-4753-8b7e-5f359c387cf9",
   "metadata": {},
   "source": [
    "# <span style=\"color:red\"><center>Inteligencia Artificial</center></span>"
   ]
  },
  {
   "cell_type": "markdown",
   "id": "3801de44-b0ec-49d1-a66b-52a2a0327d36",
   "metadata": {},
   "source": [
    "<center>Estado del arte y claves de su desarrollo</center>"
   ]
  },
  {
   "cell_type": "markdown",
   "id": "4b324f4f-b11e-46cd-bef8-ca1a23e6b704",
   "metadata": {},
   "source": [
    "<figure>\n",
    "<center>\n",
    "<img src=\"../Imagenes/ai-in-education-2.jpg\" width=\"800\" height=\"800\" align=\"center\" /> \n",
    "</center>   \n",
    "</figure>\n",
    "\n",
    "Fuente: [Unesco: educación e inteligencia artificial](https://es.unesco.org/themes/tic-educacion/inteligencia-artificial)"
   ]
  },
  {
   "cell_type": "markdown",
   "id": "b7d77b21-4813-418a-b549-9690e27d2d90",
   "metadata": {
    "slideshow": {
     "slide_type": "slide"
    },
    "tags": []
   },
   "source": [
    "##   <span style=\"color:blue\">Profesores</span>"
   ]
  },
  {
   "cell_type": "markdown",
   "id": "55a19694-c8b2-41c3-a8e2-0b0d08000eb7",
   "metadata": {
    "slideshow": {
     "slide_type": "slide"
    },
    "tags": []
   },
   "source": [
    "### Coordinador"
   ]
  },
  {
   "cell_type": "markdown",
   "id": "af6344d3-cc67-40a4-a7ab-b6217a1d31e2",
   "metadata": {
    "slideshow": {
     "slide_type": "slide"
    },
    "tags": []
   },
   "source": [
    "- Campo Elías Pardo, PhD, cepardot@unal.edu.co"
   ]
  },
  {
   "cell_type": "markdown",
   "id": "88ddb328-86da-45f9-94f9-1e9a60e8eb91",
   "metadata": {
    "slideshow": {
     "slide_type": "slide"
    },
    "tags": []
   },
   "source": [
    "### Conferencistas"
   ]
  },
  {
   "cell_type": "markdown",
   "id": "6e30889b-5385-47cb-989a-cc833161d27e",
   "metadata": {},
   "source": [
    "- Alvaro  Montenegro, PhD, ammontenegrod@unal.edu.co\n",
    "- Daniel  Montenegro, Msc, dextronomo@gmail.com \n",
    "- Oleg Jarma, Estadístico, ojarmam@unal.edu.co "
   ]
  },
  {
   "cell_type": "markdown",
   "id": "0271527b-a363-4f18-9378-9029b2607173",
   "metadata": {},
   "source": [
    "##   <span style=\"color:blue\">Asesora Medios y Marketing digital</span>\n",
    " "
   ]
  },
  {
   "cell_type": "markdown",
   "id": "670bd473-4f97-47d2-a2f5-a1f00c809776",
   "metadata": {
    "slideshow": {
     "slide_type": "slide"
    },
    "tags": []
   },
   "source": [
    "- Maria del Pilar Montenegro, pmontenegro88@gmail.com "
   ]
  },
  {
   "cell_type": "markdown",
   "id": "50fb17fc-0a7d-44ef-9030-e86e6960eb33",
   "metadata": {},
   "source": [
    "## <span style=\"color:blue\">Asistentes</span>"
   ]
  },
  {
   "cell_type": "markdown",
   "id": "37fd54d2-c35e-490e-86b3-a2d933613490",
   "metadata": {},
   "source": [
    "- Nayibe Yesenia Arias, naariasc@unal.edu.co\n",
    "- Venus Celeste Puertas, vpuertasg@unal.edu.co "
   ]
  },
  {
   "cell_type": "markdown",
   "id": "65b8c6d5-f147-4f4a-a4b6-e5806319b4e0",
   "metadata": {},
   "source": [
    "## <span style=\"color:blue\">Referencias</span>"
   ]
  },
  {
   "cell_type": "markdown",
   "id": "be8f8191-1eb9-4f25-8d0c-0c8f31b49617",
   "metadata": {},
   "source": [
    "1. [Alvaro Montenegro y Daniel Montenegro, Inteligencia Artificial y Aprendizaje Profundo, 2021](https://github.com/AprendizajeProfundo/Diplomado)\n",
    "1. [Unesco: educación e inteligencia artificial](https://es.unesco.org/themes/tic-educacion/inteligencia-artificial)"
   ]
  },
  {
   "cell_type": "markdown",
   "id": "2a0da79b-44dc-460c-ac1e-b71ade087a9c",
   "metadata": {
    "slideshow": {
     "slide_type": "slide"
    },
    "tags": []
   },
   "source": [
    "## <span style=\"color:blue\">Contenido</span>"
   ]
  },
  {
   "cell_type": "markdown",
   "id": "15195d1b-1dfc-4e35-a28d-5c6dad544252",
   "metadata": {},
   "source": [
    "* [Introducción](#Introducción)\n",
    "* [Transformación digital](#Transformación-digital)\n",
    "* [Matemáticas](#Matemáticas)\n",
    "* [Transformación de problemas](#Transformación-de-problemas)\n",
    "* [Tecnologías para el trabajo en IA](#Tecnologías-para-el-trabajo-en-IA)"
   ]
  },
  {
   "cell_type": "markdown",
   "id": "afe895d3-c25d-49d7-9b47-ff4835ba2b95",
   "metadata": {
    "slideshow": {
     "slide_type": "slide"
    },
    "tags": []
   },
   "source": [
    "## <span style=\"color:blue\">Introducción</span>"
   ]
  },
  {
   "cell_type": "markdown",
   "id": "2a1acf31-c61c-42c4-bfe8-f35b7496465b",
   "metadata": {
    "slideshow": {
     "slide_type": "slide"
    },
    "tags": []
   },
   "source": [
    "###  La Inteligencia Artificial en la Escuela. UNESCO"
   ]
  },
  {
   "cell_type": "markdown",
   "id": "d548aef5-3a24-4dfe-a019-f0a6ccb3c75f",
   "metadata": {},
   "source": [
    "#### Consenso de Beijing\n",
    "* Promover una utilización equitativa e inclusiva de la IA en la educación;\n",
    "* Una IA que respete la equidad entre géneros y favorable a la igualdad de géneros;\n",
    "* Velar por una utilización ética, transparente y comprobable de los datos y algoritmos de la educación;\n",
    "* Seguimiento, evaluación e investigación."
   ]
  },
  {
   "cell_type": "markdown",
   "id": "f86d5d38-af80-4a75-ae52-e0ab4309f49b",
   "metadata": {},
   "source": [
    "<figure>\n",
    "<center>\n",
    "<img src=\"../Imagenes/ai-in-education.jpg\"  width=\"800\" height=\"800\" align=\"center\" /> \n",
    "</center>   \n",
    "</figure>\n",
    "\n",
    "Fuente: [Unesco: educación e inteligencia artificial](https://es.unesco.org/themes/tic-educacion/inteligencia-artificial)"
   ]
  },
  {
   "cell_type": "markdown",
   "id": "47815890-5b20-446c-95a4-af3eac8bc5a4",
   "metadata": {
    "slideshow": {
     "slide_type": "slide"
    },
    "tags": []
   },
   "source": [
    "## <span style=\"color:blue\">Transformación digital</span>"
   ]
  },
  {
   "cell_type": "markdown",
   "id": "5d714264-7b11-44b2-af9e-d54c8cbe5427",
   "metadata": {
    "slideshow": {
     "slide_type": "slide"
    },
    "tags": []
   },
   "source": [
    "<figure>\n",
    "<center>\n",
    "<img src=\"../Imagenes/pexels-cottonbro-5474298.jpg\"  width=\"200\" height=\"200\" align=\"center\" /> \n",
    "</center>   \n",
    "</figure>\n",
    "\n",
    "Fuente: [Pexeles](https://www.pexels.com/es-es/buscar/trasformacion%20digital/)\n"
   ]
  },
  {
   "cell_type": "markdown",
   "id": "657a10df-7d34-4c1e-81ea-89a2a5df816e",
   "metadata": {
    "slideshow": {
     "slide_type": "slide"
    },
    "tags": []
   },
   "source": [
    "## <span style=\"color:blue\">Matemáticas</span>"
   ]
  },
  {
   "cell_type": "markdown",
   "id": "c31414ad-34cc-40fb-bf75-26b77520a8ec",
   "metadata": {
    "slideshow": {
     "slide_type": "slide"
    },
    "tags": []
   },
   "source": [
    "### Tensores"
   ]
  },
  {
   "cell_type": "markdown",
   "id": "0b44f554-d721-4c88-94ba-20d86f10b0b4",
   "metadata": {},
   "source": [
    "<img src=\"../Imagenes/ten_tensores.jpg\" width=\"600\" height=\"600\" align=\"center\"/>\n",
    "\n",
    "Fuente: Alvaro Montenegro"
   ]
  },
  {
   "cell_type": "markdown",
   "id": "686bc4c4-dca4-427d-af88-a397f1fb9767",
   "metadata": {},
   "source": [
    "### Ejemplo: Fragmento de video"
   ]
  },
  {
   "cell_type": "markdown",
   "id": "13cdf148-30d1-44a7-a6c2-42c6d60016d2",
   "metadata": {
    "slideshow": {
     "slide_type": "slide"
    },
    "tags": []
   },
   "source": [
    "<img src=\"../Imagenes/ten_tensor_4_d.jpg\" width=\"600\" height=\"600\" align=\"center\"/>\n",
    "\n",
    "Fuente: Alvaro Montenegro"
   ]
  },
  {
   "cell_type": "markdown",
   "id": "af0c0f34-f8dd-4187-b1bb-29860d634997",
   "metadata": {
    "slideshow": {
     "slide_type": "slide"
    },
    "tags": []
   },
   "source": [
    "### Diferenciación Automática"
   ]
  },
  {
   "cell_type": "markdown",
   "id": "7ccc7678-3f6a-443c-af6e-edf0e41c3b9e",
   "metadata": {},
   "source": [
    "<figure>\n",
    "<center>\n",
    "<img src=\"../Imagenes/AutomaticDifferentiationNutshell.png\" width=\"600\" height=\"600\" /> \n",
    "</center>   \n",
    "</figure>\n",
    "\n",
    "Fuente: [Wikipedia](https://en.wikipedia.org/wiki/Automatic_differentiation)"
   ]
  },
  {
   "cell_type": "markdown",
   "id": "bf0dbf52-77ff-4923-b1d8-dee14709a25d",
   "metadata": {
    "slideshow": {
     "slide_type": "slide"
    },
    "tags": []
   },
   "source": [
    "### Optimización a gran escala. Gradiente Estocástico Descendiente"
   ]
  },
  {
   "cell_type": "markdown",
   "id": "064b01be-17d4-491f-b49f-d2c5edebee78",
   "metadata": {},
   "source": [
    "GPT-3, el moelo de lenguaje natural de OpenAI tiene 175 mil millones  de parámetros."
   ]
  },
  {
   "cell_type": "markdown",
   "id": "20d494a8-d5d7-4fd6-bfc9-053365d63c47",
   "metadata": {},
   "source": [
    "<img src=\"../Imagenes/Gradient_ascent.png\" width=\"600\" height=\"600\" align=\"center\"/>\n",
    "\n",
    "Función $F(x,y)= \\sin (\\tfrac{1}{2}x^2- \\tfrac{1}{4}y^2 +3) \\cos (2x+1 -e^y)$\n",
    "\n",
    "Fuente: [Wikipedia](https://en.wikipedia.org/wiki/Gradient_descent)\n"
   ]
  },
  {
   "cell_type": "markdown",
   "id": "efe4f270-4a54-4c8f-a0e7-9ae78b2a715a",
   "metadata": {
    "slideshow": {
     "slide_type": "slide"
    },
    "tags": []
   },
   "source": [
    "### Convoluciones"
   ]
  },
  {
   "cell_type": "markdown",
   "id": "9548fb65-8226-4ea0-9a00-ce7324844428",
   "metadata": {},
   "source": [
    "![convoluciones](../Imagenes/mapa_convolucion.png)\n",
    "\n",
    "Fuente: Alvaro Montenegro"
   ]
  },
  {
   "cell_type": "markdown",
   "id": "33f23b8d-58e0-4450-afc6-9d7000758701",
   "metadata": {
    "slideshow": {
     "slide_type": "slide"
    },
    "tags": []
   },
   "source": [
    "### Estadística"
   ]
  },
  {
   "cell_type": "markdown",
   "id": "f4ae1656-e010-4d90-86c9-99d026092cef",
   "metadata": {},
   "source": [
    "![imagenreg](../Imagenes/mod_reg2.jpg)\n",
    "<figure>\n",
    "\n",
    "Fuente: Daniel Montenegro"
   ]
  },
  {
   "cell_type": "markdown",
   "id": "22cb4029-e431-4557-bd8d-13318ecf81ae",
   "metadata": {
    "slideshow": {
     "slide_type": "slide"
    },
    "tags": []
   },
   "source": [
    "### Redes Neuronales Artificiales - analogía con el cerebro"
   ]
  },
  {
   "cell_type": "markdown",
   "id": "828b9df1-40cf-402f-9e6c-8718071ba2be",
   "metadata": {},
   "source": [
    "![neurona](../Imagenes/neurona_artificial.png)\n",
    "\n",
    "\n",
    "Fuente: Alvaro Montenegro"
   ]
  },
  {
   "cell_type": "markdown",
   "id": "1d11f99e-50fb-4689-8c50-4bfdd28b1e6c",
   "metadata": {
    "slideshow": {
     "slide_type": "slide"
    },
    "tags": []
   },
   "source": [
    "### Red Neural - objeto matemático"
   ]
  },
  {
   "cell_type": "markdown",
   "id": "bf50dafe-8077-4a05-b37a-ece5a850889d",
   "metadata": {},
   "source": [
    "![Capa oculta](../Imagenes/ANN_Capa_Oculta.png)\n",
    "\n",
    "Fuente: Alvaro Montenegro"
   ]
  },
  {
   "cell_type": "markdown",
   "id": "edc2269a-b321-433b-a7d1-d6df394c8d86",
   "metadata": {
    "slideshow": {
     "slide_type": "slide"
    },
    "tags": []
   },
   "source": [
    "## <span style=\"color:blue\">Transformación de problemas</span>"
   ]
  },
  {
   "cell_type": "markdown",
   "id": "5b7676e7-71f0-4b1f-9bc9-8b7913aa305d",
   "metadata": {
    "slideshow": {
     "slide_type": "slide"
    },
    "tags": []
   },
   "source": [
    "### tratamiento de una imagen"
   ]
  },
  {
   "cell_type": "markdown",
   "id": "c3cf7ae9-44ba-4aec-83b5-c97bc0d0be84",
   "metadata": {},
   "source": [
    "![zeus](../Imagenes/zeus.png)\n",
    "\n",
    "Fuente: Alvaro  Montenegro"
   ]
  },
  {
   "cell_type": "markdown",
   "id": "9b2da6a9-6132-48ca-9adf-d642768136b6",
   "metadata": {
    "slideshow": {
     "slide_type": "slide"
    },
    "tags": []
   },
   "source": [
    "### Series de tiempo"
   ]
  },
  {
   "cell_type": "markdown",
   "id": "7cda742f-e062-4d5b-8d6f-4d335e636391",
   "metadata": {},
   "source": [
    "![serie](../Imagenes/serie_tiempo.png)\n",
    "\n",
    "Fuente: Alvaro Montenegro"
   ]
  },
  {
   "cell_type": "markdown",
   "id": "177ea86f-bf0f-4f16-b374-6a056dc6f10f",
   "metadata": {
    "slideshow": {
     "slide_type": "slide"
    },
    "tags": []
   },
   "source": [
    "### Tratamiento de lenguaje natural"
   ]
  },
  {
   "cell_type": "markdown",
   "id": "36e982d9-0e11-49dd-961d-3330611b401d",
   "metadata": {},
   "source": [
    "![pln.png](../Imagenes/pln.png)\n",
    "\n",
    "Fuente. Alvaro Montenegro"
   ]
  },
  {
   "cell_type": "markdown",
   "id": "54eed307-1120-4129-85cc-ed46d8677c75",
   "metadata": {},
   "source": [
    "## <span style=\"color:blue\">Tecnologías para el trabajo en IA</span>"
   ]
  },
  {
   "cell_type": "markdown",
   "id": "7570b6c2-8b9b-48bd-a5d2-1f764e5b04b1",
   "metadata": {},
   "source": [
    "\n",
    "![Bain](../Imagenes/R_Python.jpeg)\n",
    "![Bain](../Imagenes/tf_Pytorch_keras.png)\n",
    "![Bain](../Imagenes/jupyter.png)\n",
    "\n",
    "Fuente: Todas estas imágenes tienen copyright.  Se muestran como ejemplo de tecnologías para IA"
   ]
  }
 ],
 "metadata": {
  "kernelspec": {
   "display_name": "Python 3 (ipykernel)",
   "language": "python",
   "name": "python3"
  },
  "language_info": {
   "codemirror_mode": {
    "name": "ipython",
    "version": 3
   },
   "file_extension": ".py",
   "mimetype": "text/x-python",
   "name": "python",
   "nbconvert_exporter": "python",
   "pygments_lexer": "ipython3",
   "version": "3.8.12"
  }
 },
 "nbformat": 4,
 "nbformat_minor": 5
}
