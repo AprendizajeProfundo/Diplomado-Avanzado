{
 "cells": [
  {
   "cell_type": "markdown",
   "id": "5e6f8f0e",
   "metadata": {},
   "source": [
    "<figure>\n",
    "<img src=\"../Imagenes/logo-final-ap.png\"  width=\"80\" height=\"80\" align=\"left\"/> \n",
    "</figure>\n",
    "\n",
    "# <span style=\"color:blue\"><left>Aprendizaje Profundo</left></span>"
   ]
  },
  {
   "cell_type": "markdown",
   "id": "b718a9ce",
   "metadata": {},
   "source": [
    "# <span style=\"color:red\"><center>Introducción a OpenAI Gym</center></span>"
   ]
  },
  {
   "cell_type": "markdown",
   "id": "c383b39b-7af1-4d0d-8dcc-97809d8dd444",
   "metadata": {
    "tags": []
   },
   "source": [
    "<figure>\n",
    "<center>\n",
    "<img src=\"../Imagenes/Hide_and_seek.jpg\" width=\"600\" height=\"500\" align=\"center\"/>\n",
    "</center> \n",
    "</figure>\n",
    "\n",
    "\n",
    "Fuente: [Hide and seek. Wiki commons](https://commons.wikimedia.org/w/index.php?search=hide+and+seek&title=Special:MediaSearch&go=Go&type=image)"
   ]
  },
  {
   "cell_type": "markdown",
   "id": "362eed29-816d-4f5d-b1fe-4c23570ddb96",
   "metadata": {
    "slideshow": {
     "slide_type": "slide"
    },
    "tags": []
   },
   "source": [
    "##   <span style=\"color:blue\">Autores</span>"
   ]
  },
  {
   "cell_type": "markdown",
   "id": "36c3018b-55e3-4acd-96b0-36413cd12086",
   "metadata": {},
   "source": [
    "- Alvaro  Montenegro, PhD, ammontenegrod@unal.edu.co\n",
    "- Daniel  Montenegro, Msc, dextronomo@gmail.com "
   ]
  },
  {
   "cell_type": "markdown",
   "id": "5ca023c8-76e4-4ca9-9c74-8640edb4049f",
   "metadata": {},
   "source": [
    "##   <span style=\"color:blue\">Asesora Medios y Marketing digital</span>\n",
    " "
   ]
  },
  {
   "cell_type": "markdown",
   "id": "2ecf396e-35a1-4315-9c6e-e36f086b541f",
   "metadata": {
    "slideshow": {
     "slide_type": "slide"
    },
    "tags": []
   },
   "source": [
    "- Maria del Pilar Montenegro, pmontenegro88@gmail.com "
   ]
  },
  {
   "cell_type": "markdown",
   "id": "5cec7f62",
   "metadata": {
    "tags": []
   },
   "source": [
    "## <span style=\"color:blue\">Referencias</span>"
   ]
  },
  {
   "cell_type": "markdown",
   "id": "a75ac7d2",
   "metadata": {},
   "source": [
    "1. [OpenAI Gym - Github](https://github.com/openai/gym)\n",
    "1. [Alvaro Montenegro y Daniel Montenegro, Inteligencia Artificial y Aprendizaje Profundo, 2021](https://github.com/AprendizajeProfundo/Diplomado)\n",
    "1. [Maxim Lapan, Deep Reinforcement Learning Hands-On: Apply modern RL methods to practical problems of chatbots, robotics, discrete optimization, web automation, and more, 2nd Edition, 2020](http://library.lol/main/F4D1A90C476A576238E8FE1F47602C67)\n",
    "1. [Richard S. Sutton, Andrew G. Barto, Reinforcement learning: an introduction, 2nd edition, 2020](http://library.lol/main/6502B74CE247C4CD4D4FB54747AD7C7E)\n",
    "1. [Praveen Palanisamy - Hands-On Intelligent Agents with OpenAI Gym_ Your Guide to Developing AI Agents Using Deep Reinforcement Learning, 2020](http://library.lol/main/E4FD128CF9B93E0F7A542B053330517A)\n",
    "1. [Turing Paper 1936](http://www.thocp.net/biographies/papers/turing_oncomputablenumbers_1936.pdf)"
   ]
  },
  {
   "cell_type": "markdown",
   "id": "ffd63d24",
   "metadata": {},
   "source": [
    "## <span style=\"color:blue\">Contenido</span>"
   ]
  },
  {
   "cell_type": "markdown",
   "id": "683ee4c4",
   "metadata": {},
   "source": [
    "* [Introducción](#Introducción)\n",
    "* [Lista de ambientes en OpenAI Gym](#Lista-de-ambientes-en-OpenAI-Gym)\n",
    "* [Interactuando con la API de OpenAI Gym](#Interactuando-con-la-API-de-OpenAI-Gym)\n",
    "    * [El espacio de acciones](#El-espacio-de-acciones)\n",
    "    * [El espacio de observaciones](#El-espacio-de-observaciones)\n",
    "    * [El ambiente](#El-ambiente)\n",
    "* [Agente Aleatorio CartPole](#Agente-Aleatorio-CartPole)\n",
    "* [Interactuando con la API de OpenAI Gym](#Interactuando-con-la-API-de-OpenAI-Gym)\n",
    "    * [Exploración preliminar de los objetos de Gym](#Exploración-preliminar-de-los-objetos-de-Gym)\n",
    "    * [Interacción con el ambiente de Gym](#Interacción-con-el-ambiente-de-Gym)\n",
    "    "
   ]
  },
  {
   "cell_type": "markdown",
   "id": "be027523",
   "metadata": {},
   "source": [
    "## <span style=\"color:blue\">Introducción</span>"
   ]
  },
  {
   "cell_type": "markdown",
   "id": "08e665ee-642b-485c-ab28-599707769be4",
   "metadata": {},
   "source": [
    "<figure>\n",
    "<center>\n",
    "<img src=\"../Imagenes/multi-agent-policy-architecture.png\" width=\"500\" height=\"400\" align=\"center\"/>\n",
    "</center> \n",
    "</figure>\n",
    "\n",
    "\n",
    "Fuente: [OpenAI-blog](https://openai.com/blog/emergent-tool-use/)"
   ]
  },
  {
   "cell_type": "markdown",
   "id": "b4cc08e0",
   "metadata": {},
   "source": [
    "En esta lección se presentan los elementos esenciales de la API de OpenAI Gym. Este ha sido un esfuerzo de OpenAI para poner a nuestra disposición una gran cantidad de ambientes, de muy diversa índole que incluye problema clásicos de control optimal, como el que estudiamos hoy, juegos clásicos y más.\n",
    "\n",
    "La API es bastante simple y esta desarrollada para que muy rápidamente sea posible interactuar con ella para permitirnos desarrollar nuestros propios modelos de aprendizaje reforzado."
   ]
  },
  {
   "cell_type": "markdown",
   "id": "93b04fc1-8074-40f9-9db6-48d94a3ec192",
   "metadata": {},
   "source": [
    "## <span style=\"color:blue\">La API OpenAI Gym</span>"
   ]
  },
  {
   "cell_type": "code",
   "execution_count": null,
   "id": "3b47fc87-8d1f-47c6-99e4-0ec41164d55c",
   "metadata": {},
   "outputs": [],
   "source": [
    "# instalar gym desde conda\n",
    "#conda install -c conda-forge gym\n"
   ]
  },
  {
   "cell_type": "markdown",
   "id": "546c7e44-8ec1-4053-b7af-4a3df4dbf81d",
   "metadata": {},
   "source": [
    "<figure>\n",
    "<center>\n",
    "<img src=\"../Imagenes/agente-ambiente.png\" width=\"600\" height=\"500\" align=\"center\"/>\n",
    "</center> \n",
    "</figure>\n",
    "\n",
    "\n",
    "Fuente: Alvaro Montenegro"
   ]
  },
  {
   "cell_type": "markdown",
   "id": "3c860ae9-f443-4871-b813-3c23750fb9c6",
   "metadata": {},
   "source": [
    "La API `OpenAI Gym` tiene una rica colección de ambientes para experimentos de aprendizaje reforzado (AR), usando una interfaz unificada.\n",
    "\n",
    "La clase principal de Gym es `Env` (de environment). Sus métodos y atributos proveen la información necesaria para poder entrenar agentes que interactúen con el medio ambientes. Las piezas más importante disponibles con *Env* son:\n",
    "\n",
    "- Un conjunto de `acciones` que se permite sean ejecutadas en el ambiente.\n",
    "- El tamaño y bordes de las `observaciones` que el ambiente le provee al agente.\n",
    "- Un método *step* para ejecutar un acción. El método regresa la nueva observación, la `recompensa` y la indicación de si el `episodio` ha terminado (*done*). Este método es la interfaz que permite la comunicación entre el ambiente y el agente. Al agente entrega al ambiente una acción seleccionada y este lo retroalimenta a través de este método.\n",
    "- Un método *reset* que retorna al ambiente a su *estado inicial* y entrega la primera observación."
   ]
  },
  {
   "cell_type": "markdown",
   "id": "0d00e5fb-ca34-4653-9f3e-c709d652dd81",
   "metadata": {},
   "source": [
    "### <span style=\"color:#4CC9F0\">El espacio de acciones</span>"
   ]
  },
  {
   "cell_type": "markdown",
   "id": "08157683-e2d3-43ff-8f29-7bd14309fffe",
   "metadata": {},
   "source": [
    "Las acciones que puede realizar un agente puede ser discretas, continuas o incluso una combinación de ambas. Por ejemplo en un automóvil manejado de manera autónoma puede ser posible oprimir varios botones a la vez (discreto), oprimir el pedal del acelerador o del freno (continuo) y así. El espacio de acciones contiene o modela todas las posibilidades de acción del agente."
   ]
  },
  {
   "cell_type": "markdown",
   "id": "5a6ad16b-e42c-4957-8524-5476670451bd",
   "metadata": {},
   "source": [
    "### <span style=\"color:#4CC9F0\">El espacio de observaciones</span>"
   ]
  },
  {
   "cell_type": "markdown",
   "id": "007e1305-62f4-4dd5-91a4-fe68ce77191e",
   "metadata": {},
   "source": [
    "Las observaciones son piezas de información que el ambiente puede entregar al agente en cualquier momento del tiempo, además de la recompensa. Las observaciones pueden ser muy simples como un arreglo unidimensional de números o  pueden ser  tensores muy complejos, como las imágenes provenientes de varias cámaras del automóvil.\n",
    "\n",
    "Es claro que acciones y observaciones tienen similaridades, por lo que Gym dispone de una clase abstracta llamada *Space* que permite derivar espacios de acciones y espacios de observaciones. La siguiente imagen muestra una diagrama de la clase *Space*.\n",
    "\n",
    "Existen otras subclases de *Space*, pero estas son las más comúnmente utilizadas."
   ]
  },
  {
   "cell_type": "markdown",
   "id": "374739ea-141b-4a29-89e1-2ef87bed6b80",
   "metadata": {},
   "source": [
    "<figure>\n",
    "<center>\n",
    "<img src=\"../Imagenes/jerarquia_clase_Space_Gym.png\" width=\"500\" height=\"500\" align=\"center\"/>\n",
    "</center>\n",
    "<center><caption>Jerarquía de la clase Space de OpenAI Gym</caption></center>\n",
    "</figure>\n",
    "\n",
    "Fuente: Alvaro Montenegro"
   ]
  },
  {
   "cell_type": "markdown",
   "id": "38bc147e-8c2f-4028-ad45-aa897b0fd0fb",
   "metadata": {},
   "source": [
    "La clase abstracta *Space* incluye dos métodos relevantes:\n",
    "\n",
    "* *sample()*: retorna una muestra aleatoria del espacio.\n",
    "* *contains(x)*: chequea si el argumento es un elemento del dominio del espacio.\n",
    "\n",
    "Ambos métodos son abstractos y deben ser implementados en las subclases de *Space*.\n",
    "\n",
    "* La clase *Discrete* representa un conjunto de ítems mutuamente excluyentes, numerados entre 0 y $n-1$. Su único atributo *n*, es una cuenta de los ítems que la clase describe. Por ejemplo. *Discrete(n=4)* puede representar por ejemplo un espacio de acciones de cuatro direcciones para moverse: *[izquierda, derecha, arriba, abajo]*.\n",
    "\n",
    "* La clase *Box* representa un tensor *n*-dimensional de números racionales con intervalos *[bajo, alto]*. Por ejemplo puede representar el pedal de un acelerador con un valor simple entre 0.0 y 1.0. En pedal sería codificado en tal caso como *Box(low=0.0, high=1.0, shape=(1,), dtype=np.float32)*. Otro ejemplo puede ser la observación de la pantalla en un juego Atari, la cual es RGB de tamaño 210*160: *Box(low=0, high=255, shape=(210, 160, 3), dtype=np.uint8)*.\n",
    "\n",
    "* La última subclase de *Space* es *Tuple*, la cual permite combinar varias instancias de *Space* juntas.Esta subclase permite crear espacios de acciones y observaciones de la complejidad que se desee.\n",
    "\n",
    "Un ejemplo del uso de tupla puede ser el siguiente. Supongamos que deseamos modelar algunos controles de un automóvil. Para empezar la dirección (el ángulo de la dirección, en realidad), el acelerador y el freno puede cambiar en cada instante de tiempo. Por otro lado, podemos tener botones discretos para representar las luces direccionales *(apagadas, izquierda, derecha)* y la bocina *(encendida, apagada)*. Entonces, podemos crear *Tupla(spaces=(Box(low=0.0, high=1.0, shape=(3,), dtype=np.float32), Discrete(3), Discrete(2)\n",
    ")*."
   ]
  },
  {
   "cell_type": "markdown",
   "id": "3921b93b-c965-4151-9465-f48ffc6d15e1",
   "metadata": {
    "tags": []
   },
   "source": [
    "### <span style=\"color:#4CC9F0\">El ambiente</span>"
   ]
  },
  {
   "cell_type": "markdown",
   "id": "68234d15-59fb-48f8-b091-8a19fc0bfc01",
   "metadata": {},
   "source": [
    "El ambiente es representado por la clase *Env*. Todo ambiente tiene dos miembros de tipo *Space*: \n",
    "\n",
    "* *action_space*: acciones permitidas que entrega el ambiente al agente.\n",
    "* *observation_space*: observaciones proveídas por el ambiente al agente.\n",
    "\n",
    "Además el ambiente tiene los siguientes miembros:\n",
    "\n",
    "* *reset()*: coloca el ambiente en el estado inicial.\n",
    "* *step()*: Permite al agente tomar una acción y retorna información como respuesta a la acción: la siguiente observación, la recompensa y la bandera indicando si el episodio ha  finalizado. Esta es la pieza central de la funcionalidad del ambiente.\n",
    "\n",
    "Estas características permiten crear código genérico que podría trabajar con cualquier ambiente."
   ]
  },
  {
   "cell_type": "markdown",
   "id": "7d77f45f-bca5-4224-a32e-74486611c682",
   "metadata": {},
   "source": [
    "## <span style=\"color:blue\">Lista de ambientes en OpenAI Gym</span>"
   ]
  },
  {
   "cell_type": "code",
   "execution_count": 14,
   "id": "48dbaf73-c251-4590-b9c0-0ef891d837a3",
   "metadata": {},
   "outputs": [
    {
     "name": "stdout",
     "output_type": "stream",
     "text": [
      "CartPole-v0, ...,  CartPole-v1, ...,  MountainCar-v0, ...,  MountainCarContinuous-v0, ...,  Pendulum-v1, ...,  Acrobot-v1, ...,  LunarLander-v2, ...,  LunarLanderContinuous-v2, ...,  BipedalWalker-v3, ...,  BipedalWalkerHardcore-v3, ...,  CarRacing-v0, ...,  Blackjack-v1, ...,  FrozenLake-v1, ...,  FrozenLake8x8-v1, ...,  CliffWalking-v0, ...,  Taxi-v3, ...,  Reacher-v2, ...,  Pusher-v2, ...,  Thrower-v2, ...,  Striker-v2, ...,  InvertedPendulum-v2, ...,  InvertedDoublePendulum-v2, ...,  HalfCheetah-v2, ...,  HalfCheetah-v3, ...,  Hopper-v2, ...,  Hopper-v3, ...,  Swimmer-v2, ...,  Swimmer-v3, ...,  Walker2d-v2, ...,  Walker2d-v3, ...,  Ant-v2, ...,  Ant-v3, ...,  Humanoid-v2, ...,  Humanoid-v3, ...,  HumanoidStandup-v2, ...,  FetchSlide-v1, ...,  FetchPickAndPlace-v1, ...,  FetchReach-v1, ...,  FetchPush-v1, ...,  HandReach-v0, ...,  HandManipulateBlockRotateZ-v0, ...,  HandManipulateBlockRotateZTouchSensors-v0, ...,  HandManipulateBlockRotateZTouchSensors-v1, ...,  HandManipulateBlockRotateParallel-v0, ...,  HandManipulateBlockRotateParallelTouchSensors-v0, ...,  HandManipulateBlockRotateParallelTouchSensors-v1, ...,  HandManipulateBlockRotateXYZ-v0, ...,  HandManipulateBlockRotateXYZTouchSensors-v0, ...,  HandManipulateBlockRotateXYZTouchSensors-v1, ...,  HandManipulateBlockFull-v0, ...,  HandManipulateBlock-v0, ...,  HandManipulateBlockTouchSensors-v0, ...,  HandManipulateBlockTouchSensors-v1, ...,  HandManipulateEggRotate-v0, ...,  HandManipulateEggRotateTouchSensors-v0, ...,  HandManipulateEggRotateTouchSensors-v1, ...,  HandManipulateEggFull-v0, ...,  HandManipulateEgg-v0, ...,  HandManipulateEggTouchSensors-v0, ...,  HandManipulateEggTouchSensors-v1, ...,  HandManipulatePenRotate-v0, ...,  HandManipulatePenRotateTouchSensors-v0, ...,  HandManipulatePenRotateTouchSensors-v1, ...,  HandManipulatePenFull-v0, ...,  HandManipulatePen-v0, ...,  HandManipulatePenTouchSensors-v0, ...,  HandManipulatePenTouchSensors-v1, ...,  FetchSlideDense-v1, ...,  FetchPickAndPlaceDense-v1, ...,  FetchReachDense-v1, ...,  FetchPushDense-v1, ...,  HandReachDense-v0, ...,  HandManipulateBlockRotateZDense-v0, ...,  HandManipulateBlockRotateZTouchSensorsDense-v0, ...,  HandManipulateBlockRotateZTouchSensorsDense-v1, ...,  HandManipulateBlockRotateParallelDense-v0, ...,  HandManipulateBlockRotateParallelTouchSensorsDense-v0, ...,  HandManipulateBlockRotateParallelTouchSensorsDense-v1, ...,  HandManipulateBlockRotateXYZDense-v0, ...,  HandManipulateBlockRotateXYZTouchSensorsDense-v0, ...,  HandManipulateBlockRotateXYZTouchSensorsDense-v1, ...,  HandManipulateBlockFullDense-v0, ...,  HandManipulateBlockDense-v0, ...,  HandManipulateBlockTouchSensorsDense-v0, ...,  HandManipulateBlockTouchSensorsDense-v1, ...,  HandManipulateEggRotateDense-v0, ...,  HandManipulateEggRotateTouchSensorsDense-v0, ...,  HandManipulateEggRotateTouchSensorsDense-v1, ...,  HandManipulateEggFullDense-v0, ...,  HandManipulateEggDense-v0, ...,  HandManipulateEggTouchSensorsDense-v0, ...,  HandManipulateEggTouchSensorsDense-v1, ...,  HandManipulatePenRotateDense-v0, ...,  HandManipulatePenRotateTouchSensorsDense-v0, ...,  HandManipulatePenRotateTouchSensorsDense-v1, ...,  HandManipulatePenFullDense-v0, ...,  HandManipulatePenDense-v0, ...,  HandManipulatePenTouchSensorsDense-v0, ...,  HandManipulatePenTouchSensorsDense-v1, ...,  CubeCrash-v0, ...,  CubeCrashSparse-v0, ...,  CubeCrashScreenBecomesBlack-v0, ...,  MemorizeDigits-v0\n"
     ]
    }
   ],
   "source": [
    "from gym import envs\n",
    "all_envs = envs.registry.all()\n",
    "env_ids = [env_spec.id for env_spec in all_envs]\n",
    "print(*env_ids, sep=', ...,  ')"
   ]
  },
  {
   "cell_type": "markdown",
   "id": "44710a29-0ae2-46d9-b75f-ec3d7e65c352",
   "metadata": {},
   "source": [
    "## <span style=\"color:blue\">Interactuando con la API de OpenAI Gym</span>"
   ]
  },
  {
   "cell_type": "markdown",
   "id": "e3c821e3-63e4-40ea-bbbe-d89b275327ae",
   "metadata": {},
   "source": [
    "### <span style=\"color:#4CC9F0\">Exploración preliminar de los objetos de Gym</span>"
   ]
  },
  {
   "cell_type": "code",
   "execution_count": 21,
   "id": "cf24622c-e1ac-44ca-9d61-2438cb53cdb3",
   "metadata": {},
   "outputs": [
    {
     "data": {
      "text/plain": [
       "array([ 0.03543919,  0.02605063, -0.00135747,  0.02712443], dtype=float32)"
      ]
     },
     "execution_count": 21,
     "metadata": {},
     "output_type": "execute_result"
    }
   ],
   "source": [
    "import gym\n",
    "env = gym.make('CartPole-v1')\n",
    "\n",
    "obs = env.reset()\n",
    "obs"
   ]
  },
  {
   "cell_type": "markdown",
   "id": "006ba095-b37e-4ad1-9068-860716abf5ae",
   "metadata": {},
   "source": [
    "La observación es un arreglo de cuatro posiciones conteniendo respectivamente  *coordenada del centro de masas*, *velocidad*, *ángulo con respecto a la plataforma*, y *velocidad angular*."
   ]
  },
  {
   "cell_type": "code",
   "execution_count": 22,
   "id": "06b8707d-6922-4252-b1e6-8ed6ac0f38dd",
   "metadata": {},
   "outputs": [
    {
     "data": {
      "text/plain": [
       "Discrete(2)"
      ]
     },
     "execution_count": 22,
     "metadata": {},
     "output_type": "execute_result"
    }
   ],
   "source": [
    "env.action_space"
   ]
  },
  {
   "cell_type": "markdown",
   "id": "30e15bae-165e-4992-8560-cb684c3ca2d7",
   "metadata": {},
   "source": [
    "El espacio de acciones es de tipo *Discrete* y contiene un atributo que puede representar dos elementos 0 y 1, o izquierda y derecha."
   ]
  },
  {
   "cell_type": "code",
   "execution_count": 23,
   "id": "320e0be1-d0c1-49cf-b3ea-4245fe6182fa",
   "metadata": {},
   "outputs": [
    {
     "data": {
      "text/plain": [
       "Box([-4.8000002e+00 -3.4028235e+38 -4.1887903e-01 -3.4028235e+38], [4.8000002e+00 3.4028235e+38 4.1887903e-01 3.4028235e+38], (4,), float32)"
      ]
     },
     "execution_count": 23,
     "metadata": {},
     "output_type": "execute_result"
    }
   ],
   "source": [
    "env.observation_space"
   ]
  },
  {
   "cell_type": "markdown",
   "id": "e2467084-358f-4876-8c20-f0424aae5844",
   "metadata": {},
   "source": [
    "El espacio de acciones es de tipo *Box* conteniendo 4 valores entre los límites mostrado aquí."
   ]
  },
  {
   "cell_type": "code",
   "execution_count": 27,
   "id": "b2f55c33-50a1-4892-a81c-71df5121254c",
   "metadata": {},
   "outputs": [
    {
     "name": "stdout",
     "output_type": "stream",
     "text": [
      "obs:  [ 0.0253 -0.5594  0.0178  0.9062]; reward:  1.0; done:  False; info:  {}\n"
     ]
    }
   ],
   "source": [
    "action = 0\n",
    "observation, reward, done, info = env.step(action)\n",
    "print('obs: ', np.round(observation,4), end='; ')\n",
    "print('reward: ', reward, end='; ')\n",
    "print('done: ', done, end='; ')\n",
    "print('info: ', info)"
   ]
  },
  {
   "cell_type": "markdown",
   "id": "d504cd79-4a99-4268-8720-ec263afb5fda",
   "metadata": {},
   "source": [
    "Con esta sentencia hemos empujado la plataforma a la izquierda (action=0). Como respuesta se ha obtenido un tupla con la siguiente información:\n",
    "\n",
    "* una nueva observación: [ 0.0253, -0.5594,  0.0178,  0.9062].\n",
    "* una recompensa de 1.0,\n",
    "* la bandera *done* con valor *False*, indicando que le episodio aún no termina, y\n",
    "* información extra acerca del ambiente que es un diccionario, que en este caso está vacío."
   ]
  },
  {
   "cell_type": "code",
   "execution_count": 28,
   "id": "7ce4c38f-5eb2-45e5-8435-cf24467e7cea",
   "metadata": {},
   "outputs": [
    {
     "data": {
      "text/plain": [
       "array([ 8.3131790e-01,  2.7132091e+37, -5.9341915e-02, -1.2732877e+38],\n",
       "      dtype=float32)"
      ]
     },
     "execution_count": 28,
     "metadata": {},
     "output_type": "execute_result"
    }
   ],
   "source": [
    "e.observation_space.sample()"
   ]
  },
  {
   "cell_type": "markdown",
   "id": "96f35b1c-bfc8-48f7-90e4-16ea402d44b0",
   "metadata": {},
   "source": [
    "Esta es una muestra aleatoria del espacio de observaciones"
   ]
  },
  {
   "cell_type": "markdown",
   "id": "a84185d1-7f39-49c7-9754-a40eb0384612",
   "metadata": {},
   "source": [
    "### <span style=\"color:#4CC9F0\">Interacción con el ambiente de Gym</span>"
   ]
  },
  {
   "cell_type": "code",
   "execution_count": 19,
   "id": "106625de-cd40-4643-8d6d-52098cd262a4",
   "metadata": {},
   "outputs": [
    {
     "name": "stdout",
     "output_type": "stream",
     "text": [
      "espacio de acciones:  Discrete(2)\n",
      "espacio de observaciones:  Box([-4.8000002e+00 -3.4028235e+38 -4.1887903e-01 -3.4028235e+38], [4.8000002e+00 3.4028235e+38 4.1887903e-01 3.4028235e+38], (4,), float32)\n",
      "\n",
      "Comenzamos\n",
      "obs:  [ 0.04431504 -0.04487892  0.0454079   0.0443159 ]\n",
      "0 , obs:  [ 0.0434 -0.2406  0.0463  0.351 ]; reward:  1.0; done:  False; info:  {}\n",
      "1 , obs:  [ 0.0386 -0.0462  0.0533  0.0732]; reward:  1.0; done:  False; info:  {}\n",
      "2 , obs:  [ 0.0377 -0.242   0.0548  0.3823]; reward:  1.0; done:  False; info:  {}\n",
      "3 , obs:  [ 0.0328 -0.4379  0.0624  0.6917]; reward:  1.0; done:  False; info:  {}\n",
      "4 , obs:  [ 0.0241 -0.6338  0.0763  1.0034]; reward:  1.0; done:  False; info:  {}\n",
      "5 , obs:  [ 0.0114 -0.8299  0.0963  1.319 ]; reward:  1.0; done:  False; info:  {}\n",
      "6 , obs:  [-0.0052 -0.6361  0.1227  1.0579]; reward:  1.0; done:  False; info:  {}\n",
      "7 , obs:  [-0.0179 -0.8326  0.1439  1.3865]; reward:  1.0; done:  False; info:  {}\n",
      "8 , obs:  [-0.0346 -1.0292  0.1716  1.7205]; reward:  1.0; done:  False; info:  {}\n",
      "9 , obs:  [-0.0551 -1.2258  0.206   2.0613]; reward:  1.0; done:  False; info:  {}\n",
      "10 , obs:  [-0.0797 -1.4224  0.2472  2.41  ]; reward:  1.0; done:  True; info:  {}\n",
      "11 , obs:  [ 0.0144  0.2449  0.0114 -0.2957]; reward:  1.0; done:  False; info:  {}\n",
      "12 , obs:  [0.0193 0.0496 0.0055 0.0006]; reward:  1.0; done:  False; info:  {}\n",
      "13 , obs:  [ 0.0203 -0.1456  0.0055  0.295 ]; reward:  1.0; done:  False; info:  {}\n",
      "14 , obs:  [0.0174 0.0494 0.0114 0.004 ]; reward:  1.0; done:  False; info:  {}\n",
      "15 , obs:  [ 0.0183  0.2444  0.0115 -0.285 ]; reward:  1.0; done:  False; info:  {}\n",
      "16 , obs:  [0.0232 0.0491 0.0058 0.0113]; reward:  1.0; done:  False; info:  {}\n",
      "17 , obs:  [ 0.0242  0.2442  0.006  -0.2796]; reward:  1.0; done:  False; info:  {}\n",
      "18 , obs:  [0.0291 0.049  0.0004 0.015 ]; reward:  1.0; done:  False; info:  {}\n",
      "19 , obs:  [ 0.0301  0.2441  0.0007 -0.2776]; reward:  1.0; done:  False; info:  {}\n",
      "20 , obs:  [ 0.035   0.0489 -0.0048  0.0153]; reward:  1.0; done:  False; info:  {}\n",
      "21 , obs:  [ 0.0359  0.2441 -0.0045 -0.2789]; reward:  1.0; done:  False; info:  {}\n",
      "22 , obs:  [ 0.0408  0.0491 -0.0101  0.0124]; reward:  1.0; done:  False; info:  {}\n",
      "23 , obs:  [ 0.0418  0.2443 -0.0099 -0.2835]; reward:  1.0; done:  False; info:  {}\n",
      "24 , obs:  [ 0.0467  0.4396 -0.0155 -0.5793]; reward:  1.0; done:  False; info:  {}\n",
      "25 , obs:  [ 0.0555  0.6349 -0.0271 -0.8768]; reward:  1.0; done:  False; info:  {}\n",
      "26 , obs:  [ 0.0682  0.4402 -0.0447 -0.5928]; reward:  1.0; done:  False; info:  {}\n",
      "27 , obs:  [ 0.077   0.2457 -0.0565 -0.3145]; reward:  1.0; done:  False; info:  {}\n",
      "28 , obs:  [ 0.0819  0.4416 -0.0628 -0.6245]; reward:  1.0; done:  False; info:  {}\n",
      "29 , obs:  [ 0.0907  0.2474 -0.0753 -0.3522]; reward:  1.0; done:  False; info:  {}\n",
      "30 , obs:  [ 0.0957  0.0534 -0.0823 -0.0842]; reward:  1.0; done:  False; info:  {}\n",
      "31 , obs:  [ 0.0967  0.2496 -0.084  -0.4017]; reward:  1.0; done:  False; info:  {}\n",
      "32 , obs:  [ 0.1017  0.4458 -0.0921 -0.7196]; reward:  1.0; done:  False; info:  {}\n",
      "33 , obs:  [ 0.1107  0.6421 -0.1065 -1.0398]; reward:  1.0; done:  False; info:  {}\n",
      "34 , obs:  [ 0.1235  0.8385 -0.1273 -1.3639]; reward:  1.0; done:  False; info:  {}\n",
      "35 , obs:  [ 0.1403  0.6452 -0.1545 -1.1136]; reward:  1.0; done:  False; info:  {}\n",
      "36 , obs:  [ 0.1532  0.4524 -0.1768 -0.8731]; reward:  1.0; done:  False; info:  {}\n",
      "37 , obs:  [ 0.1622  0.6494 -0.1943 -1.2158]; reward:  1.0; done:  False; info:  {}\n",
      "38 , obs:  [ 0.1752  0.4572 -0.2186 -0.9897]; reward:  1.0; done:  True; info:  {}\n",
      "39 , obs:  [ 0.0399 -0.155   0.0438  0.3278]; reward:  1.0; done:  False; info:  {}\n",
      "40 , obs:  [0.0368 0.0394 0.0504 0.0493]; reward:  1.0; done:  False; info:  {}\n",
      "41 , obs:  [ 0.0376 -0.1564  0.0514  0.3574]; reward:  1.0; done:  False; info:  {}\n",
      "42 , obs:  [ 0.0345 -0.3522  0.0585  0.6659]; reward:  1.0; done:  False; info:  {}\n",
      "43 , obs:  [ 0.0275 -0.5481  0.0718  0.9764]; reward:  1.0; done:  False; info:  {}\n",
      "44 , obs:  [ 0.0165 -0.354   0.0914  0.7071]; reward:  1.0; done:  False; info:  {}\n",
      "45 , obs:  [ 0.0094 -0.5502  0.1055  1.0271]; reward:  1.0; done:  False; info:  {}\n",
      "46 , obs:  [-0.0016 -0.7466  0.126   1.3509]; reward:  1.0; done:  False; info:  {}\n",
      "47 , obs:  [-0.0165 -0.5533  0.1531  1.1002]; reward:  1.0; done:  False; info:  {}\n",
      "48 , obs:  [-0.0276 -0.75    0.1751  1.4367]; reward:  1.0; done:  False; info:  {}\n",
      "49 , obs:  [-0.0426 -0.9468  0.2038  1.7786]; reward:  1.0; done:  False; info:  {}\n",
      "50 , obs:  [-0.0615 -0.7545  0.2394  1.5556]; reward:  1.0; done:  True; info:  {}\n",
      "51 , obs:  [ 0.0499 -0.152  -0.0189  0.255 ]; reward:  1.0; done:  False; info:  {}\n",
      "52 , obs:  [ 0.0468 -0.3468 -0.0138  0.5416]; reward:  1.0; done:  False; info:  {}\n",
      "53 , obs:  [ 0.0399 -0.1515 -0.0029  0.2446]; reward:  1.0; done:  False; info:  {}\n",
      "54 , obs:  [ 0.0369  0.0436  0.002  -0.049 ]; reward:  1.0; done:  False; info:  {}\n",
      "55 , obs:  [ 0.0377 -0.1515  0.001   0.2443]; reward:  1.0; done:  False; info:  {}\n",
      "56 , obs:  [ 0.0347 -0.3467  0.0059  0.5373]; reward:  1.0; done:  False; info:  {}\n",
      "57 , obs:  [ 0.0278 -0.5419  0.0166  0.8319]; reward:  1.0; done:  False; info:  {}\n",
      "58 , obs:  [ 0.0169 -0.347   0.0333  0.5445]; reward:  1.0; done:  False; info:  {}\n",
      "59 , obs:  [ 0.01   -0.5425  0.0441  0.8474]; reward:  1.0; done:  False; info:  {}\n",
      "60 , obs:  [-0.0008 -0.3481  0.0611  0.5689]; reward:  1.0; done:  False; info:  {}\n",
      "61 , obs:  [-0.0078 -0.544   0.0725  0.8802]; reward:  1.0; done:  False; info:  {}\n",
      "62 , obs:  [-0.0187 -0.3499  0.0901  0.6112]; reward:  1.0; done:  False; info:  {}\n",
      "63 , obs:  [-0.0257 -0.1562  0.1023  0.3482]; reward:  1.0; done:  False; info:  {}\n",
      "64 , obs:  [-0.0288 -0.3526  0.1093  0.6713]; reward:  1.0; done:  False; info:  {}\n",
      "65 , obs:  [-0.0359 -0.1591  0.1227  0.4149]; reward:  1.0; done:  False; info:  {}\n",
      "66 , obs:  [-0.039  -0.3558  0.131   0.7436]; reward:  1.0; done:  False; info:  {}\n",
      "67 , obs:  [-0.0462 -0.5524  0.1459  1.0745]; reward:  1.0; done:  False; info:  {}\n",
      "68 , obs:  [-0.0572 -0.7491  0.1674  1.4092]; reward:  1.0; done:  False; info:  {}\n",
      "69 , obs:  [-0.0722 -0.9459  0.1955  1.7491]; reward:  1.0; done:  False; info:  {}\n",
      "70 , obs:  [-0.0911 -0.7534  0.2305  1.5231]; reward:  1.0; done:  True; info:  {}\n",
      "71 , obs:  [ 0.0286 -0.1522  0.0486  0.3364]; reward:  1.0; done:  False; info:  {}\n",
      "72 , obs:  [0.0255 0.0422 0.0553 0.0594]; reward:  1.0; done:  False; info:  {}\n",
      "73 , obs:  [ 0.0264  0.2365  0.0565 -0.2153]; reward:  1.0; done:  False; info:  {}\n",
      "74 , obs:  [ 0.0311  0.4307  0.0522 -0.4896]; reward:  1.0; done:  False; info:  {}\n",
      "75 , obs:  [ 0.0397  0.2349  0.0424 -0.1809]; reward:  1.0; done:  False; info:  {}\n",
      "76 , obs:  [0.0444 0.0392 0.0388 0.1248]; reward:  1.0; done:  False; info:  {}\n",
      "77 , obs:  [ 0.0452 -0.1564  0.0413  0.4295]; reward:  1.0; done:  False; info:  {}\n",
      "78 , obs:  [ 0.0421 -0.3521  0.0499  0.7349]; reward:  1.0; done:  False; info:  {}\n",
      "79 , obs:  [ 0.035  -0.1577  0.0646  0.4584]; reward:  1.0; done:  False; info:  {}\n",
      "80 , obs:  [0.0319 0.0364 0.0738 0.1867]; reward:  1.0; done:  False; info:  {}\n",
      "81 , obs:  [ 0.0326 -0.1597  0.0775  0.5017]; reward:  1.0; done:  False; info:  {}\n",
      "82 , obs:  [0.0294 0.0343 0.0875 0.2344]; reward:  1.0; done:  False; info:  {}\n",
      "83 , obs:  [ 0.0301 -0.162   0.0922  0.5534]; reward:  1.0; done:  False; info:  {}\n",
      "84 , obs:  [0.0269 0.0318 0.1033 0.2912]; reward:  1.0; done:  False; info:  {}\n",
      "85 , obs:  [0.0275 0.2253 0.1091 0.0328]; reward:  1.0; done:  False; info:  {}\n",
      "86 , obs:  [ 0.032   0.4187  0.1098 -0.2236]; reward:  1.0; done:  False; info:  {}\n",
      "87 , obs:  [ 0.0404  0.6121  0.1053 -0.4797]; reward:  1.0; done:  False; info:  {}\n",
      "88 , obs:  [ 0.0526  0.4156  0.0957 -0.1558]; reward:  1.0; done:  False; info:  {}\n",
      "89 , obs:  [ 0.0609  0.6092  0.0926 -0.4168]; reward:  1.0; done:  False; info:  {}\n",
      "90 , obs:  [ 0.0731  0.4129  0.0843 -0.0965]; reward:  1.0; done:  False; info:  {}\n",
      "91 , obs:  [ 0.0814  0.6068  0.0823 -0.3614]; reward:  1.0; done:  False; info:  {}\n",
      "92 , obs:  [ 0.0935  0.8006  0.0751 -0.627 ]; reward:  1.0; done:  False; info:  {}\n",
      "93 , obs:  [ 0.1095  0.6045  0.0626 -0.3117]; reward:  1.0; done:  False; info:  {}\n",
      "94 , obs:  [ 0.1216  0.7987  0.0563 -0.584 ]; reward:  1.0; done:  False; info:  {}\n",
      "95 , obs:  [ 0.1376  0.993   0.0446 -0.8584]; reward:  1.0; done:  False; info:  {}\n",
      "96 , obs:  [ 0.1575  0.7973  0.0275 -0.552 ]; reward:  1.0; done:  False; info:  {}\n",
      "97 , obs:  [ 0.1734  0.6018  0.0164 -0.2508]; reward:  1.0; done:  False; info:  {}\n",
      "98 , obs:  [0.1854 0.4065 0.0114 0.047 ]; reward:  1.0; done:  False; info:  {}\n",
      "99 , obs:  [ 0.1936  0.6014  0.0124 -0.2421]; reward:  1.0; done:  False; info:  {}\n",
      "Hecho\n"
     ]
    }
   ],
   "source": [
    "import numpy as np\n",
    "import gym\n",
    "env = gym.make(\"CartPole-v1\")\n",
    "\n",
    "# revisemos primero algunos objetos de Gym\n",
    "print('espacio de acciones: ', env.action_space)\n",
    "print('espacio de observaciones: ', env.observation_space)\n",
    "print()\n",
    "\n",
    "# interactuamos con Gym\n",
    "observation = env.reset()\n",
    "print('Comenzamos')\n",
    "print('obs: ', observation)\n",
    "\n",
    "for i in range(100):\n",
    "    action = env.action_space.sample()\n",
    "    observation, reward, done, info = env.step(action)\n",
    "    print(i, ',', end=' ')\n",
    "    print('primera observación: ', np.round(observation,4), end='; ')\n",
    "    print('reward: ', reward, end='; ')\n",
    "    print('done: ', done, end='; ')\n",
    "    print('info: ', info)\n",
    "    if done:\n",
    "        observation = env.reset()\n",
    "env.close()\n",
    "print('Hecho')"
   ]
  }
 ],
 "metadata": {
  "kernelspec": {
   "display_name": "Python 3 (ipykernel)",
   "language": "python",
   "name": "python3"
  },
  "language_info": {
   "codemirror_mode": {
    "name": "ipython",
    "version": 3
   },
   "file_extension": ".py",
   "mimetype": "text/x-python",
   "name": "python",
   "nbconvert_exporter": "python",
   "pygments_lexer": "ipython3",
   "version": "3.9.12"
  }
 },
 "nbformat": 4,
 "nbformat_minor": 5
}
