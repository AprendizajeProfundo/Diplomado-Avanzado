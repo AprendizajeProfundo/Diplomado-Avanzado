{
 "cells": [
  {
   "cell_type": "markdown",
   "id": "5e6f8f0e",
   "metadata": {},
   "source": [
    "<figure>\n",
    "<img src=\"../Imagenes/logo-final-ap.png\"  width=\"80\" height=\"80\" align=\"left\"/> \n",
    "</figure>\n",
    "\n",
    "# <span style=\"color:blue\"><left>Aprendizaje Profundo</left></span>"
   ]
  },
  {
   "cell_type": "markdown",
   "id": "b718a9ce",
   "metadata": {
    "tags": []
   },
   "source": [
    "# <span style=\"color:red\"><center>Ideas generales para un chatbot avanzado</center></span>"
   ]
  },
  {
   "cell_type": "markdown",
   "id": "4d95e0eb-d692-405b-b0df-385ead144345",
   "metadata": {},
   "source": [
    "<center>Delineamientos</center>"
   ]
  },
  {
   "cell_type": "markdown",
   "id": "321bc449-4793-4745-af77-7306a1228453",
   "metadata": {},
   "source": [
    "<figure>\n",
    "<center>\n",
    "<img src=\"../Imagenes/chat_bots.png\" width=\"800\" height=\"800\" align=\"center\"/>\n",
    "</center>\n",
    "</figure>\n",
    "\n",
    "\n",
    "Fuente: [chatbotsmagazine](https://chatbotsmagazine.com/)"
   ]
  },
  {
   "cell_type": "markdown",
   "id": "282839f1-1628-4bfa-8977-e804bc2a5ee3",
   "metadata": {
    "slideshow": {
     "slide_type": "slide"
    },
    "tags": []
   },
   "source": [
    "##   <span style=\"color:blue\">Profesores</span>"
   ]
  },
  {
   "cell_type": "markdown",
   "id": "50553552-630a-47f0-a777-cb119510094d",
   "metadata": {
    "slideshow": {
     "slide_type": "slide"
    },
    "tags": []
   },
   "source": [
    "### Coordinador"
   ]
  },
  {
   "cell_type": "markdown",
   "id": "299f891a-1be2-4288-8961-64c0d4595f20",
   "metadata": {
    "slideshow": {
     "slide_type": "slide"
    },
    "tags": []
   },
   "source": [
    "- Campo Elías Pardo, PhD, cepardot@unal.edu.co"
   ]
  },
  {
   "cell_type": "markdown",
   "id": "9a56d2bd-4ca7-41d6-8788-3b8b8b57bbd2",
   "metadata": {
    "slideshow": {
     "slide_type": "slide"
    },
    "tags": []
   },
   "source": [
    "### Conferencistas"
   ]
  },
  {
   "cell_type": "markdown",
   "id": "95c38b7f-39a5-4dd0-84d8-51a85b2d3e16",
   "metadata": {},
   "source": [
    "- Alvaro  Montenegro, PhD, ammontenegrod@unal.edu.co\n",
    "- Daniel  Montenegro, Msc, dextronomo@gmail.com \n",
    "- Oleg Jarma, Estadístico, ojarmam@unal.edu.co "
   ]
  },
  {
   "cell_type": "markdown",
   "id": "d5b2df23-796e-430e-881c-681c3b6f6dbc",
   "metadata": {},
   "source": [
    "##   <span style=\"color:blue\">Asesora Medios y Marketing digital</span>\n",
    " "
   ]
  },
  {
   "cell_type": "markdown",
   "id": "2824bc41-3275-4632-a470-040704bd2887",
   "metadata": {
    "slideshow": {
     "slide_type": "slide"
    },
    "tags": []
   },
   "source": [
    "- Maria del Pilar Montenegro, pmontenegro88@gmail.com "
   ]
  },
  {
   "cell_type": "markdown",
   "id": "eb3c7a0d-6c1e-447b-8f9a-efc559a578da",
   "metadata": {},
   "source": [
    "## <span style=\"color:blue\">Asistentes</span>"
   ]
  },
  {
   "cell_type": "markdown",
   "id": "06032bac-c2b2-4610-87e4-b80dd4e8d002",
   "metadata": {},
   "source": [
    "- Nayibe Yesenia Arias, naariasc@unal.edu.co\n",
    "- Venus Celeste Puertas, vpuertasg@unal.edu.co "
   ]
  },
  {
   "cell_type": "markdown",
   "id": "bd06c80a-262c-4050-ab8d-923e80d1b66e",
   "metadata": {},
   "source": [
    "## <span style=\"color:blue\">Referencias</span>"
   ]
  },
  {
   "cell_type": "markdown",
   "id": "5cec7f62",
   "metadata": {},
   "source": [
    "## <span style=\"color:blue\">Referencias</span>"
   ]
  },
  {
   "cell_type": "markdown",
   "id": "a75ac7d2",
   "metadata": {},
   "source": [
    "1. [Alvaro Montenegro y Daniel Montenegro, Inteligencia Artificial y Aprendizaje Profundo, 2021](https://github.com/AprendizajeProfundo/Diplomado)\n",
    "1. [Maxim Lapan, Deep Reinforcement Learning Hands-On: Apply modern RL methods to practical problems of chatbots, robotics, discrete optimization, web automation, and more, 2nd Edition, 2020](http://library.lol/main/F4D1A90C476A576238E8FE1F47602C67)\n",
    "1. [Richard S. Sutton, Andrew G. Barto, Reinforcement learning: an introduction, 2nd edition, 2020](http://library.lol/main/6502B74CE247C4CD4D4FB54747AD7C7E)\n",
    "1. [Simple Chatbot using BERT and Pytorch](https://medium.com/geekculture/simple-chatbot-using-bert-and-pytorch-part-1-2735643e0baa)\n",
    "1. [Mixed initiative dialog via structured knowledge graph traversal and conversational scaffolding](https://assets.amazon.science/9f/26/0b0c25b0453c8dfc12906a730546/mixed-initiative-dialog-via-structured-knowledge-graph-traversal-and-conversational-scaffolding.pdf)"
   ]
  },
  {
   "cell_type": "markdown",
   "id": "ffd63d24",
   "metadata": {},
   "source": [
    "## <span style=\"color:blue\">Contenido</span>"
   ]
  },
  {
   "cell_type": "markdown",
   "id": "683ee4c4",
   "metadata": {},
   "source": [
    "* [Introducción](#Introducción)\n",
    "* [Diálogos pre-incrustados](#Diálogos-pre-incrustados)\n",
    "* [Flujo del diálogo](#Flujo-del-diálogo)\n",
    " * [Aprendizaje Reforzado](# Aprendizaje-Reforzado)"
   ]
  },
  {
   "cell_type": "markdown",
   "id": "be027523",
   "metadata": {
    "tags": []
   },
   "source": [
    "## <span style=\"color:blue\">Introducción</span>"
   ]
  },
  {
   "cell_type": "markdown",
   "id": "eaee1cf1-9a63-4312-a3b7-50c153ff1582",
   "metadata": {},
   "source": [
    "En esta lección se presentan algunas ideas generales para la construcción de un chatbot moderno."
   ]
  },
  {
   "cell_type": "markdown",
   "id": "4ee56730-8753-4a5f-a051-7e1c7aae21c8",
   "metadata": {},
   "source": [
    "## <span style=\"color:blue\">Diálogos pre-incrustados</span>"
   ]
  },
  {
   "cell_type": "markdown",
   "id": "d361dbd2-58d9-4892-a6c9-17f8e3338ae6",
   "metadata": {},
   "source": [
    "### Base de datos diálogos"
   ]
  },
  {
   "cell_type": "markdown",
   "id": "74fde2e9-aa28-4665-b719-111d8540187e",
   "metadata": {},
   "source": [
    "<figure>\n",
    "<center>\n",
    "<img src=\"../Imagenes/BD_Dialogos.png\" width=\"800\" height=\"800\" align=\"center\"/>\n",
    "</center> \n",
    "</figure>\n",
    "\n",
    "\n",
    "Fuente: Alvaro Montenegro"
   ]
  },
  {
   "cell_type": "markdown",
   "id": "8baf1473-ee05-47c7-a516-3a7c9371398f",
   "metadata": {
    "tags": []
   },
   "source": [
    "### Diálogo actual"
   ]
  },
  {
   "cell_type": "markdown",
   "id": "dbab4290-a27a-4951-982b-cd7e59114ae4",
   "metadata": {},
   "source": [
    "<figure>\n",
    "<center>\n",
    "<img src=\"../Imagenes/Dialogo_actual.png\" width=\"800\" height=\"800\" align=\"center\"/>\n",
    "</center> \n",
    "</figure>\n",
    "\n",
    "\n",
    "Fuente: Alvaro Montenegro"
   ]
  },
  {
   "cell_type": "markdown",
   "id": "62ad687f-7b83-421d-8800-37e8df717100",
   "metadata": {
    "tags": []
   },
   "source": [
    "### Base de acciones"
   ]
  },
  {
   "cell_type": "markdown",
   "id": "446f1b79-afd4-48ec-a8d5-ebd4abc3c146",
   "metadata": {},
   "source": [
    "<figure>\n",
    "<center>\n",
    "<img src=\"../Imagenes/Base_acciones.png\" width=\"800\" height=\"800\" align=\"center\"/>\n",
    "</center> \n",
    "</figure>\n",
    "\n",
    "\n",
    "Fuente: Alvaro Montenegro"
   ]
  },
  {
   "cell_type": "markdown",
   "id": "d583053e-0237-4e69-b12d-7b61b1339bdb",
   "metadata": {
    "tags": []
   },
   "source": [
    "### Tópicos de los contextos"
   ]
  },
  {
   "cell_type": "markdown",
   "id": "9d47e322-58a6-4126-b422-97bf56fafb02",
   "metadata": {},
   "source": [
    "<figure>\n",
    "<center>\n",
    "<img src=\"../Imagenes/Topicos.png\" width=\"800\" height=\"800\" align=\"center\"/>\n",
    "</center> \n",
    "</figure>\n",
    "\n",
    "\n",
    "Fuente: Alvaro Montenegro"
   ]
  },
  {
   "cell_type": "markdown",
   "id": "44f151b5-7b15-4fa0-869d-478c5bcc1306",
   "metadata": {},
   "source": [
    "### Finalizar el diálogo"
   ]
  },
  {
   "cell_type": "markdown",
   "id": "7a725b85-fc0f-4192-a73f-514c7324fd67",
   "metadata": {},
   "source": [
    "Podemos implementar una `red neuronal de clasificación` para determinar si un diálogo puede darse por terminado. Por  ejemplo se puede entrenar con fragmentos de diálogo y diálogos completos. \n",
    "\n",
    "* Entrada: Un diálogo con N líneas sumergidas\n",
    "* Salida: O (no terminado); 1: terminado\n",
    "\n",
    "Si el diálogo termina, se determina la acción a seguir.\n",
    "\n"
   ]
  },
  {
   "cell_type": "markdown",
   "id": "28261125-16bc-43ce-855c-2366c644af53",
   "metadata": {},
   "source": [
    "### Del diálogo a la acción"
   ]
  },
  {
   "cell_type": "markdown",
   "id": "97021f24-5054-4306-8612-3cbdc059aa11",
   "metadata": {},
   "source": [
    "Cada dialogo de la base de datos tiene una acción asociada, la cual corresponde a alguna actividad del negocio. \n",
    "Por ejemplo \n",
    "\n",
    "* Despedida\n",
    "* Actualizar datos personales\n",
    "* ….\n",
    "\n",
    "\n",
    "Esta parte puede requerir una trabajo manual inicial para etiquetar cada diálogo."
   ]
  },
  {
   "cell_type": "markdown",
   "id": "c1fbfcc2-80b3-455f-8883-2c626b8b84c4",
   "metadata": {},
   "source": [
    "## <span style=\"color:blue\">Flujo del diálogo</span>"
   ]
  },
  {
   "cell_type": "markdown",
   "id": "ac9fad6b-b6b9-4b91-80f3-2d46f43c6c80",
   "metadata": {},
   "source": [
    "### Algoritmo  Naive offset"
   ]
  },
  {
   "cell_type": "markdown",
   "id": "ccf83fad-1753-4b63-a607-46f434a86fbf",
   "metadata": {},
   "source": [
    "Este algoritmo se basa en el supuesto simplificador de la coincidencia  de la línea de texto más cercana \n",
    "con la expresión del usuario dentro del conjunto de datos de diálogos."
   ]
  },
  {
   "cell_type": "markdown",
   "id": "59948211-539c-4d46-8224-16d5125a2324",
   "metadata": {},
   "source": [
    "<figure>\n",
    "<center>\n",
    "<img src=\"../Imagenes/naive_offset.png\" width=\"800\" height=\"800\" align=\"center\"/>\n",
    "</center> \n",
    "</figure>\n",
    "\n",
    "\n",
    "Fuente: [Mixed initiative dialog via structured knowledge graph traversal and conversational scaffolding](https://assets.amazon.science/9f/26/0b0c25b0453c8dfc12906a730546/mixed-initiative-dialog-via-structured-knowledge-graph-traversal-and-conversational-scaffolding.pdf)"
   ]
  },
  {
   "cell_type": "markdown",
   "id": "ff789434-f1ed-4cdd-9dfc-8e05b504b618",
   "metadata": {},
   "source": [
    "* $c$ (verde) representa el enunciado incrustado, \n",
    "* $a_i$ (azul) representan las expresiones incrustadas más cercanas del conjunto de datos de diálogos, \n",
    "* $b_i$ (rojo) representan las expresiones incrustadas asociadas a la respuesta $i_a$ en el conjunto de datos de diálogos, \n",
    "* $d_1$ (amarillo) representa la respuesta \"ideal\" y \n",
    "* $g_i$ (gris y negro) representan respuestas incrustadas generadas por nuestro sistema con $g_1$ (negro) que representa la respuesta seleccionada por la estrategia de ranking Naive"
   ]
  },
  {
   "cell_type": "markdown",
   "id": "72fdb231-5726-4f4b-b715-dd7e2d62e4db",
   "metadata": {},
   "source": [
    "#### El algortimo"
   ]
  },
  {
   "cell_type": "markdown",
   "id": "1123a9db-3e40-4197-a6c3-ac6eef9fd489",
   "metadata": {},
   "source": [
    "Entradas:\n",
    "\n",
    "* $\\vec{c}$ = Expresión de usuario incrustada (embedded)\n",
    "* $\\vec{r}$ = Respuestas candidatas producidas por el genearador de respuestas\n",
    "* $C$ = conjunto de datos de diálogos (Chit-Chat)\n",
    "\n",
    "Salida:\n",
    "\n",
    "* $S = \\{s_1 \\ldots s_i | s \\in [0, 1]\\}$ donde $s_i$ es la puntuación de $r_i$\n",
    "\n",
    "1. $\\vec{a} =  \\text{argmin} (\\text{dist}(\\vec{u} , C))$ . Donde dist es cualquier métrica de distancia válida.\n",
    "2. $\\vec{b} = $  Encuentre la frase en $C$ que sigue directamente a $\\vec{a}$. Nos aseguramos de que $\\vec{b}$ no sea un token de fin de conversación.\n",
    "3. $\\vec{d} =  \\text{argmin}(dist(\\vec{b}, \\vec{r}))$\n",
    "4. devuelve $1.0 −  \\frac{\\vec{g}}{||\\vec{g}||}$."
   ]
  },
  {
   "cell_type": "markdown",
   "id": "770e7662-f225-46b6-ad2b-4b8944b1082c",
   "metadata": {},
   "source": [
    "### Algoritmo  enfoque disperso"
   ]
  },
  {
   "cell_type": "markdown",
   "id": "7cc8a0e0-60f6-45ca-8977-2a6e9933e29c",
   "metadata": {},
   "source": [
    "La idea clave del enfoque disperso es la idea de que en realidad no existe un \"único\n",
    "respuesta correcta’ cuando se trata de pares de enunciado/respuesta. \n",
    "\n",
    "En cambio, existe una multiplicidad (o tal vez\n",
    "múltiples variedades) de respuestas correctas, cualquiera de las cuales es igualmente válida. Por ejemplo, la pregunta\n",
    "\n",
    "* “¿Has visto Pantera Negra?” \n",
    "\n",
    "Se puede responder con cualquiera de \n",
    "\n",
    "+ ['Sí', 'No', 'Voy a ver\n",
    "esta noche', '¿Estás bromeando? Por supuesto que he visto Black Panther’]. \n",
    "\n",
    "Desde un punto de vista estrictamente basado en texto, todas las respuestas son igualmente válidas. (Necesitaría un gráfico de conocimiento/automodelo para determinar\n",
    "cuáles de las respuestas válidas también son veraces). En consecuencia, el algoritmo scattershot asume que como siempre que esté cerca de cualquiera de las respuestas válidas, probablemente tenga un candidato bastante bueno"
   ]
  },
  {
   "cell_type": "markdown",
   "id": "98dd0a46-1971-48e7-bdc3-6221fcb9676e",
   "metadata": {},
   "source": [
    "<figure>\n",
    "<center>\n",
    "<img src=\"../Imagenes/scattershot.png\" width=\"800\" height=\"800\" align=\"center\"/>\n",
    "</center> \n",
    "</figure>\n",
    "\n",
    "\n",
    "Fuente: [Mixed initiative dialog via structured knowledge graph traversal and conversational scaffolding](https://assets.amazon.science/9f/26/0b0c25b0453c8dfc12906a730546/mixed-initiative-dialog-via-structured-knowledge-graph-traversal-and-conversational-scaffolding.pdf)"
   ]
  },
  {
   "cell_type": "markdown",
   "id": "51c27968-cd56-489d-b0ab-a0bda68cf209",
   "metadata": {},
   "source": [
    "Método enfoque disperso (Scattershot), donde: \n",
    "\n",
    "* $c$ (verde) representa el enunciado incrustado, \n",
    "* $a_i$ (azul) representa las expresiones incrustadas más cercanas del conjunto de datos de diálogos, \n",
    "* $b_i$ (rojo) representan el asociado respuesta incrustada a $a_i$, es decir la linea siguiente en el diálogo seleccionado en el conjunto de datos de diálogos, \n",
    "* $d_i$ (amarillo) representa las respuestas \"ideales\", y \n",
    "* $g_i$ (gris y negro) representan respuestas incrustadas generadas por nuestro sistema con $g_3$ (negro) representando la respuesta seleccionada por la estrategia de clasificación Scattershot"
   ]
  },
  {
   "cell_type": "markdown",
   "id": "58caac70-3f10-4ff3-9278-eaa764218e79",
   "metadata": {},
   "source": [
    "#### El algortimo"
   ]
  },
  {
   "cell_type": "markdown",
   "id": "09c0bf1f-c089-4217-ade0-871a018fddfd",
   "metadata": {},
   "source": [
    "Entradas:\n",
    "\n",
    "* $\\vec{h} =$  historial de conversaciones integrado: $h = h_1 + h_2 + \\cdots + h_{t-1}$, $\\vec{h}= embedding(h)$\n",
    "* $\\vec{r} =$ Respuestas candidatas incrustadas producidas por los generadores.\n",
    "* $C_{n\\times ||h||−1}=$  Conjunto de datos de diálogo integrado, donde las columnas son diferencias por pares entre expresiones posteriores\n",
    "\n",
    "Salida:\n",
    "$S = \\{s_ 1\\ldots s_i | s \\in [0, 1]\\}$  donde $s_i$ es la puntuación de $r_i$\n",
    "1.  $\\vec{c} = [h_1 - h_0, \\cdots , h_n - h_{n−1}]$.  Encuentre los n puntos más cercanos en C a c.\n",
    "2. para i en 1..5 hacer: \n",
    "3.   $\\vec{c}= argmin(dist(\\vec{u}, C))$  . Donde dist es cualquier métrica de distancia válida.\n",
    "4. $\\vec{b}=$ Encuentre el enunciado en C que sigue directamente a $\\vec{a_i}$\n",
    "5. $\\vec{d_i} =  \\vec{b_i} -  \\vec{a_i} + \\vec{c}$ . Donde $d_i$ es el vector de respuesta \"ideal\" a \\vec{b_i}.\n",
    "6. fin para\n",
    "7. para $r_i$ en $\\vec{r}$ hacer:\n",
    "8. $\\vec{g_i} =  argmin(dist(\\vec{r_i}), \\vec{d})$\n",
    "9. final para\n",
    "10. devuelve $1,0 - \\frac{\\vec{g}}{|| \\vec{g}||}$\n"
   ]
  },
  {
   "cell_type": "markdown",
   "id": "5ffe5ba3-1d05-4421-9826-a6550a020d14",
   "metadata": {},
   "source": [
    "## <span style=\"color:blue\">Aprendizaje Reforzado</span>"
   ]
  },
  {
   "cell_type": "markdown",
   "id": "f17e3edd-baf3-4c3e-8bfc-c69458070921",
   "metadata": {},
   "source": [
    "<figure>\n",
    "<center>\n",
    "<img src=\"../Imagenes/agente-ambiente.png\" width=\"600\" height=\"500\" align=\"center\"/>\n",
    "</center> \n",
    "</figure>\n",
    "\n",
    "\n",
    "Fuente: Alvaro Montenegro"
   ]
  }
 ],
 "metadata": {
  "kernelspec": {
   "display_name": "Python 3 (ipykernel)",
   "language": "python",
   "name": "python3"
  },
  "language_info": {
   "codemirror_mode": {
    "name": "ipython",
    "version": 3
   },
   "file_extension": ".py",
   "mimetype": "text/x-python",
   "name": "python",
   "nbconvert_exporter": "python",
   "pygments_lexer": "ipython3",
   "version": "3.9.12"
  }
 },
 "nbformat": 4,
 "nbformat_minor": 5
}
